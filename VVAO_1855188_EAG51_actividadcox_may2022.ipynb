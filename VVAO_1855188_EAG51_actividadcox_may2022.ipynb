{
 "cells": [
  {
   "cell_type": "markdown",
   "id": "faec92bf-094b-4570-b939-1aa55f21be9c",
   "metadata": {},
   "source": [
    "\n",
    "# TAREA DE MODELO DE COX\n",
    "\n",
    "**Estadística Aplicada**\n",
    "\n",
    "**Nombre:** Verónica Vanessa Aguilar Ortiz\n",
    "\n",
    "**Matricula:** 1855188\n",
    "\n",
    "**Grupo:** 051"
   ]
  },
  {
   "cell_type": "code",
   "execution_count": 13,
   "id": "2045bd2d-5165-498c-ac45-c777be3d038a",
   "metadata": {},
   "outputs": [],
   "source": [
    "import numpy as np\n",
    "import pandas as pd\n",
    "import seaborn as sns\n",
    "import matplotlib.pyplot as plt\n",
    "from lifelines import CoxPHFitter"
   ]
  },
  {
   "cell_type": "code",
   "execution_count": 14,
   "id": "e7f2379d-4540-4f2d-b32b-94bac62d5905",
   "metadata": {},
   "outputs": [
    {
     "name": "stdout",
     "output_type": "stream",
     "text": [
      "Requirement already satisfied: lifelines in d:\\anaconda\\lib\\site-packages (0.27.0)\n",
      "Requirement already satisfied: scipy>=1.2.0 in d:\\anaconda\\lib\\site-packages (from lifelines) (1.7.1)\n",
      "Requirement already satisfied: numpy>=1.14.0 in d:\\anaconda\\lib\\site-packages (from lifelines) (1.20.3)\n",
      "Requirement already satisfied: formulaic>=0.2.2 in d:\\anaconda\\lib\\site-packages (from lifelines) (0.3.4)\n",
      "Requirement already satisfied: autograd-gamma>=0.3 in d:\\anaconda\\lib\\site-packages (from lifelines) (0.5.0)\n",
      "Requirement already satisfied: pandas>=1.0.0 in d:\\anaconda\\lib\\site-packages (from lifelines) (1.3.4)\n",
      "Requirement already satisfied: autograd>=1.3 in d:\\anaconda\\lib\\site-packages (from lifelines) (1.4)\n",
      "Requirement already satisfied: matplotlib>=3.0 in d:\\anaconda\\lib\\site-packages (from lifelines) (3.4.3)\n",
      "Requirement already satisfied: future>=0.15.2 in d:\\anaconda\\lib\\site-packages (from autograd>=1.3->lifelines) (0.18.2)\n",
      "Requirement already satisfied: astor>=0.8 in d:\\anaconda\\lib\\site-packages (from formulaic>=0.2.2->lifelines) (0.8.1)\n",
      "Requirement already satisfied: interface-meta<2.0.0,>=1.2.0 in d:\\anaconda\\lib\\site-packages (from formulaic>=0.2.2->lifelines) (1.3.0)\n",
      "Requirement already satisfied: wrapt>=1.0 in d:\\anaconda\\lib\\site-packages (from formulaic>=0.2.2->lifelines) (1.12.1)\n",
      "Requirement already satisfied: pyparsing>=2.2.1 in d:\\anaconda\\lib\\site-packages (from matplotlib>=3.0->lifelines) (3.0.4)\n",
      "Requirement already satisfied: python-dateutil>=2.7 in d:\\anaconda\\lib\\site-packages (from matplotlib>=3.0->lifelines) (2.8.2)\n",
      "Requirement already satisfied: cycler>=0.10 in d:\\anaconda\\lib\\site-packages (from matplotlib>=3.0->lifelines) (0.10.0)\n",
      "Requirement already satisfied: kiwisolver>=1.0.1 in d:\\anaconda\\lib\\site-packages (from matplotlib>=3.0->lifelines) (1.3.1)\n",
      "Requirement already satisfied: pillow>=6.2.0 in d:\\anaconda\\lib\\site-packages (from matplotlib>=3.0->lifelines) (8.4.0)\n",
      "Requirement already satisfied: six in d:\\anaconda\\lib\\site-packages (from cycler>=0.10->matplotlib>=3.0->lifelines) (1.16.0)\n",
      "Requirement already satisfied: pytz>=2017.3 in d:\\anaconda\\lib\\site-packages (from pandas>=1.0.0->lifelines) (2021.3)\n",
      "Note: you may need to restart the kernel to use updated packages.\n"
     ]
    }
   ],
   "source": [
    "pip install lifelines"
   ]
  },
  {
   "cell_type": "code",
   "execution_count": 15,
   "id": "8fdde85c-f03f-4374-b1ff-e316c6d174b5",
   "metadata": {},
   "outputs": [],
   "source": [
    "df = pd.read_excel('https://raw.githubusercontent.com/jimmyzac/Estadistica-Aplicada-FCFM-UANL/main/bases_datos/supervivencia_examenes.xlsx')"
   ]
  },
  {
   "cell_type": "code",
   "execution_count": 16,
   "id": "25e60934-784d-4fcb-8e5f-a4f1b088dc5b",
   "metadata": {},
   "outputs": [
    {
     "data": {
      "text/html": [
       "<div>\n",
       "<style scoped>\n",
       "    .dataframe tbody tr th:only-of-type {\n",
       "        vertical-align: middle;\n",
       "    }\n",
       "\n",
       "    .dataframe tbody tr th {\n",
       "        vertical-align: top;\n",
       "    }\n",
       "\n",
       "    .dataframe thead th {\n",
       "        text-align: right;\n",
       "    }\n",
       "</style>\n",
       "<table border=\"1\" class=\"dataframe\">\n",
       "  <thead>\n",
       "    <tr style=\"text-align: right;\">\n",
       "      <th></th>\n",
       "      <th>id</th>\n",
       "      <th>tiempo</th>\n",
       "      <th>examen</th>\n",
       "      <th>calificación</th>\n",
       "      <th>género</th>\n",
       "    </tr>\n",
       "  </thead>\n",
       "  <tbody>\n",
       "    <tr>\n",
       "      <th>0</th>\n",
       "      <td>1</td>\n",
       "      <td>85</td>\n",
       "      <td>1</td>\n",
       "      <td>100.0</td>\n",
       "      <td>m</td>\n",
       "    </tr>\n",
       "    <tr>\n",
       "      <th>1</th>\n",
       "      <td>2</td>\n",
       "      <td>109</td>\n",
       "      <td>1</td>\n",
       "      <td>100.0</td>\n",
       "      <td>m</td>\n",
       "    </tr>\n",
       "    <tr>\n",
       "      <th>2</th>\n",
       "      <td>3</td>\n",
       "      <td>118</td>\n",
       "      <td>1</td>\n",
       "      <td>100.0</td>\n",
       "      <td>m</td>\n",
       "    </tr>\n",
       "    <tr>\n",
       "      <th>3</th>\n",
       "      <td>4</td>\n",
       "      <td>120</td>\n",
       "      <td>1</td>\n",
       "      <td>100.0</td>\n",
       "      <td>f</td>\n",
       "    </tr>\n",
       "    <tr>\n",
       "      <th>4</th>\n",
       "      <td>5</td>\n",
       "      <td>106</td>\n",
       "      <td>1</td>\n",
       "      <td>98.0</td>\n",
       "      <td>f</td>\n",
       "    </tr>\n",
       "    <tr>\n",
       "      <th>5</th>\n",
       "      <td>6</td>\n",
       "      <td>103</td>\n",
       "      <td>1</td>\n",
       "      <td>98.0</td>\n",
       "      <td>m</td>\n",
       "    </tr>\n",
       "    <tr>\n",
       "      <th>6</th>\n",
       "      <td>7</td>\n",
       "      <td>108</td>\n",
       "      <td>1</td>\n",
       "      <td>96.0</td>\n",
       "      <td>f</td>\n",
       "    </tr>\n",
       "    <tr>\n",
       "      <th>7</th>\n",
       "      <td>8</td>\n",
       "      <td>119</td>\n",
       "      <td>1</td>\n",
       "      <td>96.0</td>\n",
       "      <td>f</td>\n",
       "    </tr>\n",
       "    <tr>\n",
       "      <th>8</th>\n",
       "      <td>9</td>\n",
       "      <td>115</td>\n",
       "      <td>1</td>\n",
       "      <td>96.0</td>\n",
       "      <td>f</td>\n",
       "    </tr>\n",
       "    <tr>\n",
       "      <th>9</th>\n",
       "      <td>10</td>\n",
       "      <td>108</td>\n",
       "      <td>1</td>\n",
       "      <td>94.0</td>\n",
       "      <td>f</td>\n",
       "    </tr>\n",
       "    <tr>\n",
       "      <th>10</th>\n",
       "      <td>11</td>\n",
       "      <td>87</td>\n",
       "      <td>1</td>\n",
       "      <td>88.0</td>\n",
       "      <td>m</td>\n",
       "    </tr>\n",
       "    <tr>\n",
       "      <th>11</th>\n",
       "      <td>12</td>\n",
       "      <td>99</td>\n",
       "      <td>1</td>\n",
       "      <td>86.0</td>\n",
       "      <td>f</td>\n",
       "    </tr>\n",
       "    <tr>\n",
       "      <th>12</th>\n",
       "      <td>13</td>\n",
       "      <td>112</td>\n",
       "      <td>1</td>\n",
       "      <td>84.0</td>\n",
       "      <td>m</td>\n",
       "    </tr>\n",
       "    <tr>\n",
       "      <th>13</th>\n",
       "      <td>14</td>\n",
       "      <td>111</td>\n",
       "      <td>1</td>\n",
       "      <td>82.0</td>\n",
       "      <td>m</td>\n",
       "    </tr>\n",
       "    <tr>\n",
       "      <th>14</th>\n",
       "      <td>15</td>\n",
       "      <td>90</td>\n",
       "      <td>1</td>\n",
       "      <td>78.0</td>\n",
       "      <td>f</td>\n",
       "    </tr>\n",
       "    <tr>\n",
       "      <th>15</th>\n",
       "      <td>16</td>\n",
       "      <td>116</td>\n",
       "      <td>1</td>\n",
       "      <td>74.0</td>\n",
       "      <td>m</td>\n",
       "    </tr>\n",
       "    <tr>\n",
       "      <th>16</th>\n",
       "      <td>17</td>\n",
       "      <td>119</td>\n",
       "      <td>1</td>\n",
       "      <td>72.0</td>\n",
       "      <td>m</td>\n",
       "    </tr>\n",
       "  </tbody>\n",
       "</table>\n",
       "</div>"
      ],
      "text/plain": [
       "    id  tiempo  examen  calificación género\n",
       "0    1      85       1         100.0      m\n",
       "1    2     109       1         100.0      m\n",
       "2    3     118       1         100.0      m\n",
       "3    4     120       1         100.0      f\n",
       "4    5     106       1          98.0      f\n",
       "5    6     103       1          98.0      m\n",
       "6    7     108       1          96.0      f\n",
       "7    8     119       1          96.0      f\n",
       "8    9     115       1          96.0      f\n",
       "9   10     108       1          94.0      f\n",
       "10  11      87       1          88.0      m\n",
       "11  12      99       1          86.0      f\n",
       "12  13     112       1          84.0      m\n",
       "13  14     111       1          82.0      m\n",
       "14  15      90       1          78.0      f\n",
       "15  16     116       1          74.0      m\n",
       "16  17     119       1          72.0      m"
      ]
     },
     "execution_count": 16,
     "metadata": {},
     "output_type": "execute_result"
    }
   ],
   "source": [
    "df"
   ]
  },
  {
   "cell_type": "markdown",
   "id": "6445d5b7-3821-44a0-8277-c213f0f813ab",
   "metadata": {},
   "source": [
    "**a) Estadísticas descriptivas. Calcule el tiempo promedio que tardaron en \n",
    "responder los alumnos el examen y la calificación promedio obtenida.\n",
    "El profesor sospecha que las alumnas responden más rápido el examen, \n",
    "calcule el tiempo promedio que tardaron en responder las alumnas y su \n",
    "calificación promedio, asi como el tiempo promedio que tardaron en \n",
    "responder los alumnos y su calificación promedio.**"
   ]
  },
  {
   "cell_type": "code",
   "execution_count": 28,
   "id": "fd954696-6394-484f-bb70-ba708ac41ec7",
   "metadata": {},
   "outputs": [],
   "source": [
    "#Amboos sexos\n",
    "df_mean_time = df['tiempo'].mean()\n",
    "df_mean_cal = df['calificación'].mean()\n",
    "m = df[df['género'] == 'm']\n",
    "f = df[df['género'] == 'f']"
   ]
  },
  {
   "cell_type": "code",
   "execution_count": 29,
   "id": "dfd1a46c-1def-457e-9cd5-808657774a37",
   "metadata": {},
   "outputs": [
    {
     "name": "stdout",
     "output_type": "stream",
     "text": [
      "El tiempo promedio que tardaron en responder los alumnos el examen es de: 107.3529411764706 y la calificación promedio obtenida es de:90.70588235294117\n"
     ]
    }
   ],
   "source": [
    "print(f'El tiempo promedio que tardaron en responder los alumnos el examen es de: {df_mean_time} y la calificación promedio obtenida es de:{df_mean_cal}')"
   ]
  },
  {
   "cell_type": "code",
   "execution_count": 30,
   "id": "24bf01c7-b8b5-453e-b9a2-cd1509e2cb3d",
   "metadata": {},
   "outputs": [],
   "source": [
    "##Hombres (m)\n",
    "time_m = hombres['tiempo']\n",
    "examen_m = hombres['examen']\n",
    "cal_m = hombres['calificación']\n",
    "timemean_m = time_m.mean()\n",
    "calmean_m = cal_m.mean()"
   ]
  },
  {
   "cell_type": "code",
   "execution_count": 31,
   "id": "2bfefcdc-ce0c-496b-940a-7c12476f9500",
   "metadata": {},
   "outputs": [
    {
     "name": "stdout",
     "output_type": "stream",
     "text": [
      "El tiempo promedio que tardaron en responder las alumnas es de: 108.125 y su calificacion promedio es de: 93.0\n"
     ]
    }
   ],
   "source": [
    "print(f'El tiempo promedio que tardaron en responder las alumnas es de: {timemean_f} y su calificacion promedio es de: {calmean_f}')"
   ]
  },
  {
   "cell_type": "code",
   "execution_count": 32,
   "id": "68f0c240-d7fc-4f0e-b01a-6afda8818790",
   "metadata": {},
   "outputs": [],
   "source": [
    "## Mujeres (f)\n",
    "time_f = mujeres['tiempo']\n",
    "examen_f = mujeres['examen']\n",
    "cal_f = mujeres['calificación']\n",
    "timemean_f = time_f.mean()\n",
    "calmean_f = cal_f.mean()"
   ]
  },
  {
   "cell_type": "code",
   "execution_count": 33,
   "id": "848d671c-b692-462e-89ab-ca14d3b33798",
   "metadata": {},
   "outputs": [
    {
     "name": "stdout",
     "output_type": "stream",
     "text": [
      "El tiempo promedio que tardaron en responder los alumnos es de: 106.66666666666667 y su calificacion promedio es de: 88.66666666666667\n"
     ]
    }
   ],
   "source": [
    "print(f'El tiempo promedio que tardaron en responder los alumnos es de: {timemean_m} y su calificacion promedio es de: {calmean_m}')"
   ]
  },
  {
   "cell_type": "markdown",
   "id": "32a9e9e1-9427-4cde-8d70-f860c56b74a8",
   "metadata": {},
   "source": [
    "**b) Estime la función de supervivencia del tiempo de entrega del examen de \n",
    "todos los alumnos utilizando Kaplan-Meier, muestre los valores de la función de supervivencia, los valores del intervalos de confianza al 95%, \n",
    "asi como la gráfica respectiva de la función de supervivencia con sus \n",
    "intervalos.**\n"
   ]
  },
  {
   "cell_type": "code",
   "execution_count": 34,
   "id": "1cd933e2-459c-45a7-854b-9801f85c0273",
   "metadata": {},
   "outputs": [],
   "source": [
    "from lifelines import*\n",
    "from lifelines import KaplanMeierFitter"
   ]
  },
  {
   "cell_type": "code",
   "execution_count": 35,
   "id": "7d5c5bea-c78d-437b-8cbe-db8aacab2c7a",
   "metadata": {},
   "outputs": [],
   "source": [
    "KMF = KaplanMeierFitter()"
   ]
  },
  {
   "cell_type": "markdown",
   "id": "90a5da08-fa4a-4afc-bca9-036682569666",
   "metadata": {},
   "source": [
    "**-Función de supervivencia del tiempo de entrega del examen**"
   ]
  },
  {
   "cell_type": "code",
   "execution_count": 45,
   "id": "9382d280-836c-40fb-84ef-243391a4b4d5",
   "metadata": {},
   "outputs": [
    {
     "data": {
      "text/html": [
       "<div>\n",
       "<style scoped>\n",
       "    .dataframe tbody tr th:only-of-type {\n",
       "        vertical-align: middle;\n",
       "    }\n",
       "\n",
       "    .dataframe tbody tr th {\n",
       "        vertical-align: top;\n",
       "    }\n",
       "\n",
       "    .dataframe thead th {\n",
       "        text-align: right;\n",
       "    }\n",
       "</style>\n",
       "<table border=\"1\" class=\"dataframe\">\n",
       "  <thead>\n",
       "    <tr style=\"text-align: right;\">\n",
       "      <th></th>\n",
       "      <th>Hombres</th>\n",
       "    </tr>\n",
       "    <tr>\n",
       "      <th>timeline</th>\n",
       "      <th></th>\n",
       "    </tr>\n",
       "  </thead>\n",
       "  <tbody>\n",
       "    <tr>\n",
       "      <th>0.0</th>\n",
       "      <td>1.000000</td>\n",
       "    </tr>\n",
       "    <tr>\n",
       "      <th>85.0</th>\n",
       "      <td>0.888889</td>\n",
       "    </tr>\n",
       "    <tr>\n",
       "      <th>87.0</th>\n",
       "      <td>0.777778</td>\n",
       "    </tr>\n",
       "    <tr>\n",
       "      <th>103.0</th>\n",
       "      <td>0.666667</td>\n",
       "    </tr>\n",
       "    <tr>\n",
       "      <th>109.0</th>\n",
       "      <td>0.555556</td>\n",
       "    </tr>\n",
       "    <tr>\n",
       "      <th>111.0</th>\n",
       "      <td>0.444444</td>\n",
       "    </tr>\n",
       "    <tr>\n",
       "      <th>112.0</th>\n",
       "      <td>0.333333</td>\n",
       "    </tr>\n",
       "    <tr>\n",
       "      <th>116.0</th>\n",
       "      <td>0.222222</td>\n",
       "    </tr>\n",
       "    <tr>\n",
       "      <th>118.0</th>\n",
       "      <td>0.111111</td>\n",
       "    </tr>\n",
       "    <tr>\n",
       "      <th>119.0</th>\n",
       "      <td>0.000000</td>\n",
       "    </tr>\n",
       "  </tbody>\n",
       "</table>\n",
       "</div>"
      ],
      "text/plain": [
       "           Hombres\n",
       "timeline          \n",
       "0.0       1.000000\n",
       "85.0      0.888889\n",
       "87.0      0.777778\n",
       "103.0     0.666667\n",
       "109.0     0.555556\n",
       "111.0     0.444444\n",
       "112.0     0.333333\n",
       "116.0     0.222222\n",
       "118.0     0.111111\n",
       "119.0     0.000000"
      ]
     },
     "execution_count": 45,
     "metadata": {},
     "output_type": "execute_result"
    },
    {
     "data": {
      "image/png": "[encoded data removed]",
      "text/plain": [
       "<Figure size 432x288 with 1 Axes>"
      ]
     },
     "metadata": {
      "needs_background": "light"
     },
     "output_type": "display_data"
    }
   ],
   "source": [
    "##hombres\n",
    "ax = plt.subplot(111)\n",
    "KMF.fit(time_m,cal_m,label = \"Hombres\").plot(ax=ax)\n",
    "KMF.survival_function_"
   ]
  },
  {
   "cell_type": "code",
   "execution_count": 46,
   "id": "7e13c8b8-9041-49bc-9e1a-9f1648bf64b0",
   "metadata": {},
   "outputs": [
    {
     "data": {
      "text/html": [
       "<div>\n",
       "<style scoped>\n",
       "    .dataframe tbody tr th:only-of-type {\n",
       "        vertical-align: middle;\n",
       "    }\n",
       "\n",
       "    .dataframe tbody tr th {\n",
       "        vertical-align: top;\n",
       "    }\n",
       "\n",
       "    .dataframe thead th {\n",
       "        text-align: right;\n",
       "    }\n",
       "</style>\n",
       "<table border=\"1\" class=\"dataframe\">\n",
       "  <thead>\n",
       "    <tr style=\"text-align: right;\">\n",
       "      <th></th>\n",
       "      <th>Mujeres</th>\n",
       "    </tr>\n",
       "    <tr>\n",
       "      <th>timeline</th>\n",
       "      <th></th>\n",
       "    </tr>\n",
       "  </thead>\n",
       "  <tbody>\n",
       "    <tr>\n",
       "      <th>0.0</th>\n",
       "      <td>1.000</td>\n",
       "    </tr>\n",
       "    <tr>\n",
       "      <th>90.0</th>\n",
       "      <td>0.875</td>\n",
       "    </tr>\n",
       "    <tr>\n",
       "      <th>99.0</th>\n",
       "      <td>0.750</td>\n",
       "    </tr>\n",
       "    <tr>\n",
       "      <th>106.0</th>\n",
       "      <td>0.625</td>\n",
       "    </tr>\n",
       "    <tr>\n",
       "      <th>108.0</th>\n",
       "      <td>0.375</td>\n",
       "    </tr>\n",
       "    <tr>\n",
       "      <th>115.0</th>\n",
       "      <td>0.250</td>\n",
       "    </tr>\n",
       "    <tr>\n",
       "      <th>119.0</th>\n",
       "      <td>0.125</td>\n",
       "    </tr>\n",
       "    <tr>\n",
       "      <th>120.0</th>\n",
       "      <td>0.000</td>\n",
       "    </tr>\n",
       "  </tbody>\n",
       "</table>\n",
       "</div>"
      ],
      "text/plain": [
       "          Mujeres\n",
       "timeline         \n",
       "0.0         1.000\n",
       "90.0        0.875\n",
       "99.0        0.750\n",
       "106.0       0.625\n",
       "108.0       0.375\n",
       "115.0       0.250\n",
       "119.0       0.125\n",
       "120.0       0.000"
      ]
     },
     "execution_count": 46,
     "metadata": {},
     "output_type": "execute_result"
    },
    {
     "data": {
      "image/png": "[encoded data removed]",
      "text/plain": [
       "<Figure size 432x288 with 1 Axes>"
      ]
     },
     "metadata": {
      "needs_background": "light"
     },
     "output_type": "display_data"
    }
   ],
   "source": [
    "#Función de supervivencia de las mujeres\n",
    "ax = plt.subplot(111)\n",
    "KMF.fit(time_f,cal_f,label = \"Mujeres\").plot(ax=ax)\n",
    "KMF.survival_function_"
   ]
  },
  {
   "cell_type": "markdown",
   "id": "3cf12401-811f-484b-9497-bebd70b7def8",
   "metadata": {},
   "source": [
    "**-Los valores del intervalos de confianza al 95%**"
   ]
  },
  {
   "cell_type": "code",
   "execution_count": 47,
   "id": "cd40f914-610e-42f2-a102-a24723a7104b",
   "metadata": {},
   "outputs": [
    {
     "data": {
      "text/html": [
       "<div>\n",
       "<style scoped>\n",
       "    .dataframe tbody tr th:only-of-type {\n",
       "        vertical-align: middle;\n",
       "    }\n",
       "\n",
       "    .dataframe tbody tr th {\n",
       "        vertical-align: top;\n",
       "    }\n",
       "\n",
       "    .dataframe thead th {\n",
       "        text-align: right;\n",
       "    }\n",
       "</style>\n",
       "<table border=\"1\" class=\"dataframe\">\n",
       "  <thead>\n",
       "    <tr style=\"text-align: right;\">\n",
       "      <th></th>\n",
       "      <th>Hombres_lower_0.95</th>\n",
       "      <th>Hombres_upper_0.95</th>\n",
       "    </tr>\n",
       "  </thead>\n",
       "  <tbody>\n",
       "    <tr>\n",
       "      <th>0.0</th>\n",
       "      <td>1.000000</td>\n",
       "      <td>1.000000</td>\n",
       "    </tr>\n",
       "    <tr>\n",
       "      <th>85.0</th>\n",
       "      <td>0.432965</td>\n",
       "      <td>0.983564</td>\n",
       "    </tr>\n",
       "    <tr>\n",
       "      <th>87.0</th>\n",
       "      <td>0.364751</td>\n",
       "      <td>0.939296</td>\n",
       "    </tr>\n",
       "    <tr>\n",
       "      <th>103.0</th>\n",
       "      <td>0.281682</td>\n",
       "      <td>0.878307</td>\n",
       "    </tr>\n",
       "    <tr>\n",
       "      <th>109.0</th>\n",
       "      <td>0.204242</td>\n",
       "      <td>0.804525</td>\n",
       "    </tr>\n",
       "    <tr>\n",
       "      <th>111.0</th>\n",
       "      <td>0.135872</td>\n",
       "      <td>0.719315</td>\n",
       "    </tr>\n",
       "    <tr>\n",
       "      <th>112.0</th>\n",
       "      <td>0.078289</td>\n",
       "      <td>0.622627</td>\n",
       "    </tr>\n",
       "    <tr>\n",
       "      <th>116.0</th>\n",
       "      <td>0.033711</td>\n",
       "      <td>0.513068</td>\n",
       "    </tr>\n",
       "    <tr>\n",
       "      <th>118.0</th>\n",
       "      <td>0.006129</td>\n",
       "      <td>0.387665</td>\n",
       "    </tr>\n",
       "    <tr>\n",
       "      <th>119.0</th>\n",
       "      <td>0.000000</td>\n",
       "      <td>0.000000</td>\n",
       "    </tr>\n",
       "  </tbody>\n",
       "</table>\n",
       "</div>"
      ],
      "text/plain": [
       "       Hombres_lower_0.95  Hombres_upper_0.95\n",
       "0.0              1.000000            1.000000\n",
       "85.0             0.432965            0.983564\n",
       "87.0             0.364751            0.939296\n",
       "103.0            0.281682            0.878307\n",
       "109.0            0.204242            0.804525\n",
       "111.0            0.135872            0.719315\n",
       "112.0            0.078289            0.622627\n",
       "116.0            0.033711            0.513068\n",
       "118.0            0.006129            0.387665\n",
       "119.0            0.000000            0.000000"
      ]
     },
     "execution_count": 47,
     "metadata": {},
     "output_type": "execute_result"
    },
    {
     "data": {
      "image/png": "[encoded data removed]",
      "text/plain": [
       "<Figure size 432x288 with 1 Axes>"
      ]
     },
     "metadata": {
      "needs_background": "light"
     },
     "output_type": "display_data"
    }
   ],
   "source": [
    "#Intervalos de confianza de los hombres\n",
    "ax = plt.subplot(111)\n",
    "KMF.fit(time_m,cal_m,label = \"Hombres\").plot(ax=ax)\n",
    "KMF.confidence_interval_"
   ]
  },
  {
   "cell_type": "code",
   "execution_count": 48,
   "id": "d6341651-0c98-4a0a-a315-6200d8dbddf6",
   "metadata": {},
   "outputs": [
    {
     "data": {
      "text/html": [
       "<div>\n",
       "<style scoped>\n",
       "    .dataframe tbody tr th:only-of-type {\n",
       "        vertical-align: middle;\n",
       "    }\n",
       "\n",
       "    .dataframe tbody tr th {\n",
       "        vertical-align: top;\n",
       "    }\n",
       "\n",
       "    .dataframe thead th {\n",
       "        text-align: right;\n",
       "    }\n",
       "</style>\n",
       "<table border=\"1\" class=\"dataframe\">\n",
       "  <thead>\n",
       "    <tr style=\"text-align: right;\">\n",
       "      <th></th>\n",
       "      <th>Mujeres_lower_0.95</th>\n",
       "      <th>Mujeres_upper_0.95</th>\n",
       "    </tr>\n",
       "  </thead>\n",
       "  <tbody>\n",
       "    <tr>\n",
       "      <th>0.0</th>\n",
       "      <td>1.000000</td>\n",
       "      <td>1.000000</td>\n",
       "    </tr>\n",
       "    <tr>\n",
       "      <th>90.0</th>\n",
       "      <td>0.387000</td>\n",
       "      <td>0.981393</td>\n",
       "    </tr>\n",
       "    <tr>\n",
       "      <th>99.0</th>\n",
       "      <td>0.314807</td>\n",
       "      <td>0.930898</td>\n",
       "    </tr>\n",
       "    <tr>\n",
       "      <th>106.0</th>\n",
       "      <td>0.229333</td>\n",
       "      <td>0.860698</td>\n",
       "    </tr>\n",
       "    <tr>\n",
       "      <th>108.0</th>\n",
       "      <td>0.087006</td>\n",
       "      <td>0.674363</td>\n",
       "    </tr>\n",
       "    <tr>\n",
       "      <th>115.0</th>\n",
       "      <td>0.037067</td>\n",
       "      <td>0.558084</td>\n",
       "    </tr>\n",
       "    <tr>\n",
       "      <th>119.0</th>\n",
       "      <td>0.006593</td>\n",
       "      <td>0.422706</td>\n",
       "    </tr>\n",
       "    <tr>\n",
       "      <th>120.0</th>\n",
       "      <td>0.000000</td>\n",
       "      <td>0.000000</td>\n",
       "    </tr>\n",
       "  </tbody>\n",
       "</table>\n",
       "</div>"
      ],
      "text/plain": [
       "       Mujeres_lower_0.95  Mujeres_upper_0.95\n",
       "0.0              1.000000            1.000000\n",
       "90.0             0.387000            0.981393\n",
       "99.0             0.314807            0.930898\n",
       "106.0            0.229333            0.860698\n",
       "108.0            0.087006            0.674363\n",
       "115.0            0.037067            0.558084\n",
       "119.0            0.006593            0.422706\n",
       "120.0            0.000000            0.000000"
      ]
     },
     "execution_count": 48,
     "metadata": {},
     "output_type": "execute_result"
    },
    {
     "data": {
      "image/png": "[encoded data removed]",
      "text/plain": [
       "<Figure size 432x288 with 1 Axes>"
      ]
     },
     "metadata": {
      "needs_background": "light"
     },
     "output_type": "display_data"
    }
   ],
   "source": [
    "#Intervalos de confianza de las mujeres\n",
    "ax = plt.subplot(111)\n",
    "KMF.fit(time_f,cal_f,label = \"Mujeres\").plot(ax=ax)\n",
    "KMF.confidence_interval_"
   ]
  },
  {
   "cell_type": "markdown",
   "id": "0854343f-e331-4fb4-a359-cea4db0fa8b4",
   "metadata": {},
   "source": [
    "**c) Realice un gráfico donde muestre la función de supervivencia de Kaplan-Meier de los alumnos (m) y de las alumnas (f) con sus respectivos \n",
    "intervalos de confianza. Y comente con base en la gráfica si es posible que \n",
    "el profesor tenga razón respecto a que las alumnas responden más \n",
    "rápido el examen.**"
   ]
  },
  {
   "cell_type": "code",
   "execution_count": 51,
   "id": "578ecdf5-1b05-4440-af39-d7971ec575d4",
   "metadata": {},
   "outputs": [
    {
     "data": {
      "image/png": "[encoded data removed]",
      "text/plain": [
       "<Figure size 432x288 with 1 Axes>"
      ]
     },
     "metadata": {
      "needs_background": "light"
     },
     "output_type": "display_data"
    }
   ],
   "source": [
    "ax = plt.subplot(111)\n",
    "ax = KMF.fit(time_f,cal_f,label = \"Mujeres\").plot(ax=ax)\n",
    "ax = KMF.fit(time_m,cal_m,label = \"Hombres\").plot(ax=ax)"
   ]
  },
  {
   "cell_type": "markdown",
   "id": "4e458a70-52cf-493e-9519-37cde35f1350",
   "metadata": {},
   "source": [
    "Comentario: con base en la gráfica no seria posible que \n",
    "el profesor tenga razón respecto a que las alumnas responden más \n",
    "rápido el examen.\n"
   ]
  },
  {
   "cell_type": "markdown",
   "id": "047b9edb-81f8-4bc5-afeb-79607c8b681a",
   "metadata": {},
   "source": [
    "**d) Realice el log rank test para probar si las funciones de supervivencia de \n",
    "alumnos y alumnas para responder el examen son iguales. Comente el \n",
    "resultado de la prueba de hipótesis y diga si el profesor tuvo razón o no.**"
   ]
  },
  {
   "cell_type": "markdown",
   "id": "fde3dba9-6a0b-4509-8f9a-9c41c3fdb221",
   "metadata": {},
   "source": [
    "Pruebas de Hipótesis\n",
    "\n",
    "H0: Las funciones de supervivencia de hombres y mujeres son iguales.\n",
    "\n",
    "H1: Las funciones de supervivencia de hombres y mujeres son distintas.\n"
   ]
  },
  {
   "cell_type": "code",
   "execution_count": 52,
   "id": "7c4bdfd2-bc5d-4abc-b56d-f31c3b1d7a9d",
   "metadata": {},
   "outputs": [
    {
     "data": {
      "text/html": [
       "<div>\n",
       "<style scoped>\n",
       "    .dataframe tbody tr th:only-of-type {\n",
       "        vertical-align: middle;\n",
       "    }\n",
       "\n",
       "    .dataframe tbody tr th {\n",
       "        vertical-align: top;\n",
       "    }\n",
       "\n",
       "    .dataframe thead th {\n",
       "        text-align: right;\n",
       "    }\n",
       "</style>\n",
       "<table border=\"1\" class=\"dataframe\">\n",
       "  <tbody>\n",
       "    <tr>\n",
       "      <th>t_0</th>\n",
       "      <td>-1</td>\n",
       "    </tr>\n",
       "    <tr>\n",
       "      <th>null_distribution</th>\n",
       "      <td>chi squared</td>\n",
       "    </tr>\n",
       "    <tr>\n",
       "      <th>degrees_of_freedom</th>\n",
       "      <td>1</td>\n",
       "    </tr>\n",
       "    <tr>\n",
       "      <th>test_name</th>\n",
       "      <td>logrank_test</td>\n",
       "    </tr>\n",
       "  </tbody>\n",
       "</table>\n",
       "</div><table border=\"1\" class=\"dataframe\">\n",
       "  <thead>\n",
       "    <tr style=\"text-align: right;\">\n",
       "      <th></th>\n",
       "      <th>test_statistic</th>\n",
       "      <th>p</th>\n",
       "      <th>-log2(p)</th>\n",
       "    </tr>\n",
       "  </thead>\n",
       "  <tbody>\n",
       "    <tr>\n",
       "      <th>0</th>\n",
       "      <td>0.15</td>\n",
       "      <td>0.69</td>\n",
       "      <td>0.53</td>\n",
       "    </tr>\n",
       "  </tbody>\n",
       "</table>"
      ],
      "text/latex": [
       "\\begin{tabular}{lrrr}\n",
       "\\toprule\n",
       "{} &  test\\_statistic &         p &  -log2(p) \\\\\n",
       "\\midrule\n",
       "0 &        0.153807 &  0.694924 &  0.525074 \\\\\n",
       "\\bottomrule\n",
       "\\end{tabular}\n"
      ],
      "text/plain": [
       "<lifelines.StatisticalResult: logrank_test>\n",
       "               t_0 = -1\n",
       " null_distribution = chi squared\n",
       "degrees_of_freedom = 1\n",
       "         test_name = logrank_test\n",
       "\n",
       "---\n",
       " test_statistic    p  -log2(p)\n",
       "           0.15 0.69      0.53"
      ]
     },
     "metadata": {},
     "output_type": "display_data"
    }
   ],
   "source": [
    "from lifelines.statistics import logrank_test\n",
    "results = logrank_test(time_m,time_f, event_observed_A =cal_hom, event_observed_B = cal_f)\n",
    "results.print_summary()"
   ]
  },
  {
   "cell_type": "markdown",
   "id": "7968a38b-40ee-4e48-a9e5-e52aac6aeb1a",
   "metadata": {},
   "source": [
    "Comentario: el resultado de la prueba de hipótesis: tenemos que nuestro p-valor es de 0.69 y nuestra alfa de 0.05, entonces como 0.69 > 0.05 NO se rechaza H0, por lo tanto las funciones de supervivencia de hombres y mujeres son iguales."
   ]
  },
  {
   "cell_type": "markdown",
   "id": "7c3daf55-d8dd-4c8a-bc4a-1938cf500ab4",
   "metadata": {},
   "source": [
    "**e) El profesor tambien sospecha que quienes entregan el examen más \n",
    "rápido es porque no estudiaron y cómo no saben que responder \n",
    "entregan el examen casi inmediatamente. \n",
    "Estime un modelo de cox de riesgos proporcionales donde utilice como \n",
    "variables explicativas el género y la calificación obtenida, para explicar la \n",
    "función de riesgo de entregar el examen.**\n"
   ]
  },
  {
   "cell_type": "code",
   "execution_count": 53,
   "id": "0c42eca8-4963-4863-a985-21faf1b73836",
   "metadata": {},
   "outputs": [],
   "source": [
    "df_dummies = pd.get_dummies(df,columns=['género'], drop_first = True)"
   ]
  },
  {
   "cell_type": "code",
   "execution_count": 54,
   "id": "082c2ab8-6b5d-4e69-9cf5-79aa95042af7",
   "metadata": {},
   "outputs": [
    {
     "data": {
      "text/html": [
       "<div>\n",
       "<style scoped>\n",
       "    .dataframe tbody tr th:only-of-type {\n",
       "        vertical-align: middle;\n",
       "    }\n",
       "\n",
       "    .dataframe tbody tr th {\n",
       "        vertical-align: top;\n",
       "    }\n",
       "\n",
       "    .dataframe thead th {\n",
       "        text-align: right;\n",
       "    }\n",
       "</style>\n",
       "<table border=\"1\" class=\"dataframe\">\n",
       "  <thead>\n",
       "    <tr style=\"text-align: right;\">\n",
       "      <th></th>\n",
       "      <th>id</th>\n",
       "      <th>tiempo</th>\n",
       "      <th>examen</th>\n",
       "      <th>calificación</th>\n",
       "      <th>género_m</th>\n",
       "    </tr>\n",
       "  </thead>\n",
       "  <tbody>\n",
       "    <tr>\n",
       "      <th>0</th>\n",
       "      <td>1</td>\n",
       "      <td>85</td>\n",
       "      <td>1</td>\n",
       "      <td>100.0</td>\n",
       "      <td>1</td>\n",
       "    </tr>\n",
       "    <tr>\n",
       "      <th>1</th>\n",
       "      <td>2</td>\n",
       "      <td>109</td>\n",
       "      <td>1</td>\n",
       "      <td>100.0</td>\n",
       "      <td>1</td>\n",
       "    </tr>\n",
       "    <tr>\n",
       "      <th>2</th>\n",
       "      <td>3</td>\n",
       "      <td>118</td>\n",
       "      <td>1</td>\n",
       "      <td>100.0</td>\n",
       "      <td>1</td>\n",
       "    </tr>\n",
       "    <tr>\n",
       "      <th>3</th>\n",
       "      <td>4</td>\n",
       "      <td>120</td>\n",
       "      <td>1</td>\n",
       "      <td>100.0</td>\n",
       "      <td>0</td>\n",
       "    </tr>\n",
       "    <tr>\n",
       "      <th>4</th>\n",
       "      <td>5</td>\n",
       "      <td>106</td>\n",
       "      <td>1</td>\n",
       "      <td>98.0</td>\n",
       "      <td>0</td>\n",
       "    </tr>\n",
       "    <tr>\n",
       "      <th>5</th>\n",
       "      <td>6</td>\n",
       "      <td>103</td>\n",
       "      <td>1</td>\n",
       "      <td>98.0</td>\n",
       "      <td>1</td>\n",
       "    </tr>\n",
       "    <tr>\n",
       "      <th>6</th>\n",
       "      <td>7</td>\n",
       "      <td>108</td>\n",
       "      <td>1</td>\n",
       "      <td>96.0</td>\n",
       "      <td>0</td>\n",
       "    </tr>\n",
       "    <tr>\n",
       "      <th>7</th>\n",
       "      <td>8</td>\n",
       "      <td>119</td>\n",
       "      <td>1</td>\n",
       "      <td>96.0</td>\n",
       "      <td>0</td>\n",
       "    </tr>\n",
       "    <tr>\n",
       "      <th>8</th>\n",
       "      <td>9</td>\n",
       "      <td>115</td>\n",
       "      <td>1</td>\n",
       "      <td>96.0</td>\n",
       "      <td>0</td>\n",
       "    </tr>\n",
       "    <tr>\n",
       "      <th>9</th>\n",
       "      <td>10</td>\n",
       "      <td>108</td>\n",
       "      <td>1</td>\n",
       "      <td>94.0</td>\n",
       "      <td>0</td>\n",
       "    </tr>\n",
       "    <tr>\n",
       "      <th>10</th>\n",
       "      <td>11</td>\n",
       "      <td>87</td>\n",
       "      <td>1</td>\n",
       "      <td>88.0</td>\n",
       "      <td>1</td>\n",
       "    </tr>\n",
       "    <tr>\n",
       "      <th>11</th>\n",
       "      <td>12</td>\n",
       "      <td>99</td>\n",
       "      <td>1</td>\n",
       "      <td>86.0</td>\n",
       "      <td>0</td>\n",
       "    </tr>\n",
       "    <tr>\n",
       "      <th>12</th>\n",
       "      <td>13</td>\n",
       "      <td>112</td>\n",
       "      <td>1</td>\n",
       "      <td>84.0</td>\n",
       "      <td>1</td>\n",
       "    </tr>\n",
       "    <tr>\n",
       "      <th>13</th>\n",
       "      <td>14</td>\n",
       "      <td>111</td>\n",
       "      <td>1</td>\n",
       "      <td>82.0</td>\n",
       "      <td>1</td>\n",
       "    </tr>\n",
       "    <tr>\n",
       "      <th>14</th>\n",
       "      <td>15</td>\n",
       "      <td>90</td>\n",
       "      <td>1</td>\n",
       "      <td>78.0</td>\n",
       "      <td>0</td>\n",
       "    </tr>\n",
       "    <tr>\n",
       "      <th>15</th>\n",
       "      <td>16</td>\n",
       "      <td>116</td>\n",
       "      <td>1</td>\n",
       "      <td>74.0</td>\n",
       "      <td>1</td>\n",
       "    </tr>\n",
       "    <tr>\n",
       "      <th>16</th>\n",
       "      <td>17</td>\n",
       "      <td>119</td>\n",
       "      <td>1</td>\n",
       "      <td>72.0</td>\n",
       "      <td>1</td>\n",
       "    </tr>\n",
       "  </tbody>\n",
       "</table>\n",
       "</div>"
      ],
      "text/plain": [
       "    id  tiempo  examen  calificación  género_m\n",
       "0    1      85       1         100.0         1\n",
       "1    2     109       1         100.0         1\n",
       "2    3     118       1         100.0         1\n",
       "3    4     120       1         100.0         0\n",
       "4    5     106       1          98.0         0\n",
       "5    6     103       1          98.0         1\n",
       "6    7     108       1          96.0         0\n",
       "7    8     119       1          96.0         0\n",
       "8    9     115       1          96.0         0\n",
       "9   10     108       1          94.0         0\n",
       "10  11      87       1          88.0         1\n",
       "11  12      99       1          86.0         0\n",
       "12  13     112       1          84.0         1\n",
       "13  14     111       1          82.0         1\n",
       "14  15      90       1          78.0         0\n",
       "15  16     116       1          74.0         1\n",
       "16  17     119       1          72.0         1"
      ]
     },
     "execution_count": 54,
     "metadata": {},
     "output_type": "execute_result"
    }
   ],
   "source": [
    "df_dummies"
   ]
  },
  {
   "cell_type": "code",
   "execution_count": 55,
   "id": "7aaa7402-92d4-48a6-8ddc-d3bb6eb47ac6",
   "metadata": {},
   "outputs": [
    {
     "data": {
      "text/html": [
       "<div>\n",
       "<style scoped>\n",
       "    .dataframe tbody tr th:only-of-type {\n",
       "        vertical-align: middle;\n",
       "    }\n",
       "\n",
       "    .dataframe tbody tr th {\n",
       "        vertical-align: top;\n",
       "    }\n",
       "\n",
       "    .dataframe thead th {\n",
       "        text-align: right;\n",
       "    }\n",
       "</style>\n",
       "<table border=\"1\" class=\"dataframe\">\n",
       "  <tbody>\n",
       "    <tr>\n",
       "      <th>model</th>\n",
       "      <td>lifelines.CoxPHFitter</td>\n",
       "    </tr>\n",
       "    <tr>\n",
       "      <th>duration col</th>\n",
       "      <td>'tiempo'</td>\n",
       "    </tr>\n",
       "    <tr>\n",
       "      <th>event col</th>\n",
       "      <td>'examen'</td>\n",
       "    </tr>\n",
       "    <tr>\n",
       "      <th>baseline estimation</th>\n",
       "      <td>breslow</td>\n",
       "    </tr>\n",
       "    <tr>\n",
       "      <th>number of observations</th>\n",
       "      <td>17</td>\n",
       "    </tr>\n",
       "    <tr>\n",
       "      <th>number of events observed</th>\n",
       "      <td>17</td>\n",
       "    </tr>\n",
       "    <tr>\n",
       "      <th>partial log-likelihood</th>\n",
       "      <td>-33.31</td>\n",
       "    </tr>\n",
       "    <tr>\n",
       "      <th>time fit was run</th>\n",
       "      <td>2022-05-11 03:41:21 UTC</td>\n",
       "    </tr>\n",
       "  </tbody>\n",
       "</table>\n",
       "</div><table border=\"1\" class=\"dataframe\">\n",
       "  <thead>\n",
       "    <tr style=\"text-align: right;\">\n",
       "      <th style=\"min-width: 12px;\"></th>\n",
       "      <th style=\"min-width: 12px;\">coef</th>\n",
       "      <th style=\"min-width: 12px;\">exp(coef)</th>\n",
       "      <th style=\"min-width: 12px;\">se(coef)</th>\n",
       "      <th style=\"min-width: 12px;\">coef lower 95%</th>\n",
       "      <th style=\"min-width: 12px;\">coef upper 95%</th>\n",
       "      <th style=\"min-width: 12px;\">exp(coef) lower 95%</th>\n",
       "      <th style=\"min-width: 12px;\">exp(coef) upper 95%</th>\n",
       "      <th style=\"min-width: 12px;\">cmp to</th>\n",
       "      <th style=\"min-width: 12px;\">z</th>\n",
       "      <th style=\"min-width: 12px;\">p</th>\n",
       "      <th style=\"min-width: 12px;\">-log2(p)</th>\n",
       "    </tr>\n",
       "  </thead>\n",
       "  <tbody>\n",
       "    <tr>\n",
       "      <th>id</th>\n",
       "      <td>0.10</td>\n",
       "      <td>1.10</td>\n",
       "      <td>0.24</td>\n",
       "      <td>-0.36</td>\n",
       "      <td>0.56</td>\n",
       "      <td>0.70</td>\n",
       "      <td>1.75</td>\n",
       "      <td>0.00</td>\n",
       "      <td>0.42</td>\n",
       "      <td>0.67</td>\n",
       "      <td>0.57</td>\n",
       "    </tr>\n",
       "    <tr>\n",
       "      <th>calificación</th>\n",
       "      <td>0.06</td>\n",
       "      <td>1.06</td>\n",
       "      <td>0.13</td>\n",
       "      <td>-0.19</td>\n",
       "      <td>0.30</td>\n",
       "      <td>0.83</td>\n",
       "      <td>1.36</td>\n",
       "      <td>0.00</td>\n",
       "      <td>0.47</td>\n",
       "      <td>0.64</td>\n",
       "      <td>0.64</td>\n",
       "    </tr>\n",
       "    <tr>\n",
       "      <th>género_m</th>\n",
       "      <td>0.50</td>\n",
       "      <td>1.66</td>\n",
       "      <td>0.80</td>\n",
       "      <td>-1.07</td>\n",
       "      <td>2.08</td>\n",
       "      <td>0.34</td>\n",
       "      <td>7.99</td>\n",
       "      <td>0.00</td>\n",
       "      <td>0.63</td>\n",
       "      <td>0.53</td>\n",
       "      <td>0.92</td>\n",
       "    </tr>\n",
       "  </tbody>\n",
       "</table><br><div>\n",
       "<style scoped>\n",
       "    .dataframe tbody tr th:only-of-type {\n",
       "        vertical-align: middle;\n",
       "    }\n",
       "\n",
       "    .dataframe tbody tr th {\n",
       "        vertical-align: top;\n",
       "    }\n",
       "\n",
       "    .dataframe thead th {\n",
       "        text-align: right;\n",
       "    }\n",
       "</style>\n",
       "<table border=\"1\" class=\"dataframe\">\n",
       "  <tbody>\n",
       "    <tr>\n",
       "      <th>Concordance</th>\n",
       "      <td>0.51</td>\n",
       "    </tr>\n",
       "    <tr>\n",
       "      <th>Partial AIC</th>\n",
       "      <td>72.61</td>\n",
       "    </tr>\n",
       "    <tr>\n",
       "      <th>log-likelihood ratio test</th>\n",
       "      <td>0.40 on 3 df</td>\n",
       "    </tr>\n",
       "    <tr>\n",
       "      <th>-log2(p) of ll-ratio test</th>\n",
       "      <td>0.09</td>\n",
       "    </tr>\n",
       "  </tbody>\n",
       "</table>\n",
       "</div>"
      ],
      "text/latex": [
       "\\begin{tabular}{lrrrrrrrrrrr}\n",
       "\\toprule\n",
       "{} &  coef &  exp(coef) &  se(coef) &  coef lower 95\\% &  coef upper 95\\% &  exp(coef) lower 95\\% &  exp(coef) upper 95\\% &  cmp to &    z &    p &  -log2(p) \\\\\n",
       "covariate    &       &            &           &                 &                 &                      &                      &         &      &      &           \\\\\n",
       "\\midrule\n",
       "id           &  0.10 &       1.10 &      0.24 &           -0.36 &            0.56 &                 0.70 &                 1.75 &    0.00 & 0.42 & 0.67 &      0.57 \\\\\n",
       "calificación &  0.06 &       1.06 &      0.13 &           -0.19 &            0.30 &                 0.83 &                 1.36 &    0.00 & 0.47 & 0.64 &      0.64 \\\\\n",
       "género\\_m     &  0.50 &       1.66 &      0.80 &           -1.07 &            2.08 &                 0.34 &                 7.99 &    0.00 & 0.63 & 0.53 &      0.92 \\\\\n",
       "\\bottomrule\n",
       "\\end{tabular}\n"
      ],
      "text/plain": [
       "<lifelines.CoxPHFitter: fitted with 17 total observations, 0 right-censored observations>\n",
       "             duration col = 'tiempo'\n",
       "                event col = 'examen'\n",
       "      baseline estimation = breslow\n",
       "   number of observations = 17\n",
       "number of events observed = 17\n",
       "   partial log-likelihood = -33.31\n",
       "         time fit was run = 2022-05-11 03:41:21 UTC\n",
       "\n",
       "---\n",
       "               coef  exp(coef)   se(coef)   coef lower 95%   coef upper 95%  exp(coef) lower 95%  exp(coef) upper 95%\n",
       "covariate                                                                                                            \n",
       "id             0.10       1.10       0.24            -0.36             0.56                 0.70                 1.75\n",
       "calificación   0.06       1.06       0.13            -0.19             0.30                 0.83                 1.36\n",
       "género_m       0.50       1.66       0.80            -1.07             2.08                 0.34                 7.99\n",
       "\n",
       "               cmp to    z    p   -log2(p)\n",
       "covariate                                 \n",
       "id               0.00 0.42 0.67       0.57\n",
       "calificación     0.00 0.47 0.64       0.64\n",
       "género_m         0.00 0.63 0.53       0.92\n",
       "---\n",
       "Concordance = 0.51\n",
       "Partial AIC = 72.61\n",
       "log-likelihood ratio test = 0.40 on 3 df\n",
       "-log2(p) of ll-ratio test = 0.09"
      ]
     },
     "metadata": {},
     "output_type": "display_data"
    }
   ],
   "source": [
    "cph = CoxPHFitter()\n",
    "cph.fit(df_dummies, duration_col='tiempo', event_col='examen')\n",
    "cph.print_summary()"
   ]
  },
  {
   "cell_type": "markdown",
   "id": "27b05a50-7b8f-4043-bd05-fe057e0ab428",
   "metadata": {},
   "source": [
    "**f) Interprete los coeficientes de género y calificación obtenidos por el \n",
    "modelo de cox, recuerde señalar: 1) si el coeficiente es significativo (se \n",
    "rechaza Ho), en caso de ser significativo señala si aumentan el riesgo de \n",
    "entregar el examen, y el tamaño del efecto. Recuerde añadir cph.plot()\n",
    "para ayudarse con la interpretación.**\n"
   ]
  },
  {
   "cell_type": "code",
   "execution_count": 67,
   "id": "d6cfe1a1-fde9-47ee-bf26-05922b168f26",
   "metadata": {},
   "outputs": [
    {
     "data": {
      "text/plain": [
       "<AxesSubplot:xlabel='log(HR) (95% CI)'>"
      ]
     },
     "execution_count": 67,
     "metadata": {},
     "output_type": "execute_result"
    },
    {
     "data": {
      "image/png": "[encoded data removed]",
      "text/plain": [
       "<Figure size 432x288 with 1 Axes>"
      ]
     },
     "metadata": {
      "needs_background": "light"
     },
     "output_type": "display_data"
    }
   ],
   "source": [
    "cph.plot()"
   ]
  },
  {
   "cell_type": "markdown",
   "id": "6c906b3c-1821-470f-84bf-2edb242df34b",
   "metadata": {},
   "source": [
    "**g) Utilice cph.plot_partial_effects_on_outcome(covariates='variable', \n",
    "values=[0,1]) para estimar las funciones de supervivencia de alumnos y \n",
    "alumnas de acuerdo con el modelo de cox ¿obtiene resultados similares \n",
    "al inciso c, es decir, coincide con las funciones de supervivencia de Kaplan-Meier?**"
   ]
  },
  {
   "cell_type": "code",
   "execution_count": 63,
   "id": "d2ccda87-7dcd-462e-9ddd-99249a269aee",
   "metadata": {},
   "outputs": [
    {
     "data": {
      "image/png": "[encoded data removed]",
      "text/plain": [
       "<Figure size 432x288 with 1 Axes>"
      ]
     },
     "metadata": {
      "needs_background": "light"
     },
     "output_type": "display_data"
    }
   ],
   "source": [
    "cph.plot_partial_effects_on_outcome(covariates='género_m', values=[0,1], cmap=\"coolwarm\");"
   ]
  },
  {
   "cell_type": "markdown",
   "id": "7e842d3e-6004-4c2e-a5b4-784343edcf63",
   "metadata": {},
   "source": [
    "Comentario: Al comparar las gráfcas de ambos modelos, Kaplan-Meier y Cox vemos que los hombres tienden a terminar el examen en menos tiempo a comparacion con las mujeres.\n"
   ]
  },
  {
   "cell_type": "markdown",
   "id": "1e375920-0b1a-47f4-be51-50b9686b39a5",
   "metadata": {},
   "source": [
    "**h) Por último, con base en la interpretación del modelo de cox y la \n",
    "significancia de los coeficientes, comente si el profesor tiene razón al \n",
    "señalar que las alumnas responden en menor tiempo el examen, y si el \n",
    "profesor tambien tiene razón al señalar que los que entregan el examen \n",
    "rápido no estudiaron y por tanto obtienen menores calificación.**"
   ]
  },
  {
   "cell_type": "markdown",
   "id": "a8b1968a-e9f1-4c4e-9347-9f48f8426219",
   "metadata": {},
   "source": [
    "Comentario: Con base en la interpretacion del modelo de Cox y la diferencia de los coeficientes podemos decir que el profesor no tiene razón al decir que las mujeres terminan el examen en menos tiempo en comparación que los hombres. Al igual tenemos que no tiene razon al señalar que los que entregan el examen más rápido tienen menores calificaciones, ya que no hay relación entre estos.\n"
   ]
  },
  {
   "cell_type": "code",
   "execution_count": null,
   "id": "1cbec685-880b-4db3-a8af-f11bca7cd15b",
   "metadata": {},
   "outputs": [],
   "source": []
  }
 ],
 "metadata": {
  "kernelspec": {
   "display_name": "Python 3 (ipykernel)",
   "language": "python",
   "name": "python3"
  },
  "language_info": {
   "codemirror_mode": {
    "name": "ipython",
    "version": 3
   },
   "file_extension": ".py",
   "mimetype": "text/x-python",
   "name": "python",
   "nbconvert_exporter": "python",
   "pygments_lexer": "ipython3",
   "version": "3.9.7"
  }
 },
 "nbformat": 4,
 "nbformat_minor": 5
}
