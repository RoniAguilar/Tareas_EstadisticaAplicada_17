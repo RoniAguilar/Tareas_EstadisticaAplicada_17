{
  "cells": [
    {
      "cell_type": "markdown",
      "metadata": {
        "id": "view-in-github",
        "colab_type": "text"
      },
      "source": [
        "<a href=\"https://colab.research.google.com/github/RoniAguilar/Tareas_EstadisticaAplicada_17/blob/main/VVAO_1855188_EstadisticaAplicadaG51_parcial1a.ipynb\" target=\"_parent\"><img src=\"https://colab.research.google.com/assets/colab-badge.svg\" alt=\"Open In Colab\"/></a>"
      ]
    },
    {
      "cell_type": "markdown",
      "id": "1acead75",
      "metadata": {
        "id": "1acead75"
      },
      "source": [
        "#PARCIAL 2\n",
        "\n",
        "**Estadística Aplicada**\n",
        "\n",
        "**Nombre: Verónica Vanessa Aguilar Ortiz**\n",
        "\n",
        "**Matricula: 1855188**\n",
        "\n",
        "**Grupo: 051**"
      ]
    },
    {
      "cell_type": "markdown",
      "id": "aaa13c68-b5a3-4d4a-ad59-e3896afceafa",
      "metadata": {
        "id": "aaa13c68-b5a3-4d4a-ad59-e3896afceafa"
      },
      "source": [
        "**a) importa las librerías que siempre usamos, y las librerías usadas para \n",
        "series de tiempo, configura para que las graficas tengan el tamaño \n",
        "adecuado plt.rcParams['figure.figsize'] = [10, 7.5]**"
      ]
    },
    {
      "cell_type": "code",
      "execution_count": null,
      "id": "43657b46",
      "metadata": {
        "id": "43657b46"
      },
      "outputs": [],
      "source": [
        "import numpy as np\n",
        "import pandas as pd \n",
        "import yfinance as yf\n",
        "import scipy.stats as stats\n",
        "import matplotlib.pyplot as plt\n",
        "from statsmodels.graphics.tsaplots import plot_acf\n",
        "from statsmodels.graphics.tsaplots import plot_pacf\n",
        "from statsmodels.tsa.stattools import acf\n",
        "from statsmodels.tsa.stattools import pacf\n",
        "from statsmodels.tsa.stattools import adfuller\n",
        "from statsmodels.tsa.arima_process import ArmaProcess\n",
        "from statsmodels.tsa.arima.model import ARIMA\n",
        "\n",
        "%matplotlib inline"
      ]
    },
    {
      "cell_type": "code",
      "execution_count": null,
      "id": "9b7dbd92",
      "metadata": {
        "id": "9b7dbd92"
      },
      "outputs": [],
      "source": [
        "plt.rcParams['figure.figsize'] = [10, 7.5]"
      ]
    },
    {
      "cell_type": "markdown",
      "id": "25f2aab0-45b0-4434-bb2a-2fab19cdf10b",
      "metadata": {
        "id": "25f2aab0-45b0-4434-bb2a-2fab19cdf10b"
      },
      "source": [
        "**b) importa los datos de Excel a tu notebook (primero sube tus datos a github \n",
        "y desde ahí llámalos) y despues realiza un grafica de este proceso ¿parece \n",
        "estacionario?**"
      ]
    },
    {
      "cell_type": "code",
      "execution_count": null,
      "id": "2055b5c5",
      "metadata": {
        "id": "2055b5c5"
      },
      "outputs": [],
      "source": [
        "serie = pd.read_csv('https://raw.githubusercontent.com/RoniAguilar/Tareas_EstadisticaAplicada_17/main/proceso_desconocido.csv?token=GHSAT0AAAAAABSPEYJVZNQGVGPEZO7GI2RMYSA6MLQ' ,index_col='tiempo',parse_dates=True)"
      ]
    },
    {
      "cell_type": "code",
      "execution_count": null,
      "id": "03d8ad17",
      "metadata": {
        "id": "03d8ad17"
      },
      "outputs": [],
      "source": [
        "serie.dropna(inplace=True)"
      ]
    },
    {
      "cell_type": "code",
      "execution_count": null,
      "id": "ace218ed",
      "metadata": {
        "id": "ace218ed",
        "outputId": "d1c99e0c-2712-4a9a-a928-953560c1e851"
      },
      "outputs": [
        {
          "data": {
            "text/html": [
              "<div>\n",
              "<style scoped>\n",
              "    .dataframe tbody tr th:only-of-type {\n",
              "        vertical-align: middle;\n",
              "    }\n",
              "\n",
              "    .dataframe tbody tr th {\n",
              "        vertical-align: top;\n",
              "    }\n",
              "\n",
              "    .dataframe thead th {\n",
              "        text-align: right;\n",
              "    }\n",
              "</style>\n",
              "<table border=\"1\" class=\"dataframe\">\n",
              "  <thead>\n",
              "    <tr style=\"text-align: right;\">\n",
              "      <th></th>\n",
              "      <th>proceso</th>\n",
              "    </tr>\n",
              "    <tr>\n",
              "      <th>tiempo</th>\n",
              "      <th></th>\n",
              "    </tr>\n",
              "  </thead>\n",
              "  <tbody>\n",
              "    <tr>\n",
              "      <th>1</th>\n",
              "      <td>1.404840</td>\n",
              "    </tr>\n",
              "    <tr>\n",
              "      <th>2</th>\n",
              "      <td>1.766445</td>\n",
              "    </tr>\n",
              "    <tr>\n",
              "      <th>3</th>\n",
              "      <td>1.713471</td>\n",
              "    </tr>\n",
              "    <tr>\n",
              "      <th>4</th>\n",
              "      <td>1.489008</td>\n",
              "    </tr>\n",
              "    <tr>\n",
              "      <th>5</th>\n",
              "      <td>1.894894</td>\n",
              "    </tr>\n",
              "  </tbody>\n",
              "</table>\n",
              "</div>"
            ],
            "text/plain": [
              "         proceso\n",
              "tiempo          \n",
              "1       1.404840\n",
              "2       1.766445\n",
              "3       1.713471\n",
              "4       1.489008\n",
              "5       1.894894"
            ]
          },
          "execution_count": 22,
          "metadata": {},
          "output_type": "execute_result"
        }
      ],
      "source": [
        "serie.head()"
      ]
    },
    {
      "cell_type": "code",
      "execution_count": null,
      "id": "9270c7d8",
      "metadata": {
        "id": "9270c7d8",
        "outputId": "6b49c2e2-cd0c-47d0-d720-bd138cdca4f9"
      },
      "outputs": [
        {
          "data": {
            "image/png": "[encoded data removed]",
            "text/plain": [
              "<Figure size 720x540 with 1 Axes>"
            ]
          },
          "metadata": {
            "needs_background": "light"
          },
          "output_type": "display_data"
        }
      ],
      "source": [
        "serie.proceso.plot()\n",
        "plt.title('Serie de tiempo')\n",
        "plt.show()"
      ]
    },
    {
      "cell_type": "markdown",
      "id": "b1b6beac-88a6-4787-8996-c8da9432b27f",
      "metadata": {
        "id": "b1b6beac-88a6-4787-8996-c8da9432b27f"
      },
      "source": [
        "R: Contestando la pregunta anterior, visualizando la grafica, si es una serie estacionaria"
      ]
    },
    {
      "cell_type": "markdown",
      "id": "7a76eee2-a78f-4f51-bae7-e71863804761",
      "metadata": {
        "id": "7a76eee2-a78f-4f51-bae7-e71863804761"
      },
      "source": [
        "**c) realiza una prueba de raíz unitaria para verificar si este proceso es \n",
        "estacionario (sino es estacionario conviértelo en estacionario)**"
      ]
    },
    {
      "cell_type": "code",
      "execution_count": null,
      "id": "d545d048",
      "metadata": {
        "id": "d545d048",
        "outputId": "11f609d4-f680-466e-a135-6c7787a28ec1"
      },
      "outputs": [
        {
          "name": "stdout",
          "output_type": "stream",
          "text": [
            "p-value: 0.000000\n"
          ]
        }
      ],
      "source": [
        "adf = adfuller(serie['proceso'])\n",
        "\n",
        "print('p-value: %f' % adf[1])"
      ]
    },
    {
      "cell_type": "markdown",
      "id": "22cf7e87",
      "metadata": {
        "id": "22cf7e87"
      },
      "source": [
        "Recuerda que $H_0$: serie no estacionaria"
      ]
    },
    {
      "cell_type": "code",
      "execution_count": null,
      "id": "80ec2879",
      "metadata": {
        "id": "80ec2879",
        "outputId": "5f8c9198-8a18-4379-859c-8df28444a02f"
      },
      "outputs": [
        {
          "name": "stdout",
          "output_type": "stream",
          "text": [
            "con un un p-value=0.0\n",
            " Se rechaza hipótesis nula, serie estacionaria\n"
          ]
        }
      ],
      "source": [
        "if adf[1] < 0.05:\n",
        "    \n",
        "    print(f'con un un p-value={adf[1].round(3)}\\n Se rechaza hipótesis nula, serie estacionaria') \n",
        "    \n",
        "else:\n",
        "    \n",
        "    print(f'con un un p-value = {adf[1].round(3)}\\n NO se rechaza hipótesis nula, serie no estacionaria') "
      ]
    },
    {
      "cell_type": "markdown",
      "id": "28520886-93f2-4269-a253-4b297595a4d1",
      "metadata": {
        "id": "28520886-93f2-4269-a253-4b297595a4d1"
      },
      "source": [
        "**d) realiza la gráfica de autocorrelación (ACF) y comenta como se interpreta**"
      ]
    },
    {
      "cell_type": "code",
      "execution_count": null,
      "id": "e0efccd8",
      "metadata": {
        "id": "e0efccd8",
        "outputId": "9705d1a2-a130-4f8a-a52b-c1d631930f76"
      },
      "outputs": [
        {
          "data": {
            "image/png": "[encoded data removed]",
            "text/plain": [
              "<Figure size 720x540 with 1 Axes>"
            ]
          },
          "metadata": {
            "needs_background": "light"
          },
          "output_type": "display_data"
        }
      ],
      "source": [
        "#Grafica de autocorrelación ACF\n",
        "plot_acf(serie, zero=False, lags=30)\n",
        "plt.title('Función de autocorrelación diferencia de la serie de tiempo')\n",
        "plt.show()"
      ]
    },
    {
      "cell_type": "markdown",
      "id": "03d6b4b9",
      "metadata": {
        "id": "03d6b4b9"
      },
      "source": [
        "La grafica de autocorrelacion observamos que tiene un pico grande en el rezago 1 y va disminuyendo, constantemente."
      ]
    },
    {
      "cell_type": "markdown",
      "id": "62fa5a7b-6da3-4c4d-9111-ff453c85ce47",
      "metadata": {
        "id": "62fa5a7b-6da3-4c4d-9111-ff453c85ce47"
      },
      "source": [
        "**e) realiza la gráfica de autocorrelación parcial (PACF) y comenta como se \n",
        "interpreta**"
      ]
    },
    {
      "cell_type": "code",
      "execution_count": null,
      "id": "e0bdf44a",
      "metadata": {
        "id": "e0bdf44a",
        "outputId": "a96fb2b5-7c73-407f-b17e-360cf164539b"
      },
      "outputs": [
        {
          "data": {
            "image/png": "[encoded data removed]",
            "text/plain": [
              "<Figure size 720x540 with 1 Axes>"
            ]
          },
          "metadata": {
            "needs_background": "light"
          },
          "output_type": "display_data"
        }
      ],
      "source": [
        "#grafica de autocorrelación parcial PACF\n",
        "plot_pacf(serie, zero=False, lags=30)\n",
        "plt.title('Función de autocorrelación parcial diferencia de la serie de tiempo')\n",
        "plt.show()"
      ]
    },
    {
      "cell_type": "markdown",
      "id": "65424e28",
      "metadata": {
        "id": "65424e28"
      },
      "source": [
        "La grafica de autocorrelacion parcial tiene el primer rezago significativo seguido de correlaciones no significativas."
      ]
    },
    {
      "cell_type": "markdown",
      "id": "c93c5f97",
      "metadata": {
        "id": "c93c5f97"
      },
      "source": [
        "**f) señala que forma tiene el proceso ¿AR(p), MA(q), ARMA(p,q)? justifica tu \n",
        "respuesta con base en la ACF y PACF**\n",
        "\n",
        "Visualizando la grafica de autocorrelacion y autocorrelacion parcial obserbamos un modelo ARMA, nuestro primer rezago en las dos graficas es significativo en 1, lo que nos da un modelo ARMA(1,1)"
      ]
    },
    {
      "cell_type": "markdown",
      "id": "e28d8d15-990a-4975-8c3f-fee04fb8d571",
      "metadata": {
        "id": "e28d8d15-990a-4975-8c3f-fee04fb8d571"
      },
      "source": [
        "**g) Prueba distintas combinaciones del proceso hasta un ARMA (4,4)**"
      ]
    },
    {
      "cell_type": "code",
      "execution_count": null,
      "id": "0b8d26cf",
      "metadata": {
        "id": "0b8d26cf",
        "outputId": "0235b189-f9c4-4435-a3ab-66e9055cd56c"
      },
      "outputs": [
        {
          "name": "stdout",
          "output_type": "stream",
          "text": [
            "AR: 0, MA: 0\n"
          ]
        },
        {
          "name": "stderr",
          "output_type": "stream",
          "text": [
            "D:\\Anaconda\\lib\\site-packages\\statsmodels\\tsa\\base\\tsa_model.py:578: ValueWarning: An unsupported index was provided and will be ignored when e.g. forecasting.\n",
            "  warnings.warn('An unsupported index was provided and will be'\n",
            "D:\\Anaconda\\lib\\site-packages\\statsmodels\\tsa\\base\\tsa_model.py:578: ValueWarning: An unsupported index was provided and will be ignored when e.g. forecasting.\n",
            "  warnings.warn('An unsupported index was provided and will be'\n",
            "D:\\Anaconda\\lib\\site-packages\\statsmodels\\tsa\\base\\tsa_model.py:578: ValueWarning: An unsupported index was provided and will be ignored when e.g. forecasting.\n",
            "  warnings.warn('An unsupported index was provided and will be'\n"
          ]
        },
        {
          "name": "stdout",
          "output_type": "stream",
          "text": [
            "AR: 0, MA: 1\n"
          ]
        },
        {
          "name": "stderr",
          "output_type": "stream",
          "text": [
            "D:\\Anaconda\\lib\\site-packages\\statsmodels\\tsa\\base\\tsa_model.py:578: ValueWarning: An unsupported index was provided and will be ignored when e.g. forecasting.\n",
            "  warnings.warn('An unsupported index was provided and will be'\n",
            "D:\\Anaconda\\lib\\site-packages\\statsmodels\\tsa\\base\\tsa_model.py:578: ValueWarning: An unsupported index was provided and will be ignored when e.g. forecasting.\n",
            "  warnings.warn('An unsupported index was provided and will be'\n",
            "D:\\Anaconda\\lib\\site-packages\\statsmodels\\tsa\\base\\tsa_model.py:578: ValueWarning: An unsupported index was provided and will be ignored when e.g. forecasting.\n",
            "  warnings.warn('An unsupported index was provided and will be'\n"
          ]
        },
        {
          "name": "stdout",
          "output_type": "stream",
          "text": [
            "AR: 0, MA: 2\n"
          ]
        },
        {
          "name": "stderr",
          "output_type": "stream",
          "text": [
            "D:\\Anaconda\\lib\\site-packages\\statsmodels\\tsa\\base\\tsa_model.py:578: ValueWarning: An unsupported index was provided and will be ignored when e.g. forecasting.\n",
            "  warnings.warn('An unsupported index was provided and will be'\n",
            "D:\\Anaconda\\lib\\site-packages\\statsmodels\\tsa\\base\\tsa_model.py:578: ValueWarning: An unsupported index was provided and will be ignored when e.g. forecasting.\n",
            "  warnings.warn('An unsupported index was provided and will be'\n",
            "D:\\Anaconda\\lib\\site-packages\\statsmodels\\tsa\\base\\tsa_model.py:578: ValueWarning: An unsupported index was provided and will be ignored when e.g. forecasting.\n",
            "  warnings.warn('An unsupported index was provided and will be'\n",
            "D:\\Anaconda\\lib\\site-packages\\statsmodels\\tsa\\statespace\\sarimax.py:978: UserWarning: Non-invertible starting MA parameters found. Using zeros as starting parameters.\n",
            "  warn('Non-invertible starting MA parameters found.'\n"
          ]
        },
        {
          "name": "stdout",
          "output_type": "stream",
          "text": [
            "AR: 0, MA: 3\n"
          ]
        },
        {
          "name": "stderr",
          "output_type": "stream",
          "text": [
            "D:\\Anaconda\\lib\\site-packages\\statsmodels\\tsa\\base\\tsa_model.py:578: ValueWarning: An unsupported index was provided and will be ignored when e.g. forecasting.\n",
            "  warnings.warn('An unsupported index was provided and will be'\n",
            "D:\\Anaconda\\lib\\site-packages\\statsmodels\\tsa\\base\\tsa_model.py:578: ValueWarning: An unsupported index was provided and will be ignored when e.g. forecasting.\n",
            "  warnings.warn('An unsupported index was provided and will be'\n",
            "D:\\Anaconda\\lib\\site-packages\\statsmodels\\tsa\\base\\tsa_model.py:578: ValueWarning: An unsupported index was provided and will be ignored when e.g. forecasting.\n",
            "  warnings.warn('An unsupported index was provided and will be'\n"
          ]
        },
        {
          "name": "stdout",
          "output_type": "stream",
          "text": [
            "AR: 0, MA: 4\n"
          ]
        },
        {
          "name": "stderr",
          "output_type": "stream",
          "text": [
            "D:\\Anaconda\\lib\\site-packages\\statsmodels\\tsa\\base\\tsa_model.py:578: ValueWarning: An unsupported index was provided and will be ignored when e.g. forecasting.\n",
            "  warnings.warn('An unsupported index was provided and will be'\n",
            "D:\\Anaconda\\lib\\site-packages\\statsmodels\\tsa\\base\\tsa_model.py:578: ValueWarning: An unsupported index was provided and will be ignored when e.g. forecasting.\n",
            "  warnings.warn('An unsupported index was provided and will be'\n",
            "D:\\Anaconda\\lib\\site-packages\\statsmodels\\tsa\\base\\tsa_model.py:578: ValueWarning: An unsupported index was provided and will be ignored when e.g. forecasting.\n",
            "  warnings.warn('An unsupported index was provided and will be'\n"
          ]
        },
        {
          "name": "stdout",
          "output_type": "stream",
          "text": [
            "AR: 0, MA: 5\n"
          ]
        },
        {
          "name": "stderr",
          "output_type": "stream",
          "text": [
            "D:\\Anaconda\\lib\\site-packages\\statsmodels\\tsa\\base\\tsa_model.py:578: ValueWarning: An unsupported index was provided and will be ignored when e.g. forecasting.\n",
            "  warnings.warn('An unsupported index was provided and will be'\n",
            "D:\\Anaconda\\lib\\site-packages\\statsmodels\\tsa\\base\\tsa_model.py:578: ValueWarning: An unsupported index was provided and will be ignored when e.g. forecasting.\n",
            "  warnings.warn('An unsupported index was provided and will be'\n",
            "D:\\Anaconda\\lib\\site-packages\\statsmodels\\tsa\\base\\tsa_model.py:578: ValueWarning: An unsupported index was provided and will be ignored when e.g. forecasting.\n",
            "  warnings.warn('An unsupported index was provided and will be'\n"
          ]
        },
        {
          "name": "stdout",
          "output_type": "stream",
          "text": [
            "AR: 0, MA: 6\n"
          ]
        },
        {
          "name": "stderr",
          "output_type": "stream",
          "text": [
            "D:\\Anaconda\\lib\\site-packages\\statsmodels\\tsa\\base\\tsa_model.py:578: ValueWarning: An unsupported index was provided and will be ignored when e.g. forecasting.\n",
            "  warnings.warn('An unsupported index was provided and will be'\n",
            "D:\\Anaconda\\lib\\site-packages\\statsmodels\\tsa\\base\\tsa_model.py:578: ValueWarning: An unsupported index was provided and will be ignored when e.g. forecasting.\n",
            "  warnings.warn('An unsupported index was provided and will be'\n",
            "D:\\Anaconda\\lib\\site-packages\\statsmodels\\tsa\\base\\tsa_model.py:578: ValueWarning: An unsupported index was provided and will be ignored when e.g. forecasting.\n",
            "  warnings.warn('An unsupported index was provided and will be'\n"
          ]
        },
        {
          "name": "stdout",
          "output_type": "stream",
          "text": [
            "AR: 1, MA: 0\n",
            "AR: 1, MA: 1\n"
          ]
        },
        {
          "name": "stderr",
          "output_type": "stream",
          "text": [
            "D:\\Anaconda\\lib\\site-packages\\statsmodels\\tsa\\base\\tsa_model.py:578: ValueWarning: An unsupported index was provided and will be ignored when e.g. forecasting.\n",
            "  warnings.warn('An unsupported index was provided and will be'\n",
            "D:\\Anaconda\\lib\\site-packages\\statsmodels\\tsa\\base\\tsa_model.py:578: ValueWarning: An unsupported index was provided and will be ignored when e.g. forecasting.\n",
            "  warnings.warn('An unsupported index was provided and will be'\n",
            "D:\\Anaconda\\lib\\site-packages\\statsmodels\\tsa\\base\\tsa_model.py:578: ValueWarning: An unsupported index was provided and will be ignored when e.g. forecasting.\n",
            "  warnings.warn('An unsupported index was provided and will be'\n",
            "D:\\Anaconda\\lib\\site-packages\\statsmodels\\tsa\\base\\tsa_model.py:578: ValueWarning: An unsupported index was provided and will be ignored when e.g. forecasting.\n",
            "  warnings.warn('An unsupported index was provided and will be'\n",
            "D:\\Anaconda\\lib\\site-packages\\statsmodels\\tsa\\base\\tsa_model.py:578: ValueWarning: An unsupported index was provided and will be ignored when e.g. forecasting.\n",
            "  warnings.warn('An unsupported index was provided and will be'\n",
            "D:\\Anaconda\\lib\\site-packages\\statsmodels\\tsa\\base\\tsa_model.py:578: ValueWarning: An unsupported index was provided and will be ignored when e.g. forecasting.\n",
            "  warnings.warn('An unsupported index was provided and will be'\n"
          ]
        },
        {
          "name": "stdout",
          "output_type": "stream",
          "text": [
            "AR: 1, MA: 2\n"
          ]
        },
        {
          "name": "stderr",
          "output_type": "stream",
          "text": [
            "D:\\Anaconda\\lib\\site-packages\\statsmodels\\tsa\\base\\tsa_model.py:578: ValueWarning: An unsupported index was provided and will be ignored when e.g. forecasting.\n",
            "  warnings.warn('An unsupported index was provided and will be'\n",
            "D:\\Anaconda\\lib\\site-packages\\statsmodels\\tsa\\base\\tsa_model.py:578: ValueWarning: An unsupported index was provided and will be ignored when e.g. forecasting.\n",
            "  warnings.warn('An unsupported index was provided and will be'\n",
            "D:\\Anaconda\\lib\\site-packages\\statsmodels\\tsa\\base\\tsa_model.py:578: ValueWarning: An unsupported index was provided and will be ignored when e.g. forecasting.\n",
            "  warnings.warn('An unsupported index was provided and will be'\n"
          ]
        },
        {
          "name": "stdout",
          "output_type": "stream",
          "text": [
            "AR: 1, MA: 3\n"
          ]
        },
        {
          "name": "stderr",
          "output_type": "stream",
          "text": [
            "D:\\Anaconda\\lib\\site-packages\\statsmodels\\tsa\\base\\tsa_model.py:578: ValueWarning: An unsupported index was provided and will be ignored when e.g. forecasting.\n",
            "  warnings.warn('An unsupported index was provided and will be'\n",
            "D:\\Anaconda\\lib\\site-packages\\statsmodels\\tsa\\base\\tsa_model.py:578: ValueWarning: An unsupported index was provided and will be ignored when e.g. forecasting.\n",
            "  warnings.warn('An unsupported index was provided and will be'\n",
            "D:\\Anaconda\\lib\\site-packages\\statsmodels\\tsa\\base\\tsa_model.py:578: ValueWarning: An unsupported index was provided and will be ignored when e.g. forecasting.\n",
            "  warnings.warn('An unsupported index was provided and will be'\n"
          ]
        },
        {
          "name": "stdout",
          "output_type": "stream",
          "text": [
            "AR: 1, MA: 4\n"
          ]
        },
        {
          "name": "stderr",
          "output_type": "stream",
          "text": [
            "D:\\Anaconda\\lib\\site-packages\\statsmodels\\tsa\\base\\tsa_model.py:578: ValueWarning: An unsupported index was provided and will be ignored when e.g. forecasting.\n",
            "  warnings.warn('An unsupported index was provided and will be'\n",
            "D:\\Anaconda\\lib\\site-packages\\statsmodels\\tsa\\base\\tsa_model.py:578: ValueWarning: An unsupported index was provided and will be ignored when e.g. forecasting.\n",
            "  warnings.warn('An unsupported index was provided and will be'\n",
            "D:\\Anaconda\\lib\\site-packages\\statsmodels\\tsa\\base\\tsa_model.py:578: ValueWarning: An unsupported index was provided and will be ignored when e.g. forecasting.\n",
            "  warnings.warn('An unsupported index was provided and will be'\n"
          ]
        },
        {
          "name": "stdout",
          "output_type": "stream",
          "text": [
            "AR: 1, MA: 5\n"
          ]
        },
        {
          "name": "stderr",
          "output_type": "stream",
          "text": [
            "D:\\Anaconda\\lib\\site-packages\\statsmodels\\tsa\\base\\tsa_model.py:578: ValueWarning: An unsupported index was provided and will be ignored when e.g. forecasting.\n",
            "  warnings.warn('An unsupported index was provided and will be'\n",
            "D:\\Anaconda\\lib\\site-packages\\statsmodels\\tsa\\base\\tsa_model.py:578: ValueWarning: An unsupported index was provided and will be ignored when e.g. forecasting.\n",
            "  warnings.warn('An unsupported index was provided and will be'\n",
            "D:\\Anaconda\\lib\\site-packages\\statsmodels\\tsa\\base\\tsa_model.py:578: ValueWarning: An unsupported index was provided and will be ignored when e.g. forecasting.\n",
            "  warnings.warn('An unsupported index was provided and will be'\n"
          ]
        },
        {
          "name": "stdout",
          "output_type": "stream",
          "text": [
            "AR: 1, MA: 6\n"
          ]
        },
        {
          "name": "stderr",
          "output_type": "stream",
          "text": [
            "D:\\Anaconda\\lib\\site-packages\\statsmodels\\tsa\\base\\tsa_model.py:578: ValueWarning: An unsupported index was provided and will be ignored when e.g. forecasting.\n",
            "  warnings.warn('An unsupported index was provided and will be'\n",
            "D:\\Anaconda\\lib\\site-packages\\statsmodels\\tsa\\base\\tsa_model.py:578: ValueWarning: An unsupported index was provided and will be ignored when e.g. forecasting.\n",
            "  warnings.warn('An unsupported index was provided and will be'\n",
            "D:\\Anaconda\\lib\\site-packages\\statsmodels\\tsa\\base\\tsa_model.py:578: ValueWarning: An unsupported index was provided and will be ignored when e.g. forecasting.\n",
            "  warnings.warn('An unsupported index was provided and will be'\n"
          ]
        },
        {
          "name": "stdout",
          "output_type": "stream",
          "text": [
            "AR: 2, MA: 0\n"
          ]
        },
        {
          "name": "stderr",
          "output_type": "stream",
          "text": [
            "D:\\Anaconda\\lib\\site-packages\\statsmodels\\tsa\\base\\tsa_model.py:578: ValueWarning: An unsupported index was provided and will be ignored when e.g. forecasting.\n",
            "  warnings.warn('An unsupported index was provided and will be'\n",
            "D:\\Anaconda\\lib\\site-packages\\statsmodels\\tsa\\base\\tsa_model.py:578: ValueWarning: An unsupported index was provided and will be ignored when e.g. forecasting.\n",
            "  warnings.warn('An unsupported index was provided and will be'\n",
            "D:\\Anaconda\\lib\\site-packages\\statsmodels\\tsa\\base\\tsa_model.py:578: ValueWarning: An unsupported index was provided and will be ignored when e.g. forecasting.\n",
            "  warnings.warn('An unsupported index was provided and will be'\n"
          ]
        },
        {
          "name": "stdout",
          "output_type": "stream",
          "text": [
            "AR: 2, MA: 1\n"
          ]
        },
        {
          "name": "stderr",
          "output_type": "stream",
          "text": [
            "D:\\Anaconda\\lib\\site-packages\\statsmodels\\tsa\\base\\tsa_model.py:578: ValueWarning: An unsupported index was provided and will be ignored when e.g. forecasting.\n",
            "  warnings.warn('An unsupported index was provided and will be'\n",
            "D:\\Anaconda\\lib\\site-packages\\statsmodels\\tsa\\base\\tsa_model.py:578: ValueWarning: An unsupported index was provided and will be ignored when e.g. forecasting.\n",
            "  warnings.warn('An unsupported index was provided and will be'\n",
            "D:\\Anaconda\\lib\\site-packages\\statsmodels\\tsa\\base\\tsa_model.py:578: ValueWarning: An unsupported index was provided and will be ignored when e.g. forecasting.\n",
            "  warnings.warn('An unsupported index was provided and will be'\n",
            "D:\\Anaconda\\lib\\site-packages\\statsmodels\\tsa\\statespace\\sarimax.py:966: UserWarning: Non-stationary starting autoregressive parameters found. Using zeros as starting parameters.\n",
            "  warn('Non-stationary starting autoregressive parameters'\n"
          ]
        },
        {
          "name": "stdout",
          "output_type": "stream",
          "text": [
            "AR: 2, MA: 2\n"
          ]
        },
        {
          "name": "stderr",
          "output_type": "stream",
          "text": [
            "D:\\Anaconda\\lib\\site-packages\\statsmodels\\tsa\\base\\tsa_model.py:578: ValueWarning: An unsupported index was provided and will be ignored when e.g. forecasting.\n",
            "  warnings.warn('An unsupported index was provided and will be'\n",
            "D:\\Anaconda\\lib\\site-packages\\statsmodels\\tsa\\base\\tsa_model.py:578: ValueWarning: An unsupported index was provided and will be ignored when e.g. forecasting.\n",
            "  warnings.warn('An unsupported index was provided and will be'\n",
            "D:\\Anaconda\\lib\\site-packages\\statsmodels\\tsa\\base\\tsa_model.py:578: ValueWarning: An unsupported index was provided and will be ignored when e.g. forecasting.\n",
            "  warnings.warn('An unsupported index was provided and will be'\n"
          ]
        },
        {
          "name": "stdout",
          "output_type": "stream",
          "text": [
            "AR: 2, MA: 3\n"
          ]
        },
        {
          "name": "stderr",
          "output_type": "stream",
          "text": [
            "D:\\Anaconda\\lib\\site-packages\\statsmodels\\tsa\\base\\tsa_model.py:578: ValueWarning: An unsupported index was provided and will be ignored when e.g. forecasting.\n",
            "  warnings.warn('An unsupported index was provided and will be'\n",
            "D:\\Anaconda\\lib\\site-packages\\statsmodels\\tsa\\base\\tsa_model.py:578: ValueWarning: An unsupported index was provided and will be ignored when e.g. forecasting.\n",
            "  warnings.warn('An unsupported index was provided and will be'\n",
            "D:\\Anaconda\\lib\\site-packages\\statsmodels\\tsa\\base\\tsa_model.py:578: ValueWarning: An unsupported index was provided and will be ignored when e.g. forecasting.\n",
            "  warnings.warn('An unsupported index was provided and will be'\n"
          ]
        },
        {
          "name": "stdout",
          "output_type": "stream",
          "text": [
            "AR: 2, MA: 4\n"
          ]
        },
        {
          "name": "stderr",
          "output_type": "stream",
          "text": [
            "D:\\Anaconda\\lib\\site-packages\\statsmodels\\tsa\\base\\tsa_model.py:578: ValueWarning: An unsupported index was provided and will be ignored when e.g. forecasting.\n",
            "  warnings.warn('An unsupported index was provided and will be'\n",
            "D:\\Anaconda\\lib\\site-packages\\statsmodels\\tsa\\base\\tsa_model.py:578: ValueWarning: An unsupported index was provided and will be ignored when e.g. forecasting.\n",
            "  warnings.warn('An unsupported index was provided and will be'\n",
            "D:\\Anaconda\\lib\\site-packages\\statsmodels\\tsa\\base\\tsa_model.py:578: ValueWarning: An unsupported index was provided and will be ignored when e.g. forecasting.\n",
            "  warnings.warn('An unsupported index was provided and will be'\n"
          ]
        },
        {
          "name": "stdout",
          "output_type": "stream",
          "text": [
            "AR: 2, MA: 5\n"
          ]
        },
        {
          "name": "stderr",
          "output_type": "stream",
          "text": [
            "D:\\Anaconda\\lib\\site-packages\\statsmodels\\tsa\\base\\tsa_model.py:578: ValueWarning: An unsupported index was provided and will be ignored when e.g. forecasting.\n",
            "  warnings.warn('An unsupported index was provided and will be'\n",
            "D:\\Anaconda\\lib\\site-packages\\statsmodels\\tsa\\base\\tsa_model.py:578: ValueWarning: An unsupported index was provided and will be ignored when e.g. forecasting.\n",
            "  warnings.warn('An unsupported index was provided and will be'\n",
            "D:\\Anaconda\\lib\\site-packages\\statsmodels\\tsa\\base\\tsa_model.py:578: ValueWarning: An unsupported index was provided and will be ignored when e.g. forecasting.\n",
            "  warnings.warn('An unsupported index was provided and will be'\n"
          ]
        },
        {
          "name": "stdout",
          "output_type": "stream",
          "text": [
            "AR: 2, MA: 6\n"
          ]
        },
        {
          "name": "stderr",
          "output_type": "stream",
          "text": [
            "D:\\Anaconda\\lib\\site-packages\\statsmodels\\tsa\\base\\tsa_model.py:578: ValueWarning: An unsupported index was provided and will be ignored when e.g. forecasting.\n",
            "  warnings.warn('An unsupported index was provided and will be'\n",
            "D:\\Anaconda\\lib\\site-packages\\statsmodels\\tsa\\base\\tsa_model.py:578: ValueWarning: An unsupported index was provided and will be ignored when e.g. forecasting.\n",
            "  warnings.warn('An unsupported index was provided and will be'\n",
            "D:\\Anaconda\\lib\\site-packages\\statsmodels\\tsa\\base\\tsa_model.py:578: ValueWarning: An unsupported index was provided and will be ignored when e.g. forecasting.\n",
            "  warnings.warn('An unsupported index was provided and will be'\n"
          ]
        },
        {
          "name": "stdout",
          "output_type": "stream",
          "text": [
            "AR: 3, MA: 0\n"
          ]
        },
        {
          "name": "stderr",
          "output_type": "stream",
          "text": [
            "D:\\Anaconda\\lib\\site-packages\\statsmodels\\tsa\\base\\tsa_model.py:578: ValueWarning: An unsupported index was provided and will be ignored when e.g. forecasting.\n",
            "  warnings.warn('An unsupported index was provided and will be'\n",
            "D:\\Anaconda\\lib\\site-packages\\statsmodels\\tsa\\base\\tsa_model.py:578: ValueWarning: An unsupported index was provided and will be ignored when e.g. forecasting.\n",
            "  warnings.warn('An unsupported index was provided and will be'\n",
            "D:\\Anaconda\\lib\\site-packages\\statsmodels\\tsa\\base\\tsa_model.py:578: ValueWarning: An unsupported index was provided and will be ignored when e.g. forecasting.\n",
            "  warnings.warn('An unsupported index was provided and will be'\n"
          ]
        },
        {
          "name": "stdout",
          "output_type": "stream",
          "text": [
            "AR: 3, MA: 1\n"
          ]
        },
        {
          "name": "stderr",
          "output_type": "stream",
          "text": [
            "D:\\Anaconda\\lib\\site-packages\\statsmodels\\tsa\\base\\tsa_model.py:578: ValueWarning: An unsupported index was provided and will be ignored when e.g. forecasting.\n",
            "  warnings.warn('An unsupported index was provided and will be'\n",
            "D:\\Anaconda\\lib\\site-packages\\statsmodels\\tsa\\base\\tsa_model.py:578: ValueWarning: An unsupported index was provided and will be ignored when e.g. forecasting.\n",
            "  warnings.warn('An unsupported index was provided and will be'\n",
            "D:\\Anaconda\\lib\\site-packages\\statsmodels\\tsa\\base\\tsa_model.py:578: ValueWarning: An unsupported index was provided and will be ignored when e.g. forecasting.\n",
            "  warnings.warn('An unsupported index was provided and will be'\n"
          ]
        },
        {
          "name": "stdout",
          "output_type": "stream",
          "text": [
            "AR: 3, MA: 2\n"
          ]
        },
        {
          "name": "stderr",
          "output_type": "stream",
          "text": [
            "D:\\Anaconda\\lib\\site-packages\\statsmodels\\tsa\\base\\tsa_model.py:578: ValueWarning: An unsupported index was provided and will be ignored when e.g. forecasting.\n",
            "  warnings.warn('An unsupported index was provided and will be'\n",
            "D:\\Anaconda\\lib\\site-packages\\statsmodels\\tsa\\base\\tsa_model.py:578: ValueWarning: An unsupported index was provided and will be ignored when e.g. forecasting.\n",
            "  warnings.warn('An unsupported index was provided and will be'\n",
            "D:\\Anaconda\\lib\\site-packages\\statsmodels\\tsa\\base\\tsa_model.py:578: ValueWarning: An unsupported index was provided and will be ignored when e.g. forecasting.\n",
            "  warnings.warn('An unsupported index was provided and will be'\n"
          ]
        },
        {
          "name": "stdout",
          "output_type": "stream",
          "text": [
            "AR: 3, MA: 3\n"
          ]
        },
        {
          "name": "stderr",
          "output_type": "stream",
          "text": [
            "D:\\Anaconda\\lib\\site-packages\\statsmodels\\tsa\\base\\tsa_model.py:578: ValueWarning: An unsupported index was provided and will be ignored when e.g. forecasting.\n",
            "  warnings.warn('An unsupported index was provided and will be'\n",
            "D:\\Anaconda\\lib\\site-packages\\statsmodels\\tsa\\base\\tsa_model.py:578: ValueWarning: An unsupported index was provided and will be ignored when e.g. forecasting.\n",
            "  warnings.warn('An unsupported index was provided and will be'\n",
            "D:\\Anaconda\\lib\\site-packages\\statsmodels\\tsa\\base\\tsa_model.py:578: ValueWarning: An unsupported index was provided and will be ignored when e.g. forecasting.\n",
            "  warnings.warn('An unsupported index was provided and will be'\n"
          ]
        },
        {
          "name": "stdout",
          "output_type": "stream",
          "text": [
            "AR: 3, MA: 4\n"
          ]
        },
        {
          "name": "stderr",
          "output_type": "stream",
          "text": [
            "D:\\Anaconda\\lib\\site-packages\\statsmodels\\tsa\\base\\tsa_model.py:578: ValueWarning: An unsupported index was provided and will be ignored when e.g. forecasting.\n",
            "  warnings.warn('An unsupported index was provided and will be'\n",
            "D:\\Anaconda\\lib\\site-packages\\statsmodels\\tsa\\base\\tsa_model.py:578: ValueWarning: An unsupported index was provided and will be ignored when e.g. forecasting.\n",
            "  warnings.warn('An unsupported index was provided and will be'\n",
            "D:\\Anaconda\\lib\\site-packages\\statsmodels\\tsa\\base\\tsa_model.py:578: ValueWarning: An unsupported index was provided and will be ignored when e.g. forecasting.\n",
            "  warnings.warn('An unsupported index was provided and will be'\n"
          ]
        },
        {
          "name": "stdout",
          "output_type": "stream",
          "text": [
            "AR: 3, MA: 5\n"
          ]
        },
        {
          "name": "stderr",
          "output_type": "stream",
          "text": [
            "D:\\Anaconda\\lib\\site-packages\\statsmodels\\tsa\\base\\tsa_model.py:578: ValueWarning: An unsupported index was provided and will be ignored when e.g. forecasting.\n",
            "  warnings.warn('An unsupported index was provided and will be'\n",
            "D:\\Anaconda\\lib\\site-packages\\statsmodels\\tsa\\base\\tsa_model.py:578: ValueWarning: An unsupported index was provided and will be ignored when e.g. forecasting.\n",
            "  warnings.warn('An unsupported index was provided and will be'\n",
            "D:\\Anaconda\\lib\\site-packages\\statsmodels\\tsa\\base\\tsa_model.py:578: ValueWarning: An unsupported index was provided and will be ignored when e.g. forecasting.\n",
            "  warnings.warn('An unsupported index was provided and will be'\n",
            "D:\\Anaconda\\lib\\site-packages\\statsmodels\\base\\model.py:566: ConvergenceWarning: Maximum Likelihood optimization failed to converge. Check mle_retvals\n",
            "  warnings.warn(\"Maximum Likelihood optimization failed to \"\n",
            "D:\\Anaconda\\lib\\site-packages\\statsmodels\\tsa\\base\\tsa_model.py:578: ValueWarning: An unsupported index was provided and will be ignored when e.g. forecasting.\n",
            "  warnings.warn('An unsupported index was provided and will be'\n",
            "D:\\Anaconda\\lib\\site-packages\\statsmodels\\tsa\\base\\tsa_model.py:578: ValueWarning: An unsupported index was provided and will be ignored when e.g. forecasting.\n",
            "  warnings.warn('An unsupported index was provided and will be'\n",
            "D:\\Anaconda\\lib\\site-packages\\statsmodels\\tsa\\base\\tsa_model.py:578: ValueWarning: An unsupported index was provided and will be ignored when e.g. forecasting.\n",
            "  warnings.warn('An unsupported index was provided and will be'\n"
          ]
        },
        {
          "name": "stdout",
          "output_type": "stream",
          "text": [
            "AR: 3, MA: 6\n",
            "AR: 4, MA: 0\n"
          ]
        },
        {
          "name": "stderr",
          "output_type": "stream",
          "text": [
            "D:\\Anaconda\\lib\\site-packages\\statsmodels\\tsa\\base\\tsa_model.py:578: ValueWarning: An unsupported index was provided and will be ignored when e.g. forecasting.\n",
            "  warnings.warn('An unsupported index was provided and will be'\n",
            "D:\\Anaconda\\lib\\site-packages\\statsmodels\\tsa\\base\\tsa_model.py:578: ValueWarning: An unsupported index was provided and will be ignored when e.g. forecasting.\n",
            "  warnings.warn('An unsupported index was provided and will be'\n",
            "D:\\Anaconda\\lib\\site-packages\\statsmodels\\tsa\\base\\tsa_model.py:578: ValueWarning: An unsupported index was provided and will be ignored when e.g. forecasting.\n",
            "  warnings.warn('An unsupported index was provided and will be'\n"
          ]
        },
        {
          "name": "stdout",
          "output_type": "stream",
          "text": [
            "AR: 4, MA: 1\n"
          ]
        },
        {
          "name": "stderr",
          "output_type": "stream",
          "text": [
            "D:\\Anaconda\\lib\\site-packages\\statsmodels\\tsa\\base\\tsa_model.py:578: ValueWarning: An unsupported index was provided and will be ignored when e.g. forecasting.\n",
            "  warnings.warn('An unsupported index was provided and will be'\n",
            "D:\\Anaconda\\lib\\site-packages\\statsmodels\\tsa\\base\\tsa_model.py:578: ValueWarning: An unsupported index was provided and will be ignored when e.g. forecasting.\n",
            "  warnings.warn('An unsupported index was provided and will be'\n",
            "D:\\Anaconda\\lib\\site-packages\\statsmodels\\tsa\\base\\tsa_model.py:578: ValueWarning: An unsupported index was provided and will be ignored when e.g. forecasting.\n",
            "  warnings.warn('An unsupported index was provided and will be'\n"
          ]
        },
        {
          "name": "stdout",
          "output_type": "stream",
          "text": [
            "AR: 4, MA: 2\n"
          ]
        },
        {
          "name": "stderr",
          "output_type": "stream",
          "text": [
            "D:\\Anaconda\\lib\\site-packages\\statsmodels\\tsa\\base\\tsa_model.py:578: ValueWarning: An unsupported index was provided and will be ignored when e.g. forecasting.\n",
            "  warnings.warn('An unsupported index was provided and will be'\n",
            "D:\\Anaconda\\lib\\site-packages\\statsmodels\\tsa\\base\\tsa_model.py:578: ValueWarning: An unsupported index was provided and will be ignored when e.g. forecasting.\n",
            "  warnings.warn('An unsupported index was provided and will be'\n",
            "D:\\Anaconda\\lib\\site-packages\\statsmodels\\tsa\\base\\tsa_model.py:578: ValueWarning: An unsupported index was provided and will be ignored when e.g. forecasting.\n",
            "  warnings.warn('An unsupported index was provided and will be'\n"
          ]
        },
        {
          "name": "stdout",
          "output_type": "stream",
          "text": [
            "AR: 4, MA: 3\n"
          ]
        },
        {
          "name": "stderr",
          "output_type": "stream",
          "text": [
            "D:\\Anaconda\\lib\\site-packages\\statsmodels\\tsa\\base\\tsa_model.py:578: ValueWarning: An unsupported index was provided and will be ignored when e.g. forecasting.\n",
            "  warnings.warn('An unsupported index was provided and will be'\n",
            "D:\\Anaconda\\lib\\site-packages\\statsmodels\\tsa\\base\\tsa_model.py:578: ValueWarning: An unsupported index was provided and will be ignored when e.g. forecasting.\n",
            "  warnings.warn('An unsupported index was provided and will be'\n",
            "D:\\Anaconda\\lib\\site-packages\\statsmodels\\tsa\\base\\tsa_model.py:578: ValueWarning: An unsupported index was provided and will be ignored when e.g. forecasting.\n",
            "  warnings.warn('An unsupported index was provided and will be'\n"
          ]
        },
        {
          "name": "stdout",
          "output_type": "stream",
          "text": [
            "AR: 4, MA: 4\n"
          ]
        },
        {
          "name": "stderr",
          "output_type": "stream",
          "text": [
            "D:\\Anaconda\\lib\\site-packages\\statsmodels\\tsa\\base\\tsa_model.py:578: ValueWarning: An unsupported index was provided and will be ignored when e.g. forecasting.\n",
            "  warnings.warn('An unsupported index was provided and will be'\n",
            "D:\\Anaconda\\lib\\site-packages\\statsmodels\\tsa\\base\\tsa_model.py:578: ValueWarning: An unsupported index was provided and will be ignored when e.g. forecasting.\n",
            "  warnings.warn('An unsupported index was provided and will be'\n",
            "D:\\Anaconda\\lib\\site-packages\\statsmodels\\tsa\\base\\tsa_model.py:578: ValueWarning: An unsupported index was provided and will be ignored when e.g. forecasting.\n",
            "  warnings.warn('An unsupported index was provided and will be'\n"
          ]
        },
        {
          "name": "stdout",
          "output_type": "stream",
          "text": [
            "AR: 4, MA: 5\n"
          ]
        },
        {
          "name": "stderr",
          "output_type": "stream",
          "text": [
            "D:\\Anaconda\\lib\\site-packages\\statsmodels\\tsa\\base\\tsa_model.py:578: ValueWarning: An unsupported index was provided and will be ignored when e.g. forecasting.\n",
            "  warnings.warn('An unsupported index was provided and will be'\n",
            "D:\\Anaconda\\lib\\site-packages\\statsmodels\\tsa\\base\\tsa_model.py:578: ValueWarning: An unsupported index was provided and will be ignored when e.g. forecasting.\n",
            "  warnings.warn('An unsupported index was provided and will be'\n",
            "D:\\Anaconda\\lib\\site-packages\\statsmodels\\tsa\\base\\tsa_model.py:578: ValueWarning: An unsupported index was provided and will be ignored when e.g. forecasting.\n",
            "  warnings.warn('An unsupported index was provided and will be'\n",
            "D:\\Anaconda\\lib\\site-packages\\statsmodels\\base\\model.py:566: ConvergenceWarning: Maximum Likelihood optimization failed to converge. Check mle_retvals\n",
            "  warnings.warn(\"Maximum Likelihood optimization failed to \"\n",
            "D:\\Anaconda\\lib\\site-packages\\statsmodels\\tsa\\base\\tsa_model.py:578: ValueWarning: An unsupported index was provided and will be ignored when e.g. forecasting.\n",
            "  warnings.warn('An unsupported index was provided and will be'\n",
            "D:\\Anaconda\\lib\\site-packages\\statsmodels\\tsa\\base\\tsa_model.py:578: ValueWarning: An unsupported index was provided and will be ignored when e.g. forecasting.\n",
            "  warnings.warn('An unsupported index was provided and will be'\n",
            "D:\\Anaconda\\lib\\site-packages\\statsmodels\\tsa\\base\\tsa_model.py:578: ValueWarning: An unsupported index was provided and will be ignored when e.g. forecasting.\n",
            "  warnings.warn('An unsupported index was provided and will be'\n"
          ]
        },
        {
          "name": "stdout",
          "output_type": "stream",
          "text": [
            "AR: 4, MA: 6\n"
          ]
        },
        {
          "name": "stderr",
          "output_type": "stream",
          "text": [
            "D:\\Anaconda\\lib\\site-packages\\statsmodels\\base\\model.py:566: ConvergenceWarning: Maximum Likelihood optimization failed to converge. Check mle_retvals\n",
            "  warnings.warn(\"Maximum Likelihood optimization failed to \"\n",
            "D:\\Anaconda\\lib\\site-packages\\statsmodels\\tsa\\base\\tsa_model.py:578: ValueWarning: An unsupported index was provided and will be ignored when e.g. forecasting.\n",
            "  warnings.warn('An unsupported index was provided and will be'\n",
            "D:\\Anaconda\\lib\\site-packages\\statsmodels\\tsa\\base\\tsa_model.py:578: ValueWarning: An unsupported index was provided and will be ignored when e.g. forecasting.\n",
            "  warnings.warn('An unsupported index was provided and will be'\n",
            "D:\\Anaconda\\lib\\site-packages\\statsmodels\\tsa\\base\\tsa_model.py:578: ValueWarning: An unsupported index was provided and will be ignored when e.g. forecasting.\n",
            "  warnings.warn('An unsupported index was provided and will be'\n"
          ]
        },
        {
          "name": "stdout",
          "output_type": "stream",
          "text": [
            "AR: 5, MA: 0\n",
            "AR: 5, MA: 1\n"
          ]
        },
        {
          "name": "stderr",
          "output_type": "stream",
          "text": [
            "D:\\Anaconda\\lib\\site-packages\\statsmodels\\tsa\\base\\tsa_model.py:578: ValueWarning: An unsupported index was provided and will be ignored when e.g. forecasting.\n",
            "  warnings.warn('An unsupported index was provided and will be'\n",
            "D:\\Anaconda\\lib\\site-packages\\statsmodels\\tsa\\base\\tsa_model.py:578: ValueWarning: An unsupported index was provided and will be ignored when e.g. forecasting.\n",
            "  warnings.warn('An unsupported index was provided and will be'\n",
            "D:\\Anaconda\\lib\\site-packages\\statsmodels\\tsa\\base\\tsa_model.py:578: ValueWarning: An unsupported index was provided and will be ignored when e.g. forecasting.\n",
            "  warnings.warn('An unsupported index was provided and will be'\n"
          ]
        },
        {
          "name": "stdout",
          "output_type": "stream",
          "text": [
            "AR: 5, MA: 2\n"
          ]
        },
        {
          "name": "stderr",
          "output_type": "stream",
          "text": [
            "D:\\Anaconda\\lib\\site-packages\\statsmodels\\tsa\\base\\tsa_model.py:578: ValueWarning: An unsupported index was provided and will be ignored when e.g. forecasting.\n",
            "  warnings.warn('An unsupported index was provided and will be'\n",
            "D:\\Anaconda\\lib\\site-packages\\statsmodels\\tsa\\base\\tsa_model.py:578: ValueWarning: An unsupported index was provided and will be ignored when e.g. forecasting.\n",
            "  warnings.warn('An unsupported index was provided and will be'\n",
            "D:\\Anaconda\\lib\\site-packages\\statsmodels\\tsa\\base\\tsa_model.py:578: ValueWarning: An unsupported index was provided and will be ignored when e.g. forecasting.\n",
            "  warnings.warn('An unsupported index was provided and will be'\n"
          ]
        },
        {
          "name": "stdout",
          "output_type": "stream",
          "text": [
            "AR: 5, MA: 3\n"
          ]
        },
        {
          "name": "stderr",
          "output_type": "stream",
          "text": [
            "D:\\Anaconda\\lib\\site-packages\\statsmodels\\tsa\\base\\tsa_model.py:578: ValueWarning: An unsupported index was provided and will be ignored when e.g. forecasting.\n",
            "  warnings.warn('An unsupported index was provided and will be'\n",
            "D:\\Anaconda\\lib\\site-packages\\statsmodels\\tsa\\base\\tsa_model.py:578: ValueWarning: An unsupported index was provided and will be ignored when e.g. forecasting.\n",
            "  warnings.warn('An unsupported index was provided and will be'\n",
            "D:\\Anaconda\\lib\\site-packages\\statsmodels\\tsa\\base\\tsa_model.py:578: ValueWarning: An unsupported index was provided and will be ignored when e.g. forecasting.\n",
            "  warnings.warn('An unsupported index was provided and will be'\n"
          ]
        },
        {
          "name": "stdout",
          "output_type": "stream",
          "text": [
            "AR: 5, MA: 4\n"
          ]
        },
        {
          "name": "stderr",
          "output_type": "stream",
          "text": [
            "D:\\Anaconda\\lib\\site-packages\\statsmodels\\tsa\\base\\tsa_model.py:578: ValueWarning: An unsupported index was provided and will be ignored when e.g. forecasting.\n",
            "  warnings.warn('An unsupported index was provided and will be'\n",
            "D:\\Anaconda\\lib\\site-packages\\statsmodels\\tsa\\base\\tsa_model.py:578: ValueWarning: An unsupported index was provided and will be ignored when e.g. forecasting.\n",
            "  warnings.warn('An unsupported index was provided and will be'\n",
            "D:\\Anaconda\\lib\\site-packages\\statsmodels\\tsa\\base\\tsa_model.py:578: ValueWarning: An unsupported index was provided and will be ignored when e.g. forecasting.\n",
            "  warnings.warn('An unsupported index was provided and will be'\n"
          ]
        },
        {
          "name": "stdout",
          "output_type": "stream",
          "text": [
            "AR: 5, MA: 5\n"
          ]
        },
        {
          "name": "stderr",
          "output_type": "stream",
          "text": [
            "D:\\Anaconda\\lib\\site-packages\\statsmodels\\tsa\\base\\tsa_model.py:578: ValueWarning: An unsupported index was provided and will be ignored when e.g. forecasting.\n",
            "  warnings.warn('An unsupported index was provided and will be'\n",
            "D:\\Anaconda\\lib\\site-packages\\statsmodels\\tsa\\base\\tsa_model.py:578: ValueWarning: An unsupported index was provided and will be ignored when e.g. forecasting.\n",
            "  warnings.warn('An unsupported index was provided and will be'\n",
            "D:\\Anaconda\\lib\\site-packages\\statsmodels\\tsa\\base\\tsa_model.py:578: ValueWarning: An unsupported index was provided and will be ignored when e.g. forecasting.\n",
            "  warnings.warn('An unsupported index was provided and will be'\n",
            "D:\\Anaconda\\lib\\site-packages\\statsmodels\\base\\model.py:566: ConvergenceWarning: Maximum Likelihood optimization failed to converge. Check mle_retvals\n",
            "  warnings.warn(\"Maximum Likelihood optimization failed to \"\n",
            "D:\\Anaconda\\lib\\site-packages\\statsmodels\\tsa\\base\\tsa_model.py:578: ValueWarning: An unsupported index was provided and will be ignored when e.g. forecasting.\n",
            "  warnings.warn('An unsupported index was provided and will be'\n",
            "D:\\Anaconda\\lib\\site-packages\\statsmodels\\tsa\\base\\tsa_model.py:578: ValueWarning: An unsupported index was provided and will be ignored when e.g. forecasting.\n",
            "  warnings.warn('An unsupported index was provided and will be'\n",
            "D:\\Anaconda\\lib\\site-packages\\statsmodels\\tsa\\base\\tsa_model.py:578: ValueWarning: An unsupported index was provided and will be ignored when e.g. forecasting.\n",
            "  warnings.warn('An unsupported index was provided and will be'\n"
          ]
        },
        {
          "name": "stdout",
          "output_type": "stream",
          "text": [
            "AR: 5, MA: 6\n"
          ]
        },
        {
          "name": "stderr",
          "output_type": "stream",
          "text": [
            "D:\\Anaconda\\lib\\site-packages\\statsmodels\\base\\model.py:566: ConvergenceWarning: Maximum Likelihood optimization failed to converge. Check mle_retvals\n",
            "  warnings.warn(\"Maximum Likelihood optimization failed to \"\n",
            "D:\\Anaconda\\lib\\site-packages\\statsmodels\\tsa\\base\\tsa_model.py:578: ValueWarning: An unsupported index was provided and will be ignored when e.g. forecasting.\n",
            "  warnings.warn('An unsupported index was provided and will be'\n",
            "D:\\Anaconda\\lib\\site-packages\\statsmodels\\tsa\\base\\tsa_model.py:578: ValueWarning: An unsupported index was provided and will be ignored when e.g. forecasting.\n",
            "  warnings.warn('An unsupported index was provided and will be'\n",
            "D:\\Anaconda\\lib\\site-packages\\statsmodels\\tsa\\base\\tsa_model.py:578: ValueWarning: An unsupported index was provided and will be ignored when e.g. forecasting.\n",
            "  warnings.warn('An unsupported index was provided and will be'\n"
          ]
        },
        {
          "name": "stdout",
          "output_type": "stream",
          "text": [
            "AR: 6, MA: 0\n",
            "AR: 6, MA: 1\n"
          ]
        },
        {
          "name": "stderr",
          "output_type": "stream",
          "text": [
            "D:\\Anaconda\\lib\\site-packages\\statsmodels\\tsa\\base\\tsa_model.py:578: ValueWarning: An unsupported index was provided and will be ignored when e.g. forecasting.\n",
            "  warnings.warn('An unsupported index was provided and will be'\n",
            "D:\\Anaconda\\lib\\site-packages\\statsmodels\\tsa\\base\\tsa_model.py:578: ValueWarning: An unsupported index was provided and will be ignored when e.g. forecasting.\n",
            "  warnings.warn('An unsupported index was provided and will be'\n",
            "D:\\Anaconda\\lib\\site-packages\\statsmodels\\tsa\\base\\tsa_model.py:578: ValueWarning: An unsupported index was provided and will be ignored when e.g. forecasting.\n",
            "  warnings.warn('An unsupported index was provided and will be'\n"
          ]
        },
        {
          "name": "stdout",
          "output_type": "stream",
          "text": [
            "AR: 6, MA: 2\n"
          ]
        },
        {
          "name": "stderr",
          "output_type": "stream",
          "text": [
            "D:\\Anaconda\\lib\\site-packages\\statsmodels\\tsa\\base\\tsa_model.py:578: ValueWarning: An unsupported index was provided and will be ignored when e.g. forecasting.\n",
            "  warnings.warn('An unsupported index was provided and will be'\n",
            "D:\\Anaconda\\lib\\site-packages\\statsmodels\\tsa\\base\\tsa_model.py:578: ValueWarning: An unsupported index was provided and will be ignored when e.g. forecasting.\n",
            "  warnings.warn('An unsupported index was provided and will be'\n",
            "D:\\Anaconda\\lib\\site-packages\\statsmodels\\tsa\\base\\tsa_model.py:578: ValueWarning: An unsupported index was provided and will be ignored when e.g. forecasting.\n",
            "  warnings.warn('An unsupported index was provided and will be'\n",
            "D:\\Anaconda\\lib\\site-packages\\statsmodels\\base\\model.py:566: ConvergenceWarning: Maximum Likelihood optimization failed to converge. Check mle_retvals\n",
            "  warnings.warn(\"Maximum Likelihood optimization failed to \"\n",
            "D:\\Anaconda\\lib\\site-packages\\statsmodels\\tsa\\base\\tsa_model.py:578: ValueWarning: An unsupported index was provided and will be ignored when e.g. forecasting.\n",
            "  warnings.warn('An unsupported index was provided and will be'\n",
            "D:\\Anaconda\\lib\\site-packages\\statsmodels\\tsa\\base\\tsa_model.py:578: ValueWarning: An unsupported index was provided and will be ignored when e.g. forecasting.\n",
            "  warnings.warn('An unsupported index was provided and will be'\n",
            "D:\\Anaconda\\lib\\site-packages\\statsmodels\\tsa\\base\\tsa_model.py:578: ValueWarning: An unsupported index was provided and will be ignored when e.g. forecasting.\n",
            "  warnings.warn('An unsupported index was provided and will be'\n"
          ]
        },
        {
          "name": "stdout",
          "output_type": "stream",
          "text": [
            "AR: 6, MA: 3\n"
          ]
        },
        {
          "name": "stderr",
          "output_type": "stream",
          "text": [
            "D:\\Anaconda\\lib\\site-packages\\statsmodels\\base\\model.py:566: ConvergenceWarning: Maximum Likelihood optimization failed to converge. Check mle_retvals\n",
            "  warnings.warn(\"Maximum Likelihood optimization failed to \"\n",
            "D:\\Anaconda\\lib\\site-packages\\statsmodels\\tsa\\base\\tsa_model.py:578: ValueWarning: An unsupported index was provided and will be ignored when e.g. forecasting.\n",
            "  warnings.warn('An unsupported index was provided and will be'\n",
            "D:\\Anaconda\\lib\\site-packages\\statsmodels\\tsa\\base\\tsa_model.py:578: ValueWarning: An unsupported index was provided and will be ignored when e.g. forecasting.\n",
            "  warnings.warn('An unsupported index was provided and will be'\n",
            "D:\\Anaconda\\lib\\site-packages\\statsmodels\\tsa\\base\\tsa_model.py:578: ValueWarning: An unsupported index was provided and will be ignored when e.g. forecasting.\n",
            "  warnings.warn('An unsupported index was provided and will be'\n"
          ]
        },
        {
          "name": "stdout",
          "output_type": "stream",
          "text": [
            "AR: 6, MA: 4\n"
          ]
        },
        {
          "name": "stderr",
          "output_type": "stream",
          "text": [
            "D:\\Anaconda\\lib\\site-packages\\statsmodels\\base\\model.py:566: ConvergenceWarning: Maximum Likelihood optimization failed to converge. Check mle_retvals\n",
            "  warnings.warn(\"Maximum Likelihood optimization failed to \"\n",
            "D:\\Anaconda\\lib\\site-packages\\statsmodels\\tsa\\base\\tsa_model.py:578: ValueWarning: An unsupported index was provided and will be ignored when e.g. forecasting.\n",
            "  warnings.warn('An unsupported index was provided and will be'\n",
            "D:\\Anaconda\\lib\\site-packages\\statsmodels\\tsa\\base\\tsa_model.py:578: ValueWarning: An unsupported index was provided and will be ignored when e.g. forecasting.\n",
            "  warnings.warn('An unsupported index was provided and will be'\n",
            "D:\\Anaconda\\lib\\site-packages\\statsmodels\\tsa\\base\\tsa_model.py:578: ValueWarning: An unsupported index was provided and will be ignored when e.g. forecasting.\n",
            "  warnings.warn('An unsupported index was provided and will be'\n"
          ]
        },
        {
          "name": "stdout",
          "output_type": "stream",
          "text": [
            "AR: 6, MA: 5\n"
          ]
        },
        {
          "name": "stderr",
          "output_type": "stream",
          "text": [
            "D:\\Anaconda\\lib\\site-packages\\statsmodels\\base\\model.py:566: ConvergenceWarning: Maximum Likelihood optimization failed to converge. Check mle_retvals\n",
            "  warnings.warn(\"Maximum Likelihood optimization failed to \"\n",
            "D:\\Anaconda\\lib\\site-packages\\statsmodels\\tsa\\base\\tsa_model.py:578: ValueWarning: An unsupported index was provided and will be ignored when e.g. forecasting.\n",
            "  warnings.warn('An unsupported index was provided and will be'\n",
            "D:\\Anaconda\\lib\\site-packages\\statsmodels\\tsa\\base\\tsa_model.py:578: ValueWarning: An unsupported index was provided and will be ignored when e.g. forecasting.\n",
            "  warnings.warn('An unsupported index was provided and will be'\n",
            "D:\\Anaconda\\lib\\site-packages\\statsmodels\\tsa\\base\\tsa_model.py:578: ValueWarning: An unsupported index was provided and will be ignored when e.g. forecasting.\n",
            "  warnings.warn('An unsupported index was provided and will be'\n"
          ]
        },
        {
          "name": "stdout",
          "output_type": "stream",
          "text": [
            "AR: 6, MA: 6\n"
          ]
        },
        {
          "name": "stderr",
          "output_type": "stream",
          "text": [
            "D:\\Anaconda\\lib\\site-packages\\statsmodels\\base\\model.py:566: ConvergenceWarning: Maximum Likelihood optimization failed to converge. Check mle_retvals\n",
            "  warnings.warn(\"Maximum Likelihood optimization failed to \"\n"
          ]
        },
        {
          "data": {
            "text/html": [
              "<div>\n",
              "<style scoped>\n",
              "    .dataframe tbody tr th:only-of-type {\n",
              "        vertical-align: middle;\n",
              "    }\n",
              "\n",
              "    .dataframe tbody tr th {\n",
              "        vertical-align: top;\n",
              "    }\n",
              "\n",
              "    .dataframe thead th {\n",
              "        text-align: right;\n",
              "    }\n",
              "</style>\n",
              "<table border=\"1\" class=\"dataframe\">\n",
              "  <thead>\n",
              "    <tr style=\"text-align: right;\">\n",
              "      <th></th>\n",
              "      <th></th>\n",
              "      <th>AIC</th>\n",
              "      <th>BIC</th>\n",
              "    </tr>\n",
              "    <tr>\n",
              "      <th>AR</th>\n",
              "      <th>MA</th>\n",
              "      <th></th>\n",
              "      <th></th>\n",
              "    </tr>\n",
              "  </thead>\n",
              "  <tbody>\n",
              "    <tr>\n",
              "      <th rowspan=\"7\" valign=\"top\">0</th>\n",
              "      <th>0</th>\n",
              "      <td>4554.099799</td>\n",
              "      <td>4563.915309</td>\n",
              "    </tr>\n",
              "    <tr>\n",
              "      <th>1</th>\n",
              "      <td>3776.529813</td>\n",
              "      <td>3791.253079</td>\n",
              "    </tr>\n",
              "    <tr>\n",
              "      <th>2</th>\n",
              "      <td>3254.748875</td>\n",
              "      <td>3274.379896</td>\n",
              "    </tr>\n",
              "    <tr>\n",
              "      <th>3</th>\n",
              "      <td>3099.641698</td>\n",
              "      <td>3124.180475</td>\n",
              "    </tr>\n",
              "    <tr>\n",
              "      <th>4</th>\n",
              "      <td>3005.769303</td>\n",
              "      <td>3035.215835</td>\n",
              "    </tr>\n",
              "    <tr>\n",
              "      <th>5</th>\n",
              "      <td>2940.448901</td>\n",
              "      <td>2974.803188</td>\n",
              "    </tr>\n",
              "    <tr>\n",
              "      <th>6</th>\n",
              "      <td>2915.896082</td>\n",
              "      <td>2955.158124</td>\n",
              "    </tr>\n",
              "    <tr>\n",
              "      <th rowspan=\"7\" valign=\"top\">1</th>\n",
              "      <th>0</th>\n",
              "      <td>2938.589816</td>\n",
              "      <td>2953.313082</td>\n",
              "    </tr>\n",
              "    <tr>\n",
              "      <th>1</th>\n",
              "      <td>2930.944168</td>\n",
              "      <td>2950.575189</td>\n",
              "    </tr>\n",
              "    <tr>\n",
              "      <th>2</th>\n",
              "      <td>2887.641199</td>\n",
              "      <td>2912.179975</td>\n",
              "    </tr>\n",
              "    <tr>\n",
              "      <th>3</th>\n",
              "      <td>2881.833150</td>\n",
              "      <td>2911.279682</td>\n",
              "    </tr>\n",
              "    <tr>\n",
              "      <th>4</th>\n",
              "      <td>2882.057379</td>\n",
              "      <td>2916.411666</td>\n",
              "    </tr>\n",
              "    <tr>\n",
              "      <th>5</th>\n",
              "      <td>2883.471318</td>\n",
              "      <td>2922.733360</td>\n",
              "    </tr>\n",
              "    <tr>\n",
              "      <th>6</th>\n",
              "      <td>2881.875444</td>\n",
              "      <td>2926.045241</td>\n",
              "    </tr>\n",
              "    <tr>\n",
              "      <th rowspan=\"7\" valign=\"top\">2</th>\n",
              "      <th>0</th>\n",
              "      <td>2926.860056</td>\n",
              "      <td>2946.491077</td>\n",
              "    </tr>\n",
              "    <tr>\n",
              "      <th>1</th>\n",
              "      <td>2939.730505</td>\n",
              "      <td>2964.269281</td>\n",
              "    </tr>\n",
              "    <tr>\n",
              "      <th>2</th>\n",
              "      <td>2880.467875</td>\n",
              "      <td>2909.914407</td>\n",
              "    </tr>\n",
              "    <tr>\n",
              "      <th>3</th>\n",
              "      <td>2882.245082</td>\n",
              "      <td>2916.599369</td>\n",
              "    </tr>\n",
              "    <tr>\n",
              "      <th>4</th>\n",
              "      <td>2883.907745</td>\n",
              "      <td>2923.169787</td>\n",
              "    </tr>\n",
              "    <tr>\n",
              "      <th>5</th>\n",
              "      <td>2884.477537</td>\n",
              "      <td>2928.647334</td>\n",
              "    </tr>\n",
              "    <tr>\n",
              "      <th>6</th>\n",
              "      <td>2883.872032</td>\n",
              "      <td>2932.949584</td>\n",
              "    </tr>\n",
              "    <tr>\n",
              "      <th rowspan=\"7\" valign=\"top\">3</th>\n",
              "      <th>0</th>\n",
              "      <td>2898.413337</td>\n",
              "      <td>2922.952113</td>\n",
              "    </tr>\n",
              "    <tr>\n",
              "      <th>1</th>\n",
              "      <td>2887.691717</td>\n",
              "      <td>2917.138249</td>\n",
              "    </tr>\n",
              "    <tr>\n",
              "      <th>2</th>\n",
              "      <td>2882.071937</td>\n",
              "      <td>2916.426224</td>\n",
              "    </tr>\n",
              "    <tr>\n",
              "      <th>3</th>\n",
              "      <td>2883.152269</td>\n",
              "      <td>2922.414311</td>\n",
              "    </tr>\n",
              "    <tr>\n",
              "      <th>4</th>\n",
              "      <td>2886.236630</td>\n",
              "      <td>2930.406427</td>\n",
              "    </tr>\n",
              "    <tr>\n",
              "      <th>5</th>\n",
              "      <td>2870.861148</td>\n",
              "      <td>2919.938701</td>\n",
              "    </tr>\n",
              "    <tr>\n",
              "      <th>6</th>\n",
              "      <td>2871.871042</td>\n",
              "      <td>2925.856350</td>\n",
              "    </tr>\n",
              "    <tr>\n",
              "      <th rowspan=\"7\" valign=\"top\">4</th>\n",
              "      <th>0</th>\n",
              "      <td>2882.286082</td>\n",
              "      <td>2911.732614</td>\n",
              "    </tr>\n",
              "    <tr>\n",
              "      <th>1</th>\n",
              "      <td>2884.280488</td>\n",
              "      <td>2918.634775</td>\n",
              "    </tr>\n",
              "    <tr>\n",
              "      <th>2</th>\n",
              "      <td>2886.282014</td>\n",
              "      <td>2925.544056</td>\n",
              "    </tr>\n",
              "    <tr>\n",
              "      <th>3</th>\n",
              "      <td>2884.797957</td>\n",
              "      <td>2928.967755</td>\n",
              "    </tr>\n",
              "    <tr>\n",
              "      <th>4</th>\n",
              "      <td>2874.130854</td>\n",
              "      <td>2923.208407</td>\n",
              "    </tr>\n",
              "    <tr>\n",
              "      <th>5</th>\n",
              "      <td>2872.128284</td>\n",
              "      <td>2926.113592</td>\n",
              "    </tr>\n",
              "    <tr>\n",
              "      <th>6</th>\n",
              "      <td>2874.320810</td>\n",
              "      <td>2933.213874</td>\n",
              "    </tr>\n",
              "    <tr>\n",
              "      <th rowspan=\"7\" valign=\"top\">5</th>\n",
              "      <th>0</th>\n",
              "      <td>2884.280507</td>\n",
              "      <td>2918.634794</td>\n",
              "    </tr>\n",
              "    <tr>\n",
              "      <th>1</th>\n",
              "      <td>2885.459320</td>\n",
              "      <td>2924.721363</td>\n",
              "    </tr>\n",
              "    <tr>\n",
              "      <th>2</th>\n",
              "      <td>2884.796725</td>\n",
              "      <td>2928.966522</td>\n",
              "    </tr>\n",
              "    <tr>\n",
              "      <th>3</th>\n",
              "      <td>2886.797922</td>\n",
              "      <td>2935.875475</td>\n",
              "    </tr>\n",
              "    <tr>\n",
              "      <th>4</th>\n",
              "      <td>2871.567074</td>\n",
              "      <td>2925.552382</td>\n",
              "    </tr>\n",
              "    <tr>\n",
              "      <th>5</th>\n",
              "      <td>2880.985538</td>\n",
              "      <td>2939.878601</td>\n",
              "    </tr>\n",
              "    <tr>\n",
              "      <th>6</th>\n",
              "      <td>2881.805758</td>\n",
              "      <td>2945.606576</td>\n",
              "    </tr>\n",
              "    <tr>\n",
              "      <th rowspan=\"7\" valign=\"top\">6</th>\n",
              "      <th>0</th>\n",
              "      <td>2886.278700</td>\n",
              "      <td>2925.540742</td>\n",
              "    </tr>\n",
              "    <tr>\n",
              "      <th>1</th>\n",
              "      <td>2886.688713</td>\n",
              "      <td>2930.858510</td>\n",
              "    </tr>\n",
              "    <tr>\n",
              "      <th>2</th>\n",
              "      <td>2879.864039</td>\n",
              "      <td>2928.941592</td>\n",
              "    </tr>\n",
              "    <tr>\n",
              "      <th>3</th>\n",
              "      <td>2882.250695</td>\n",
              "      <td>2936.236003</td>\n",
              "    </tr>\n",
              "    <tr>\n",
              "      <th>4</th>\n",
              "      <td>2885.787150</td>\n",
              "      <td>2944.680213</td>\n",
              "    </tr>\n",
              "    <tr>\n",
              "      <th>5</th>\n",
              "      <td>2887.944076</td>\n",
              "      <td>2951.744895</td>\n",
              "    </tr>\n",
              "    <tr>\n",
              "      <th>6</th>\n",
              "      <td>2972.933432</td>\n",
              "      <td>3041.642006</td>\n",
              "    </tr>\n",
              "  </tbody>\n",
              "</table>\n",
              "</div>"
            ],
            "text/plain": [
              "               AIC          BIC\n",
              "AR MA                          \n",
              "0  0   4554.099799  4563.915309\n",
              "   1   3776.529813  3791.253079\n",
              "   2   3254.748875  3274.379896\n",
              "   3   3099.641698  3124.180475\n",
              "   4   3005.769303  3035.215835\n",
              "   5   2940.448901  2974.803188\n",
              "   6   2915.896082  2955.158124\n",
              "1  0   2938.589816  2953.313082\n",
              "   1   2930.944168  2950.575189\n",
              "   2   2887.641199  2912.179975\n",
              "   3   2881.833150  2911.279682\n",
              "   4   2882.057379  2916.411666\n",
              "   5   2883.471318  2922.733360\n",
              "   6   2881.875444  2926.045241\n",
              "2  0   2926.860056  2946.491077\n",
              "   1   2939.730505  2964.269281\n",
              "   2   2880.467875  2909.914407\n",
              "   3   2882.245082  2916.599369\n",
              "   4   2883.907745  2923.169787\n",
              "   5   2884.477537  2928.647334\n",
              "   6   2883.872032  2932.949584\n",
              "3  0   2898.413337  2922.952113\n",
              "   1   2887.691717  2917.138249\n",
              "   2   2882.071937  2916.426224\n",
              "   3   2883.152269  2922.414311\n",
              "   4   2886.236630  2930.406427\n",
              "   5   2870.861148  2919.938701\n",
              "   6   2871.871042  2925.856350\n",
              "4  0   2882.286082  2911.732614\n",
              "   1   2884.280488  2918.634775\n",
              "   2   2886.282014  2925.544056\n",
              "   3   2884.797957  2928.967755\n",
              "   4   2874.130854  2923.208407\n",
              "   5   2872.128284  2926.113592\n",
              "   6   2874.320810  2933.213874\n",
              "5  0   2884.280507  2918.634794\n",
              "   1   2885.459320  2924.721363\n",
              "   2   2884.796725  2928.966522\n",
              "   3   2886.797922  2935.875475\n",
              "   4   2871.567074  2925.552382\n",
              "   5   2880.985538  2939.878601\n",
              "   6   2881.805758  2945.606576\n",
              "6  0   2886.278700  2925.540742\n",
              "   1   2886.688713  2930.858510\n",
              "   2   2879.864039  2928.941592\n",
              "   3   2882.250695  2936.236003\n",
              "   4   2885.787150  2944.680213\n",
              "   5   2887.944076  2951.744895\n",
              "   6   2972.933432  3041.642006"
            ]
          },
          "execution_count": 28,
          "metadata": {},
          "output_type": "execute_result"
        }
      ],
      "source": [
        "ic = {}\n",
        "for ar in range(7):\n",
        "    for ma in range(7):\n",
        "        print(f\"AR: {ar}, MA: {ma}\")\n",
        "        modelo = ARIMA(serie, order=(ar, 0, ma))\n",
        "        resultado = modelo.fit()\n",
        "        ic[(ar, ma)] = [resultado.aic, resultado.bic]\n",
        "\n",
        "ic = pd.DataFrame(ic, index=[\"AIC\", \"BIC\"]).T\n",
        "ic.index = ic.index.set_names([\"AR\", \"MA\"])\n",
        "ic"
      ]
    },
    {
      "cell_type": "code",
      "execution_count": null,
      "id": "16749f00-2859-431f-abee-9cb83dc5c208",
      "metadata": {
        "id": "16749f00-2859-431f-abee-9cb83dc5c208",
        "outputId": "9046d833-f649-4936-c0ca-4bfcfdc21b46"
      },
      "outputs": [
        {
          "name": "stderr",
          "output_type": "stream",
          "text": [
            "D:\\Anaconda\\lib\\site-packages\\statsmodels\\tsa\\base\\tsa_model.py:578: ValueWarning: An unsupported index was provided and will be ignored when e.g. forecasting.\n",
            "  warnings.warn('An unsupported index was provided and will be'\n",
            "D:\\Anaconda\\lib\\site-packages\\statsmodels\\tsa\\base\\tsa_model.py:578: ValueWarning: An unsupported index was provided and will be ignored when e.g. forecasting.\n",
            "  warnings.warn('An unsupported index was provided and will be'\n",
            "D:\\Anaconda\\lib\\site-packages\\statsmodels\\tsa\\base\\tsa_model.py:578: ValueWarning: An unsupported index was provided and will be ignored when e.g. forecasting.\n",
            "  warnings.warn('An unsupported index was provided and will be'\n"
          ]
        },
        {
          "data": {
            "text/html": [
              "<table class=\"simpletable\">\n",
              "<caption>SARIMAX Results</caption>\n",
              "<tr>\n",
              "  <th>Dep. Variable:</th>        <td>proceso</td>     <th>  No. Observations:  </th>   <td>1000</td>   \n",
              "</tr>\n",
              "<tr>\n",
              "  <th>Model:</th>            <td>ARIMA(2, 0, 4)</td>  <th>  Log Likelihood     </th> <td>-1433.954</td>\n",
              "</tr>\n",
              "<tr>\n",
              "  <th>Date:</th>            <td>Sun, 27 Mar 2022</td> <th>  AIC                </th> <td>2883.908</td> \n",
              "</tr>\n",
              "<tr>\n",
              "  <th>Time:</th>                <td>17:35:21</td>     <th>  BIC                </th> <td>2923.170</td> \n",
              "</tr>\n",
              "<tr>\n",
              "  <th>Sample:</th>                  <td>0</td>        <th>  HQIC               </th> <td>2898.830</td> \n",
              "</tr>\n",
              "<tr>\n",
              "  <th></th>                      <td> - 1000</td>     <th>                     </th>     <td> </td>    \n",
              "</tr>\n",
              "<tr>\n",
              "  <th>Covariance Type:</th>        <td>opg</td>       <th>                     </th>     <td> </td>    \n",
              "</tr>\n",
              "</table>\n",
              "<table class=\"simpletable\">\n",
              "<tr>\n",
              "     <td></td>       <th>coef</th>     <th>std err</th>      <th>z</th>      <th>P>|z|</th>  <th>[0.025</th>    <th>0.975]</th>  \n",
              "</tr>\n",
              "<tr>\n",
              "  <th>const</th>  <td>   -0.0967</td> <td>    0.257</td> <td>   -0.376</td> <td> 0.707</td> <td>   -0.601</td> <td>    0.407</td>\n",
              "</tr>\n",
              "<tr>\n",
              "  <th>ar.L1</th>  <td>    0.6915</td> <td>    0.714</td> <td>    0.969</td> <td> 0.333</td> <td>   -0.707</td> <td>    2.090</td>\n",
              "</tr>\n",
              "<tr>\n",
              "  <th>ar.L2</th>  <td>    0.1148</td> <td>    0.610</td> <td>    0.188</td> <td> 0.851</td> <td>   -1.081</td> <td>    1.311</td>\n",
              "</tr>\n",
              "<tr>\n",
              "  <th>ma.L1</th>  <td>    0.3154</td> <td>    0.713</td> <td>    0.442</td> <td> 0.658</td> <td>   -1.082</td> <td>    1.713</td>\n",
              "</tr>\n",
              "<tr>\n",
              "  <th>ma.L2</th>  <td>    0.2504</td> <td>    0.118</td> <td>    2.119</td> <td> 0.034</td> <td>    0.019</td> <td>    0.482</td>\n",
              "</tr>\n",
              "<tr>\n",
              "  <th>ma.L3</th>  <td>   -0.0538</td> <td>    0.142</td> <td>   -0.378</td> <td> 0.706</td> <td>   -0.333</td> <td>    0.225</td>\n",
              "</tr>\n",
              "<tr>\n",
              "  <th>ma.L4</th>  <td>    0.0389</td> <td>    0.094</td> <td>    0.414</td> <td> 0.679</td> <td>   -0.145</td> <td>    0.223</td>\n",
              "</tr>\n",
              "<tr>\n",
              "  <th>sigma2</th> <td>    1.0286</td> <td>    0.048</td> <td>   21.482</td> <td> 0.000</td> <td>    0.935</td> <td>    1.122</td>\n",
              "</tr>\n",
              "</table>\n",
              "<table class=\"simpletable\">\n",
              "<tr>\n",
              "  <th>Ljung-Box (L1) (Q):</th>     <td>0.00</td> <th>  Jarque-Bera (JB):  </th> <td>0.45</td>\n",
              "</tr>\n",
              "<tr>\n",
              "  <th>Prob(Q):</th>                <td>0.99</td> <th>  Prob(JB):          </th> <td>0.80</td>\n",
              "</tr>\n",
              "<tr>\n",
              "  <th>Heteroskedasticity (H):</th> <td>1.01</td> <th>  Skew:              </th> <td>0.01</td>\n",
              "</tr>\n",
              "<tr>\n",
              "  <th>Prob(H) (two-sided):</th>    <td>0.93</td> <th>  Kurtosis:          </th> <td>2.90</td>\n",
              "</tr>\n",
              "</table><br/><br/>Warnings:<br/>[1] Covariance matrix calculated using the outer product of gradients (complex-step)."
            ],
            "text/plain": [
              "<class 'statsmodels.iolib.summary.Summary'>\n",
              "\"\"\"\n",
              "                               SARIMAX Results                                \n",
              "==============================================================================\n",
              "Dep. Variable:                proceso   No. Observations:                 1000\n",
              "Model:                 ARIMA(2, 0, 4)   Log Likelihood               -1433.954\n",
              "Date:                Sun, 27 Mar 2022   AIC                           2883.908\n",
              "Time:                        17:35:21   BIC                           2923.170\n",
              "Sample:                             0   HQIC                          2898.830\n",
              "                               - 1000                                         \n",
              "Covariance Type:                  opg                                         \n",
              "==============================================================================\n",
              "                 coef    std err          z      P>|z|      [0.025      0.975]\n",
              "------------------------------------------------------------------------------\n",
              "const         -0.0967      0.257     -0.376      0.707      -0.601       0.407\n",
              "ar.L1          0.6915      0.714      0.969      0.333      -0.707       2.090\n",
              "ar.L2          0.1148      0.610      0.188      0.851      -1.081       1.311\n",
              "ma.L1          0.3154      0.713      0.442      0.658      -1.082       1.713\n",
              "ma.L2          0.2504      0.118      2.119      0.034       0.019       0.482\n",
              "ma.L3         -0.0538      0.142     -0.378      0.706      -0.333       0.225\n",
              "ma.L4          0.0389      0.094      0.414      0.679      -0.145       0.223\n",
              "sigma2         1.0286      0.048     21.482      0.000       0.935       1.122\n",
              "===================================================================================\n",
              "Ljung-Box (L1) (Q):                   0.00   Jarque-Bera (JB):                 0.45\n",
              "Prob(Q):                              0.99   Prob(JB):                         0.80\n",
              "Heteroskedasticity (H):               1.01   Skew:                             0.01\n",
              "Prob(H) (two-sided):                  0.93   Kurtosis:                         2.90\n",
              "===================================================================================\n",
              "\n",
              "Warnings:\n",
              "[1] Covariance matrix calculated using the outer product of gradients (complex-step).\n",
              "\"\"\""
            ]
          },
          "execution_count": 34,
          "metadata": {},
          "output_type": "execute_result"
        }
      ],
      "source": [
        "# estimamos un ARMA (1,1)\n",
        "modelo = ARIMA(datos, order=(2, 0, 4))\n",
        "resultado = modelo.fit()\n",
        "resultado.summary()"
      ]
    },
    {
      "cell_type": "code",
      "execution_count": null,
      "id": "79ffdc43-86c5-491e-a26f-d051c39c1899",
      "metadata": {
        "id": "79ffdc43-86c5-491e-a26f-d051c39c1899",
        "outputId": "eb7d03f2-77af-4120-dc35-7314c62a28cb"
      },
      "outputs": [
        {
          "name": "stderr",
          "output_type": "stream",
          "text": [
            "D:\\Anaconda\\lib\\site-packages\\statsmodels\\tsa\\base\\tsa_model.py:578: ValueWarning: An unsupported index was provided and will be ignored when e.g. forecasting.\n",
            "  warnings.warn('An unsupported index was provided and will be'\n",
            "D:\\Anaconda\\lib\\site-packages\\statsmodels\\tsa\\base\\tsa_model.py:578: ValueWarning: An unsupported index was provided and will be ignored when e.g. forecasting.\n",
            "  warnings.warn('An unsupported index was provided and will be'\n",
            "D:\\Anaconda\\lib\\site-packages\\statsmodels\\tsa\\base\\tsa_model.py:578: ValueWarning: An unsupported index was provided and will be ignored when e.g. forecasting.\n",
            "  warnings.warn('An unsupported index was provided and will be'\n"
          ]
        },
        {
          "data": {
            "text/html": [
              "<table class=\"simpletable\">\n",
              "<caption>SARIMAX Results</caption>\n",
              "<tr>\n",
              "  <th>Dep. Variable:</th>        <td>proceso</td>     <th>  No. Observations:  </th>   <td>1000</td>   \n",
              "</tr>\n",
              "<tr>\n",
              "  <th>Model:</th>            <td>ARIMA(1, 0, 2)</td>  <th>  Log Likelihood     </th> <td>-1438.821</td>\n",
              "</tr>\n",
              "<tr>\n",
              "  <th>Date:</th>            <td>Sun, 27 Mar 2022</td> <th>  AIC                </th> <td>2887.641</td> \n",
              "</tr>\n",
              "<tr>\n",
              "  <th>Time:</th>                <td>17:35:45</td>     <th>  BIC                </th> <td>2912.180</td> \n",
              "</tr>\n",
              "<tr>\n",
              "  <th>Sample:</th>                  <td>0</td>        <th>  HQIC               </th> <td>2896.968</td> \n",
              "</tr>\n",
              "<tr>\n",
              "  <th></th>                      <td> - 1000</td>     <th>                     </th>     <td> </td>    \n",
              "</tr>\n",
              "<tr>\n",
              "  <th>Covariance Type:</th>        <td>opg</td>       <th>                     </th>     <td> </td>    \n",
              "</tr>\n",
              "</table>\n",
              "<table class=\"simpletable\">\n",
              "<tr>\n",
              "     <td></td>       <th>coef</th>     <th>std err</th>      <th>z</th>      <th>P>|z|</th>  <th>[0.025</th>    <th>0.975]</th>  \n",
              "</tr>\n",
              "<tr>\n",
              "  <th>const</th>  <td>   -0.0936</td> <td>    0.244</td> <td>   -0.384</td> <td> 0.701</td> <td>   -0.572</td> <td>    0.384</td>\n",
              "</tr>\n",
              "<tr>\n",
              "  <th>ar.L1</th>  <td>    0.8085</td> <td>    0.024</td> <td>   34.170</td> <td> 0.000</td> <td>    0.762</td> <td>    0.855</td>\n",
              "</tr>\n",
              "<tr>\n",
              "  <th>ma.L1</th>  <td>    0.2099</td> <td>    0.035</td> <td>    5.936</td> <td> 0.000</td> <td>    0.141</td> <td>    0.279</td>\n",
              "</tr>\n",
              "<tr>\n",
              "  <th>ma.L2</th>  <td>    0.2419</td> <td>    0.035</td> <td>    6.986</td> <td> 0.000</td> <td>    0.174</td> <td>    0.310</td>\n",
              "</tr>\n",
              "<tr>\n",
              "  <th>sigma2</th> <td>    1.0387</td> <td>    0.048</td> <td>   21.614</td> <td> 0.000</td> <td>    0.945</td> <td>    1.133</td>\n",
              "</tr>\n",
              "</table>\n",
              "<table class=\"simpletable\">\n",
              "<tr>\n",
              "  <th>Ljung-Box (L1) (Q):</th>     <td>0.24</td> <th>  Jarque-Bera (JB):  </th> <td>0.54</td>\n",
              "</tr>\n",
              "<tr>\n",
              "  <th>Prob(Q):</th>                <td>0.62</td> <th>  Prob(JB):          </th> <td>0.76</td>\n",
              "</tr>\n",
              "<tr>\n",
              "  <th>Heteroskedasticity (H):</th> <td>1.01</td> <th>  Skew:              </th> <td>0.00</td>\n",
              "</tr>\n",
              "<tr>\n",
              "  <th>Prob(H) (two-sided):</th>    <td>0.94</td> <th>  Kurtosis:          </th> <td>2.89</td>\n",
              "</tr>\n",
              "</table><br/><br/>Warnings:<br/>[1] Covariance matrix calculated using the outer product of gradients (complex-step)."
            ],
            "text/plain": [
              "<class 'statsmodels.iolib.summary.Summary'>\n",
              "\"\"\"\n",
              "                               SARIMAX Results                                \n",
              "==============================================================================\n",
              "Dep. Variable:                proceso   No. Observations:                 1000\n",
              "Model:                 ARIMA(1, 0, 2)   Log Likelihood               -1438.821\n",
              "Date:                Sun, 27 Mar 2022   AIC                           2887.641\n",
              "Time:                        17:35:45   BIC                           2912.180\n",
              "Sample:                             0   HQIC                          2896.968\n",
              "                               - 1000                                         \n",
              "Covariance Type:                  opg                                         \n",
              "==============================================================================\n",
              "                 coef    std err          z      P>|z|      [0.025      0.975]\n",
              "------------------------------------------------------------------------------\n",
              "const         -0.0936      0.244     -0.384      0.701      -0.572       0.384\n",
              "ar.L1          0.8085      0.024     34.170      0.000       0.762       0.855\n",
              "ma.L1          0.2099      0.035      5.936      0.000       0.141       0.279\n",
              "ma.L2          0.2419      0.035      6.986      0.000       0.174       0.310\n",
              "sigma2         1.0387      0.048     21.614      0.000       0.945       1.133\n",
              "===================================================================================\n",
              "Ljung-Box (L1) (Q):                   0.24   Jarque-Bera (JB):                 0.54\n",
              "Prob(Q):                              0.62   Prob(JB):                         0.76\n",
              "Heteroskedasticity (H):               1.01   Skew:                             0.00\n",
              "Prob(H) (two-sided):                  0.94   Kurtosis:                         2.89\n",
              "===================================================================================\n",
              "\n",
              "Warnings:\n",
              "[1] Covariance matrix calculated using the outer product of gradients (complex-step).\n",
              "\"\"\""
            ]
          },
          "execution_count": 35,
          "metadata": {},
          "output_type": "execute_result"
        }
      ],
      "source": [
        "# estimamos un ARMA (1,2)\n",
        "modelo = ARIMA(datos, order=(1, 0, 2))\n",
        "resultado = modelo.fit()\n",
        "resultado.summary()"
      ]
    },
    {
      "cell_type": "code",
      "execution_count": null,
      "id": "e712b0c9-bc9c-4501-9aa7-8fb62ff97e8f",
      "metadata": {
        "id": "e712b0c9-bc9c-4501-9aa7-8fb62ff97e8f",
        "outputId": "c2594e70-0e56-4393-e11a-912dfed0d921"
      },
      "outputs": [
        {
          "name": "stderr",
          "output_type": "stream",
          "text": [
            "D:\\Anaconda\\lib\\site-packages\\statsmodels\\tsa\\base\\tsa_model.py:578: ValueWarning: An unsupported index was provided and will be ignored when e.g. forecasting.\n",
            "  warnings.warn('An unsupported index was provided and will be'\n",
            "D:\\Anaconda\\lib\\site-packages\\statsmodels\\tsa\\base\\tsa_model.py:578: ValueWarning: An unsupported index was provided and will be ignored when e.g. forecasting.\n",
            "  warnings.warn('An unsupported index was provided and will be'\n",
            "D:\\Anaconda\\lib\\site-packages\\statsmodels\\tsa\\base\\tsa_model.py:578: ValueWarning: An unsupported index was provided and will be ignored when e.g. forecasting.\n",
            "  warnings.warn('An unsupported index was provided and will be'\n"
          ]
        },
        {
          "data": {
            "text/html": [
              "<table class=\"simpletable\">\n",
              "<caption>SARIMAX Results</caption>\n",
              "<tr>\n",
              "  <th>Dep. Variable:</th>        <td>proceso</td>     <th>  No. Observations:  </th>   <td>1000</td>   \n",
              "</tr>\n",
              "<tr>\n",
              "  <th>Model:</th>            <td>ARIMA(2, 0, 3)</td>  <th>  Log Likelihood     </th> <td>-1434.123</td>\n",
              "</tr>\n",
              "<tr>\n",
              "  <th>Date:</th>            <td>Sun, 27 Mar 2022</td> <th>  AIC                </th> <td>2882.245</td> \n",
              "</tr>\n",
              "<tr>\n",
              "  <th>Time:</th>                <td>17:36:00</td>     <th>  BIC                </th> <td>2916.599</td> \n",
              "</tr>\n",
              "<tr>\n",
              "  <th>Sample:</th>                  <td>0</td>        <th>  HQIC               </th> <td>2895.302</td> \n",
              "</tr>\n",
              "<tr>\n",
              "  <th></th>                      <td> - 1000</td>     <th>                     </th>     <td> </td>    \n",
              "</tr>\n",
              "<tr>\n",
              "  <th>Covariance Type:</th>        <td>opg</td>       <th>                     </th>     <td> </td>    \n",
              "</tr>\n",
              "</table>\n",
              "<table class=\"simpletable\">\n",
              "<tr>\n",
              "     <td></td>       <th>coef</th>     <th>std err</th>      <th>z</th>      <th>P>|z|</th>  <th>[0.025</th>    <th>0.975]</th>  \n",
              "</tr>\n",
              "<tr>\n",
              "  <th>const</th>  <td>   -0.0970</td> <td>    0.263</td> <td>   -0.369</td> <td> 0.712</td> <td>   -0.612</td> <td>    0.418</td>\n",
              "</tr>\n",
              "<tr>\n",
              "  <th>ar.L1</th>  <td>    0.5201</td> <td>    0.300</td> <td>    1.733</td> <td> 0.083</td> <td>   -0.068</td> <td>    1.108</td>\n",
              "</tr>\n",
              "<tr>\n",
              "  <th>ar.L2</th>  <td>    0.2709</td> <td>    0.239</td> <td>    1.135</td> <td> 0.257</td> <td>   -0.197</td> <td>    0.739</td>\n",
              "</tr>\n",
              "<tr>\n",
              "  <th>ma.L1</th>  <td>    0.4863</td> <td>    0.302</td> <td>    1.610</td> <td> 0.108</td> <td>   -0.106</td> <td>    1.078</td>\n",
              "</tr>\n",
              "<tr>\n",
              "  <th>ma.L2</th>  <td>    0.2622</td> <td>    0.084</td> <td>    3.138</td> <td> 0.002</td> <td>    0.098</td> <td>    0.426</td>\n",
              "</tr>\n",
              "<tr>\n",
              "  <th>ma.L3</th>  <td>   -0.0361</td> <td>    0.091</td> <td>   -0.397</td> <td> 0.691</td> <td>   -0.214</td> <td>    0.142</td>\n",
              "</tr>\n",
              "<tr>\n",
              "  <th>sigma2</th> <td>    1.0289</td> <td>    0.048</td> <td>   21.581</td> <td> 0.000</td> <td>    0.935</td> <td>    1.122</td>\n",
              "</tr>\n",
              "</table>\n",
              "<table class=\"simpletable\">\n",
              "<tr>\n",
              "  <th>Ljung-Box (L1) (Q):</th>     <td>0.00</td> <th>  Jarque-Bera (JB):  </th> <td>0.37</td>\n",
              "</tr>\n",
              "<tr>\n",
              "  <th>Prob(Q):</th>                <td>0.99</td> <th>  Prob(JB):          </th> <td>0.83</td>\n",
              "</tr>\n",
              "<tr>\n",
              "  <th>Heteroskedasticity (H):</th> <td>1.01</td> <th>  Skew:              </th> <td>0.00</td>\n",
              "</tr>\n",
              "<tr>\n",
              "  <th>Prob(H) (two-sided):</th>    <td>0.94</td> <th>  Kurtosis:          </th> <td>2.91</td>\n",
              "</tr>\n",
              "</table><br/><br/>Warnings:<br/>[1] Covariance matrix calculated using the outer product of gradients (complex-step)."
            ],
            "text/plain": [
              "<class 'statsmodels.iolib.summary.Summary'>\n",
              "\"\"\"\n",
              "                               SARIMAX Results                                \n",
              "==============================================================================\n",
              "Dep. Variable:                proceso   No. Observations:                 1000\n",
              "Model:                 ARIMA(2, 0, 3)   Log Likelihood               -1434.123\n",
              "Date:                Sun, 27 Mar 2022   AIC                           2882.245\n",
              "Time:                        17:36:00   BIC                           2916.599\n",
              "Sample:                             0   HQIC                          2895.302\n",
              "                               - 1000                                         \n",
              "Covariance Type:                  opg                                         \n",
              "==============================================================================\n",
              "                 coef    std err          z      P>|z|      [0.025      0.975]\n",
              "------------------------------------------------------------------------------\n",
              "const         -0.0970      0.263     -0.369      0.712      -0.612       0.418\n",
              "ar.L1          0.5201      0.300      1.733      0.083      -0.068       1.108\n",
              "ar.L2          0.2709      0.239      1.135      0.257      -0.197       0.739\n",
              "ma.L1          0.4863      0.302      1.610      0.108      -0.106       1.078\n",
              "ma.L2          0.2622      0.084      3.138      0.002       0.098       0.426\n",
              "ma.L3         -0.0361      0.091     -0.397      0.691      -0.214       0.142\n",
              "sigma2         1.0289      0.048     21.581      0.000       0.935       1.122\n",
              "===================================================================================\n",
              "Ljung-Box (L1) (Q):                   0.00   Jarque-Bera (JB):                 0.37\n",
              "Prob(Q):                              0.99   Prob(JB):                         0.83\n",
              "Heteroskedasticity (H):               1.01   Skew:                             0.00\n",
              "Prob(H) (two-sided):                  0.94   Kurtosis:                         2.91\n",
              "===================================================================================\n",
              "\n",
              "Warnings:\n",
              "[1] Covariance matrix calculated using the outer product of gradients (complex-step).\n",
              "\"\"\""
            ]
          },
          "execution_count": 36,
          "metadata": {},
          "output_type": "execute_result"
        }
      ],
      "source": [
        "# estimamos un ARMA (2,3)\n",
        "modelo = ARIMA(datos, order=(2, 0, 3))\n",
        "resultado = modelo.fit()\n",
        "resultado.summary()"
      ]
    },
    {
      "cell_type": "code",
      "execution_count": null,
      "id": "e95fada6-6b73-46fc-a301-517f91a69f6c",
      "metadata": {
        "id": "e95fada6-6b73-46fc-a301-517f91a69f6c",
        "outputId": "5869c211-37b0-448c-868f-169cd9aecf99"
      },
      "outputs": [
        {
          "name": "stderr",
          "output_type": "stream",
          "text": [
            "D:\\Anaconda\\lib\\site-packages\\statsmodels\\tsa\\base\\tsa_model.py:578: ValueWarning: An unsupported index was provided and will be ignored when e.g. forecasting.\n",
            "  warnings.warn('An unsupported index was provided and will be'\n",
            "D:\\Anaconda\\lib\\site-packages\\statsmodels\\tsa\\base\\tsa_model.py:578: ValueWarning: An unsupported index was provided and will be ignored when e.g. forecasting.\n",
            "  warnings.warn('An unsupported index was provided and will be'\n",
            "D:\\Anaconda\\lib\\site-packages\\statsmodels\\tsa\\base\\tsa_model.py:578: ValueWarning: An unsupported index was provided and will be ignored when e.g. forecasting.\n",
            "  warnings.warn('An unsupported index was provided and will be'\n"
          ]
        },
        {
          "data": {
            "text/html": [
              "<table class=\"simpletable\">\n",
              "<caption>SARIMAX Results</caption>\n",
              "<tr>\n",
              "  <th>Dep. Variable:</th>        <td>proceso</td>     <th>  No. Observations:  </th>   <td>1000</td>   \n",
              "</tr>\n",
              "<tr>\n",
              "  <th>Model:</th>            <td>ARIMA(3, 0, 2)</td>  <th>  Log Likelihood     </th> <td>-1434.036</td>\n",
              "</tr>\n",
              "<tr>\n",
              "  <th>Date:</th>            <td>Sun, 27 Mar 2022</td> <th>  AIC                </th> <td>2882.072</td> \n",
              "</tr>\n",
              "<tr>\n",
              "  <th>Time:</th>                <td>17:37:25</td>     <th>  BIC                </th> <td>2916.426</td> \n",
              "</tr>\n",
              "<tr>\n",
              "  <th>Sample:</th>                  <td>0</td>        <th>  HQIC               </th> <td>2895.129</td> \n",
              "</tr>\n",
              "<tr>\n",
              "  <th></th>                      <td> - 1000</td>     <th>                     </th>     <td> </td>    \n",
              "</tr>\n",
              "<tr>\n",
              "  <th>Covariance Type:</th>        <td>opg</td>       <th>                     </th>     <td> </td>    \n",
              "</tr>\n",
              "</table>\n",
              "<table class=\"simpletable\">\n",
              "<tr>\n",
              "     <td></td>       <th>coef</th>     <th>std err</th>      <th>z</th>      <th>P>|z|</th>  <th>[0.025</th>    <th>0.975]</th>  \n",
              "</tr>\n",
              "<tr>\n",
              "  <th>const</th>  <td>   -0.0977</td> <td>    0.265</td> <td>   -0.369</td> <td> 0.712</td> <td>   -0.616</td> <td>    0.421</td>\n",
              "</tr>\n",
              "<tr>\n",
              "  <th>ar.L1</th>  <td>    0.3747</td> <td>    0.114</td> <td>    3.274</td> <td> 0.001</td> <td>    0.150</td> <td>    0.599</td>\n",
              "</tr>\n",
              "<tr>\n",
              "  <th>ar.L2</th>  <td>    0.3069</td> <td>    0.123</td> <td>    2.502</td> <td> 0.012</td> <td>    0.066</td> <td>    0.547</td>\n",
              "</tr>\n",
              "<tr>\n",
              "  <th>ar.L3</th>  <td>    0.0762</td> <td>    0.109</td> <td>    0.702</td> <td> 0.483</td> <td>   -0.137</td> <td>    0.289</td>\n",
              "</tr>\n",
              "<tr>\n",
              "  <th>ma.L1</th>  <td>    0.6309</td> <td>    0.108</td> <td>    5.844</td> <td> 0.000</td> <td>    0.419</td> <td>    0.843</td>\n",
              "</tr>\n",
              "<tr>\n",
              "  <th>ma.L2</th>  <td>    0.3688</td> <td>    0.111</td> <td>    3.326</td> <td> 0.001</td> <td>    0.151</td> <td>    0.586</td>\n",
              "</tr>\n",
              "<tr>\n",
              "  <th>sigma2</th> <td>    1.0288</td> <td>    0.048</td> <td>   21.638</td> <td> 0.000</td> <td>    0.936</td> <td>    1.122</td>\n",
              "</tr>\n",
              "</table>\n",
              "<table class=\"simpletable\">\n",
              "<tr>\n",
              "  <th>Ljung-Box (L1) (Q):</th>     <td>0.00</td> <th>  Jarque-Bera (JB):  </th> <td>0.35</td>\n",
              "</tr>\n",
              "<tr>\n",
              "  <th>Prob(Q):</th>                <td>0.96</td> <th>  Prob(JB):          </th> <td>0.84</td>\n",
              "</tr>\n",
              "<tr>\n",
              "  <th>Heteroskedasticity (H):</th> <td>1.01</td> <th>  Skew:              </th> <td>0.00</td>\n",
              "</tr>\n",
              "<tr>\n",
              "  <th>Prob(H) (two-sided):</th>    <td>0.95</td> <th>  Kurtosis:          </th> <td>2.91</td>\n",
              "</tr>\n",
              "</table><br/><br/>Warnings:<br/>[1] Covariance matrix calculated using the outer product of gradients (complex-step)."
            ],
            "text/plain": [
              "<class 'statsmodels.iolib.summary.Summary'>\n",
              "\"\"\"\n",
              "                               SARIMAX Results                                \n",
              "==============================================================================\n",
              "Dep. Variable:                proceso   No. Observations:                 1000\n",
              "Model:                 ARIMA(3, 0, 2)   Log Likelihood               -1434.036\n",
              "Date:                Sun, 27 Mar 2022   AIC                           2882.072\n",
              "Time:                        17:37:25   BIC                           2916.426\n",
              "Sample:                             0   HQIC                          2895.129\n",
              "                               - 1000                                         \n",
              "Covariance Type:                  opg                                         \n",
              "==============================================================================\n",
              "                 coef    std err          z      P>|z|      [0.025      0.975]\n",
              "------------------------------------------------------------------------------\n",
              "const         -0.0977      0.265     -0.369      0.712      -0.616       0.421\n",
              "ar.L1          0.3747      0.114      3.274      0.001       0.150       0.599\n",
              "ar.L2          0.3069      0.123      2.502      0.012       0.066       0.547\n",
              "ar.L3          0.0762      0.109      0.702      0.483      -0.137       0.289\n",
              "ma.L1          0.6309      0.108      5.844      0.000       0.419       0.843\n",
              "ma.L2          0.3688      0.111      3.326      0.001       0.151       0.586\n",
              "sigma2         1.0288      0.048     21.638      0.000       0.936       1.122\n",
              "===================================================================================\n",
              "Ljung-Box (L1) (Q):                   0.00   Jarque-Bera (JB):                 0.35\n",
              "Prob(Q):                              0.96   Prob(JB):                         0.84\n",
              "Heteroskedasticity (H):               1.01   Skew:                             0.00\n",
              "Prob(H) (two-sided):                  0.95   Kurtosis:                         2.91\n",
              "===================================================================================\n",
              "\n",
              "Warnings:\n",
              "[1] Covariance matrix calculated using the outer product of gradients (complex-step).\n",
              "\"\"\""
            ]
          },
          "execution_count": 37,
          "metadata": {},
          "output_type": "execute_result"
        }
      ],
      "source": [
        "# estimamos un ARMA (3,2)\n",
        "modelo = ARIMA(datos, order=(3, 0, 2))\n",
        "resultado = modelo.fit()\n",
        "resultado.summary()"
      ]
    },
    {
      "cell_type": "code",
      "execution_count": null,
      "id": "0928094d-7ac3-447e-b9d9-5f126357a933",
      "metadata": {
        "id": "0928094d-7ac3-447e-b9d9-5f126357a933",
        "outputId": "0a09ef09-1e93-4cae-e03a-220105e9bdcb"
      },
      "outputs": [
        {
          "name": "stderr",
          "output_type": "stream",
          "text": [
            "D:\\Anaconda\\lib\\site-packages\\statsmodels\\tsa\\base\\tsa_model.py:578: ValueWarning: An unsupported index was provided and will be ignored when e.g. forecasting.\n",
            "  warnings.warn('An unsupported index was provided and will be'\n",
            "D:\\Anaconda\\lib\\site-packages\\statsmodels\\tsa\\base\\tsa_model.py:578: ValueWarning: An unsupported index was provided and will be ignored when e.g. forecasting.\n",
            "  warnings.warn('An unsupported index was provided and will be'\n",
            "D:\\Anaconda\\lib\\site-packages\\statsmodels\\tsa\\base\\tsa_model.py:578: ValueWarning: An unsupported index was provided and will be ignored when e.g. forecasting.\n",
            "  warnings.warn('An unsupported index was provided and will be'\n"
          ]
        },
        {
          "data": {
            "text/html": [
              "<table class=\"simpletable\">\n",
              "<caption>SARIMAX Results</caption>\n",
              "<tr>\n",
              "  <th>Dep. Variable:</th>        <td>proceso</td>     <th>  No. Observations:  </th>   <td>1000</td>   \n",
              "</tr>\n",
              "<tr>\n",
              "  <th>Model:</th>            <td>ARIMA(4, 0, 1)</td>  <th>  Log Likelihood     </th> <td>-1435.140</td>\n",
              "</tr>\n",
              "<tr>\n",
              "  <th>Date:</th>            <td>Sun, 27 Mar 2022</td> <th>  AIC                </th> <td>2884.280</td> \n",
              "</tr>\n",
              "<tr>\n",
              "  <th>Time:</th>                <td>17:37:51</td>     <th>  BIC                </th> <td>2918.635</td> \n",
              "</tr>\n",
              "<tr>\n",
              "  <th>Sample:</th>                  <td>0</td>        <th>  HQIC               </th> <td>2897.338</td> \n",
              "</tr>\n",
              "<tr>\n",
              "  <th></th>                      <td> - 1000</td>     <th>                     </th>     <td> </td>    \n",
              "</tr>\n",
              "<tr>\n",
              "  <th>Covariance Type:</th>        <td>opg</td>       <th>                     </th>     <td> </td>    \n",
              "</tr>\n",
              "</table>\n",
              "<table class=\"simpletable\">\n",
              "<tr>\n",
              "     <td></td>       <th>coef</th>     <th>std err</th>      <th>z</th>      <th>P>|z|</th>  <th>[0.025</th>    <th>0.975]</th>  \n",
              "</tr>\n",
              "<tr>\n",
              "  <th>const</th>  <td>   -0.0969</td> <td>    0.270</td> <td>   -0.359</td> <td> 0.719</td> <td>   -0.625</td> <td>    0.432</td>\n",
              "</tr>\n",
              "<tr>\n",
              "  <th>ar.L1</th>  <td>    0.9858</td> <td>    0.238</td> <td>    4.146</td> <td> 0.000</td> <td>    0.520</td> <td>    1.452</td>\n",
              "</tr>\n",
              "<tr>\n",
              "  <th>ar.L2</th>  <td>    0.0655</td> <td>    0.238</td> <td>    0.275</td> <td> 0.783</td> <td>   -0.401</td> <td>    0.532</td>\n",
              "</tr>\n",
              "<tr>\n",
              "  <th>ar.L3</th>  <td>   -0.3033</td> <td>    0.045</td> <td>   -6.772</td> <td> 0.000</td> <td>   -0.391</td> <td>   -0.216</td>\n",
              "</tr>\n",
              "<tr>\n",
              "  <th>ar.L4</th>  <td>    0.1310</td> <td>    0.051</td> <td>    2.556</td> <td> 0.011</td> <td>    0.031</td> <td>    0.231</td>\n",
              "</tr>\n",
              "<tr>\n",
              "  <th>ma.L1</th>  <td>    0.0174</td> <td>    0.241</td> <td>    0.072</td> <td> 0.943</td> <td>   -0.454</td> <td>    0.489</td>\n",
              "</tr>\n",
              "<tr>\n",
              "  <th>sigma2</th> <td>    1.0311</td> <td>    0.048</td> <td>   21.615</td> <td> 0.000</td> <td>    0.938</td> <td>    1.125</td>\n",
              "</tr>\n",
              "</table>\n",
              "<table class=\"simpletable\">\n",
              "<tr>\n",
              "  <th>Ljung-Box (L1) (Q):</th>     <td>0.00</td> <th>  Jarque-Bera (JB):  </th> <td>0.37</td>\n",
              "</tr>\n",
              "<tr>\n",
              "  <th>Prob(Q):</th>                <td>0.98</td> <th>  Prob(JB):          </th> <td>0.83</td>\n",
              "</tr>\n",
              "<tr>\n",
              "  <th>Heteroskedasticity (H):</th> <td>1.01</td> <th>  Skew:              </th> <td>0.00</td>\n",
              "</tr>\n",
              "<tr>\n",
              "  <th>Prob(H) (two-sided):</th>    <td>0.96</td> <th>  Kurtosis:          </th> <td>2.91</td>\n",
              "</tr>\n",
              "</table><br/><br/>Warnings:<br/>[1] Covariance matrix calculated using the outer product of gradients (complex-step)."
            ],
            "text/plain": [
              "<class 'statsmodels.iolib.summary.Summary'>\n",
              "\"\"\"\n",
              "                               SARIMAX Results                                \n",
              "==============================================================================\n",
              "Dep. Variable:                proceso   No. Observations:                 1000\n",
              "Model:                 ARIMA(4, 0, 1)   Log Likelihood               -1435.140\n",
              "Date:                Sun, 27 Mar 2022   AIC                           2884.280\n",
              "Time:                        17:37:51   BIC                           2918.635\n",
              "Sample:                             0   HQIC                          2897.338\n",
              "                               - 1000                                         \n",
              "Covariance Type:                  opg                                         \n",
              "==============================================================================\n",
              "                 coef    std err          z      P>|z|      [0.025      0.975]\n",
              "------------------------------------------------------------------------------\n",
              "const         -0.0969      0.270     -0.359      0.719      -0.625       0.432\n",
              "ar.L1          0.9858      0.238      4.146      0.000       0.520       1.452\n",
              "ar.L2          0.0655      0.238      0.275      0.783      -0.401       0.532\n",
              "ar.L3         -0.3033      0.045     -6.772      0.000      -0.391      -0.216\n",
              "ar.L4          0.1310      0.051      2.556      0.011       0.031       0.231\n",
              "ma.L1          0.0174      0.241      0.072      0.943      -0.454       0.489\n",
              "sigma2         1.0311      0.048     21.615      0.000       0.938       1.125\n",
              "===================================================================================\n",
              "Ljung-Box (L1) (Q):                   0.00   Jarque-Bera (JB):                 0.37\n",
              "Prob(Q):                              0.98   Prob(JB):                         0.83\n",
              "Heteroskedasticity (H):               1.01   Skew:                             0.00\n",
              "Prob(H) (two-sided):                  0.96   Kurtosis:                         2.91\n",
              "===================================================================================\n",
              "\n",
              "Warnings:\n",
              "[1] Covariance matrix calculated using the outer product of gradients (complex-step).\n",
              "\"\"\""
            ]
          },
          "execution_count": 38,
          "metadata": {},
          "output_type": "execute_result"
        }
      ],
      "source": [
        "# estimamos un ARMA (4,1)\n",
        "modelo = ARIMA(datos, order=(4, 0, 1))\n",
        "resultado = modelo.fit()\n",
        "resultado.summary()"
      ]
    },
    {
      "cell_type": "code",
      "execution_count": null,
      "id": "0066f5c1-4fe0-404d-b3df-1d9d559e28f2",
      "metadata": {
        "id": "0066f5c1-4fe0-404d-b3df-1d9d559e28f2",
        "outputId": "a5ee9da2-36ff-48ed-b034-0824887c8c94"
      },
      "outputs": [
        {
          "name": "stderr",
          "output_type": "stream",
          "text": [
            "D:\\Anaconda\\lib\\site-packages\\statsmodels\\tsa\\base\\tsa_model.py:578: ValueWarning: An unsupported index was provided and will be ignored when e.g. forecasting.\n",
            "  warnings.warn('An unsupported index was provided and will be'\n",
            "D:\\Anaconda\\lib\\site-packages\\statsmodels\\tsa\\base\\tsa_model.py:578: ValueWarning: An unsupported index was provided and will be ignored when e.g. forecasting.\n",
            "  warnings.warn('An unsupported index was provided and will be'\n",
            "D:\\Anaconda\\lib\\site-packages\\statsmodels\\tsa\\base\\tsa_model.py:578: ValueWarning: An unsupported index was provided and will be ignored when e.g. forecasting.\n",
            "  warnings.warn('An unsupported index was provided and will be'\n"
          ]
        },
        {
          "data": {
            "text/html": [
              "<table class=\"simpletable\">\n",
              "<caption>SARIMAX Results</caption>\n",
              "<tr>\n",
              "  <th>Dep. Variable:</th>        <td>proceso</td>     <th>  No. Observations:  </th>   <td>1000</td>   \n",
              "</tr>\n",
              "<tr>\n",
              "  <th>Model:</th>            <td>ARIMA(4, 0, 4)</td>  <th>  Log Likelihood     </th> <td>-1427.065</td>\n",
              "</tr>\n",
              "<tr>\n",
              "  <th>Date:</th>            <td>Sun, 27 Mar 2022</td> <th>  AIC                </th> <td>2874.131</td> \n",
              "</tr>\n",
              "<tr>\n",
              "  <th>Time:</th>                <td>17:38:08</td>     <th>  BIC                </th> <td>2923.208</td> \n",
              "</tr>\n",
              "<tr>\n",
              "  <th>Sample:</th>                  <td>0</td>        <th>  HQIC               </th> <td>2892.784</td> \n",
              "</tr>\n",
              "<tr>\n",
              "  <th></th>                      <td> - 1000</td>     <th>                     </th>     <td> </td>    \n",
              "</tr>\n",
              "<tr>\n",
              "  <th>Covariance Type:</th>        <td>opg</td>       <th>                     </th>     <td> </td>    \n",
              "</tr>\n",
              "</table>\n",
              "<table class=\"simpletable\">\n",
              "<tr>\n",
              "     <td></td>       <th>coef</th>     <th>std err</th>      <th>z</th>      <th>P>|z|</th>  <th>[0.025</th>    <th>0.975]</th>  \n",
              "</tr>\n",
              "<tr>\n",
              "  <th>const</th>  <td>   -0.0993</td> <td>    0.254</td> <td>   -0.391</td> <td> 0.696</td> <td>   -0.598</td> <td>    0.399</td>\n",
              "</tr>\n",
              "<tr>\n",
              "  <th>ar.L1</th>  <td>    1.4774</td> <td>    0.122</td> <td>   12.133</td> <td> 0.000</td> <td>    1.239</td> <td>    1.716</td>\n",
              "</tr>\n",
              "<tr>\n",
              "  <th>ar.L2</th>  <td>   -0.9466</td> <td>    0.246</td> <td>   -3.849</td> <td> 0.000</td> <td>   -1.429</td> <td>   -0.465</td>\n",
              "</tr>\n",
              "<tr>\n",
              "  <th>ar.L3</th>  <td>   -0.0932</td> <td>    0.236</td> <td>   -0.396</td> <td> 0.692</td> <td>   -0.555</td> <td>    0.369</td>\n",
              "</tr>\n",
              "<tr>\n",
              "  <th>ar.L4</th>  <td>    0.3593</td> <td>    0.102</td> <td>    3.533</td> <td> 0.000</td> <td>    0.160</td> <td>    0.559</td>\n",
              "</tr>\n",
              "<tr>\n",
              "  <th>ma.L1</th>  <td>   -0.4744</td> <td>    0.119</td> <td>   -3.980</td> <td> 0.000</td> <td>   -0.708</td> <td>   -0.241</td>\n",
              "</tr>\n",
              "<tr>\n",
              "  <th>ma.L2</th>  <td>    0.5434</td> <td>    0.133</td> <td>    4.072</td> <td> 0.000</td> <td>    0.282</td> <td>    0.805</td>\n",
              "</tr>\n",
              "<tr>\n",
              "  <th>ma.L3</th>  <td>    0.2951</td> <td>    0.111</td> <td>    2.651</td> <td> 0.008</td> <td>    0.077</td> <td>    0.513</td>\n",
              "</tr>\n",
              "<tr>\n",
              "  <th>ma.L4</th>  <td>    0.2561</td> <td>    0.039</td> <td>    6.558</td> <td> 0.000</td> <td>    0.180</td> <td>    0.333</td>\n",
              "</tr>\n",
              "<tr>\n",
              "  <th>sigma2</th> <td>    1.0142</td> <td>    0.047</td> <td>   21.552</td> <td> 0.000</td> <td>    0.922</td> <td>    1.106</td>\n",
              "</tr>\n",
              "</table>\n",
              "<table class=\"simpletable\">\n",
              "<tr>\n",
              "  <th>Ljung-Box (L1) (Q):</th>     <td>0.03</td> <th>  Jarque-Bera (JB):  </th> <td>0.44</td>\n",
              "</tr>\n",
              "<tr>\n",
              "  <th>Prob(Q):</th>                <td>0.87</td> <th>  Prob(JB):          </th> <td>0.80</td>\n",
              "</tr>\n",
              "<tr>\n",
              "  <th>Heteroskedasticity (H):</th> <td>1.02</td> <th>  Skew:              </th> <td>0.02</td>\n",
              "</tr>\n",
              "<tr>\n",
              "  <th>Prob(H) (two-sided):</th>    <td>0.87</td> <th>  Kurtosis:          </th> <td>2.91</td>\n",
              "</tr>\n",
              "</table><br/><br/>Warnings:<br/>[1] Covariance matrix calculated using the outer product of gradients (complex-step)."
            ],
            "text/plain": [
              "<class 'statsmodels.iolib.summary.Summary'>\n",
              "\"\"\"\n",
              "                               SARIMAX Results                                \n",
              "==============================================================================\n",
              "Dep. Variable:                proceso   No. Observations:                 1000\n",
              "Model:                 ARIMA(4, 0, 4)   Log Likelihood               -1427.065\n",
              "Date:                Sun, 27 Mar 2022   AIC                           2874.131\n",
              "Time:                        17:38:08   BIC                           2923.208\n",
              "Sample:                             0   HQIC                          2892.784\n",
              "                               - 1000                                         \n",
              "Covariance Type:                  opg                                         \n",
              "==============================================================================\n",
              "                 coef    std err          z      P>|z|      [0.025      0.975]\n",
              "------------------------------------------------------------------------------\n",
              "const         -0.0993      0.254     -0.391      0.696      -0.598       0.399\n",
              "ar.L1          1.4774      0.122     12.133      0.000       1.239       1.716\n",
              "ar.L2         -0.9466      0.246     -3.849      0.000      -1.429      -0.465\n",
              "ar.L3         -0.0932      0.236     -0.396      0.692      -0.555       0.369\n",
              "ar.L4          0.3593      0.102      3.533      0.000       0.160       0.559\n",
              "ma.L1         -0.4744      0.119     -3.980      0.000      -0.708      -0.241\n",
              "ma.L2          0.5434      0.133      4.072      0.000       0.282       0.805\n",
              "ma.L3          0.2951      0.111      2.651      0.008       0.077       0.513\n",
              "ma.L4          0.2561      0.039      6.558      0.000       0.180       0.333\n",
              "sigma2         1.0142      0.047     21.552      0.000       0.922       1.106\n",
              "===================================================================================\n",
              "Ljung-Box (L1) (Q):                   0.03   Jarque-Bera (JB):                 0.44\n",
              "Prob(Q):                              0.87   Prob(JB):                         0.80\n",
              "Heteroskedasticity (H):               1.02   Skew:                             0.02\n",
              "Prob(H) (two-sided):                  0.87   Kurtosis:                         2.91\n",
              "===================================================================================\n",
              "\n",
              "Warnings:\n",
              "[1] Covariance matrix calculated using the outer product of gradients (complex-step).\n",
              "\"\"\""
            ]
          },
          "execution_count": 39,
          "metadata": {},
          "output_type": "execute_result"
        }
      ],
      "source": [
        "# estimamos un ARMA (4,4)\n",
        "modelo = ARIMA(datos, order=(4, 0, 4))\n",
        "resultado = modelo.fit()\n",
        "resultado.summary()"
      ]
    },
    {
      "cell_type": "markdown",
      "id": "194b0452-67f4-4df4-a0e6-165b0eb32213",
      "metadata": {
        "id": "194b0452-67f4-4df4-a0e6-165b0eb32213"
      },
      "source": [
        "**h) Elige dos modelos: el que tiene mejor Criterio de Akaike (AIC), y el que \n",
        "tiene mejor Criterio bayesiano de información (BIC)**"
      ]
    },
    {
      "cell_type": "markdown",
      "id": "a5a6fd03-e8df-44ec-a30b-6257f1c4b3df",
      "metadata": {
        "id": "a5a6fd03-e8df-44ec-a30b-6257f1c4b3df"
      },
      "source": [
        "**Criterio bayesiano de información (BIC)**"
      ]
    },
    {
      "cell_type": "code",
      "execution_count": null,
      "id": "8e2838ff",
      "metadata": {
        "id": "8e2838ff",
        "outputId": "e8b2ea76-04bf-4a90-df15-8aaab73a9824"
      },
      "outputs": [
        {
          "data": {
            "text/html": [
              "<div>\n",
              "<style scoped>\n",
              "    .dataframe tbody tr th:only-of-type {\n",
              "        vertical-align: middle;\n",
              "    }\n",
              "\n",
              "    .dataframe tbody tr th {\n",
              "        vertical-align: top;\n",
              "    }\n",
              "\n",
              "    .dataframe thead th {\n",
              "        text-align: right;\n",
              "    }\n",
              "</style>\n",
              "<table border=\"1\" class=\"dataframe\">\n",
              "  <thead>\n",
              "    <tr style=\"text-align: right;\">\n",
              "      <th></th>\n",
              "      <th></th>\n",
              "      <th>AIC</th>\n",
              "      <th>BIC</th>\n",
              "    </tr>\n",
              "    <tr>\n",
              "      <th>AR</th>\n",
              "      <th>MA</th>\n",
              "      <th></th>\n",
              "      <th></th>\n",
              "    </tr>\n",
              "  </thead>\n",
              "  <tbody>\n",
              "    <tr>\n",
              "      <th>2</th>\n",
              "      <th>2</th>\n",
              "      <td>2880.467875</td>\n",
              "      <td>2909.914407</td>\n",
              "    </tr>\n",
              "    <tr>\n",
              "      <th>1</th>\n",
              "      <th>3</th>\n",
              "      <td>2881.833150</td>\n",
              "      <td>2911.279682</td>\n",
              "    </tr>\n",
              "    <tr>\n",
              "      <th>4</th>\n",
              "      <th>0</th>\n",
              "      <td>2882.286082</td>\n",
              "      <td>2911.732614</td>\n",
              "    </tr>\n",
              "    <tr>\n",
              "      <th rowspan=\"2\" valign=\"top\">1</th>\n",
              "      <th>2</th>\n",
              "      <td>2887.641199</td>\n",
              "      <td>2912.179975</td>\n",
              "    </tr>\n",
              "    <tr>\n",
              "      <th>4</th>\n",
              "      <td>2882.057379</td>\n",
              "      <td>2916.411666</td>\n",
              "    </tr>\n",
              "    <tr>\n",
              "      <th>3</th>\n",
              "      <th>2</th>\n",
              "      <td>2882.071937</td>\n",
              "      <td>2916.426224</td>\n",
              "    </tr>\n",
              "    <tr>\n",
              "      <th>2</th>\n",
              "      <th>3</th>\n",
              "      <td>2882.245082</td>\n",
              "      <td>2916.599369</td>\n",
              "    </tr>\n",
              "    <tr>\n",
              "      <th>3</th>\n",
              "      <th>1</th>\n",
              "      <td>2887.691717</td>\n",
              "      <td>2917.138249</td>\n",
              "    </tr>\n",
              "    <tr>\n",
              "      <th>4</th>\n",
              "      <th>1</th>\n",
              "      <td>2884.280488</td>\n",
              "      <td>2918.634775</td>\n",
              "    </tr>\n",
              "    <tr>\n",
              "      <th>5</th>\n",
              "      <th>0</th>\n",
              "      <td>2884.280507</td>\n",
              "      <td>2918.634794</td>\n",
              "    </tr>\n",
              "    <tr>\n",
              "      <th rowspan=\"2\" valign=\"top\">3</th>\n",
              "      <th>5</th>\n",
              "      <td>2870.861148</td>\n",
              "      <td>2919.938701</td>\n",
              "    </tr>\n",
              "    <tr>\n",
              "      <th>3</th>\n",
              "      <td>2883.152269</td>\n",
              "      <td>2922.414311</td>\n",
              "    </tr>\n",
              "    <tr>\n",
              "      <th>1</th>\n",
              "      <th>5</th>\n",
              "      <td>2883.471318</td>\n",
              "      <td>2922.733360</td>\n",
              "    </tr>\n",
              "    <tr>\n",
              "      <th>3</th>\n",
              "      <th>0</th>\n",
              "      <td>2898.413337</td>\n",
              "      <td>2922.952113</td>\n",
              "    </tr>\n",
              "    <tr>\n",
              "      <th>2</th>\n",
              "      <th>4</th>\n",
              "      <td>2883.907745</td>\n",
              "      <td>2923.169787</td>\n",
              "    </tr>\n",
              "    <tr>\n",
              "      <th>4</th>\n",
              "      <th>4</th>\n",
              "      <td>2874.130854</td>\n",
              "      <td>2923.208407</td>\n",
              "    </tr>\n",
              "    <tr>\n",
              "      <th>5</th>\n",
              "      <th>1</th>\n",
              "      <td>2885.459320</td>\n",
              "      <td>2924.721363</td>\n",
              "    </tr>\n",
              "    <tr>\n",
              "      <th>6</th>\n",
              "      <th>0</th>\n",
              "      <td>2886.278700</td>\n",
              "      <td>2925.540742</td>\n",
              "    </tr>\n",
              "    <tr>\n",
              "      <th>4</th>\n",
              "      <th>2</th>\n",
              "      <td>2886.282014</td>\n",
              "      <td>2925.544056</td>\n",
              "    </tr>\n",
              "    <tr>\n",
              "      <th>5</th>\n",
              "      <th>4</th>\n",
              "      <td>2871.567074</td>\n",
              "      <td>2925.552382</td>\n",
              "    </tr>\n",
              "    <tr>\n",
              "      <th>3</th>\n",
              "      <th>6</th>\n",
              "      <td>2871.871042</td>\n",
              "      <td>2925.856350</td>\n",
              "    </tr>\n",
              "    <tr>\n",
              "      <th>1</th>\n",
              "      <th>6</th>\n",
              "      <td>2881.875444</td>\n",
              "      <td>2926.045241</td>\n",
              "    </tr>\n",
              "    <tr>\n",
              "      <th>4</th>\n",
              "      <th>5</th>\n",
              "      <td>2872.128284</td>\n",
              "      <td>2926.113592</td>\n",
              "    </tr>\n",
              "    <tr>\n",
              "      <th>2</th>\n",
              "      <th>5</th>\n",
              "      <td>2884.477537</td>\n",
              "      <td>2928.647334</td>\n",
              "    </tr>\n",
              "    <tr>\n",
              "      <th>6</th>\n",
              "      <th>2</th>\n",
              "      <td>2879.864039</td>\n",
              "      <td>2928.941592</td>\n",
              "    </tr>\n",
              "    <tr>\n",
              "      <th>5</th>\n",
              "      <th>2</th>\n",
              "      <td>2884.796725</td>\n",
              "      <td>2928.966522</td>\n",
              "    </tr>\n",
              "    <tr>\n",
              "      <th>4</th>\n",
              "      <th>3</th>\n",
              "      <td>2884.797957</td>\n",
              "      <td>2928.967755</td>\n",
              "    </tr>\n",
              "    <tr>\n",
              "      <th>3</th>\n",
              "      <th>4</th>\n",
              "      <td>2886.236630</td>\n",
              "      <td>2930.406427</td>\n",
              "    </tr>\n",
              "    <tr>\n",
              "      <th>6</th>\n",
              "      <th>1</th>\n",
              "      <td>2886.688713</td>\n",
              "      <td>2930.858510</td>\n",
              "    </tr>\n",
              "    <tr>\n",
              "      <th>2</th>\n",
              "      <th>6</th>\n",
              "      <td>2883.872032</td>\n",
              "      <td>2932.949584</td>\n",
              "    </tr>\n",
              "    <tr>\n",
              "      <th>4</th>\n",
              "      <th>6</th>\n",
              "      <td>2874.320810</td>\n",
              "      <td>2933.213874</td>\n",
              "    </tr>\n",
              "    <tr>\n",
              "      <th>5</th>\n",
              "      <th>3</th>\n",
              "      <td>2886.797922</td>\n",
              "      <td>2935.875475</td>\n",
              "    </tr>\n",
              "    <tr>\n",
              "      <th>6</th>\n",
              "      <th>3</th>\n",
              "      <td>2882.250695</td>\n",
              "      <td>2936.236003</td>\n",
              "    </tr>\n",
              "    <tr>\n",
              "      <th>5</th>\n",
              "      <th>5</th>\n",
              "      <td>2880.985538</td>\n",
              "      <td>2939.878601</td>\n",
              "    </tr>\n",
              "    <tr>\n",
              "      <th>6</th>\n",
              "      <th>4</th>\n",
              "      <td>2885.787150</td>\n",
              "      <td>2944.680213</td>\n",
              "    </tr>\n",
              "    <tr>\n",
              "      <th>5</th>\n",
              "      <th>6</th>\n",
              "      <td>2881.805758</td>\n",
              "      <td>2945.606576</td>\n",
              "    </tr>\n",
              "    <tr>\n",
              "      <th>2</th>\n",
              "      <th>0</th>\n",
              "      <td>2926.860056</td>\n",
              "      <td>2946.491077</td>\n",
              "    </tr>\n",
              "    <tr>\n",
              "      <th>1</th>\n",
              "      <th>1</th>\n",
              "      <td>2930.944168</td>\n",
              "      <td>2950.575189</td>\n",
              "    </tr>\n",
              "    <tr>\n",
              "      <th>6</th>\n",
              "      <th>5</th>\n",
              "      <td>2887.944076</td>\n",
              "      <td>2951.744895</td>\n",
              "    </tr>\n",
              "    <tr>\n",
              "      <th>1</th>\n",
              "      <th>0</th>\n",
              "      <td>2938.589816</td>\n",
              "      <td>2953.313082</td>\n",
              "    </tr>\n",
              "    <tr>\n",
              "      <th>0</th>\n",
              "      <th>6</th>\n",
              "      <td>2915.896082</td>\n",
              "      <td>2955.158124</td>\n",
              "    </tr>\n",
              "    <tr>\n",
              "      <th>2</th>\n",
              "      <th>1</th>\n",
              "      <td>2939.730505</td>\n",
              "      <td>2964.269281</td>\n",
              "    </tr>\n",
              "    <tr>\n",
              "      <th rowspan=\"2\" valign=\"top\">0</th>\n",
              "      <th>5</th>\n",
              "      <td>2940.448901</td>\n",
              "      <td>2974.803188</td>\n",
              "    </tr>\n",
              "    <tr>\n",
              "      <th>4</th>\n",
              "      <td>3005.769303</td>\n",
              "      <td>3035.215835</td>\n",
              "    </tr>\n",
              "    <tr>\n",
              "      <th>6</th>\n",
              "      <th>6</th>\n",
              "      <td>2972.933432</td>\n",
              "      <td>3041.642006</td>\n",
              "    </tr>\n",
              "    <tr>\n",
              "      <th rowspan=\"4\" valign=\"top\">0</th>\n",
              "      <th>3</th>\n",
              "      <td>3099.641698</td>\n",
              "      <td>3124.180475</td>\n",
              "    </tr>\n",
              "    <tr>\n",
              "      <th>2</th>\n",
              "      <td>3254.748875</td>\n",
              "      <td>3274.379896</td>\n",
              "    </tr>\n",
              "    <tr>\n",
              "      <th>1</th>\n",
              "      <td>3776.529813</td>\n",
              "      <td>3791.253079</td>\n",
              "    </tr>\n",
              "    <tr>\n",
              "      <th>0</th>\n",
              "      <td>4554.099799</td>\n",
              "      <td>4563.915309</td>\n",
              "    </tr>\n",
              "  </tbody>\n",
              "</table>\n",
              "</div>"
            ],
            "text/plain": [
              "               AIC          BIC\n",
              "AR MA                          \n",
              "2  2   2880.467875  2909.914407\n",
              "1  3   2881.833150  2911.279682\n",
              "4  0   2882.286082  2911.732614\n",
              "1  2   2887.641199  2912.179975\n",
              "   4   2882.057379  2916.411666\n",
              "3  2   2882.071937  2916.426224\n",
              "2  3   2882.245082  2916.599369\n",
              "3  1   2887.691717  2917.138249\n",
              "4  1   2884.280488  2918.634775\n",
              "5  0   2884.280507  2918.634794\n",
              "3  5   2870.861148  2919.938701\n",
              "   3   2883.152269  2922.414311\n",
              "1  5   2883.471318  2922.733360\n",
              "3  0   2898.413337  2922.952113\n",
              "2  4   2883.907745  2923.169787\n",
              "4  4   2874.130854  2923.208407\n",
              "5  1   2885.459320  2924.721363\n",
              "6  0   2886.278700  2925.540742\n",
              "4  2   2886.282014  2925.544056\n",
              "5  4   2871.567074  2925.552382\n",
              "3  6   2871.871042  2925.856350\n",
              "1  6   2881.875444  2926.045241\n",
              "4  5   2872.128284  2926.113592\n",
              "2  5   2884.477537  2928.647334\n",
              "6  2   2879.864039  2928.941592\n",
              "5  2   2884.796725  2928.966522\n",
              "4  3   2884.797957  2928.967755\n",
              "3  4   2886.236630  2930.406427\n",
              "6  1   2886.688713  2930.858510\n",
              "2  6   2883.872032  2932.949584\n",
              "4  6   2874.320810  2933.213874\n",
              "5  3   2886.797922  2935.875475\n",
              "6  3   2882.250695  2936.236003\n",
              "5  5   2880.985538  2939.878601\n",
              "6  4   2885.787150  2944.680213\n",
              "5  6   2881.805758  2945.606576\n",
              "2  0   2926.860056  2946.491077\n",
              "1  1   2930.944168  2950.575189\n",
              "6  5   2887.944076  2951.744895\n",
              "1  0   2938.589816  2953.313082\n",
              "0  6   2915.896082  2955.158124\n",
              "2  1   2939.730505  2964.269281\n",
              "0  5   2940.448901  2974.803188\n",
              "   4   3005.769303  3035.215835\n",
              "6  6   2972.933432  3041.642006\n",
              "0  3   3099.641698  3124.180475\n",
              "   2   3254.748875  3274.379896\n",
              "   1   3776.529813  3791.253079\n",
              "   0   4554.099799  4563.915309"
            ]
          },
          "execution_count": 29,
          "metadata": {},
          "output_type": "execute_result"
        }
      ],
      "source": [
        "ic.sort_values('BIC', ascending = True)"
      ]
    },
    {
      "cell_type": "markdown",
      "id": "d7c338f0-f0bd-4287-883d-8892ad61b6ee",
      "metadata": {
        "id": "d7c338f0-f0bd-4287-883d-8892ad61b6ee"
      },
      "source": [
        "**Criterio de Akaike (AIC)**"
      ]
    },
    {
      "cell_type": "code",
      "execution_count": null,
      "id": "d984c9ae",
      "metadata": {
        "id": "d984c9ae",
        "outputId": "d4f79734-a941-4c49-f7f4-459e7e6934b3"
      },
      "outputs": [
        {
          "data": {
            "text/html": [
              "<div>\n",
              "<style scoped>\n",
              "    .dataframe tbody tr th:only-of-type {\n",
              "        vertical-align: middle;\n",
              "    }\n",
              "\n",
              "    .dataframe tbody tr th {\n",
              "        vertical-align: top;\n",
              "    }\n",
              "\n",
              "    .dataframe thead th {\n",
              "        text-align: right;\n",
              "    }\n",
              "</style>\n",
              "<table border=\"1\" class=\"dataframe\">\n",
              "  <thead>\n",
              "    <tr style=\"text-align: right;\">\n",
              "      <th></th>\n",
              "      <th></th>\n",
              "      <th>AIC</th>\n",
              "      <th>BIC</th>\n",
              "    </tr>\n",
              "    <tr>\n",
              "      <th>AR</th>\n",
              "      <th>MA</th>\n",
              "      <th></th>\n",
              "      <th></th>\n",
              "    </tr>\n",
              "  </thead>\n",
              "  <tbody>\n",
              "    <tr>\n",
              "      <th>3</th>\n",
              "      <th>5</th>\n",
              "      <td>2870.861148</td>\n",
              "      <td>2919.938701</td>\n",
              "    </tr>\n",
              "    <tr>\n",
              "      <th>5</th>\n",
              "      <th>4</th>\n",
              "      <td>2871.567074</td>\n",
              "      <td>2925.552382</td>\n",
              "    </tr>\n",
              "    <tr>\n",
              "      <th>3</th>\n",
              "      <th>6</th>\n",
              "      <td>2871.871042</td>\n",
              "      <td>2925.856350</td>\n",
              "    </tr>\n",
              "    <tr>\n",
              "      <th rowspan=\"3\" valign=\"top\">4</th>\n",
              "      <th>5</th>\n",
              "      <td>2872.128284</td>\n",
              "      <td>2926.113592</td>\n",
              "    </tr>\n",
              "    <tr>\n",
              "      <th>4</th>\n",
              "      <td>2874.130854</td>\n",
              "      <td>2923.208407</td>\n",
              "    </tr>\n",
              "    <tr>\n",
              "      <th>6</th>\n",
              "      <td>2874.320810</td>\n",
              "      <td>2933.213874</td>\n",
              "    </tr>\n",
              "    <tr>\n",
              "      <th>6</th>\n",
              "      <th>2</th>\n",
              "      <td>2879.864039</td>\n",
              "      <td>2928.941592</td>\n",
              "    </tr>\n",
              "    <tr>\n",
              "      <th>2</th>\n",
              "      <th>2</th>\n",
              "      <td>2880.467875</td>\n",
              "      <td>2909.914407</td>\n",
              "    </tr>\n",
              "    <tr>\n",
              "      <th rowspan=\"2\" valign=\"top\">5</th>\n",
              "      <th>5</th>\n",
              "      <td>2880.985538</td>\n",
              "      <td>2939.878601</td>\n",
              "    </tr>\n",
              "    <tr>\n",
              "      <th>6</th>\n",
              "      <td>2881.805758</td>\n",
              "      <td>2945.606576</td>\n",
              "    </tr>\n",
              "    <tr>\n",
              "      <th rowspan=\"3\" valign=\"top\">1</th>\n",
              "      <th>3</th>\n",
              "      <td>2881.833150</td>\n",
              "      <td>2911.279682</td>\n",
              "    </tr>\n",
              "    <tr>\n",
              "      <th>6</th>\n",
              "      <td>2881.875444</td>\n",
              "      <td>2926.045241</td>\n",
              "    </tr>\n",
              "    <tr>\n",
              "      <th>4</th>\n",
              "      <td>2882.057379</td>\n",
              "      <td>2916.411666</td>\n",
              "    </tr>\n",
              "    <tr>\n",
              "      <th>3</th>\n",
              "      <th>2</th>\n",
              "      <td>2882.071937</td>\n",
              "      <td>2916.426224</td>\n",
              "    </tr>\n",
              "    <tr>\n",
              "      <th>2</th>\n",
              "      <th>3</th>\n",
              "      <td>2882.245082</td>\n",
              "      <td>2916.599369</td>\n",
              "    </tr>\n",
              "    <tr>\n",
              "      <th>6</th>\n",
              "      <th>3</th>\n",
              "      <td>2882.250695</td>\n",
              "      <td>2936.236003</td>\n",
              "    </tr>\n",
              "    <tr>\n",
              "      <th>4</th>\n",
              "      <th>0</th>\n",
              "      <td>2882.286082</td>\n",
              "      <td>2911.732614</td>\n",
              "    </tr>\n",
              "    <tr>\n",
              "      <th>3</th>\n",
              "      <th>3</th>\n",
              "      <td>2883.152269</td>\n",
              "      <td>2922.414311</td>\n",
              "    </tr>\n",
              "    <tr>\n",
              "      <th>1</th>\n",
              "      <th>5</th>\n",
              "      <td>2883.471318</td>\n",
              "      <td>2922.733360</td>\n",
              "    </tr>\n",
              "    <tr>\n",
              "      <th rowspan=\"2\" valign=\"top\">2</th>\n",
              "      <th>6</th>\n",
              "      <td>2883.872032</td>\n",
              "      <td>2932.949584</td>\n",
              "    </tr>\n",
              "    <tr>\n",
              "      <th>4</th>\n",
              "      <td>2883.907745</td>\n",
              "      <td>2923.169787</td>\n",
              "    </tr>\n",
              "    <tr>\n",
              "      <th>4</th>\n",
              "      <th>1</th>\n",
              "      <td>2884.280488</td>\n",
              "      <td>2918.634775</td>\n",
              "    </tr>\n",
              "    <tr>\n",
              "      <th>5</th>\n",
              "      <th>0</th>\n",
              "      <td>2884.280507</td>\n",
              "      <td>2918.634794</td>\n",
              "    </tr>\n",
              "    <tr>\n",
              "      <th>2</th>\n",
              "      <th>5</th>\n",
              "      <td>2884.477537</td>\n",
              "      <td>2928.647334</td>\n",
              "    </tr>\n",
              "    <tr>\n",
              "      <th>5</th>\n",
              "      <th>2</th>\n",
              "      <td>2884.796725</td>\n",
              "      <td>2928.966522</td>\n",
              "    </tr>\n",
              "    <tr>\n",
              "      <th>4</th>\n",
              "      <th>3</th>\n",
              "      <td>2884.797957</td>\n",
              "      <td>2928.967755</td>\n",
              "    </tr>\n",
              "    <tr>\n",
              "      <th>5</th>\n",
              "      <th>1</th>\n",
              "      <td>2885.459320</td>\n",
              "      <td>2924.721363</td>\n",
              "    </tr>\n",
              "    <tr>\n",
              "      <th>6</th>\n",
              "      <th>4</th>\n",
              "      <td>2885.787150</td>\n",
              "      <td>2944.680213</td>\n",
              "    </tr>\n",
              "    <tr>\n",
              "      <th>3</th>\n",
              "      <th>4</th>\n",
              "      <td>2886.236630</td>\n",
              "      <td>2930.406427</td>\n",
              "    </tr>\n",
              "    <tr>\n",
              "      <th>6</th>\n",
              "      <th>0</th>\n",
              "      <td>2886.278700</td>\n",
              "      <td>2925.540742</td>\n",
              "    </tr>\n",
              "    <tr>\n",
              "      <th>4</th>\n",
              "      <th>2</th>\n",
              "      <td>2886.282014</td>\n",
              "      <td>2925.544056</td>\n",
              "    </tr>\n",
              "    <tr>\n",
              "      <th>6</th>\n",
              "      <th>1</th>\n",
              "      <td>2886.688713</td>\n",
              "      <td>2930.858510</td>\n",
              "    </tr>\n",
              "    <tr>\n",
              "      <th>5</th>\n",
              "      <th>3</th>\n",
              "      <td>2886.797922</td>\n",
              "      <td>2935.875475</td>\n",
              "    </tr>\n",
              "    <tr>\n",
              "      <th>1</th>\n",
              "      <th>2</th>\n",
              "      <td>2887.641199</td>\n",
              "      <td>2912.179975</td>\n",
              "    </tr>\n",
              "    <tr>\n",
              "      <th>3</th>\n",
              "      <th>1</th>\n",
              "      <td>2887.691717</td>\n",
              "      <td>2917.138249</td>\n",
              "    </tr>\n",
              "    <tr>\n",
              "      <th>6</th>\n",
              "      <th>5</th>\n",
              "      <td>2887.944076</td>\n",
              "      <td>2951.744895</td>\n",
              "    </tr>\n",
              "    <tr>\n",
              "      <th>3</th>\n",
              "      <th>0</th>\n",
              "      <td>2898.413337</td>\n",
              "      <td>2922.952113</td>\n",
              "    </tr>\n",
              "    <tr>\n",
              "      <th>0</th>\n",
              "      <th>6</th>\n",
              "      <td>2915.896082</td>\n",
              "      <td>2955.158124</td>\n",
              "    </tr>\n",
              "    <tr>\n",
              "      <th>2</th>\n",
              "      <th>0</th>\n",
              "      <td>2926.860056</td>\n",
              "      <td>2946.491077</td>\n",
              "    </tr>\n",
              "    <tr>\n",
              "      <th rowspan=\"2\" valign=\"top\">1</th>\n",
              "      <th>1</th>\n",
              "      <td>2930.944168</td>\n",
              "      <td>2950.575189</td>\n",
              "    </tr>\n",
              "    <tr>\n",
              "      <th>0</th>\n",
              "      <td>2938.589816</td>\n",
              "      <td>2953.313082</td>\n",
              "    </tr>\n",
              "    <tr>\n",
              "      <th>2</th>\n",
              "      <th>1</th>\n",
              "      <td>2939.730505</td>\n",
              "      <td>2964.269281</td>\n",
              "    </tr>\n",
              "    <tr>\n",
              "      <th>0</th>\n",
              "      <th>5</th>\n",
              "      <td>2940.448901</td>\n",
              "      <td>2974.803188</td>\n",
              "    </tr>\n",
              "    <tr>\n",
              "      <th>6</th>\n",
              "      <th>6</th>\n",
              "      <td>2972.933432</td>\n",
              "      <td>3041.642006</td>\n",
              "    </tr>\n",
              "    <tr>\n",
              "      <th rowspan=\"5\" valign=\"top\">0</th>\n",
              "      <th>4</th>\n",
              "      <td>3005.769303</td>\n",
              "      <td>3035.215835</td>\n",
              "    </tr>\n",
              "    <tr>\n",
              "      <th>3</th>\n",
              "      <td>3099.641698</td>\n",
              "      <td>3124.180475</td>\n",
              "    </tr>\n",
              "    <tr>\n",
              "      <th>2</th>\n",
              "      <td>3254.748875</td>\n",
              "      <td>3274.379896</td>\n",
              "    </tr>\n",
              "    <tr>\n",
              "      <th>1</th>\n",
              "      <td>3776.529813</td>\n",
              "      <td>3791.253079</td>\n",
              "    </tr>\n",
              "    <tr>\n",
              "      <th>0</th>\n",
              "      <td>4554.099799</td>\n",
              "      <td>4563.915309</td>\n",
              "    </tr>\n",
              "  </tbody>\n",
              "</table>\n",
              "</div>"
            ],
            "text/plain": [
              "               AIC          BIC\n",
              "AR MA                          \n",
              "3  5   2870.861148  2919.938701\n",
              "5  4   2871.567074  2925.552382\n",
              "3  6   2871.871042  2925.856350\n",
              "4  5   2872.128284  2926.113592\n",
              "   4   2874.130854  2923.208407\n",
              "   6   2874.320810  2933.213874\n",
              "6  2   2879.864039  2928.941592\n",
              "2  2   2880.467875  2909.914407\n",
              "5  5   2880.985538  2939.878601\n",
              "   6   2881.805758  2945.606576\n",
              "1  3   2881.833150  2911.279682\n",
              "   6   2881.875444  2926.045241\n",
              "   4   2882.057379  2916.411666\n",
              "3  2   2882.071937  2916.426224\n",
              "2  3   2882.245082  2916.599369\n",
              "6  3   2882.250695  2936.236003\n",
              "4  0   2882.286082  2911.732614\n",
              "3  3   2883.152269  2922.414311\n",
              "1  5   2883.471318  2922.733360\n",
              "2  6   2883.872032  2932.949584\n",
              "   4   2883.907745  2923.169787\n",
              "4  1   2884.280488  2918.634775\n",
              "5  0   2884.280507  2918.634794\n",
              "2  5   2884.477537  2928.647334\n",
              "5  2   2884.796725  2928.966522\n",
              "4  3   2884.797957  2928.967755\n",
              "5  1   2885.459320  2924.721363\n",
              "6  4   2885.787150  2944.680213\n",
              "3  4   2886.236630  2930.406427\n",
              "6  0   2886.278700  2925.540742\n",
              "4  2   2886.282014  2925.544056\n",
              "6  1   2886.688713  2930.858510\n",
              "5  3   2886.797922  2935.875475\n",
              "1  2   2887.641199  2912.179975\n",
              "3  1   2887.691717  2917.138249\n",
              "6  5   2887.944076  2951.744895\n",
              "3  0   2898.413337  2922.952113\n",
              "0  6   2915.896082  2955.158124\n",
              "2  0   2926.860056  2946.491077\n",
              "1  1   2930.944168  2950.575189\n",
              "   0   2938.589816  2953.313082\n",
              "2  1   2939.730505  2964.269281\n",
              "0  5   2940.448901  2974.803188\n",
              "6  6   2972.933432  3041.642006\n",
              "0  4   3005.769303  3035.215835\n",
              "   3   3099.641698  3124.180475\n",
              "   2   3254.748875  3274.379896\n",
              "   1   3776.529813  3791.253079\n",
              "   0   4554.099799  4563.915309"
            ]
          },
          "execution_count": 30,
          "metadata": {},
          "output_type": "execute_result"
        }
      ],
      "source": [
        "ic.sort_values('AIC', ascending = True)"
      ]
    },
    {
      "cell_type": "code",
      "execution_count": null,
      "id": "20ba7df9",
      "metadata": {
        "id": "20ba7df9",
        "outputId": "1acab160-4971-4827-aa11-ede102d69f87"
      },
      "outputs": [
        {
          "name": "stderr",
          "output_type": "stream",
          "text": [
            "D:\\Anaconda\\lib\\site-packages\\statsmodels\\tsa\\base\\tsa_model.py:578: ValueWarning: An unsupported index was provided and will be ignored when e.g. forecasting.\n",
            "  warnings.warn('An unsupported index was provided and will be'\n",
            "D:\\Anaconda\\lib\\site-packages\\statsmodels\\tsa\\base\\tsa_model.py:578: ValueWarning: An unsupported index was provided and will be ignored when e.g. forecasting.\n",
            "  warnings.warn('An unsupported index was provided and will be'\n",
            "D:\\Anaconda\\lib\\site-packages\\statsmodels\\tsa\\base\\tsa_model.py:578: ValueWarning: An unsupported index was provided and will be ignored when e.g. forecasting.\n",
            "  warnings.warn('An unsupported index was provided and will be'\n"
          ]
        },
        {
          "data": {
            "text/html": [
              "<table class=\"simpletable\">\n",
              "<caption>SARIMAX Results</caption>\n",
              "<tr>\n",
              "  <th>Dep. Variable:</th>        <td>proceso</td>     <th>  No. Observations:  </th>   <td>1000</td>   \n",
              "</tr>\n",
              "<tr>\n",
              "  <th>Model:</th>            <td>ARIMA(2, 0, 2)</td>  <th>  Log Likelihood     </th> <td>-1434.234</td>\n",
              "</tr>\n",
              "<tr>\n",
              "  <th>Date:</th>            <td>Sun, 27 Mar 2022</td> <th>  AIC                </th> <td>2880.468</td> \n",
              "</tr>\n",
              "<tr>\n",
              "  <th>Time:</th>                <td>19:51:04</td>     <th>  BIC                </th> <td>2909.914</td> \n",
              "</tr>\n",
              "<tr>\n",
              "  <th>Sample:</th>                  <td>0</td>        <th>  HQIC               </th> <td>2891.660</td> \n",
              "</tr>\n",
              "<tr>\n",
              "  <th></th>                      <td> - 1000</td>     <th>                     </th>     <td> </td>    \n",
              "</tr>\n",
              "<tr>\n",
              "  <th>Covariance Type:</th>        <td>opg</td>       <th>                     </th>     <td> </td>    \n",
              "</tr>\n",
              "</table>\n",
              "<table class=\"simpletable\">\n",
              "<tr>\n",
              "     <td></td>       <th>coef</th>     <th>std err</th>      <th>z</th>      <th>P>|z|</th>  <th>[0.025</th>    <th>0.975]</th>  \n",
              "</tr>\n",
              "<tr>\n",
              "  <th>const</th>  <td>   -0.0958</td> <td>    0.259</td> <td>   -0.370</td> <td> 0.711</td> <td>   -0.603</td> <td>    0.411</td>\n",
              "</tr>\n",
              "<tr>\n",
              "  <th>ar.L1</th>  <td>    0.4274</td> <td>    0.110</td> <td>    3.901</td> <td> 0.000</td> <td>    0.213</td> <td>    0.642</td>\n",
              "</tr>\n",
              "<tr>\n",
              "  <th>ar.L2</th>  <td>    0.3408</td> <td>    0.100</td> <td>    3.406</td> <td> 0.001</td> <td>    0.145</td> <td>    0.537</td>\n",
              "</tr>\n",
              "<tr>\n",
              "  <th>ma.L1</th>  <td>    0.5802</td> <td>    0.106</td> <td>    5.461</td> <td> 0.000</td> <td>    0.372</td> <td>    0.788</td>\n",
              "</tr>\n",
              "<tr>\n",
              "  <th>ma.L2</th>  <td>    0.2907</td> <td>    0.035</td> <td>    8.417</td> <td> 0.000</td> <td>    0.223</td> <td>    0.358</td>\n",
              "</tr>\n",
              "<tr>\n",
              "  <th>sigma2</th> <td>    1.0292</td> <td>    0.048</td> <td>   21.657</td> <td> 0.000</td> <td>    0.936</td> <td>    1.122</td>\n",
              "</tr>\n",
              "</table>\n",
              "<table class=\"simpletable\">\n",
              "<tr>\n",
              "  <th>Ljung-Box (L1) (Q):</th>     <td>0.00</td> <th>  Jarque-Bera (JB):  </th> <td>0.41</td>\n",
              "</tr>\n",
              "<tr>\n",
              "  <th>Prob(Q):</th>                <td>0.98</td> <th>  Prob(JB):          </th> <td>0.81</td>\n",
              "</tr>\n",
              "<tr>\n",
              "  <th>Heteroskedasticity (H):</th> <td>1.01</td> <th>  Skew:              </th> <td>0.01</td>\n",
              "</tr>\n",
              "<tr>\n",
              "  <th>Prob(H) (two-sided):</th>    <td>0.94</td> <th>  Kurtosis:          </th> <td>2.90</td>\n",
              "</tr>\n",
              "</table><br/><br/>Warnings:<br/>[1] Covariance matrix calculated using the outer product of gradients (complex-step)."
            ],
            "text/plain": [
              "<class 'statsmodels.iolib.summary.Summary'>\n",
              "\"\"\"\n",
              "                               SARIMAX Results                                \n",
              "==============================================================================\n",
              "Dep. Variable:                proceso   No. Observations:                 1000\n",
              "Model:                 ARIMA(2, 0, 2)   Log Likelihood               -1434.234\n",
              "Date:                Sun, 27 Mar 2022   AIC                           2880.468\n",
              "Time:                        19:51:04   BIC                           2909.914\n",
              "Sample:                             0   HQIC                          2891.660\n",
              "                               - 1000                                         \n",
              "Covariance Type:                  opg                                         \n",
              "==============================================================================\n",
              "                 coef    std err          z      P>|z|      [0.025      0.975]\n",
              "------------------------------------------------------------------------------\n",
              "const         -0.0958      0.259     -0.370      0.711      -0.603       0.411\n",
              "ar.L1          0.4274      0.110      3.901      0.000       0.213       0.642\n",
              "ar.L2          0.3408      0.100      3.406      0.001       0.145       0.537\n",
              "ma.L1          0.5802      0.106      5.461      0.000       0.372       0.788\n",
              "ma.L2          0.2907      0.035      8.417      0.000       0.223       0.358\n",
              "sigma2         1.0292      0.048     21.657      0.000       0.936       1.122\n",
              "===================================================================================\n",
              "Ljung-Box (L1) (Q):                   0.00   Jarque-Bera (JB):                 0.41\n",
              "Prob(Q):                              0.98   Prob(JB):                         0.81\n",
              "Heteroskedasticity (H):               1.01   Skew:                             0.01\n",
              "Prob(H) (two-sided):                  0.94   Kurtosis:                         2.90\n",
              "===================================================================================\n",
              "\n",
              "Warnings:\n",
              "[1] Covariance matrix calculated using the outer product of gradients (complex-step).\n",
              "\"\"\""
            ]
          },
          "execution_count": 61,
          "metadata": {},
          "output_type": "execute_result"
        }
      ],
      "source": [
        "# estimamos un ARMA (2,2)\n",
        "modelo1 = ARIMA(serie, order=(2, 0, 2))\n",
        "resultado1 = modelo1.fit()\n",
        "resultado1.summary()"
      ]
    },
    {
      "cell_type": "code",
      "execution_count": null,
      "id": "2f0f7861",
      "metadata": {
        "id": "2f0f7861",
        "outputId": "073b8040-6804-4a20-907a-1353f55d2c4c"
      },
      "outputs": [
        {
          "name": "stderr",
          "output_type": "stream",
          "text": [
            "D:\\Anaconda\\lib\\site-packages\\statsmodels\\tsa\\base\\tsa_model.py:578: ValueWarning: An unsupported index was provided and will be ignored when e.g. forecasting.\n",
            "  warnings.warn('An unsupported index was provided and will be'\n",
            "D:\\Anaconda\\lib\\site-packages\\statsmodels\\tsa\\base\\tsa_model.py:578: ValueWarning: An unsupported index was provided and will be ignored when e.g. forecasting.\n",
            "  warnings.warn('An unsupported index was provided and will be'\n",
            "D:\\Anaconda\\lib\\site-packages\\statsmodels\\tsa\\base\\tsa_model.py:578: ValueWarning: An unsupported index was provided and will be ignored when e.g. forecasting.\n",
            "  warnings.warn('An unsupported index was provided and will be'\n",
            "D:\\Anaconda\\lib\\site-packages\\statsmodels\\base\\model.py:566: ConvergenceWarning: Maximum Likelihood optimization failed to converge. Check mle_retvals\n",
            "  warnings.warn(\"Maximum Likelihood optimization failed to \"\n"
          ]
        },
        {
          "data": {
            "text/html": [
              "<table class=\"simpletable\">\n",
              "<caption>SARIMAX Results</caption>\n",
              "<tr>\n",
              "  <th>Dep. Variable:</th>        <td>proceso</td>     <th>  No. Observations:  </th>   <td>1000</td>   \n",
              "</tr>\n",
              "<tr>\n",
              "  <th>Model:</th>            <td>ARIMA(3, 0, 5)</td>  <th>  Log Likelihood     </th> <td>-1425.431</td>\n",
              "</tr>\n",
              "<tr>\n",
              "  <th>Date:</th>            <td>Sun, 27 Mar 2022</td> <th>  AIC                </th> <td>2870.861</td> \n",
              "</tr>\n",
              "<tr>\n",
              "  <th>Time:</th>                <td>19:51:13</td>     <th>  BIC                </th> <td>2919.939</td> \n",
              "</tr>\n",
              "<tr>\n",
              "  <th>Sample:</th>                  <td>0</td>        <th>  HQIC               </th> <td>2889.514</td> \n",
              "</tr>\n",
              "<tr>\n",
              "  <th></th>                      <td> - 1000</td>     <th>                     </th>     <td> </td>    \n",
              "</tr>\n",
              "<tr>\n",
              "  <th>Covariance Type:</th>        <td>opg</td>       <th>                     </th>     <td> </td>    \n",
              "</tr>\n",
              "</table>\n",
              "<table class=\"simpletable\">\n",
              "<tr>\n",
              "     <td></td>       <th>coef</th>     <th>std err</th>      <th>z</th>      <th>P>|z|</th>  <th>[0.025</th>    <th>0.975]</th>  \n",
              "</tr>\n",
              "<tr>\n",
              "  <th>const</th>  <td>   -0.0968</td> <td>    0.280</td> <td>   -0.346</td> <td> 0.730</td> <td>   -0.646</td> <td>    0.452</td>\n",
              "</tr>\n",
              "<tr>\n",
              "  <th>ar.L1</th>  <td>    1.9749</td> <td>    0.057</td> <td>   34.710</td> <td> 0.000</td> <td>    1.863</td> <td>    2.086</td>\n",
              "</tr>\n",
              "<tr>\n",
              "  <th>ar.L2</th>  <td>   -1.8498</td> <td>    0.080</td> <td>  -23.051</td> <td> 0.000</td> <td>   -2.007</td> <td>   -1.693</td>\n",
              "</tr>\n",
              "<tr>\n",
              "  <th>ar.L3</th>  <td>    0.7751</td> <td>    0.042</td> <td>   18.285</td> <td> 0.000</td> <td>    0.692</td> <td>    0.858</td>\n",
              "</tr>\n",
              "<tr>\n",
              "  <th>ma.L1</th>  <td>   -0.9737</td> <td>    0.066</td> <td>  -14.705</td> <td> 0.000</td> <td>   -1.104</td> <td>   -0.844</td>\n",
              "</tr>\n",
              "<tr>\n",
              "  <th>ma.L2</th>  <td>    0.9303</td> <td>    0.054</td> <td>   17.209</td> <td> 0.000</td> <td>    0.824</td> <td>    1.036</td>\n",
              "</tr>\n",
              "<tr>\n",
              "  <th>ma.L3</th>  <td>   -0.2068</td> <td>    0.058</td> <td>   -3.563</td> <td> 0.000</td> <td>   -0.321</td> <td>   -0.093</td>\n",
              "</tr>\n",
              "<tr>\n",
              "  <th>ma.L4</th>  <td>    0.2943</td> <td>    0.046</td> <td>    6.461</td> <td> 0.000</td> <td>    0.205</td> <td>    0.384</td>\n",
              "</tr>\n",
              "<tr>\n",
              "  <th>ma.L5</th>  <td>   -0.1657</td> <td>    0.040</td> <td>   -4.133</td> <td> 0.000</td> <td>   -0.244</td> <td>   -0.087</td>\n",
              "</tr>\n",
              "<tr>\n",
              "  <th>sigma2</th> <td>    1.0109</td> <td>    0.046</td> <td>   21.740</td> <td> 0.000</td> <td>    0.920</td> <td>    1.102</td>\n",
              "</tr>\n",
              "</table>\n",
              "<table class=\"simpletable\">\n",
              "<tr>\n",
              "  <th>Ljung-Box (L1) (Q):</th>     <td>0.01</td> <th>  Jarque-Bera (JB):  </th> <td>0.22</td>\n",
              "</tr>\n",
              "<tr>\n",
              "  <th>Prob(Q):</th>                <td>0.91</td> <th>  Prob(JB):          </th> <td>0.90</td>\n",
              "</tr>\n",
              "<tr>\n",
              "  <th>Heteroskedasticity (H):</th> <td>1.02</td> <th>  Skew:              </th> <td>0.02</td>\n",
              "</tr>\n",
              "<tr>\n",
              "  <th>Prob(H) (two-sided):</th>    <td>0.89</td> <th>  Kurtosis:          </th> <td>2.94</td>\n",
              "</tr>\n",
              "</table><br/><br/>Warnings:<br/>[1] Covariance matrix calculated using the outer product of gradients (complex-step)."
            ],
            "text/plain": [
              "<class 'statsmodels.iolib.summary.Summary'>\n",
              "\"\"\"\n",
              "                               SARIMAX Results                                \n",
              "==============================================================================\n",
              "Dep. Variable:                proceso   No. Observations:                 1000\n",
              "Model:                 ARIMA(3, 0, 5)   Log Likelihood               -1425.431\n",
              "Date:                Sun, 27 Mar 2022   AIC                           2870.861\n",
              "Time:                        19:51:13   BIC                           2919.939\n",
              "Sample:                             0   HQIC                          2889.514\n",
              "                               - 1000                                         \n",
              "Covariance Type:                  opg                                         \n",
              "==============================================================================\n",
              "                 coef    std err          z      P>|z|      [0.025      0.975]\n",
              "------------------------------------------------------------------------------\n",
              "const         -0.0968      0.280     -0.346      0.730      -0.646       0.452\n",
              "ar.L1          1.9749      0.057     34.710      0.000       1.863       2.086\n",
              "ar.L2         -1.8498      0.080    -23.051      0.000      -2.007      -1.693\n",
              "ar.L3          0.7751      0.042     18.285      0.000       0.692       0.858\n",
              "ma.L1         -0.9737      0.066    -14.705      0.000      -1.104      -0.844\n",
              "ma.L2          0.9303      0.054     17.209      0.000       0.824       1.036\n",
              "ma.L3         -0.2068      0.058     -3.563      0.000      -0.321      -0.093\n",
              "ma.L4          0.2943      0.046      6.461      0.000       0.205       0.384\n",
              "ma.L5         -0.1657      0.040     -4.133      0.000      -0.244      -0.087\n",
              "sigma2         1.0109      0.046     21.740      0.000       0.920       1.102\n",
              "===================================================================================\n",
              "Ljung-Box (L1) (Q):                   0.01   Jarque-Bera (JB):                 0.22\n",
              "Prob(Q):                              0.91   Prob(JB):                         0.90\n",
              "Heteroskedasticity (H):               1.02   Skew:                             0.02\n",
              "Prob(H) (two-sided):                  0.89   Kurtosis:                         2.94\n",
              "===================================================================================\n",
              "\n",
              "Warnings:\n",
              "[1] Covariance matrix calculated using the outer product of gradients (complex-step).\n",
              "\"\"\""
            ]
          },
          "execution_count": 62,
          "metadata": {},
          "output_type": "execute_result"
        }
      ],
      "source": [
        "# estimamos un ARMA (3,5)\n",
        "modelo2 = ARIMA(datos, order=(3, 0, 5))\n",
        "resultado2 = modelo2.fit()\n",
        "resultado2.summary()"
      ]
    },
    {
      "cell_type": "markdown",
      "id": "792cf715-b1cc-4106-ac82-c5badfa07c68",
      "metadata": {
        "id": "792cf715-b1cc-4106-ac82-c5badfa07c68"
      },
      "source": [
        "**El que tiene mejor Criterio de Akaike (AIC): ARMA (2,2)**\n",
        "\n",
        "**El que tiene mejor Criterio bayesiano de información (BIC): ARMA (3,5)**"
      ]
    },
    {
      "cell_type": "markdown",
      "id": "f30f803e-d0bd-4add-a952-98c7c5cbdfbc",
      "metadata": {
        "id": "f30f803e-d0bd-4add-a952-98c7c5cbdfbc"
      },
      "source": [
        "**i) Para ambos modelos calcula las siguientes medidas: MAPE, MAD, y MSD\n",
        "(no uses ninguna función predefinida de Python, es decir, tú tienes que \n",
        "construir el cálculo), nota que primero tienes que pronosticar la serie con \n",
        "cada modelo. Realiza un data frame para cada pronóstico y ahí realiza los \n",
        "cálculos de MAPE, MAD y MSD.**"
      ]
    },
    {
      "cell_type": "markdown",
      "id": "921c6f9e-747f-4c27-9db5-e9d6a9923bc9",
      "metadata": {
        "id": "921c6f9e-747f-4c27-9db5-e9d6a9923bc9"
      },
      "source": [
        "ARMA(2,2)"
      ]
    },
    {
      "cell_type": "code",
      "execution_count": null,
      "id": "cf519be0-8f17-4de3-b34c-ec1f16be5360",
      "metadata": {
        "id": "cf519be0-8f17-4de3-b34c-ec1f16be5360"
      },
      "outputs": [],
      "source": [
        "serie['pronostico1'] =resultado1.predict()"
      ]
    },
    {
      "cell_type": "code",
      "execution_count": null,
      "id": "060a3cd2-42e0-45b7-a103-84ee172dab5d",
      "metadata": {
        "id": "060a3cd2-42e0-45b7-a103-84ee172dab5d",
        "outputId": "1a1e232e-73f2-4de8-b864-c90cdc79e030"
      },
      "outputs": [
        {
          "name": "stdout",
          "output_type": "stream",
          "text": [
            " El valor de la medida MAPE para el modelo ARMA(2,2) : 2.9902162096185303\n",
            " El valor de la medida MAD para el modelo ARMA(2,2) : 0.8142100848795458\n",
            " El valor de la medida MSD para el modelo ARMA(2,2) : 1.0307159432180917\n"
          ]
        }
      ],
      "source": [
        "MAPE1 = 0\n",
        "MAD1 = 0\n",
        "MSD1 = 0\n",
        "\n",
        "for t in range (1,1000):\n",
        "   MAPE1 = MAPE1 + abs(((serie.at[t,'proceso'] - serie.at [t,'pronostico1'])/serie.at[t,'proceso']))\n",
        "   MAD1 = MAD1 + abs((serie.at[t,'proceso'] - serie.at [t,'pronostico1']))\n",
        "   MSD1 = MSD1 + abs((serie.at[t,'proceso'] - serie.at [t,'pronostico1'])**2)\n",
        "\n",
        "MAPE1 = MAPE1/1000\n",
        "MAD1 = MAD1/1000\n",
        "MSD1 = MSD1/1000\n",
        "\n",
        "print(f' El valor de la medida MAPE para el modelo ARMA(2,2) : {MAPE1}')\n",
        "print(f' El valor de la medida MAD para el modelo ARMA(2,2) : {MAD1}')\n",
        "print(f' El valor de la medida MSD para el modelo ARMA(2,2) : {MSD1}')"
      ]
    },
    {
      "cell_type": "code",
      "execution_count": null,
      "id": "d991639c",
      "metadata": {
        "id": "d991639c"
      },
      "outputs": [],
      "source": [
        "serie['pronostico2'] =resultado2.predict()"
      ]
    },
    {
      "cell_type": "markdown",
      "id": "782223d2-cfb9-4bcb-94f0-ccf8862744ac",
      "metadata": {
        "id": "782223d2-cfb9-4bcb-94f0-ccf8862744ac"
      },
      "source": [
        "ARMA(3,5)"
      ]
    },
    {
      "cell_type": "code",
      "execution_count": null,
      "id": "cff78934-4e67-4d58-ab75-29cd07676978",
      "metadata": {
        "id": "cff78934-4e67-4d58-ab75-29cd07676978",
        "outputId": "10440a2c-a692-4717-9482-32f1c9c3c325"
      },
      "outputs": [
        {
          "name": "stdout",
          "output_type": "stream",
          "text": [
            " El valor de la medida MAPE para el modelo ARMA(2,2) : 3.036514136617618\n",
            " El valor de la medida MAD para el modelo ARMA(2,2) : 0.806164876067441\n",
            " El valor de la medida MSD para el modelo ARMA(2,2) : 1.0127957988529088\n"
          ]
        }
      ],
      "source": [
        "MAPE2 = 0\n",
        "MAD2 = 0\n",
        "MSD2 = 0\n",
        "\n",
        "for t in range (1,1000):\n",
        "   MAPE2 = MAPE2 + abs(((serie.at[t,'proceso'] - serie.at [t,'pronostico2'])/serie.at[t,'proceso']))\n",
        "   MAD2 = MAD2 + abs((serie.at[t,'proceso'] - serie.at [t,'pronostico2']))\n",
        "   MSD2 = MSD2 + abs((serie.at[t,'proceso'] - serie.at [t,'pronostico2'])**2)\n",
        "\n",
        "MAPE2 = MAPE2/1000\n",
        "MAD2 = MAD2/1000\n",
        "MSD2 = MSD2/1000\n",
        "\n",
        "print(f' El valor de la medida MAPE para el modelo ARMA(2,2) : {MAPE2}')\n",
        "print(f' El valor de la medida MAD para el modelo ARMA(2,2) : {MAD2}')\n",
        "print(f' El valor de la medida MSD para el modelo ARMA(2,2) : {MSD2}')"
      ]
    },
    {
      "cell_type": "markdown",
      "id": "81b6bae7-3406-4378-bedb-8477b64223b9",
      "metadata": {
        "id": "81b6bae7-3406-4378-bedb-8477b64223b9"
      },
      "source": [
        "**j) De ambos modelos, elige el que tenga menor valor en al menos en dos \n",
        "de las tres medidas (MAPE, MAD, MSD)**\n"
      ]
    },
    {
      "cell_type": "markdown",
      "id": "ab6de3be-2b11-4905-a6b2-5b0d7ca78515",
      "metadata": {
        "id": "ab6de3be-2b11-4905-a6b2-5b0d7ca78515"
      },
      "source": [
        "R: Tenemos que en el modelo ARMA(3,5) tenemos menor valor en las medidas MAD y MSD, por lo tanto escogemos ese modelo."
      ]
    },
    {
      "cell_type": "markdown",
      "id": "ed363a58-9416-44f9-a78a-e90d777f2c94",
      "metadata": {
        "id": "ed363a58-9416-44f9-a78a-e90d777f2c94"
      },
      "source": [
        "**k) Señala cual es el modelo elegido**"
      ]
    },
    {
      "cell_type": "markdown",
      "id": "e6a0e81d-86e7-48d3-b0a2-954c9e6262de",
      "metadata": {
        "id": "e6a0e81d-86e7-48d3-b0a2-954c9e6262de"
      },
      "source": [
        "R: El modelo elegido es el ARMA(3,5) "
      ]
    },
    {
      "cell_type": "markdown",
      "id": "e6003d53-9fb5-4123-82ac-97dc0670f179",
      "metadata": {
        "id": "e6003d53-9fb5-4123-82ac-97dc0670f179"
      },
      "source": [
        "**l) Grafica la serie original y el pronóstico del modelo elegido elegido**"
      ]
    },
    {
      "cell_type": "code",
      "execution_count": null,
      "id": "355aadbb-1737-4f59-8dc6-77c96237e482",
      "metadata": {
        "id": "355aadbb-1737-4f59-8dc6-77c96237e482",
        "outputId": "3604b6b3-daba-4207-ca77-11766a79bb94"
      },
      "outputs": [
        {
          "data": {
            "image/png": "[encoded data removed]",
            "text/plain": [
              "<Figure size 720x540 with 1 Axes>"
            ]
          },
          "metadata": {
            "needs_background": "light"
          },
          "output_type": "display_data"
        }
      ],
      "source": [
        "serie.proceso.plot()\n",
        "plt.title('Serie de tiempo original')\n",
        "plt.show()"
      ]
    },
    {
      "cell_type": "code",
      "execution_count": null,
      "id": "4e7563d7-b573-4ccd-a15b-560d3152d024",
      "metadata": {
        "id": "4e7563d7-b573-4ccd-a15b-560d3152d024",
        "outputId": "b5f1fdec-17eb-4d33-a5c0-14b6fe8a0941"
      },
      "outputs": [
        {
          "data": {
            "image/png": "[encoded data removed]",
            "text/plain": [
              "<Figure size 720x540 with 1 Axes>"
            ]
          },
          "metadata": {
            "needs_background": "light"
          },
          "output_type": "display_data"
        }
      ],
      "source": [
        "#Graficamos el pronostico\n",
        "serie[['proceso', 'pronostico2']].plot()\n",
        "plt.title('Pronóstico del modelo elegido elegido ARMA(3,5)')\n",
        "plt.show()"
      ]
    },
    {
      "cell_type": "code",
      "execution_count": null,
      "id": "e23b9399-dad1-4b31-a088-8a51fd63b843",
      "metadata": {
        "id": "e23b9399-dad1-4b31-a088-8a51fd63b843"
      },
      "outputs": [],
      "source": [
        ""
      ]
    }
  ],
  "metadata": {
    "kernelspec": {
      "display_name": "Python 3 (ipykernel)",
      "language": "python",
      "name": "python3"
    },
    "language_info": {
      "codemirror_mode": {
        "name": "ipython",
        "version": 3
      },
      "file_extension": ".py",
      "mimetype": "text/x-python",
      "name": "python",
      "nbconvert_exporter": "python",
      "pygments_lexer": "ipython3",
      "version": "3.9.7"
    },
    "colab": {
      "name": "VVAO_1855188_EstadisticaAplicadaG51_parcial1a",
      "provenance": [],
      "include_colab_link": true
    }
  },
  "nbformat": 4,
  "nbformat_minor": 5
}