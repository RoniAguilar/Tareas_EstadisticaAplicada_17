{
  "cells": [
    {
      "cell_type": "markdown",
      "metadata": {
        "id": "view-in-github",
        "colab_type": "text"
      },
      "source": [
        "<a href=\"https://colab.research.google.com/github/RoniAguilar/Tareas_EstadisticaAplicada_17/blob/main/VVAO_1855188_EAG51_actividad8_mar2022.ipynb\" target=\"_parent\"><img src=\"https://colab.research.google.com/assets/colab-badge.svg\" alt=\"Open In Colab\"/></a>"
      ]
    },
    {
      "cell_type": "markdown",
      "id": "c9a8a2ba-7a59-47e0-a85f-3c778d44d5e8",
      "metadata": {
        "id": "c9a8a2ba-7a59-47e0-a85f-3c778d44d5e8"
      },
      "source": [
        "# TAREA 8\n",
        "**Estadística Aplicada**\n",
        "\n",
        "**Nombre:** Verónica Vanessa Aguilar Ortiz\n",
        "\n",
        "**Matricula:** 1855188\n",
        "\n",
        "**Grupo:** 051"
      ]
    },
    {
      "cell_type": "markdown",
      "id": "c78d417a-7078-4eb4-8561-2e42bac1923c",
      "metadata": {
        "id": "c78d417a-7078-4eb4-8561-2e42bac1923c"
      },
      "source": [
        "# Pronóstico de una acción de BIMBO MÉXICO"
      ]
    },
    {
      "cell_type": "markdown",
      "id": "fbab081d-9ddf-49c4-9dbf-991046695b65",
      "metadata": {
        "id": "fbab081d-9ddf-49c4-9dbf-991046695b65"
      },
      "source": [
        "En esta notebook vamos a realizar el pronóstico de una serie de tiempo, para saber el precio de la acción el dia lunes 14 de marzo de 2022.\n",
        "1. Descargaremos los datos\n",
        "2. Graficaremos la series para darnos una idea de su comportamiento\n",
        "3. realizaremos una prueba de raíz unitaria para comprobrar si la serie es estacionaria\n",
        "4. Diferenciaremos la serie en caso de que no sea estacionaria\n",
        "5. Realizamos la prueba a la serie diferenciada para ver si es estacionaria\n",
        "6. Graficaremos la serie estacionaria\n",
        "7. realizaremos su ACF y PACF para tratar de identificar que tipo de proceso es MA(q), AR(P), ARMA(p,q), etc\n",
        "8. Estimamos distintos modelos\n",
        "9. Elegimos el modelo\n",
        "10. Realizamos el pronóstico "
      ]
    },
    {
      "cell_type": "code",
      "execution_count": null,
      "id": "33df1691-3fef-405f-8a39-8377ec72c594",
      "metadata": {
        "id": "33df1691-3fef-405f-8a39-8377ec72c594"
      },
      "outputs": [],
      "source": [
        "#Librerias a utilizar\n",
        "import numpy as np\n",
        "import pandas as pd \n",
        "import yfinance as yf\n",
        "import scipy.stats as stats\n",
        "import matplotlib.pyplot as plt\n",
        "from statsmodels.graphics.tsaplots import plot_acf\n",
        "from statsmodels.graphics.tsaplots import plot_pacf\n",
        "from statsmodels.tsa.stattools import acf\n",
        "from statsmodels.tsa.stattools import pacf\n",
        "from statsmodels.tsa.stattools import adfuller\n",
        "from statsmodels.tsa.arima_process import ArmaProcess\n",
        "from statsmodels.tsa.arima.model import ARIMA\n",
        "\n",
        "\n",
        "%matplotlib inline"
      ]
    },
    {
      "cell_type": "code",
      "execution_count": null,
      "id": "9d02ce75-4fb9-4d71-b094-057ed1d71d7d",
      "metadata": {
        "id": "9d02ce75-4fb9-4d71-b094-057ed1d71d7d"
      },
      "outputs": [],
      "source": [
        "#Tamaño de graficas\n",
        "plt.rcParams['figure.figsize'] = [10, 7.5]"
      ]
    },
    {
      "cell_type": "markdown",
      "id": "d6b3e9aa-b042-442d-9620-6cc1ff4fc407",
      "metadata": {
        "id": "d6b3e9aa-b042-442d-9620-6cc1ff4fc407"
      },
      "source": [
        "## 1. Importamos los datos desde la api de yahoo finance"
      ]
    },
    {
      "cell_type": "markdown",
      "id": "cbd85856-0cbd-4289-bb3a-0c2ebf23c47d",
      "metadata": {
        "id": "cbd85856-0cbd-4289-bb3a-0c2ebf23c47d"
      },
      "source": [
        "Se importan las acciones de Bimbo México y se tomaran los datos, exactamente de los ultimos 4 años hasta el dia viernes 12 de marzo de 2022, que es cuando estuvo abierta la bolsa.\n"
      ]
    },
    {
      "cell_type": "code",
      "execution_count": null,
      "id": "219bf68b-8bed-4902-9f2e-205b5a6e9bfb",
      "metadata": {
        "id": "219bf68b-8bed-4902-9f2e-205b5a6e9bfb",
        "outputId": "1ef1179b-b51a-443a-ca75-b75c8def562a"
      },
      "outputs": [
        {
          "name": "stdout",
          "output_type": "stream",
          "text": [
            "Requirement already satisfied: yfinance in d:\\anaconda\\lib\\site-packages (0.1.70)\n",
            "Requirement already satisfied: numpy>=1.15 in d:\\anaconda\\lib\\site-packages (from yfinance) (1.20.3)\n",
            "Requirement already satisfied: requests>=2.26 in d:\\anaconda\\lib\\site-packages (from yfinance) (2.26.0)\n",
            "Requirement already satisfied: lxml>=4.5.1 in d:\\anaconda\\lib\\site-packages (from yfinance) (4.6.3)\n",
            "Requirement already satisfied: multitasking>=0.0.7 in d:\\anaconda\\lib\\site-packages (from yfinance) (0.0.10)\n",
            "Requirement already satisfied: pandas>=0.24.0 in d:\\anaconda\\lib\\site-packages (from yfinance) (1.3.4)\n",
            "Requirement already satisfied: pytz>=2017.3 in d:\\anaconda\\lib\\site-packages (from pandas>=0.24.0->yfinance) (2021.3)\n",
            "Requirement already satisfied: python-dateutil>=2.7.3 in d:\\anaconda\\lib\\site-packages (from pandas>=0.24.0->yfinance) (2.8.2)\n",
            "Requirement already satisfied: six>=1.5 in d:\\anaconda\\lib\\site-packages (from python-dateutil>=2.7.3->pandas>=0.24.0->yfinance) (1.16.0)\n",
            "Requirement already satisfied: urllib3<1.27,>=1.21.1 in d:\\anaconda\\lib\\site-packages (from requests>=2.26->yfinance) (1.26.7)\n",
            "Requirement already satisfied: certifi>=2017.4.17 in d:\\anaconda\\lib\\site-packages (from requests>=2.26->yfinance) (2021.10.8)\n",
            "Requirement already satisfied: charset-normalizer~=2.0.0 in d:\\anaconda\\lib\\site-packages (from requests>=2.26->yfinance) (2.0.4)\n",
            "Requirement already satisfied: idna<4,>=2.5 in d:\\anaconda\\lib\\site-packages (from requests>=2.26->yfinance) (3.2)\n",
            "Note: you may need to restart the kernel to use updated packages.\n"
          ]
        }
      ],
      "source": [
        "pip install yfinance"
      ]
    },
    {
      "cell_type": "code",
      "execution_count": null,
      "id": "b0f5c7b1-c26e-46bd-90da-f9d3f8983bfd",
      "metadata": {
        "id": "b0f5c7b1-c26e-46bd-90da-f9d3f8983bfd"
      },
      "outputs": [],
      "source": [
        "bimbo = yf.download('BIMBOA.MX', \n",
        "                       start='2018-03-12', \n",
        "                       end='2022-03-12',\n",
        "                       progress=False)"
      ]
    },
    {
      "cell_type": "code",
      "execution_count": null,
      "id": "9c7f1aec-6ca7-477f-9699-5467054b0934",
      "metadata": {
        "id": "9c7f1aec-6ca7-477f-9699-5467054b0934",
        "outputId": "f53c5241-c784-4ff3-8d04-9bdbb4c94952"
      },
      "outputs": [
        {
          "data": {
            "text/html": [
              "<div>\n",
              "<style scoped>\n",
              "    .dataframe tbody tr th:only-of-type {\n",
              "        vertical-align: middle;\n",
              "    }\n",
              "\n",
              "    .dataframe tbody tr th {\n",
              "        vertical-align: top;\n",
              "    }\n",
              "\n",
              "    .dataframe thead th {\n",
              "        text-align: right;\n",
              "    }\n",
              "</style>\n",
              "<table border=\"1\" class=\"dataframe\">\n",
              "  <thead>\n",
              "    <tr style=\"text-align: right;\">\n",
              "      <th></th>\n",
              "      <th>Open</th>\n",
              "      <th>High</th>\n",
              "      <th>Low</th>\n",
              "      <th>Close</th>\n",
              "      <th>Adj Close</th>\n",
              "      <th>Volume</th>\n",
              "    </tr>\n",
              "    <tr>\n",
              "      <th>Date</th>\n",
              "      <th></th>\n",
              "      <th></th>\n",
              "      <th></th>\n",
              "      <th></th>\n",
              "      <th></th>\n",
              "      <th></th>\n",
              "    </tr>\n",
              "  </thead>\n",
              "  <tbody>\n",
              "    <tr>\n",
              "      <th>2022-02-28</th>\n",
              "      <td>63.580002</td>\n",
              "      <td>65.050003</td>\n",
              "      <td>62.570000</td>\n",
              "      <td>63.070000</td>\n",
              "      <td>63.070000</td>\n",
              "      <td>4687520</td>\n",
              "    </tr>\n",
              "    <tr>\n",
              "      <th>2022-03-01</th>\n",
              "      <td>63.189999</td>\n",
              "      <td>64.139999</td>\n",
              "      <td>60.299999</td>\n",
              "      <td>62.330002</td>\n",
              "      <td>62.330002</td>\n",
              "      <td>4579432</td>\n",
              "    </tr>\n",
              "    <tr>\n",
              "      <th>2022-03-02</th>\n",
              "      <td>62.529999</td>\n",
              "      <td>63.709999</td>\n",
              "      <td>61.700001</td>\n",
              "      <td>61.900002</td>\n",
              "      <td>61.900002</td>\n",
              "      <td>3233303</td>\n",
              "    </tr>\n",
              "    <tr>\n",
              "      <th>2022-03-03</th>\n",
              "      <td>61.959999</td>\n",
              "      <td>62.610001</td>\n",
              "      <td>58.810001</td>\n",
              "      <td>59.209999</td>\n",
              "      <td>59.209999</td>\n",
              "      <td>4968108</td>\n",
              "    </tr>\n",
              "    <tr>\n",
              "      <th>2022-03-04</th>\n",
              "      <td>59.189999</td>\n",
              "      <td>59.400002</td>\n",
              "      <td>57.200001</td>\n",
              "      <td>57.439999</td>\n",
              "      <td>57.439999</td>\n",
              "      <td>4361629</td>\n",
              "    </tr>\n",
              "    <tr>\n",
              "      <th>2022-03-07</th>\n",
              "      <td>57.220001</td>\n",
              "      <td>57.320000</td>\n",
              "      <td>52.959999</td>\n",
              "      <td>53.200001</td>\n",
              "      <td>53.200001</td>\n",
              "      <td>5164699</td>\n",
              "    </tr>\n",
              "    <tr>\n",
              "      <th>2022-03-08</th>\n",
              "      <td>53.389999</td>\n",
              "      <td>54.590000</td>\n",
              "      <td>51.779999</td>\n",
              "      <td>54.209999</td>\n",
              "      <td>54.209999</td>\n",
              "      <td>5506010</td>\n",
              "    </tr>\n",
              "    <tr>\n",
              "      <th>2022-03-09</th>\n",
              "      <td>54.770000</td>\n",
              "      <td>57.000000</td>\n",
              "      <td>54.209999</td>\n",
              "      <td>56.459999</td>\n",
              "      <td>56.459999</td>\n",
              "      <td>3189589</td>\n",
              "    </tr>\n",
              "    <tr>\n",
              "      <th>2022-03-10</th>\n",
              "      <td>56.490002</td>\n",
              "      <td>58.209999</td>\n",
              "      <td>55.009998</td>\n",
              "      <td>57.099998</td>\n",
              "      <td>57.099998</td>\n",
              "      <td>4023856</td>\n",
              "    </tr>\n",
              "    <tr>\n",
              "      <th>2022-03-11</th>\n",
              "      <td>57.360001</td>\n",
              "      <td>58.000000</td>\n",
              "      <td>55.400002</td>\n",
              "      <td>56.650002</td>\n",
              "      <td>56.650002</td>\n",
              "      <td>3026163</td>\n",
              "    </tr>\n",
              "  </tbody>\n",
              "</table>\n",
              "</div>"
            ],
            "text/plain": [
              "                 Open       High        Low      Close  Adj Close   Volume\n",
              "Date                                                                      \n",
              "2022-02-28  63.580002  65.050003  62.570000  63.070000  63.070000  4687520\n",
              "2022-03-01  63.189999  64.139999  60.299999  62.330002  62.330002  4579432\n",
              "2022-03-02  62.529999  63.709999  61.700001  61.900002  61.900002  3233303\n",
              "2022-03-03  61.959999  62.610001  58.810001  59.209999  59.209999  4968108\n",
              "2022-03-04  59.189999  59.400002  57.200001  57.439999  57.439999  4361629\n",
              "2022-03-07  57.220001  57.320000  52.959999  53.200001  53.200001  5164699\n",
              "2022-03-08  53.389999  54.590000  51.779999  54.209999  54.209999  5506010\n",
              "2022-03-09  54.770000  57.000000  54.209999  56.459999  56.459999  3189589\n",
              "2022-03-10  56.490002  58.209999  55.009998  57.099998  57.099998  4023856\n",
              "2022-03-11  57.360001  58.000000  55.400002  56.650002  56.650002  3026163"
            ]
          },
          "execution_count": 297,
          "metadata": {},
          "output_type": "execute_result"
        }
      ],
      "source": [
        "#Ultimos 10 datos\n",
        "bimbo.tail(10)"
      ]
    },
    {
      "cell_type": "code",
      "execution_count": null,
      "id": "7ffe0568-7cd5-4023-a918-51e6ddd78b85",
      "metadata": {
        "id": "7ffe0568-7cd5-4023-a918-51e6ddd78b85"
      },
      "outputs": [],
      "source": [
        "##Renombramos columna 'Adj Close' por adj_close \n",
        "bimbo.rename(columns = {'Adj Close':'adj_close'}, inplace=True)"
      ]
    },
    {
      "cell_type": "code",
      "execution_count": null,
      "id": "3d285176-a55d-4ef9-8600-4ddc7619b15d",
      "metadata": {
        "id": "3d285176-a55d-4ef9-8600-4ddc7619b15d",
        "outputId": "762f1e9b-f1fa-46b2-c43c-912dd0397c35"
      },
      "outputs": [
        {
          "data": {
            "image/png": "[encoded data removed]",
            "text/plain": [
              "<Figure size 720x540 with 1 Axes>"
            ]
          },
          "metadata": {
            "needs_background": "light"
          },
          "output_type": "display_data"
        }
      ],
      "source": [
        "#Grafica del precio de la acción de Bimbo México en pesos (marzo 2018 - marzo 2022)\n",
        "bimbo.adj_close.plot()\n",
        "plt.title('Precio de la acción de Bimbo México en pesos (marzo 2018 - marzo 2022)')\n",
        "plt.show()"
      ]
    },
    {
      "cell_type": "code",
      "execution_count": null,
      "id": "91857505-e616-47bc-9488-589fe6afd70a",
      "metadata": {
        "id": "91857505-e616-47bc-9488-589fe6afd70a",
        "outputId": "a23f4efa-bffa-4591-c7ec-a9d36bf71362"
      },
      "outputs": [
        {
          "name": "stdout",
          "output_type": "stream",
          "text": [
            "p-value: 0.855526\n"
          ]
        }
      ],
      "source": [
        "#Prueba de dickey fuller aumentada ADF\n",
        "adf = adfuller(bimbo['adj_close'])\n",
        "\n",
        "#presentamos el p-value\n",
        "print('p-value: %f' % adf[1])\n",
        "\n"
      ]
    },
    {
      "cell_type": "markdown",
      "id": "462c80c9-f448-4c53-94e3-8b19994e00f4",
      "metadata": {
        "id": "462c80c9-f448-4c53-94e3-8b19994e00f4"
      },
      "source": [
        "Recuerda que $H_0$: serie no estacionaria"
      ]
    },
    {
      "cell_type": "code",
      "execution_count": null,
      "id": "33a2b8bb-7dc1-4c03-acc2-41e146159836",
      "metadata": {
        "id": "33a2b8bb-7dc1-4c03-acc2-41e146159836",
        "outputId": "7528a7bf-0a0e-4d7b-f6cd-68db7d8ccf4d"
      },
      "outputs": [
        {
          "name": "stdout",
          "output_type": "stream",
          "text": [
            "con un un p-value = 0.856\n",
            " NO se rechaza hipótesis nula, serie no estacionaria\n"
          ]
        }
      ],
      "source": [
        "if adf[1] < 0.05:\n",
        "    \n",
        "    print(f'con un un p-value={adf[1].round(3)}\\n Se rechaza hipótesis nula, serie estacionaria') \n",
        "    \n",
        "else:\n",
        "    \n",
        "    print(f'con un un p-value = {adf[1].round(3)}\\n NO se rechaza hipótesis nula, serie no estacionaria') \n"
      ]
    },
    {
      "cell_type": "markdown",
      "id": "0f21dd97-1ea0-4a22-b490-9dc9b0499510",
      "metadata": {
        "id": "0f21dd97-1ea0-4a22-b490-9dc9b0499510"
      },
      "source": [
        "Nuestra serie no es estacionaria y para hacerla una serie estacionaria, usamos la función shift de pandas \n",
        "y guardamos la serie diferenciada en un objeto aparte."
      ]
    },
    {
      "cell_type": "code",
      "execution_count": null,
      "id": "00211906-3c5a-41b9-bff9-c436bf90c77f",
      "metadata": {
        "id": "00211906-3c5a-41b9-bff9-c436bf90c77f"
      },
      "outputs": [],
      "source": [
        "bimbo_diff = bimbo['adj_close'] - bimbo['adj_close'].shift()"
      ]
    },
    {
      "cell_type": "code",
      "execution_count": null,
      "id": "5f0614ac-8a8a-4399-9bec-4c675999348b",
      "metadata": {
        "id": "5f0614ac-8a8a-4399-9bec-4c675999348b",
        "outputId": "8688cc9f-b072-4b91-c334-f4ec6f9a4cbe"
      },
      "outputs": [
        {
          "data": {
            "image/png": "[encoded data removed]",
            "text/plain": [
              "<Figure size 720x540 with 1 Axes>"
            ]
          },
          "metadata": {
            "needs_background": "light"
          },
          "output_type": "display_data"
        }
      ],
      "source": [
        "#Grafica del precio de la acción de bimbo México diferenciada en pesos\n",
        "bimbo_diff.plot()\n",
        "plt.title('Precio de la acción de bimbo México diferenciada en pesos (marzo 2018 - marzo 2022)')\n",
        "plt.show()"
      ]
    },
    {
      "cell_type": "code",
      "execution_count": null,
      "id": "3827dbf1-f7d1-4a7f-bb7e-40f11203cf93",
      "metadata": {
        "id": "3827dbf1-f7d1-4a7f-bb7e-40f11203cf93"
      },
      "outputs": [],
      "source": [
        "#eliminamos los Nan\n",
        "bimbo_diff = bimbo_diff.dropna()"
      ]
    },
    {
      "cell_type": "code",
      "execution_count": null,
      "id": "440c7cd2-1fdc-43a4-bc64-ed90d4243378",
      "metadata": {
        "id": "440c7cd2-1fdc-43a4-bc64-ed90d4243378"
      },
      "outputs": [],
      "source": [
        "## como la serie tiene saltos (los fines de semana los mercados no abren)\n",
        "## removeremos la fecha\n",
        "bimbo_diff = bimbo_diff.reset_index()\n",
        "\n",
        "### eliminamos columna fecha\n",
        "bimbo_diff = bimbo_diff.drop(['Date'], axis=1)"
      ]
    },
    {
      "cell_type": "code",
      "execution_count": null,
      "id": "66d417dc-5d8b-4d91-b9d8-97dc94e2d96a",
      "metadata": {
        "id": "66d417dc-5d8b-4d91-b9d8-97dc94e2d96a",
        "outputId": "367cf823-d5da-4e0a-e9df-686054ebdf6d"
      },
      "outputs": [
        {
          "data": {
            "text/html": [
              "<div>\n",
              "<style scoped>\n",
              "    .dataframe tbody tr th:only-of-type {\n",
              "        vertical-align: middle;\n",
              "    }\n",
              "\n",
              "    .dataframe tbody tr th {\n",
              "        vertical-align: top;\n",
              "    }\n",
              "\n",
              "    .dataframe thead th {\n",
              "        text-align: right;\n",
              "    }\n",
              "</style>\n",
              "<table border=\"1\" class=\"dataframe\">\n",
              "  <thead>\n",
              "    <tr style=\"text-align: right;\">\n",
              "      <th></th>\n",
              "      <th>adj_close</th>\n",
              "    </tr>\n",
              "  </thead>\n",
              "  <tbody>\n",
              "    <tr>\n",
              "      <th>0</th>\n",
              "      <td>-1.179291</td>\n",
              "    </tr>\n",
              "    <tr>\n",
              "      <th>1</th>\n",
              "      <td>-0.301899</td>\n",
              "    </tr>\n",
              "    <tr>\n",
              "      <th>2</th>\n",
              "      <td>0.066036</td>\n",
              "    </tr>\n",
              "    <tr>\n",
              "      <th>3</th>\n",
              "      <td>-0.377369</td>\n",
              "    </tr>\n",
              "    <tr>\n",
              "      <th>4</th>\n",
              "      <td>0.367939</td>\n",
              "    </tr>\n",
              "    <tr>\n",
              "      <th>...</th>\n",
              "      <td>...</td>\n",
              "    </tr>\n",
              "    <tr>\n",
              "      <th>1002</th>\n",
              "      <td>-4.239998</td>\n",
              "    </tr>\n",
              "    <tr>\n",
              "      <th>1003</th>\n",
              "      <td>1.009998</td>\n",
              "    </tr>\n",
              "    <tr>\n",
              "      <th>1004</th>\n",
              "      <td>2.250000</td>\n",
              "    </tr>\n",
              "    <tr>\n",
              "      <th>1005</th>\n",
              "      <td>0.639999</td>\n",
              "    </tr>\n",
              "    <tr>\n",
              "      <th>1006</th>\n",
              "      <td>-0.449997</td>\n",
              "    </tr>\n",
              "  </tbody>\n",
              "</table>\n",
              "<p>1007 rows × 1 columns</p>\n",
              "</div>"
            ],
            "text/plain": [
              "      adj_close\n",
              "0     -1.179291\n",
              "1     -0.301899\n",
              "2      0.066036\n",
              "3     -0.377369\n",
              "4      0.367939\n",
              "...         ...\n",
              "1002  -4.239998\n",
              "1003   1.009998\n",
              "1004   2.250000\n",
              "1005   0.639999\n",
              "1006  -0.449997\n",
              "\n",
              "[1007 rows x 1 columns]"
            ]
          },
          "execution_count": 306,
          "metadata": {},
          "output_type": "execute_result"
        }
      ],
      "source": [
        "bimbo_diff"
      ]
    },
    {
      "cell_type": "markdown",
      "id": "844b175b-830a-4e05-a4c4-c5fe812f408a",
      "metadata": {
        "id": "844b175b-830a-4e05-a4c4-c5fe812f408a"
      },
      "source": [
        "volvemos a realizar la prueba de raíz unitaria ADF"
      ]
    },
    {
      "cell_type": "code",
      "execution_count": null,
      "id": "2407b303-3579-474b-ba45-0cb91d46e1d9",
      "metadata": {
        "tags": [],
        "id": "2407b303-3579-474b-ba45-0cb91d46e1d9",
        "outputId": "17613144-7bf4-4d92-a0c1-f6a13fd6c015"
      },
      "outputs": [
        {
          "name": "stdout",
          "output_type": "stream",
          "text": [
            "con un un p-value=0.0\n",
            " Se rechaza hipótesis nula, serie estacionaria\n"
          ]
        }
      ],
      "source": [
        "adf1 = adfuller(bimbo_diff)\n",
        "if adf1[1] < 0.05:\n",
        "    \n",
        "    print(f'con un un p-value={adf1[1]}\\n Se rechaza hipótesis nula, serie estacionaria') \n",
        "    \n",
        "else:\n",
        "    \n",
        "    print(f'con un un p-value = {adf1[1]}\\n NO se rechaza hipótesis nula, serie no estacionaria') \n"
      ]
    },
    {
      "cell_type": "markdown",
      "id": "ca0f07f5-73e4-4388-9791-be4415d3556d",
      "metadata": {
        "id": "ca0f07f5-73e4-4388-9791-be4415d3556d"
      },
      "source": [
        "Ahora nuestra  serie ya es estacionaria, realizamos el pronóstico con ella, pero primero identificamos que tipo de proceso es.\n"
      ]
    },
    {
      "cell_type": "code",
      "execution_count": null,
      "id": "8fbebe87-21e6-4c95-9c1c-63c7e881297f",
      "metadata": {
        "id": "8fbebe87-21e6-4c95-9c1c-63c7e881297f",
        "outputId": "852e96b2-3c4e-4469-eb6a-ea9367c2d32f"
      },
      "outputs": [
        {
          "data": {
            "image/png": "[encoded data removed]",
            "text/plain": [
              "<Figure size 720x540 with 1 Axes>"
            ]
          },
          "metadata": {
            "needs_background": "light"
          },
          "output_type": "display_data"
        }
      ],
      "source": [
        "#grafica de autocorrelación ACF\n",
        "plot_acf(bimbo_diff, zero=False, lags=30)\n",
        "plt.title('función de autocorrelación diferencia de bimbo')\n",
        "plt.show()"
      ]
    },
    {
      "cell_type": "code",
      "execution_count": null,
      "id": "3c8b330c-d281-40a7-afcd-7eb120cb0d7b",
      "metadata": {
        "id": "3c8b330c-d281-40a7-afcd-7eb120cb0d7b",
        "outputId": "fd5b0fb7-a270-4dcb-bcd1-b25841b63abe"
      },
      "outputs": [
        {
          "data": {
            "image/png": "[encoded data removed]",
            "text/plain": [
              "<Figure size 720x540 with 1 Axes>"
            ]
          },
          "metadata": {
            "needs_background": "light"
          },
          "output_type": "display_data"
        }
      ],
      "source": [
        "#grafica de autocorrelación parcial PACF\n",
        "plot_pacf(bimbo_diff, zero=False, lags=30)\n",
        "plt.title('función de autocorrelación parcial diferencia de bimbo')\n",
        "plt.show()"
      ]
    },
    {
      "cell_type": "markdown",
      "id": "855eaee5-927a-4906-9e18-2134b9e35d7d",
      "metadata": {
        "id": "855eaee5-927a-4906-9e18-2134b9e35d7d"
      },
      "source": [
        "Aunque los ACF y PACF nos sugieren un modelo ARMA, asi que para comprobar estimamos varios modelos con 6 rezagos de AR, 6 rezagos de MA y elegir uno de acuerdo con el BIC (criterio bayesiano de información) y el AIC."
      ]
    },
    {
      "cell_type": "code",
      "execution_count": null,
      "id": "52f89740-5cb3-4604-acbf-09a85b4332b0",
      "metadata": {
        "id": "52f89740-5cb3-4604-acbf-09a85b4332b0",
        "outputId": "356bb1eb-7f61-48b6-8789-e537971084f7"
      },
      "outputs": [
        {
          "name": "stdout",
          "output_type": "stream",
          "text": [
            "AR: 0, MA: 0\n",
            "AR: 0, MA: 1\n",
            "AR: 0, MA: 2\n",
            "AR: 0, MA: 3\n",
            "AR: 0, MA: 4\n",
            "AR: 0, MA: 5\n",
            "AR: 0, MA: 6\n",
            "AR: 1, MA: 0\n",
            "AR: 1, MA: 1\n",
            "AR: 1, MA: 2\n",
            "AR: 1, MA: 3\n",
            "AR: 1, MA: 4\n",
            "AR: 1, MA: 5\n",
            "AR: 1, MA: 6\n",
            "AR: 2, MA: 0\n",
            "AR: 2, MA: 1\n",
            "AR: 2, MA: 2\n",
            "AR: 2, MA: 3\n",
            "AR: 2, MA: 4\n"
          ]
        },
        {
          "name": "stderr",
          "output_type": "stream",
          "text": [
            "D:\\Anaconda\\lib\\site-packages\\statsmodels\\base\\model.py:566: ConvergenceWarning: Maximum Likelihood optimization failed to converge. Check mle_retvals\n",
            "  warnings.warn(\"Maximum Likelihood optimization failed to \"\n"
          ]
        },
        {
          "name": "stdout",
          "output_type": "stream",
          "text": [
            "AR: 2, MA: 5\n"
          ]
        },
        {
          "name": "stderr",
          "output_type": "stream",
          "text": [
            "D:\\Anaconda\\lib\\site-packages\\statsmodels\\base\\model.py:566: ConvergenceWarning: Maximum Likelihood optimization failed to converge. Check mle_retvals\n",
            "  warnings.warn(\"Maximum Likelihood optimization failed to \"\n"
          ]
        },
        {
          "name": "stdout",
          "output_type": "stream",
          "text": [
            "AR: 2, MA: 6\n"
          ]
        },
        {
          "name": "stderr",
          "output_type": "stream",
          "text": [
            "D:\\Anaconda\\lib\\site-packages\\statsmodels\\base\\model.py:566: ConvergenceWarning: Maximum Likelihood optimization failed to converge. Check mle_retvals\n",
            "  warnings.warn(\"Maximum Likelihood optimization failed to \"\n"
          ]
        },
        {
          "name": "stdout",
          "output_type": "stream",
          "text": [
            "AR: 3, MA: 0\n",
            "AR: 3, MA: 1\n",
            "AR: 3, MA: 2\n",
            "AR: 3, MA: 3\n"
          ]
        },
        {
          "name": "stderr",
          "output_type": "stream",
          "text": [
            "D:\\Anaconda\\lib\\site-packages\\statsmodels\\base\\model.py:566: ConvergenceWarning: Maximum Likelihood optimization failed to converge. Check mle_retvals\n",
            "  warnings.warn(\"Maximum Likelihood optimization failed to \"\n"
          ]
        },
        {
          "name": "stdout",
          "output_type": "stream",
          "text": [
            "AR: 3, MA: 4\n"
          ]
        },
        {
          "name": "stderr",
          "output_type": "stream",
          "text": [
            "D:\\Anaconda\\lib\\site-packages\\statsmodels\\base\\model.py:566: ConvergenceWarning: Maximum Likelihood optimization failed to converge. Check mle_retvals\n",
            "  warnings.warn(\"Maximum Likelihood optimization failed to \"\n"
          ]
        },
        {
          "name": "stdout",
          "output_type": "stream",
          "text": [
            "AR: 3, MA: 5\n"
          ]
        },
        {
          "name": "stderr",
          "output_type": "stream",
          "text": [
            "D:\\Anaconda\\lib\\site-packages\\statsmodels\\base\\model.py:566: ConvergenceWarning: Maximum Likelihood optimization failed to converge. Check mle_retvals\n",
            "  warnings.warn(\"Maximum Likelihood optimization failed to \"\n"
          ]
        },
        {
          "name": "stdout",
          "output_type": "stream",
          "text": [
            "AR: 3, MA: 6\n"
          ]
        },
        {
          "name": "stderr",
          "output_type": "stream",
          "text": [
            "D:\\Anaconda\\lib\\site-packages\\statsmodels\\base\\model.py:566: ConvergenceWarning: Maximum Likelihood optimization failed to converge. Check mle_retvals\n",
            "  warnings.warn(\"Maximum Likelihood optimization failed to \"\n"
          ]
        },
        {
          "name": "stdout",
          "output_type": "stream",
          "text": [
            "AR: 4, MA: 0\n",
            "AR: 4, MA: 1\n",
            "AR: 4, MA: 2\n"
          ]
        },
        {
          "name": "stderr",
          "output_type": "stream",
          "text": [
            "D:\\Anaconda\\lib\\site-packages\\statsmodels\\tsa\\statespace\\sarimax.py:966: UserWarning: Non-stationary starting autoregressive parameters found. Using zeros as starting parameters.\n",
            "  warn('Non-stationary starting autoregressive parameters'\n",
            "D:\\Anaconda\\lib\\site-packages\\statsmodels\\tsa\\statespace\\sarimax.py:978: UserWarning: Non-invertible starting MA parameters found. Using zeros as starting parameters.\n",
            "  warn('Non-invertible starting MA parameters found.'\n",
            "D:\\Anaconda\\lib\\site-packages\\statsmodels\\base\\model.py:566: ConvergenceWarning: Maximum Likelihood optimization failed to converge. Check mle_retvals\n",
            "  warnings.warn(\"Maximum Likelihood optimization failed to \"\n"
          ]
        },
        {
          "name": "stdout",
          "output_type": "stream",
          "text": [
            "AR: 4, MA: 3\n",
            "AR: 4, MA: 4\n"
          ]
        },
        {
          "name": "stderr",
          "output_type": "stream",
          "text": [
            "D:\\Anaconda\\lib\\site-packages\\statsmodels\\base\\model.py:566: ConvergenceWarning: Maximum Likelihood optimization failed to converge. Check mle_retvals\n",
            "  warnings.warn(\"Maximum Likelihood optimization failed to \"\n"
          ]
        },
        {
          "name": "stdout",
          "output_type": "stream",
          "text": [
            "AR: 4, MA: 5\n"
          ]
        },
        {
          "name": "stderr",
          "output_type": "stream",
          "text": [
            "D:\\Anaconda\\lib\\site-packages\\statsmodels\\base\\model.py:566: ConvergenceWarning: Maximum Likelihood optimization failed to converge. Check mle_retvals\n",
            "  warnings.warn(\"Maximum Likelihood optimization failed to \"\n"
          ]
        },
        {
          "name": "stdout",
          "output_type": "stream",
          "text": [
            "AR: 4, MA: 6\n"
          ]
        },
        {
          "name": "stderr",
          "output_type": "stream",
          "text": [
            "D:\\Anaconda\\lib\\site-packages\\statsmodels\\base\\model.py:566: ConvergenceWarning: Maximum Likelihood optimization failed to converge. Check mle_retvals\n",
            "  warnings.warn(\"Maximum Likelihood optimization failed to \"\n"
          ]
        },
        {
          "name": "stdout",
          "output_type": "stream",
          "text": [
            "AR: 5, MA: 0\n",
            "AR: 5, MA: 1\n",
            "AR: 5, MA: 2\n"
          ]
        },
        {
          "name": "stderr",
          "output_type": "stream",
          "text": [
            "D:\\Anaconda\\lib\\site-packages\\statsmodels\\base\\model.py:566: ConvergenceWarning: Maximum Likelihood optimization failed to converge. Check mle_retvals\n",
            "  warnings.warn(\"Maximum Likelihood optimization failed to \"\n"
          ]
        },
        {
          "name": "stdout",
          "output_type": "stream",
          "text": [
            "AR: 5, MA: 3\n"
          ]
        },
        {
          "name": "stderr",
          "output_type": "stream",
          "text": [
            "D:\\Anaconda\\lib\\site-packages\\statsmodels\\base\\model.py:566: ConvergenceWarning: Maximum Likelihood optimization failed to converge. Check mle_retvals\n",
            "  warnings.warn(\"Maximum Likelihood optimization failed to \"\n"
          ]
        },
        {
          "name": "stdout",
          "output_type": "stream",
          "text": [
            "AR: 5, MA: 4\n"
          ]
        },
        {
          "name": "stderr",
          "output_type": "stream",
          "text": [
            "D:\\Anaconda\\lib\\site-packages\\statsmodels\\base\\model.py:566: ConvergenceWarning: Maximum Likelihood optimization failed to converge. Check mle_retvals\n",
            "  warnings.warn(\"Maximum Likelihood optimization failed to \"\n"
          ]
        },
        {
          "name": "stdout",
          "output_type": "stream",
          "text": [
            "AR: 5, MA: 5\n"
          ]
        },
        {
          "name": "stderr",
          "output_type": "stream",
          "text": [
            "D:\\Anaconda\\lib\\site-packages\\statsmodels\\base\\model.py:566: ConvergenceWarning: Maximum Likelihood optimization failed to converge. Check mle_retvals\n",
            "  warnings.warn(\"Maximum Likelihood optimization failed to \"\n"
          ]
        },
        {
          "name": "stdout",
          "output_type": "stream",
          "text": [
            "AR: 5, MA: 6\n"
          ]
        },
        {
          "name": "stderr",
          "output_type": "stream",
          "text": [
            "D:\\Anaconda\\lib\\site-packages\\statsmodels\\base\\model.py:566: ConvergenceWarning: Maximum Likelihood optimization failed to converge. Check mle_retvals\n",
            "  warnings.warn(\"Maximum Likelihood optimization failed to \"\n"
          ]
        },
        {
          "name": "stdout",
          "output_type": "stream",
          "text": [
            "AR: 6, MA: 0\n",
            "AR: 6, MA: 1\n",
            "AR: 6, MA: 2\n"
          ]
        },
        {
          "name": "stderr",
          "output_type": "stream",
          "text": [
            "D:\\Anaconda\\lib\\site-packages\\statsmodels\\base\\model.py:566: ConvergenceWarning: Maximum Likelihood optimization failed to converge. Check mle_retvals\n",
            "  warnings.warn(\"Maximum Likelihood optimization failed to \"\n"
          ]
        },
        {
          "name": "stdout",
          "output_type": "stream",
          "text": [
            "AR: 6, MA: 3\n",
            "AR: 6, MA: 4\n"
          ]
        },
        {
          "name": "stderr",
          "output_type": "stream",
          "text": [
            "D:\\Anaconda\\lib\\site-packages\\statsmodels\\base\\model.py:566: ConvergenceWarning: Maximum Likelihood optimization failed to converge. Check mle_retvals\n",
            "  warnings.warn(\"Maximum Likelihood optimization failed to \"\n"
          ]
        },
        {
          "name": "stdout",
          "output_type": "stream",
          "text": [
            "AR: 6, MA: 5\n"
          ]
        },
        {
          "name": "stderr",
          "output_type": "stream",
          "text": [
            "D:\\Anaconda\\lib\\site-packages\\statsmodels\\base\\model.py:566: ConvergenceWarning: Maximum Likelihood optimization failed to converge. Check mle_retvals\n",
            "  warnings.warn(\"Maximum Likelihood optimization failed to \"\n"
          ]
        },
        {
          "name": "stdout",
          "output_type": "stream",
          "text": [
            "AR: 6, MA: 6\n"
          ]
        },
        {
          "name": "stderr",
          "output_type": "stream",
          "text": [
            "D:\\Anaconda\\lib\\site-packages\\statsmodels\\base\\model.py:566: ConvergenceWarning: Maximum Likelihood optimization failed to converge. Check mle_retvals\n",
            "  warnings.warn(\"Maximum Likelihood optimization failed to \"\n"
          ]
        },
        {
          "data": {
            "text/html": [
              "<div>\n",
              "<style scoped>\n",
              "    .dataframe tbody tr th:only-of-type {\n",
              "        vertical-align: middle;\n",
              "    }\n",
              "\n",
              "    .dataframe tbody tr th {\n",
              "        vertical-align: top;\n",
              "    }\n",
              "\n",
              "    .dataframe thead th {\n",
              "        text-align: right;\n",
              "    }\n",
              "</style>\n",
              "<table border=\"1\" class=\"dataframe\">\n",
              "  <thead>\n",
              "    <tr style=\"text-align: right;\">\n",
              "      <th></th>\n",
              "      <th></th>\n",
              "      <th>AIC</th>\n",
              "      <th>BIC</th>\n",
              "    </tr>\n",
              "    <tr>\n",
              "      <th>AR</th>\n",
              "      <th>MA</th>\n",
              "      <th></th>\n",
              "      <th></th>\n",
              "    </tr>\n",
              "  </thead>\n",
              "  <tbody>\n",
              "    <tr>\n",
              "      <th rowspan=\"7\" valign=\"top\">0</th>\n",
              "      <th>0</th>\n",
              "      <td>2575.883779</td>\n",
              "      <td>2585.713241</td>\n",
              "    </tr>\n",
              "    <tr>\n",
              "      <th>1</th>\n",
              "      <td>2565.427007</td>\n",
              "      <td>2580.171200</td>\n",
              "    </tr>\n",
              "    <tr>\n",
              "      <th>2</th>\n",
              "      <td>2558.312966</td>\n",
              "      <td>2577.971890</td>\n",
              "    </tr>\n",
              "    <tr>\n",
              "      <th>3</th>\n",
              "      <td>2560.312963</td>\n",
              "      <td>2584.886617</td>\n",
              "    </tr>\n",
              "    <tr>\n",
              "      <th>4</th>\n",
              "      <td>2562.028625</td>\n",
              "      <td>2591.517011</td>\n",
              "    </tr>\n",
              "    <tr>\n",
              "      <th>5</th>\n",
              "      <td>2562.952681</td>\n",
              "      <td>2597.355797</td>\n",
              "    </tr>\n",
              "    <tr>\n",
              "      <th>6</th>\n",
              "      <td>2562.718972</td>\n",
              "      <td>2602.036819</td>\n",
              "    </tr>\n",
              "    <tr>\n",
              "      <th rowspan=\"7\" valign=\"top\">1</th>\n",
              "      <th>0</th>\n",
              "      <td>2567.865159</td>\n",
              "      <td>2582.609351</td>\n",
              "    </tr>\n",
              "    <tr>\n",
              "      <th>1</th>\n",
              "      <td>2560.468639</td>\n",
              "      <td>2580.127562</td>\n",
              "    </tr>\n",
              "    <tr>\n",
              "      <th>2</th>\n",
              "      <td>2560.312973</td>\n",
              "      <td>2584.886627</td>\n",
              "    </tr>\n",
              "    <tr>\n",
              "      <th>3</th>\n",
              "      <td>2562.311918</td>\n",
              "      <td>2591.800303</td>\n",
              "    </tr>\n",
              "    <tr>\n",
              "      <th>4</th>\n",
              "      <td>2563.842083</td>\n",
              "      <td>2598.245199</td>\n",
              "    </tr>\n",
              "    <tr>\n",
              "      <th>5</th>\n",
              "      <td>2564.401750</td>\n",
              "      <td>2603.719597</td>\n",
              "    </tr>\n",
              "    <tr>\n",
              "      <th>6</th>\n",
              "      <td>2564.452041</td>\n",
              "      <td>2608.684619</td>\n",
              "    </tr>\n",
              "    <tr>\n",
              "      <th rowspan=\"7\" valign=\"top\">2</th>\n",
              "      <th>0</th>\n",
              "      <td>2559.433118</td>\n",
              "      <td>2579.092042</td>\n",
              "    </tr>\n",
              "    <tr>\n",
              "      <th>1</th>\n",
              "      <td>2560.491185</td>\n",
              "      <td>2585.064839</td>\n",
              "    </tr>\n",
              "    <tr>\n",
              "      <th>2</th>\n",
              "      <td>2562.072054</td>\n",
              "      <td>2591.560439</td>\n",
              "    </tr>\n",
              "    <tr>\n",
              "      <th>3</th>\n",
              "      <td>2564.043807</td>\n",
              "      <td>2598.446923</td>\n",
              "    </tr>\n",
              "    <tr>\n",
              "      <th>4</th>\n",
              "      <td>2536.501522</td>\n",
              "      <td>2575.819370</td>\n",
              "    </tr>\n",
              "    <tr>\n",
              "      <th>5</th>\n",
              "      <td>2545.129970</td>\n",
              "      <td>2589.362548</td>\n",
              "    </tr>\n",
              "    <tr>\n",
              "      <th>6</th>\n",
              "      <td>2540.330982</td>\n",
              "      <td>2589.478291</td>\n",
              "    </tr>\n",
              "    <tr>\n",
              "      <th rowspan=\"7\" valign=\"top\">3</th>\n",
              "      <th>0</th>\n",
              "      <td>2560.950945</td>\n",
              "      <td>2585.524599</td>\n",
              "    </tr>\n",
              "    <tr>\n",
              "      <th>1</th>\n",
              "      <td>2562.470161</td>\n",
              "      <td>2591.958546</td>\n",
              "    </tr>\n",
              "    <tr>\n",
              "      <th>2</th>\n",
              "      <td>2564.014425</td>\n",
              "      <td>2598.417541</td>\n",
              "    </tr>\n",
              "    <tr>\n",
              "      <th>3</th>\n",
              "      <td>2564.718999</td>\n",
              "      <td>2604.036846</td>\n",
              "    </tr>\n",
              "    <tr>\n",
              "      <th>4</th>\n",
              "      <td>2541.695759</td>\n",
              "      <td>2585.928337</td>\n",
              "    </tr>\n",
              "    <tr>\n",
              "      <th>5</th>\n",
              "      <td>2553.292033</td>\n",
              "      <td>2602.439342</td>\n",
              "    </tr>\n",
              "    <tr>\n",
              "      <th>6</th>\n",
              "      <td>2541.321843</td>\n",
              "      <td>2595.383883</td>\n",
              "    </tr>\n",
              "    <tr>\n",
              "      <th rowspan=\"7\" valign=\"top\">4</th>\n",
              "      <th>0</th>\n",
              "      <td>2561.064045</td>\n",
              "      <td>2590.552430</td>\n",
              "    </tr>\n",
              "    <tr>\n",
              "      <th>1</th>\n",
              "      <td>2562.983079</td>\n",
              "      <td>2597.386195</td>\n",
              "    </tr>\n",
              "    <tr>\n",
              "      <th>2</th>\n",
              "      <td>2539.234202</td>\n",
              "      <td>2578.552049</td>\n",
              "    </tr>\n",
              "    <tr>\n",
              "      <th>3</th>\n",
              "      <td>2561.981799</td>\n",
              "      <td>2606.214377</td>\n",
              "    </tr>\n",
              "    <tr>\n",
              "      <th>4</th>\n",
              "      <td>2544.489132</td>\n",
              "      <td>2593.636441</td>\n",
              "    </tr>\n",
              "    <tr>\n",
              "      <th>5</th>\n",
              "      <td>2542.937164</td>\n",
              "      <td>2596.999204</td>\n",
              "    </tr>\n",
              "    <tr>\n",
              "      <th>6</th>\n",
              "      <td>2543.971332</td>\n",
              "      <td>2602.948103</td>\n",
              "    </tr>\n",
              "    <tr>\n",
              "      <th rowspan=\"7\" valign=\"top\">5</th>\n",
              "      <th>0</th>\n",
              "      <td>2562.772044</td>\n",
              "      <td>2597.175160</td>\n",
              "    </tr>\n",
              "    <tr>\n",
              "      <th>1</th>\n",
              "      <td>2563.989898</td>\n",
              "      <td>2603.307745</td>\n",
              "    </tr>\n",
              "    <tr>\n",
              "      <th>2</th>\n",
              "      <td>2543.518666</td>\n",
              "      <td>2587.751245</td>\n",
              "    </tr>\n",
              "    <tr>\n",
              "      <th>3</th>\n",
              "      <td>2541.645969</td>\n",
              "      <td>2590.793278</td>\n",
              "    </tr>\n",
              "    <tr>\n",
              "      <th>4</th>\n",
              "      <td>2541.759920</td>\n",
              "      <td>2595.821960</td>\n",
              "    </tr>\n",
              "    <tr>\n",
              "      <th>5</th>\n",
              "      <td>2543.750294</td>\n",
              "      <td>2602.727064</td>\n",
              "    </tr>\n",
              "    <tr>\n",
              "      <th>6</th>\n",
              "      <td>2547.394681</td>\n",
              "      <td>2611.286183</td>\n",
              "    </tr>\n",
              "    <tr>\n",
              "      <th rowspan=\"7\" valign=\"top\">6</th>\n",
              "      <th>0</th>\n",
              "      <td>2561.571329</td>\n",
              "      <td>2600.889176</td>\n",
              "    </tr>\n",
              "    <tr>\n",
              "      <th>1</th>\n",
              "      <td>2563.565686</td>\n",
              "      <td>2607.798264</td>\n",
              "    </tr>\n",
              "    <tr>\n",
              "      <th>2</th>\n",
              "      <td>2539.311675</td>\n",
              "      <td>2588.458984</td>\n",
              "    </tr>\n",
              "    <tr>\n",
              "      <th>3</th>\n",
              "      <td>2564.304964</td>\n",
              "      <td>2618.367004</td>\n",
              "    </tr>\n",
              "    <tr>\n",
              "      <th>4</th>\n",
              "      <td>2543.790296</td>\n",
              "      <td>2602.767067</td>\n",
              "    </tr>\n",
              "    <tr>\n",
              "      <th>5</th>\n",
              "      <td>2545.765429</td>\n",
              "      <td>2609.656931</td>\n",
              "    </tr>\n",
              "    <tr>\n",
              "      <th>6</th>\n",
              "      <td>2546.831257</td>\n",
              "      <td>2615.637490</td>\n",
              "    </tr>\n",
              "  </tbody>\n",
              "</table>\n",
              "</div>"
            ],
            "text/plain": [
              "               AIC          BIC\n",
              "AR MA                          \n",
              "0  0   2575.883779  2585.713241\n",
              "   1   2565.427007  2580.171200\n",
              "   2   2558.312966  2577.971890\n",
              "   3   2560.312963  2584.886617\n",
              "   4   2562.028625  2591.517011\n",
              "   5   2562.952681  2597.355797\n",
              "   6   2562.718972  2602.036819\n",
              "1  0   2567.865159  2582.609351\n",
              "   1   2560.468639  2580.127562\n",
              "   2   2560.312973  2584.886627\n",
              "   3   2562.311918  2591.800303\n",
              "   4   2563.842083  2598.245199\n",
              "   5   2564.401750  2603.719597\n",
              "   6   2564.452041  2608.684619\n",
              "2  0   2559.433118  2579.092042\n",
              "   1   2560.491185  2585.064839\n",
              "   2   2562.072054  2591.560439\n",
              "   3   2564.043807  2598.446923\n",
              "   4   2536.501522  2575.819370\n",
              "   5   2545.129970  2589.362548\n",
              "   6   2540.330982  2589.478291\n",
              "3  0   2560.950945  2585.524599\n",
              "   1   2562.470161  2591.958546\n",
              "   2   2564.014425  2598.417541\n",
              "   3   2564.718999  2604.036846\n",
              "   4   2541.695759  2585.928337\n",
              "   5   2553.292033  2602.439342\n",
              "   6   2541.321843  2595.383883\n",
              "4  0   2561.064045  2590.552430\n",
              "   1   2562.983079  2597.386195\n",
              "   2   2539.234202  2578.552049\n",
              "   3   2561.981799  2606.214377\n",
              "   4   2544.489132  2593.636441\n",
              "   5   2542.937164  2596.999204\n",
              "   6   2543.971332  2602.948103\n",
              "5  0   2562.772044  2597.175160\n",
              "   1   2563.989898  2603.307745\n",
              "   2   2543.518666  2587.751245\n",
              "   3   2541.645969  2590.793278\n",
              "   4   2541.759920  2595.821960\n",
              "   5   2543.750294  2602.727064\n",
              "   6   2547.394681  2611.286183\n",
              "6  0   2561.571329  2600.889176\n",
              "   1   2563.565686  2607.798264\n",
              "   2   2539.311675  2588.458984\n",
              "   3   2564.304964  2618.367004\n",
              "   4   2543.790296  2602.767067\n",
              "   5   2545.765429  2609.656931\n",
              "   6   2546.831257  2615.637490"
            ]
          },
          "execution_count": 312,
          "metadata": {},
          "output_type": "execute_result"
        }
      ],
      "source": [
        "ic = {}\n",
        "for ar in range(7):\n",
        "    for ma in range(7):\n",
        "        print(f\"AR: {ar}, MA: {ma}\")\n",
        "        modelo = ARIMA(bimbo_diff, order=(ar, 0, ma))\n",
        "        resultado = modelo.fit()\n",
        "        ic[(ar, ma)] = [resultado.aic, resultado.bic]\n",
        "\n",
        "ic = pd.DataFrame(ic, index=[\"AIC\", \"BIC\"]).T\n",
        "ic.index = ic.index.set_names([\"AR\", \"MA\"])\n",
        "ic"
      ]
    },
    {
      "cell_type": "markdown",
      "id": "1ec39e4c-376d-43d5-8525-4e93f8d62266",
      "metadata": {
        "id": "1ec39e4c-376d-43d5-8525-4e93f8d62266"
      },
      "source": [
        "Primero los ordenamos de acuerdo a nuestro primer indicador al BIC."
      ]
    },
    {
      "cell_type": "code",
      "execution_count": null,
      "id": "0b8ca96a-dab0-416f-9055-afb5b523b150",
      "metadata": {
        "id": "0b8ca96a-dab0-416f-9055-afb5b523b150",
        "outputId": "6d40fec0-b5f2-4dd5-f3d4-6b3e63ed3ea8"
      },
      "outputs": [
        {
          "data": {
            "text/html": [
              "<div>\n",
              "<style scoped>\n",
              "    .dataframe tbody tr th:only-of-type {\n",
              "        vertical-align: middle;\n",
              "    }\n",
              "\n",
              "    .dataframe tbody tr th {\n",
              "        vertical-align: top;\n",
              "    }\n",
              "\n",
              "    .dataframe thead th {\n",
              "        text-align: right;\n",
              "    }\n",
              "</style>\n",
              "<table border=\"1\" class=\"dataframe\">\n",
              "  <thead>\n",
              "    <tr style=\"text-align: right;\">\n",
              "      <th></th>\n",
              "      <th></th>\n",
              "      <th>AIC</th>\n",
              "      <th>BIC</th>\n",
              "    </tr>\n",
              "    <tr>\n",
              "      <th>AR</th>\n",
              "      <th>MA</th>\n",
              "      <th></th>\n",
              "      <th></th>\n",
              "    </tr>\n",
              "  </thead>\n",
              "  <tbody>\n",
              "    <tr>\n",
              "      <th>2</th>\n",
              "      <th>4</th>\n",
              "      <td>2536.501522</td>\n",
              "      <td>2575.819370</td>\n",
              "    </tr>\n",
              "    <tr>\n",
              "      <th>0</th>\n",
              "      <th>2</th>\n",
              "      <td>2558.312966</td>\n",
              "      <td>2577.971890</td>\n",
              "    </tr>\n",
              "    <tr>\n",
              "      <th>4</th>\n",
              "      <th>2</th>\n",
              "      <td>2539.234202</td>\n",
              "      <td>2578.552049</td>\n",
              "    </tr>\n",
              "    <tr>\n",
              "      <th>2</th>\n",
              "      <th>0</th>\n",
              "      <td>2559.433118</td>\n",
              "      <td>2579.092042</td>\n",
              "    </tr>\n",
              "    <tr>\n",
              "      <th>1</th>\n",
              "      <th>1</th>\n",
              "      <td>2560.468639</td>\n",
              "      <td>2580.127562</td>\n",
              "    </tr>\n",
              "    <tr>\n",
              "      <th>0</th>\n",
              "      <th>1</th>\n",
              "      <td>2565.427007</td>\n",
              "      <td>2580.171200</td>\n",
              "    </tr>\n",
              "    <tr>\n",
              "      <th>1</th>\n",
              "      <th>0</th>\n",
              "      <td>2567.865159</td>\n",
              "      <td>2582.609351</td>\n",
              "    </tr>\n",
              "    <tr>\n",
              "      <th>0</th>\n",
              "      <th>3</th>\n",
              "      <td>2560.312963</td>\n",
              "      <td>2584.886617</td>\n",
              "    </tr>\n",
              "    <tr>\n",
              "      <th>1</th>\n",
              "      <th>2</th>\n",
              "      <td>2560.312973</td>\n",
              "      <td>2584.886627</td>\n",
              "    </tr>\n",
              "    <tr>\n",
              "      <th>2</th>\n",
              "      <th>1</th>\n",
              "      <td>2560.491185</td>\n",
              "      <td>2585.064839</td>\n",
              "    </tr>\n",
              "    <tr>\n",
              "      <th>3</th>\n",
              "      <th>0</th>\n",
              "      <td>2560.950945</td>\n",
              "      <td>2585.524599</td>\n",
              "    </tr>\n",
              "    <tr>\n",
              "      <th>0</th>\n",
              "      <th>0</th>\n",
              "      <td>2575.883779</td>\n",
              "      <td>2585.713241</td>\n",
              "    </tr>\n",
              "    <tr>\n",
              "      <th>3</th>\n",
              "      <th>4</th>\n",
              "      <td>2541.695759</td>\n",
              "      <td>2585.928337</td>\n",
              "    </tr>\n",
              "    <tr>\n",
              "      <th>5</th>\n",
              "      <th>2</th>\n",
              "      <td>2543.518666</td>\n",
              "      <td>2587.751245</td>\n",
              "    </tr>\n",
              "    <tr>\n",
              "      <th>6</th>\n",
              "      <th>2</th>\n",
              "      <td>2539.311675</td>\n",
              "      <td>2588.458984</td>\n",
              "    </tr>\n",
              "    <tr>\n",
              "      <th rowspan=\"2\" valign=\"top\">2</th>\n",
              "      <th>5</th>\n",
              "      <td>2545.129970</td>\n",
              "      <td>2589.362548</td>\n",
              "    </tr>\n",
              "    <tr>\n",
              "      <th>6</th>\n",
              "      <td>2540.330982</td>\n",
              "      <td>2589.478291</td>\n",
              "    </tr>\n",
              "    <tr>\n",
              "      <th>4</th>\n",
              "      <th>0</th>\n",
              "      <td>2561.064045</td>\n",
              "      <td>2590.552430</td>\n",
              "    </tr>\n",
              "    <tr>\n",
              "      <th>5</th>\n",
              "      <th>3</th>\n",
              "      <td>2541.645969</td>\n",
              "      <td>2590.793278</td>\n",
              "    </tr>\n",
              "    <tr>\n",
              "      <th>0</th>\n",
              "      <th>4</th>\n",
              "      <td>2562.028625</td>\n",
              "      <td>2591.517011</td>\n",
              "    </tr>\n",
              "    <tr>\n",
              "      <th>2</th>\n",
              "      <th>2</th>\n",
              "      <td>2562.072054</td>\n",
              "      <td>2591.560439</td>\n",
              "    </tr>\n",
              "    <tr>\n",
              "      <th>1</th>\n",
              "      <th>3</th>\n",
              "      <td>2562.311918</td>\n",
              "      <td>2591.800303</td>\n",
              "    </tr>\n",
              "    <tr>\n",
              "      <th>3</th>\n",
              "      <th>1</th>\n",
              "      <td>2562.470161</td>\n",
              "      <td>2591.958546</td>\n",
              "    </tr>\n",
              "    <tr>\n",
              "      <th>4</th>\n",
              "      <th>4</th>\n",
              "      <td>2544.489132</td>\n",
              "      <td>2593.636441</td>\n",
              "    </tr>\n",
              "    <tr>\n",
              "      <th>3</th>\n",
              "      <th>6</th>\n",
              "      <td>2541.321843</td>\n",
              "      <td>2595.383883</td>\n",
              "    </tr>\n",
              "    <tr>\n",
              "      <th>5</th>\n",
              "      <th>4</th>\n",
              "      <td>2541.759920</td>\n",
              "      <td>2595.821960</td>\n",
              "    </tr>\n",
              "    <tr>\n",
              "      <th>4</th>\n",
              "      <th>5</th>\n",
              "      <td>2542.937164</td>\n",
              "      <td>2596.999204</td>\n",
              "    </tr>\n",
              "    <tr>\n",
              "      <th>5</th>\n",
              "      <th>0</th>\n",
              "      <td>2562.772044</td>\n",
              "      <td>2597.175160</td>\n",
              "    </tr>\n",
              "    <tr>\n",
              "      <th>0</th>\n",
              "      <th>5</th>\n",
              "      <td>2562.952681</td>\n",
              "      <td>2597.355797</td>\n",
              "    </tr>\n",
              "    <tr>\n",
              "      <th>4</th>\n",
              "      <th>1</th>\n",
              "      <td>2562.983079</td>\n",
              "      <td>2597.386195</td>\n",
              "    </tr>\n",
              "    <tr>\n",
              "      <th>1</th>\n",
              "      <th>4</th>\n",
              "      <td>2563.842083</td>\n",
              "      <td>2598.245199</td>\n",
              "    </tr>\n",
              "    <tr>\n",
              "      <th>3</th>\n",
              "      <th>2</th>\n",
              "      <td>2564.014425</td>\n",
              "      <td>2598.417541</td>\n",
              "    </tr>\n",
              "    <tr>\n",
              "      <th>2</th>\n",
              "      <th>3</th>\n",
              "      <td>2564.043807</td>\n",
              "      <td>2598.446923</td>\n",
              "    </tr>\n",
              "    <tr>\n",
              "      <th>6</th>\n",
              "      <th>0</th>\n",
              "      <td>2561.571329</td>\n",
              "      <td>2600.889176</td>\n",
              "    </tr>\n",
              "    <tr>\n",
              "      <th>0</th>\n",
              "      <th>6</th>\n",
              "      <td>2562.718972</td>\n",
              "      <td>2602.036819</td>\n",
              "    </tr>\n",
              "    <tr>\n",
              "      <th>3</th>\n",
              "      <th>5</th>\n",
              "      <td>2553.292033</td>\n",
              "      <td>2602.439342</td>\n",
              "    </tr>\n",
              "    <tr>\n",
              "      <th>5</th>\n",
              "      <th>5</th>\n",
              "      <td>2543.750294</td>\n",
              "      <td>2602.727064</td>\n",
              "    </tr>\n",
              "    <tr>\n",
              "      <th>6</th>\n",
              "      <th>4</th>\n",
              "      <td>2543.790296</td>\n",
              "      <td>2602.767067</td>\n",
              "    </tr>\n",
              "    <tr>\n",
              "      <th>4</th>\n",
              "      <th>6</th>\n",
              "      <td>2543.971332</td>\n",
              "      <td>2602.948103</td>\n",
              "    </tr>\n",
              "    <tr>\n",
              "      <th>5</th>\n",
              "      <th>1</th>\n",
              "      <td>2563.989898</td>\n",
              "      <td>2603.307745</td>\n",
              "    </tr>\n",
              "    <tr>\n",
              "      <th>1</th>\n",
              "      <th>5</th>\n",
              "      <td>2564.401750</td>\n",
              "      <td>2603.719597</td>\n",
              "    </tr>\n",
              "    <tr>\n",
              "      <th>3</th>\n",
              "      <th>3</th>\n",
              "      <td>2564.718999</td>\n",
              "      <td>2604.036846</td>\n",
              "    </tr>\n",
              "    <tr>\n",
              "      <th>4</th>\n",
              "      <th>3</th>\n",
              "      <td>2561.981799</td>\n",
              "      <td>2606.214377</td>\n",
              "    </tr>\n",
              "    <tr>\n",
              "      <th>6</th>\n",
              "      <th>1</th>\n",
              "      <td>2563.565686</td>\n",
              "      <td>2607.798264</td>\n",
              "    </tr>\n",
              "    <tr>\n",
              "      <th>1</th>\n",
              "      <th>6</th>\n",
              "      <td>2564.452041</td>\n",
              "      <td>2608.684619</td>\n",
              "    </tr>\n",
              "    <tr>\n",
              "      <th>6</th>\n",
              "      <th>5</th>\n",
              "      <td>2545.765429</td>\n",
              "      <td>2609.656931</td>\n",
              "    </tr>\n",
              "    <tr>\n",
              "      <th>5</th>\n",
              "      <th>6</th>\n",
              "      <td>2547.394681</td>\n",
              "      <td>2611.286183</td>\n",
              "    </tr>\n",
              "    <tr>\n",
              "      <th rowspan=\"2\" valign=\"top\">6</th>\n",
              "      <th>6</th>\n",
              "      <td>2546.831257</td>\n",
              "      <td>2615.637490</td>\n",
              "    </tr>\n",
              "    <tr>\n",
              "      <th>3</th>\n",
              "      <td>2564.304964</td>\n",
              "      <td>2618.367004</td>\n",
              "    </tr>\n",
              "  </tbody>\n",
              "</table>\n",
              "</div>"
            ],
            "text/plain": [
              "               AIC          BIC\n",
              "AR MA                          \n",
              "2  4   2536.501522  2575.819370\n",
              "0  2   2558.312966  2577.971890\n",
              "4  2   2539.234202  2578.552049\n",
              "2  0   2559.433118  2579.092042\n",
              "1  1   2560.468639  2580.127562\n",
              "0  1   2565.427007  2580.171200\n",
              "1  0   2567.865159  2582.609351\n",
              "0  3   2560.312963  2584.886617\n",
              "1  2   2560.312973  2584.886627\n",
              "2  1   2560.491185  2585.064839\n",
              "3  0   2560.950945  2585.524599\n",
              "0  0   2575.883779  2585.713241\n",
              "3  4   2541.695759  2585.928337\n",
              "5  2   2543.518666  2587.751245\n",
              "6  2   2539.311675  2588.458984\n",
              "2  5   2545.129970  2589.362548\n",
              "   6   2540.330982  2589.478291\n",
              "4  0   2561.064045  2590.552430\n",
              "5  3   2541.645969  2590.793278\n",
              "0  4   2562.028625  2591.517011\n",
              "2  2   2562.072054  2591.560439\n",
              "1  3   2562.311918  2591.800303\n",
              "3  1   2562.470161  2591.958546\n",
              "4  4   2544.489132  2593.636441\n",
              "3  6   2541.321843  2595.383883\n",
              "5  4   2541.759920  2595.821960\n",
              "4  5   2542.937164  2596.999204\n",
              "5  0   2562.772044  2597.175160\n",
              "0  5   2562.952681  2597.355797\n",
              "4  1   2562.983079  2597.386195\n",
              "1  4   2563.842083  2598.245199\n",
              "3  2   2564.014425  2598.417541\n",
              "2  3   2564.043807  2598.446923\n",
              "6  0   2561.571329  2600.889176\n",
              "0  6   2562.718972  2602.036819\n",
              "3  5   2553.292033  2602.439342\n",
              "5  5   2543.750294  2602.727064\n",
              "6  4   2543.790296  2602.767067\n",
              "4  6   2543.971332  2602.948103\n",
              "5  1   2563.989898  2603.307745\n",
              "1  5   2564.401750  2603.719597\n",
              "3  3   2564.718999  2604.036846\n",
              "4  3   2561.981799  2606.214377\n",
              "6  1   2563.565686  2607.798264\n",
              "1  6   2564.452041  2608.684619\n",
              "6  5   2545.765429  2609.656931\n",
              "5  6   2547.394681  2611.286183\n",
              "6  6   2546.831257  2615.637490\n",
              "   3   2564.304964  2618.367004"
            ]
          },
          "execution_count": 313,
          "metadata": {},
          "output_type": "execute_result"
        }
      ],
      "source": [
        "ic.sort_values('BIC', ascending = True)"
      ]
    },
    {
      "cell_type": "markdown",
      "id": "bb12aaac-f73b-4254-a313-1afc329e7a55",
      "metadata": {
        "id": "bb12aaac-f73b-4254-a313-1afc329e7a55"
      },
      "source": [
        "el BIC me sugiere un ARMA(2,4)"
      ]
    },
    {
      "cell_type": "markdown",
      "id": "5c37f51f-da0a-49ba-bcee-c7a56c701909",
      "metadata": {
        "id": "5c37f51f-da0a-49ba-bcee-c7a56c701909"
      },
      "source": [
        "Ahora utilizamos nuestro segundo indicador, el criterio de Akaike (AIC)"
      ]
    },
    {
      "cell_type": "code",
      "execution_count": null,
      "id": "3dba8951-2c69-48e2-9862-92b633647e10",
      "metadata": {
        "id": "3dba8951-2c69-48e2-9862-92b633647e10",
        "outputId": "f0708cf2-196a-4119-908f-5e521e48d0b0"
      },
      "outputs": [
        {
          "data": {
            "text/html": [
              "<div>\n",
              "<style scoped>\n",
              "    .dataframe tbody tr th:only-of-type {\n",
              "        vertical-align: middle;\n",
              "    }\n",
              "\n",
              "    .dataframe tbody tr th {\n",
              "        vertical-align: top;\n",
              "    }\n",
              "\n",
              "    .dataframe thead th {\n",
              "        text-align: right;\n",
              "    }\n",
              "</style>\n",
              "<table border=\"1\" class=\"dataframe\">\n",
              "  <thead>\n",
              "    <tr style=\"text-align: right;\">\n",
              "      <th></th>\n",
              "      <th></th>\n",
              "      <th>AIC</th>\n",
              "      <th>BIC</th>\n",
              "    </tr>\n",
              "    <tr>\n",
              "      <th>AR</th>\n",
              "      <th>MA</th>\n",
              "      <th></th>\n",
              "      <th></th>\n",
              "    </tr>\n",
              "  </thead>\n",
              "  <tbody>\n",
              "    <tr>\n",
              "      <th>2</th>\n",
              "      <th>4</th>\n",
              "      <td>2536.501522</td>\n",
              "      <td>2575.819370</td>\n",
              "    </tr>\n",
              "    <tr>\n",
              "      <th>4</th>\n",
              "      <th>2</th>\n",
              "      <td>2539.234202</td>\n",
              "      <td>2578.552049</td>\n",
              "    </tr>\n",
              "    <tr>\n",
              "      <th>6</th>\n",
              "      <th>2</th>\n",
              "      <td>2539.311675</td>\n",
              "      <td>2588.458984</td>\n",
              "    </tr>\n",
              "    <tr>\n",
              "      <th>2</th>\n",
              "      <th>6</th>\n",
              "      <td>2540.330982</td>\n",
              "      <td>2589.478291</td>\n",
              "    </tr>\n",
              "    <tr>\n",
              "      <th>3</th>\n",
              "      <th>6</th>\n",
              "      <td>2541.321843</td>\n",
              "      <td>2595.383883</td>\n",
              "    </tr>\n",
              "    <tr>\n",
              "      <th>5</th>\n",
              "      <th>3</th>\n",
              "      <td>2541.645969</td>\n",
              "      <td>2590.793278</td>\n",
              "    </tr>\n",
              "    <tr>\n",
              "      <th>3</th>\n",
              "      <th>4</th>\n",
              "      <td>2541.695759</td>\n",
              "      <td>2585.928337</td>\n",
              "    </tr>\n",
              "    <tr>\n",
              "      <th>5</th>\n",
              "      <th>4</th>\n",
              "      <td>2541.759920</td>\n",
              "      <td>2595.821960</td>\n",
              "    </tr>\n",
              "    <tr>\n",
              "      <th>4</th>\n",
              "      <th>5</th>\n",
              "      <td>2542.937164</td>\n",
              "      <td>2596.999204</td>\n",
              "    </tr>\n",
              "    <tr>\n",
              "      <th rowspan=\"2\" valign=\"top\">5</th>\n",
              "      <th>2</th>\n",
              "      <td>2543.518666</td>\n",
              "      <td>2587.751245</td>\n",
              "    </tr>\n",
              "    <tr>\n",
              "      <th>5</th>\n",
              "      <td>2543.750294</td>\n",
              "      <td>2602.727064</td>\n",
              "    </tr>\n",
              "    <tr>\n",
              "      <th>6</th>\n",
              "      <th>4</th>\n",
              "      <td>2543.790296</td>\n",
              "      <td>2602.767067</td>\n",
              "    </tr>\n",
              "    <tr>\n",
              "      <th rowspan=\"2\" valign=\"top\">4</th>\n",
              "      <th>6</th>\n",
              "      <td>2543.971332</td>\n",
              "      <td>2602.948103</td>\n",
              "    </tr>\n",
              "    <tr>\n",
              "      <th>4</th>\n",
              "      <td>2544.489132</td>\n",
              "      <td>2593.636441</td>\n",
              "    </tr>\n",
              "    <tr>\n",
              "      <th>2</th>\n",
              "      <th>5</th>\n",
              "      <td>2545.129970</td>\n",
              "      <td>2589.362548</td>\n",
              "    </tr>\n",
              "    <tr>\n",
              "      <th rowspan=\"2\" valign=\"top\">6</th>\n",
              "      <th>5</th>\n",
              "      <td>2545.765429</td>\n",
              "      <td>2609.656931</td>\n",
              "    </tr>\n",
              "    <tr>\n",
              "      <th>6</th>\n",
              "      <td>2546.831257</td>\n",
              "      <td>2615.637490</td>\n",
              "    </tr>\n",
              "    <tr>\n",
              "      <th>5</th>\n",
              "      <th>6</th>\n",
              "      <td>2547.394681</td>\n",
              "      <td>2611.286183</td>\n",
              "    </tr>\n",
              "    <tr>\n",
              "      <th>3</th>\n",
              "      <th>5</th>\n",
              "      <td>2553.292033</td>\n",
              "      <td>2602.439342</td>\n",
              "    </tr>\n",
              "    <tr>\n",
              "      <th>0</th>\n",
              "      <th>2</th>\n",
              "      <td>2558.312966</td>\n",
              "      <td>2577.971890</td>\n",
              "    </tr>\n",
              "    <tr>\n",
              "      <th>2</th>\n",
              "      <th>0</th>\n",
              "      <td>2559.433118</td>\n",
              "      <td>2579.092042</td>\n",
              "    </tr>\n",
              "    <tr>\n",
              "      <th>0</th>\n",
              "      <th>3</th>\n",
              "      <td>2560.312963</td>\n",
              "      <td>2584.886617</td>\n",
              "    </tr>\n",
              "    <tr>\n",
              "      <th rowspan=\"2\" valign=\"top\">1</th>\n",
              "      <th>2</th>\n",
              "      <td>2560.312973</td>\n",
              "      <td>2584.886627</td>\n",
              "    </tr>\n",
              "    <tr>\n",
              "      <th>1</th>\n",
              "      <td>2560.468639</td>\n",
              "      <td>2580.127562</td>\n",
              "    </tr>\n",
              "    <tr>\n",
              "      <th>2</th>\n",
              "      <th>1</th>\n",
              "      <td>2560.491185</td>\n",
              "      <td>2585.064839</td>\n",
              "    </tr>\n",
              "    <tr>\n",
              "      <th>3</th>\n",
              "      <th>0</th>\n",
              "      <td>2560.950945</td>\n",
              "      <td>2585.524599</td>\n",
              "    </tr>\n",
              "    <tr>\n",
              "      <th>4</th>\n",
              "      <th>0</th>\n",
              "      <td>2561.064045</td>\n",
              "      <td>2590.552430</td>\n",
              "    </tr>\n",
              "    <tr>\n",
              "      <th>6</th>\n",
              "      <th>0</th>\n",
              "      <td>2561.571329</td>\n",
              "      <td>2600.889176</td>\n",
              "    </tr>\n",
              "    <tr>\n",
              "      <th>4</th>\n",
              "      <th>3</th>\n",
              "      <td>2561.981799</td>\n",
              "      <td>2606.214377</td>\n",
              "    </tr>\n",
              "    <tr>\n",
              "      <th>0</th>\n",
              "      <th>4</th>\n",
              "      <td>2562.028625</td>\n",
              "      <td>2591.517011</td>\n",
              "    </tr>\n",
              "    <tr>\n",
              "      <th>2</th>\n",
              "      <th>2</th>\n",
              "      <td>2562.072054</td>\n",
              "      <td>2591.560439</td>\n",
              "    </tr>\n",
              "    <tr>\n",
              "      <th>1</th>\n",
              "      <th>3</th>\n",
              "      <td>2562.311918</td>\n",
              "      <td>2591.800303</td>\n",
              "    </tr>\n",
              "    <tr>\n",
              "      <th>3</th>\n",
              "      <th>1</th>\n",
              "      <td>2562.470161</td>\n",
              "      <td>2591.958546</td>\n",
              "    </tr>\n",
              "    <tr>\n",
              "      <th>0</th>\n",
              "      <th>6</th>\n",
              "      <td>2562.718972</td>\n",
              "      <td>2602.036819</td>\n",
              "    </tr>\n",
              "    <tr>\n",
              "      <th>5</th>\n",
              "      <th>0</th>\n",
              "      <td>2562.772044</td>\n",
              "      <td>2597.175160</td>\n",
              "    </tr>\n",
              "    <tr>\n",
              "      <th>0</th>\n",
              "      <th>5</th>\n",
              "      <td>2562.952681</td>\n",
              "      <td>2597.355797</td>\n",
              "    </tr>\n",
              "    <tr>\n",
              "      <th>4</th>\n",
              "      <th>1</th>\n",
              "      <td>2562.983079</td>\n",
              "      <td>2597.386195</td>\n",
              "    </tr>\n",
              "    <tr>\n",
              "      <th>6</th>\n",
              "      <th>1</th>\n",
              "      <td>2563.565686</td>\n",
              "      <td>2607.798264</td>\n",
              "    </tr>\n",
              "    <tr>\n",
              "      <th>1</th>\n",
              "      <th>4</th>\n",
              "      <td>2563.842083</td>\n",
              "      <td>2598.245199</td>\n",
              "    </tr>\n",
              "    <tr>\n",
              "      <th>5</th>\n",
              "      <th>1</th>\n",
              "      <td>2563.989898</td>\n",
              "      <td>2603.307745</td>\n",
              "    </tr>\n",
              "    <tr>\n",
              "      <th>3</th>\n",
              "      <th>2</th>\n",
              "      <td>2564.014425</td>\n",
              "      <td>2598.417541</td>\n",
              "    </tr>\n",
              "    <tr>\n",
              "      <th>2</th>\n",
              "      <th>3</th>\n",
              "      <td>2564.043807</td>\n",
              "      <td>2598.446923</td>\n",
              "    </tr>\n",
              "    <tr>\n",
              "      <th>6</th>\n",
              "      <th>3</th>\n",
              "      <td>2564.304964</td>\n",
              "      <td>2618.367004</td>\n",
              "    </tr>\n",
              "    <tr>\n",
              "      <th rowspan=\"2\" valign=\"top\">1</th>\n",
              "      <th>5</th>\n",
              "      <td>2564.401750</td>\n",
              "      <td>2603.719597</td>\n",
              "    </tr>\n",
              "    <tr>\n",
              "      <th>6</th>\n",
              "      <td>2564.452041</td>\n",
              "      <td>2608.684619</td>\n",
              "    </tr>\n",
              "    <tr>\n",
              "      <th>3</th>\n",
              "      <th>3</th>\n",
              "      <td>2564.718999</td>\n",
              "      <td>2604.036846</td>\n",
              "    </tr>\n",
              "    <tr>\n",
              "      <th>0</th>\n",
              "      <th>1</th>\n",
              "      <td>2565.427007</td>\n",
              "      <td>2580.171200</td>\n",
              "    </tr>\n",
              "    <tr>\n",
              "      <th>1</th>\n",
              "      <th>0</th>\n",
              "      <td>2567.865159</td>\n",
              "      <td>2582.609351</td>\n",
              "    </tr>\n",
              "    <tr>\n",
              "      <th>0</th>\n",
              "      <th>0</th>\n",
              "      <td>2575.883779</td>\n",
              "      <td>2585.713241</td>\n",
              "    </tr>\n",
              "  </tbody>\n",
              "</table>\n",
              "</div>"
            ],
            "text/plain": [
              "               AIC          BIC\n",
              "AR MA                          \n",
              "2  4   2536.501522  2575.819370\n",
              "4  2   2539.234202  2578.552049\n",
              "6  2   2539.311675  2588.458984\n",
              "2  6   2540.330982  2589.478291\n",
              "3  6   2541.321843  2595.383883\n",
              "5  3   2541.645969  2590.793278\n",
              "3  4   2541.695759  2585.928337\n",
              "5  4   2541.759920  2595.821960\n",
              "4  5   2542.937164  2596.999204\n",
              "5  2   2543.518666  2587.751245\n",
              "   5   2543.750294  2602.727064\n",
              "6  4   2543.790296  2602.767067\n",
              "4  6   2543.971332  2602.948103\n",
              "   4   2544.489132  2593.636441\n",
              "2  5   2545.129970  2589.362548\n",
              "6  5   2545.765429  2609.656931\n",
              "   6   2546.831257  2615.637490\n",
              "5  6   2547.394681  2611.286183\n",
              "3  5   2553.292033  2602.439342\n",
              "0  2   2558.312966  2577.971890\n",
              "2  0   2559.433118  2579.092042\n",
              "0  3   2560.312963  2584.886617\n",
              "1  2   2560.312973  2584.886627\n",
              "   1   2560.468639  2580.127562\n",
              "2  1   2560.491185  2585.064839\n",
              "3  0   2560.950945  2585.524599\n",
              "4  0   2561.064045  2590.552430\n",
              "6  0   2561.571329  2600.889176\n",
              "4  3   2561.981799  2606.214377\n",
              "0  4   2562.028625  2591.517011\n",
              "2  2   2562.072054  2591.560439\n",
              "1  3   2562.311918  2591.800303\n",
              "3  1   2562.470161  2591.958546\n",
              "0  6   2562.718972  2602.036819\n",
              "5  0   2562.772044  2597.175160\n",
              "0  5   2562.952681  2597.355797\n",
              "4  1   2562.983079  2597.386195\n",
              "6  1   2563.565686  2607.798264\n",
              "1  4   2563.842083  2598.245199\n",
              "5  1   2563.989898  2603.307745\n",
              "3  2   2564.014425  2598.417541\n",
              "2  3   2564.043807  2598.446923\n",
              "6  3   2564.304964  2618.367004\n",
              "1  5   2564.401750  2603.719597\n",
              "   6   2564.452041  2608.684619\n",
              "3  3   2564.718999  2604.036846\n",
              "0  1   2565.427007  2580.171200\n",
              "1  0   2567.865159  2582.609351\n",
              "0  0   2575.883779  2585.713241"
            ]
          },
          "execution_count": 314,
          "metadata": {},
          "output_type": "execute_result"
        }
      ],
      "source": [
        "ic.sort_values('AIC', ascending = True)"
      ]
    },
    {
      "cell_type": "markdown",
      "id": "cdee3b44-7825-4ba8-beac-781f13b335b8",
      "metadata": {
        "id": "cdee3b44-7825-4ba8-beac-781f13b335b8"
      },
      "source": [
        "Al igual que el BIC, el AIC me sugiere un ARMA (2,4)"
      ]
    },
    {
      "cell_type": "code",
      "execution_count": null,
      "id": "1b0299ab-02a4-436c-b656-1d9179d82d80",
      "metadata": {
        "tags": [],
        "id": "1b0299ab-02a4-436c-b656-1d9179d82d80",
        "outputId": "4f44c848-f21f-44c7-8200-4995044f8122"
      },
      "outputs": [
        {
          "name": "stderr",
          "output_type": "stream",
          "text": [
            "D:\\Anaconda\\lib\\site-packages\\statsmodels\\base\\model.py:566: ConvergenceWarning: Maximum Likelihood optimization failed to converge. Check mle_retvals\n",
            "  warnings.warn(\"Maximum Likelihood optimization failed to \"\n"
          ]
        },
        {
          "data": {
            "text/html": [
              "<table class=\"simpletable\">\n",
              "<caption>SARIMAX Results</caption>\n",
              "<tr>\n",
              "  <th>Dep. Variable:</th>       <td>adj_close</td>    <th>  No. Observations:  </th>   <td>1007</td>   \n",
              "</tr>\n",
              "<tr>\n",
              "  <th>Model:</th>            <td>ARIMA(2, 0, 4)</td>  <th>  Log Likelihood     </th> <td>-1260.251</td>\n",
              "</tr>\n",
              "<tr>\n",
              "  <th>Date:</th>            <td>Sun, 13 Mar 2022</td> <th>  AIC                </th> <td>2536.502</td> \n",
              "</tr>\n",
              "<tr>\n",
              "  <th>Time:</th>                <td>17:01:07</td>     <th>  BIC                </th> <td>2575.819</td> \n",
              "</tr>\n",
              "<tr>\n",
              "  <th>Sample:</th>                  <td>0</td>        <th>  HQIC               </th> <td>2551.440</td> \n",
              "</tr>\n",
              "<tr>\n",
              "  <th></th>                      <td> - 1007</td>     <th>                     </th>     <td> </td>    \n",
              "</tr>\n",
              "<tr>\n",
              "  <th>Covariance Type:</th>        <td>opg</td>       <th>                     </th>     <td> </td>    \n",
              "</tr>\n",
              "</table>\n",
              "<table class=\"simpletable\">\n",
              "<tr>\n",
              "     <td></td>       <th>coef</th>     <th>std err</th>      <th>z</th>      <th>P>|z|</th>  <th>[0.025</th>    <th>0.975]</th>  \n",
              "</tr>\n",
              "<tr>\n",
              "  <th>const</th>  <td>    0.0146</td> <td>    0.022</td> <td>    0.664</td> <td> 0.507</td> <td>   -0.028</td> <td>    0.058</td>\n",
              "</tr>\n",
              "<tr>\n",
              "  <th>ar.L1</th>  <td>   -0.1366</td> <td>    0.015</td> <td>   -9.371</td> <td> 0.000</td> <td>   -0.165</td> <td>   -0.108</td>\n",
              "</tr>\n",
              "<tr>\n",
              "  <th>ar.L2</th>  <td>   -0.9356</td> <td>    0.012</td> <td>  -76.053</td> <td> 0.000</td> <td>   -0.960</td> <td>   -0.912</td>\n",
              "</tr>\n",
              "<tr>\n",
              "  <th>ma.L1</th>  <td>    0.0235</td> <td>    0.025</td> <td>    0.951</td> <td> 0.342</td> <td>   -0.025</td> <td>    0.072</td>\n",
              "</tr>\n",
              "<tr>\n",
              "  <th>ma.L2</th>  <td>    0.8662</td> <td>    0.027</td> <td>   31.799</td> <td> 0.000</td> <td>    0.813</td> <td>    0.920</td>\n",
              "</tr>\n",
              "<tr>\n",
              "  <th>ma.L3</th>  <td>   -0.1068</td> <td>    0.024</td> <td>   -4.546</td> <td> 0.000</td> <td>   -0.153</td> <td>   -0.061</td>\n",
              "</tr>\n",
              "<tr>\n",
              "  <th>ma.L4</th>  <td>   -0.1208</td> <td>    0.025</td> <td>   -4.797</td> <td> 0.000</td> <td>   -0.170</td> <td>   -0.071</td>\n",
              "</tr>\n",
              "<tr>\n",
              "  <th>sigma2</th> <td>    0.7184</td> <td>    0.020</td> <td>   36.377</td> <td> 0.000</td> <td>    0.680</td> <td>    0.757</td>\n",
              "</tr>\n",
              "</table>\n",
              "<table class=\"simpletable\">\n",
              "<tr>\n",
              "  <th>Ljung-Box (L1) (Q):</th>     <td>0.01</td> <th>  Jarque-Bera (JB):  </th> <td>985.11</td>\n",
              "</tr>\n",
              "<tr>\n",
              "  <th>Prob(Q):</th>                <td>0.93</td> <th>  Prob(JB):          </th>  <td>0.00</td> \n",
              "</tr>\n",
              "<tr>\n",
              "  <th>Heteroskedasticity (H):</th> <td>2.93</td> <th>  Skew:              </th>  <td>0.37</td> \n",
              "</tr>\n",
              "<tr>\n",
              "  <th>Prob(H) (two-sided):</th>    <td>0.00</td> <th>  Kurtosis:          </th>  <td>7.79</td> \n",
              "</tr>\n",
              "</table><br/><br/>Warnings:<br/>[1] Covariance matrix calculated using the outer product of gradients (complex-step)."
            ],
            "text/plain": [
              "<class 'statsmodels.iolib.summary.Summary'>\n",
              "\"\"\"\n",
              "                               SARIMAX Results                                \n",
              "==============================================================================\n",
              "Dep. Variable:              adj_close   No. Observations:                 1007\n",
              "Model:                 ARIMA(2, 0, 4)   Log Likelihood               -1260.251\n",
              "Date:                Sun, 13 Mar 2022   AIC                           2536.502\n",
              "Time:                        17:01:07   BIC                           2575.819\n",
              "Sample:                             0   HQIC                          2551.440\n",
              "                               - 1007                                         \n",
              "Covariance Type:                  opg                                         \n",
              "==============================================================================\n",
              "                 coef    std err          z      P>|z|      [0.025      0.975]\n",
              "------------------------------------------------------------------------------\n",
              "const          0.0146      0.022      0.664      0.507      -0.028       0.058\n",
              "ar.L1         -0.1366      0.015     -9.371      0.000      -0.165      -0.108\n",
              "ar.L2         -0.9356      0.012    -76.053      0.000      -0.960      -0.912\n",
              "ma.L1          0.0235      0.025      0.951      0.342      -0.025       0.072\n",
              "ma.L2          0.8662      0.027     31.799      0.000       0.813       0.920\n",
              "ma.L3         -0.1068      0.024     -4.546      0.000      -0.153      -0.061\n",
              "ma.L4         -0.1208      0.025     -4.797      0.000      -0.170      -0.071\n",
              "sigma2         0.7184      0.020     36.377      0.000       0.680       0.757\n",
              "===================================================================================\n",
              "Ljung-Box (L1) (Q):                   0.01   Jarque-Bera (JB):               985.11\n",
              "Prob(Q):                              0.93   Prob(JB):                         0.00\n",
              "Heteroskedasticity (H):               2.93   Skew:                             0.37\n",
              "Prob(H) (two-sided):                  0.00   Kurtosis:                         7.79\n",
              "===================================================================================\n",
              "\n",
              "Warnings:\n",
              "[1] Covariance matrix calculated using the outer product of gradients (complex-step).\n",
              "\"\"\""
            ]
          },
          "execution_count": 315,
          "metadata": {},
          "output_type": "execute_result"
        }
      ],
      "source": [
        "#estimamos un ARMA (2,4)\n",
        "modelo = ARIMA(bimbo_diff, order=(2, 0, 4))\n",
        "resultado = modelo.fit()\n",
        "resultado.summary()"
      ]
    },
    {
      "cell_type": "markdown",
      "id": "b7266ed8-1a41-40b2-855b-6024e3f42bd5",
      "metadata": {
        "id": "b7266ed8-1a41-40b2-855b-6024e3f42bd5"
      },
      "source": [
        "En realidad, en este caso, como diferenciamos una vez la serie de tiempo estacionaria para hacerla estacionaria, nuestro modelo ARMA (1,1), es un ARIMA(2,1,4) de la serie original."
      ]
    },
    {
      "cell_type": "code",
      "execution_count": null,
      "id": "efebd326-8a1f-43cb-944a-d40f633666b9",
      "metadata": {
        "id": "efebd326-8a1f-43cb-944a-d40f633666b9",
        "outputId": "1e0dfd0d-ec1e-462a-a915-d8b773758623"
      },
      "outputs": [
        {
          "name": "stderr",
          "output_type": "stream",
          "text": [
            "D:\\Anaconda\\lib\\site-packages\\statsmodels\\tsa\\base\\tsa_model.py:581: ValueWarning: A date index has been provided, but it has no associated frequency information and so will be ignored when e.g. forecasting.\n",
            "  warnings.warn('A date index has been provided, but it has no'\n",
            "D:\\Anaconda\\lib\\site-packages\\statsmodels\\tsa\\base\\tsa_model.py:581: ValueWarning: A date index has been provided, but it has no associated frequency information and so will be ignored when e.g. forecasting.\n",
            "  warnings.warn('A date index has been provided, but it has no'\n",
            "D:\\Anaconda\\lib\\site-packages\\statsmodels\\tsa\\base\\tsa_model.py:581: ValueWarning: A date index has been provided, but it has no associated frequency information and so will be ignored when e.g. forecasting.\n",
            "  warnings.warn('A date index has been provided, but it has no'\n",
            "D:\\Anaconda\\lib\\site-packages\\statsmodels\\base\\model.py:566: ConvergenceWarning: Maximum Likelihood optimization failed to converge. Check mle_retvals\n",
            "  warnings.warn(\"Maximum Likelihood optimization failed to \"\n"
          ]
        },
        {
          "data": {
            "text/html": [
              "<table class=\"simpletable\">\n",
              "<caption>SARIMAX Results</caption>\n",
              "<tr>\n",
              "  <th>Dep. Variable:</th>       <td>adj_close</td>    <th>  No. Observations:  </th>   <td>1008</td>   \n",
              "</tr>\n",
              "<tr>\n",
              "  <th>Model:</th>            <td>ARIMA(2, 1, 4)</td>  <th>  Log Likelihood     </th> <td>-1260.457</td>\n",
              "</tr>\n",
              "<tr>\n",
              "  <th>Date:</th>            <td>Sun, 13 Mar 2022</td> <th>  AIC                </th> <td>2534.913</td> \n",
              "</tr>\n",
              "<tr>\n",
              "  <th>Time:</th>                <td>17:02:50</td>     <th>  BIC                </th> <td>2569.316</td> \n",
              "</tr>\n",
              "<tr>\n",
              "  <th>Sample:</th>                  <td>0</td>        <th>  HQIC               </th> <td>2547.984</td> \n",
              "</tr>\n",
              "<tr>\n",
              "  <th></th>                      <td> - 1008</td>     <th>                     </th>     <td> </td>    \n",
              "</tr>\n",
              "<tr>\n",
              "  <th>Covariance Type:</th>        <td>opg</td>       <th>                     </th>     <td> </td>    \n",
              "</tr>\n",
              "</table>\n",
              "<table class=\"simpletable\">\n",
              "<tr>\n",
              "     <td></td>       <th>coef</th>     <th>std err</th>      <th>z</th>      <th>P>|z|</th>  <th>[0.025</th>    <th>0.975]</th>  \n",
              "</tr>\n",
              "<tr>\n",
              "  <th>ar.L1</th>  <td>   -0.1364</td> <td>    0.014</td> <td>   -9.471</td> <td> 0.000</td> <td>   -0.165</td> <td>   -0.108</td>\n",
              "</tr>\n",
              "<tr>\n",
              "  <th>ar.L2</th>  <td>   -0.9353</td> <td>    0.012</td> <td>  -76.519</td> <td> 0.000</td> <td>   -0.959</td> <td>   -0.911</td>\n",
              "</tr>\n",
              "<tr>\n",
              "  <th>ma.L1</th>  <td>    0.0211</td> <td>    0.024</td> <td>    0.863</td> <td> 0.388</td> <td>   -0.027</td> <td>    0.069</td>\n",
              "</tr>\n",
              "<tr>\n",
              "  <th>ma.L2</th>  <td>    0.8617</td> <td>    0.031</td> <td>   27.913</td> <td> 0.000</td> <td>    0.801</td> <td>    0.922</td>\n",
              "</tr>\n",
              "<tr>\n",
              "  <th>ma.L3</th>  <td>   -0.1100</td> <td>    0.023</td> <td>   -4.695</td> <td> 0.000</td> <td>   -0.156</td> <td>   -0.064</td>\n",
              "</tr>\n",
              "<tr>\n",
              "  <th>ma.L4</th>  <td>   -0.1260</td> <td>    0.025</td> <td>   -5.019</td> <td> 0.000</td> <td>   -0.175</td> <td>   -0.077</td>\n",
              "</tr>\n",
              "<tr>\n",
              "  <th>sigma2</th> <td>    0.7137</td> <td>    0.021</td> <td>   33.680</td> <td> 0.000</td> <td>    0.672</td> <td>    0.755</td>\n",
              "</tr>\n",
              "</table>\n",
              "<table class=\"simpletable\">\n",
              "<tr>\n",
              "  <th>Ljung-Box (L1) (Q):</th>     <td>0.02</td> <th>  Jarque-Bera (JB):  </th> <td>992.28</td>\n",
              "</tr>\n",
              "<tr>\n",
              "  <th>Prob(Q):</th>                <td>0.88</td> <th>  Prob(JB):          </th>  <td>0.00</td> \n",
              "</tr>\n",
              "<tr>\n",
              "  <th>Heteroskedasticity (H):</th> <td>2.94</td> <th>  Skew:              </th>  <td>0.37</td> \n",
              "</tr>\n",
              "<tr>\n",
              "  <th>Prob(H) (two-sided):</th>    <td>0.00</td> <th>  Kurtosis:          </th>  <td>7.81</td> \n",
              "</tr>\n",
              "</table><br/><br/>Warnings:<br/>[1] Covariance matrix calculated using the outer product of gradients (complex-step)."
            ],
            "text/plain": [
              "<class 'statsmodels.iolib.summary.Summary'>\n",
              "\"\"\"\n",
              "                               SARIMAX Results                                \n",
              "==============================================================================\n",
              "Dep. Variable:              adj_close   No. Observations:                 1008\n",
              "Model:                 ARIMA(2, 1, 4)   Log Likelihood               -1260.457\n",
              "Date:                Sun, 13 Mar 2022   AIC                           2534.913\n",
              "Time:                        17:02:50   BIC                           2569.316\n",
              "Sample:                             0   HQIC                          2547.984\n",
              "                               - 1008                                         \n",
              "Covariance Type:                  opg                                         \n",
              "==============================================================================\n",
              "                 coef    std err          z      P>|z|      [0.025      0.975]\n",
              "------------------------------------------------------------------------------\n",
              "ar.L1         -0.1364      0.014     -9.471      0.000      -0.165      -0.108\n",
              "ar.L2         -0.9353      0.012    -76.519      0.000      -0.959      -0.911\n",
              "ma.L1          0.0211      0.024      0.863      0.388      -0.027       0.069\n",
              "ma.L2          0.8617      0.031     27.913      0.000       0.801       0.922\n",
              "ma.L3         -0.1100      0.023     -4.695      0.000      -0.156      -0.064\n",
              "ma.L4         -0.1260      0.025     -5.019      0.000      -0.175      -0.077\n",
              "sigma2         0.7137      0.021     33.680      0.000       0.672       0.755\n",
              "===================================================================================\n",
              "Ljung-Box (L1) (Q):                   0.02   Jarque-Bera (JB):               992.28\n",
              "Prob(Q):                              0.88   Prob(JB):                         0.00\n",
              "Heteroskedasticity (H):               2.94   Skew:                             0.37\n",
              "Prob(H) (two-sided):                  0.00   Kurtosis:                         7.81\n",
              "===================================================================================\n",
              "\n",
              "Warnings:\n",
              "[1] Covariance matrix calculated using the outer product of gradients (complex-step).\n",
              "\"\"\""
            ]
          },
          "execution_count": 319,
          "metadata": {},
          "output_type": "execute_result"
        }
      ],
      "source": [
        "# estimamos un ARIMA (2,1,4)\n",
        "modelo2 = ARIMA(bimbo['adj_close'], order=(2, 1, 4))\n",
        "resultado2 = modelo2.fit()\n",
        "resultado2.summary()"
      ]
    },
    {
      "cell_type": "code",
      "execution_count": null,
      "id": "2104b093-3091-4bbe-a125-74bf4d2f8102",
      "metadata": {
        "id": "2104b093-3091-4bbe-a125-74bf4d2f8102",
        "outputId": "c155e4d8-c7ca-4328-bb96-abc9096bdf19"
      },
      "outputs": [
        {
          "name": "stderr",
          "output_type": "stream",
          "text": [
            "C:\\Users\\RYZEN3~1\\AppData\\Local\\Temp/ipykernel_11524/880723661.py:3: SettingWithCopyWarning: \n",
            "A value is trying to be set on a copy of a slice from a DataFrame\n",
            "\n",
            "See the caveats in the documentation: https://pandas.pydata.org/pandas-docs/stable/user_guide/indexing.html#returning-a-view-versus-a-copy\n",
            "  bimbo['pronostico'][0] = bimbo['adj_close'][0]\n"
          ]
        }
      ],
      "source": [
        "#Estimar la serie con el modelo ARIMA\n",
        "bimbo['pronostico'] = resultado2.predict()\n",
        "bimbo['pronostico'][0] = bimbo['adj_close'][0]"
      ]
    },
    {
      "cell_type": "markdown",
      "id": "627b25d7-a2b8-4b4d-b3d7-e7cf91875ae1",
      "metadata": {
        "id": "627b25d7-a2b8-4b4d-b3d7-e7cf91875ae1"
      },
      "source": [
        "graficamos la y_estimada con la y_original"
      ]
    },
    {
      "cell_type": "code",
      "execution_count": null,
      "id": "d4977b8a-35a1-4f1f-9093-e18848fa24b3",
      "metadata": {
        "id": "d4977b8a-35a1-4f1f-9093-e18848fa24b3",
        "outputId": "13d62654-0861-4c7b-e00d-81a91e9de763"
      },
      "outputs": [
        {
          "data": {
            "image/png": "[encoded data removed]",
            "text/plain": [
              "<Figure size 720x540 with 1 Axes>"
            ]
          },
          "metadata": {
            "needs_background": "light"
          },
          "output_type": "display_data"
        }
      ],
      "source": [
        "bimbo[['adj_close', 'pronostico']].plot()\n",
        "plt.show()"
      ]
    },
    {
      "cell_type": "code",
      "execution_count": null,
      "id": "7c0c4714-ccd7-4a1f-be0d-f6cb888bf2f7",
      "metadata": {
        "id": "7c0c4714-ccd7-4a1f-be0d-f6cb888bf2f7",
        "outputId": "d5d1823f-45ad-4afd-92c7-e2982023ad45"
      },
      "outputs": [
        {
          "data": {
            "text/plain": [
              "1008"
            ]
          },
          "execution_count": 322,
          "metadata": {},
          "output_type": "execute_result"
        }
      ],
      "source": [
        "#calculamos cuantas observaciones tenemos para hacer nuestra predicción\n",
        "len(bimbo)"
      ]
    },
    {
      "cell_type": "markdown",
      "id": "d7fa0880-e14e-4b75-91f0-29cb033ffb41",
      "metadata": {
        "id": "d7fa0880-e14e-4b75-91f0-29cb033ffb41"
      },
      "source": [
        "la función len nos arrojo que tenemos 1008 observaciones,  quiere decir que el lunes sería la observación 1009, el martes la 1010, y el miércoles la 1011"
      ]
    },
    {
      "cell_type": "code",
      "execution_count": null,
      "id": "a43a44f5-d22e-4245-acb8-a4ee810570d3",
      "metadata": {
        "id": "a43a44f5-d22e-4245-acb8-a4ee810570d3",
        "outputId": "adb03ff6-405e-4869-8410-172a37829b0e"
      },
      "outputs": [
        {
          "name": "stderr",
          "output_type": "stream",
          "text": [
            "D:\\Anaconda\\lib\\site-packages\\statsmodels\\tsa\\base\\tsa_model.py:376: ValueWarning: No supported index is available. Prediction results will be given with an integer index beginning at `start`.\n",
            "  warnings.warn('No supported index is available.'\n"
          ]
        },
        {
          "data": {
            "text/plain": [
              "1009    56.245229\n",
              "1010    56.301693\n",
              "1011    56.674853\n",
              "Name: predicted_mean, dtype: float64"
            ]
          },
          "execution_count": 323,
          "metadata": {},
          "output_type": "execute_result"
        }
      ],
      "source": [
        "## vamos a pronosticar esos días\n",
        "resultado2.predict(1009, 1011)"
      ]
    },
    {
      "cell_type": "markdown",
      "id": "cba6c415-c70a-4ede-86bb-003df8d470e4",
      "metadata": {
        "id": "cba6c415-c70a-4ede-86bb-003df8d470e4"
      },
      "source": [
        "mi pronostico para el lunes 14 de marzo es que la acción de bimbo tenga un precio de cierre (ajustado) de 56.245229"
      ]
    },
    {
      "cell_type": "markdown",
      "id": "17f82de6-8c65-41c1-bb30-53a12a2d3890",
      "metadata": {
        "id": "17f82de6-8c65-41c1-bb30-53a12a2d3890"
      },
      "source": [
        "El viernes cerro en 56.60"
      ]
    }
  ],
  "metadata": {
    "kernelspec": {
      "display_name": "Python 3 (ipykernel)",
      "language": "python",
      "name": "python3"
    },
    "language_info": {
      "codemirror_mode": {
        "name": "ipython",
        "version": 3
      },
      "file_extension": ".py",
      "mimetype": "text/x-python",
      "name": "python",
      "nbconvert_exporter": "python",
      "pygments_lexer": "ipython3",
      "version": "3.9.7"
    },
    "colab": {
      "name": "VVAO_1855188_EAG51_actividad8_mar2022.ipynb",
      "provenance": [],
      "include_colab_link": true
    }
  },
  "nbformat": 4,
  "nbformat_minor": 5
}