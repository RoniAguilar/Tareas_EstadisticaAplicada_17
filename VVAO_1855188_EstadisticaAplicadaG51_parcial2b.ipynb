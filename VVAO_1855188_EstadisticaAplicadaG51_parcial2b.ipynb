{
  "cells": [
    {
      "cell_type": "markdown",
      "metadata": {
        "id": "view-in-github",
        "colab_type": "text"
      },
      "source": [
        "<a href=\"https://colab.research.google.com/github/RoniAguilar/Tareas_EstadisticaAplicada_17/blob/main/VVAO_1855188_EstadisticaAplicadaG51_parcial2b.ipynb\" target=\"_parent\"><img src=\"https://colab.research.google.com/assets/colab-badge.svg\" alt=\"Open In Colab\"/></a>"
      ]
    },
    {
      "cell_type": "markdown",
      "id": "ab37513e-7f7b-4dfc-ad32-97ca78a0ab82",
      "metadata": {
        "id": "ab37513e-7f7b-4dfc-ad32-97ca78a0ab82"
      },
      "source": [
        "#PARCIAL 2 - ejercicio 2\n",
        "\n",
        "**Estadística Aplicada**\n",
        "\n",
        "**Nombre: Verónica Vanessa Aguilar Ortiz**\n",
        "\n",
        "**Matricula: 1855188**\n",
        "\n",
        "**Grupo: 051**"
      ]
    },
    {
      "cell_type": "markdown",
      "id": "38b2a223-8d8b-4bb4-8d5b-227a1cec2b8f",
      "metadata": {
        "id": "38b2a223-8d8b-4bb4-8d5b-227a1cec2b8f"
      },
      "source": [
        "**a) Importa las librerías que consideres necesarias (recuerda predefinir el \n",
        "tamaño de las gráficas)**"
      ]
    },
    {
      "cell_type": "code",
      "execution_count": null,
      "id": "e206a0e2-74a2-4535-9235-cc11159e226f",
      "metadata": {
        "id": "e206a0e2-74a2-4535-9235-cc11159e226f"
      },
      "outputs": [],
      "source": [
        "import numpy as np\n",
        "import pandas as pd \n",
        "import yfinance as yf\n",
        "import scipy.stats as stats\n",
        "import matplotlib.pyplot as plt\n",
        "from statsmodels.graphics.tsaplots import plot_acf\n",
        "from statsmodels.graphics.tsaplots import plot_pacf\n",
        "from statsmodels.tsa.stattools import acf\n",
        "from statsmodels.tsa.stattools import pacf\n",
        "from statsmodels.tsa.stattools import adfuller\n",
        "from statsmodels.tsa.arima_process import ArmaProcess\n",
        "from statsmodels.tsa.arima.model import ARIMA\n",
        "\n",
        "%matplotlib inline"
      ]
    },
    {
      "cell_type": "code",
      "execution_count": null,
      "id": "9f8bc775-2ddc-4396-8e9c-93c3834de583",
      "metadata": {
        "id": "9f8bc775-2ddc-4396-8e9c-93c3834de583"
      },
      "outputs": [],
      "source": [
        "plt.rcParams['figure.figsize'] = [10, 7.5]"
      ]
    },
    {
      "cell_type": "markdown",
      "id": "807d874c-b0c0-444d-aeb8-2a6d2f3d67ab",
      "metadata": {
        "id": "807d874c-b0c0-444d-aeb8-2a6d2f3d67ab"
      },
      "source": [
        "**b) Sube los datos a github y luego impórtalos a tu notebook con el formato \n",
        "mensual**\n"
      ]
    },
    {
      "cell_type": "code",
      "execution_count": null,
      "id": "65de1104-6bb2-4bfe-a446-d95ad6ada681",
      "metadata": {
        "id": "65de1104-6bb2-4bfe-a446-d95ad6ada681"
      },
      "outputs": [],
      "source": [
        "serie = pd.read_csv('https://raw.githubusercontent.com/RoniAguilar/Tareas_EstadisticaAplicada_17/main/IGAE.csv?token=GHSAT0AAAAAABSPEYJVFBVOE6CZYFGGEF6GYSBIBPQ' ,index_col='Periodo',parse_dates=True)"
      ]
    },
    {
      "cell_type": "code",
      "execution_count": null,
      "id": "2a38c33e-cab6-44b4-b76c-4a4eba040c9c",
      "metadata": {
        "id": "2a38c33e-cab6-44b4-b76c-4a4eba040c9c"
      },
      "outputs": [],
      "source": [
        "serie.dropna(inplace=True)"
      ]
    },
    {
      "cell_type": "code",
      "execution_count": null,
      "id": "22742d64-9f85-44a8-9fda-d2bc63b86ae4",
      "metadata": {
        "id": "22742d64-9f85-44a8-9fda-d2bc63b86ae4",
        "outputId": "5fc75225-bc30-4c71-9407-1f512357f0be"
      },
      "outputs": [
        {
          "data": {
            "text/html": [
              "<div>\n",
              "<style scoped>\n",
              "    .dataframe tbody tr th:only-of-type {\n",
              "        vertical-align: middle;\n",
              "    }\n",
              "\n",
              "    .dataframe tbody tr th {\n",
              "        vertical-align: top;\n",
              "    }\n",
              "\n",
              "    .dataframe thead th {\n",
              "        text-align: right;\n",
              "    }\n",
              "</style>\n",
              "<table border=\"1\" class=\"dataframe\">\n",
              "  <thead>\n",
              "    <tr style=\"text-align: right;\">\n",
              "      <th></th>\n",
              "      <th>IGAE (base 2013)</th>\n",
              "    </tr>\n",
              "    <tr>\n",
              "      <th>Periodo</th>\n",
              "      <th></th>\n",
              "    </tr>\n",
              "  </thead>\n",
              "  <tbody>\n",
              "    <tr>\n",
              "      <th>1993-01-01</th>\n",
              "      <td>60.41</td>\n",
              "    </tr>\n",
              "    <tr>\n",
              "      <th>1993-02-01</th>\n",
              "      <td>61.02</td>\n",
              "    </tr>\n",
              "    <tr>\n",
              "      <th>1993-03-01</th>\n",
              "      <td>63.94</td>\n",
              "    </tr>\n",
              "    <tr>\n",
              "      <th>1993-04-01</th>\n",
              "      <td>61.87</td>\n",
              "    </tr>\n",
              "    <tr>\n",
              "      <th>1993-05-01</th>\n",
              "      <td>63.61</td>\n",
              "    </tr>\n",
              "  </tbody>\n",
              "</table>\n",
              "</div>"
            ],
            "text/plain": [
              "            IGAE (base 2013)\n",
              "Periodo                     \n",
              "1993-01-01             60.41\n",
              "1993-02-01             61.02\n",
              "1993-03-01             63.94\n",
              "1993-04-01             61.87\n",
              "1993-05-01             63.61"
            ]
          },
          "execution_count": 5,
          "metadata": {},
          "output_type": "execute_result"
        }
      ],
      "source": [
        "serie.head()"
      ]
    },
    {
      "cell_type": "markdown",
      "id": "d86f8f83-afb3-4581-b17a-2ba89e17f5af",
      "metadata": {
        "id": "d86f8f83-afb3-4581-b17a-2ba89e17f5af"
      },
      "source": [
        "**c) Grafica la serie de tiempo (dale un formato adecuado a la gráfica \n",
        "personalizando títulos, color, etc)**"
      ]
    },
    {
      "cell_type": "code",
      "execution_count": null,
      "id": "dcf91595-fda3-4ad3-af76-fc48582e4220",
      "metadata": {
        "id": "dcf91595-fda3-4ad3-af76-fc48582e4220"
      },
      "outputs": [],
      "source": [
        "serie.rename(columns = {'IGAE (base 2013)':'IGAE'}, inplace=True)"
      ]
    },
    {
      "cell_type": "code",
      "execution_count": null,
      "id": "4cac4955-1130-4913-a417-0652585ce7ae",
      "metadata": {
        "id": "4cac4955-1130-4913-a417-0652585ce7ae",
        "outputId": "354f9dce-3b7c-45b3-cd13-dbd6a5b714d4"
      },
      "outputs": [
        {
          "data": {
            "text/html": [
              "<div>\n",
              "<style scoped>\n",
              "    .dataframe tbody tr th:only-of-type {\n",
              "        vertical-align: middle;\n",
              "    }\n",
              "\n",
              "    .dataframe tbody tr th {\n",
              "        vertical-align: top;\n",
              "    }\n",
              "\n",
              "    .dataframe thead th {\n",
              "        text-align: right;\n",
              "    }\n",
              "</style>\n",
              "<table border=\"1\" class=\"dataframe\">\n",
              "  <thead>\n",
              "    <tr style=\"text-align: right;\">\n",
              "      <th></th>\n",
              "      <th>IGAE</th>\n",
              "    </tr>\n",
              "    <tr>\n",
              "      <th>Periodo</th>\n",
              "      <th></th>\n",
              "    </tr>\n",
              "  </thead>\n",
              "  <tbody>\n",
              "    <tr>\n",
              "      <th>1993-01-01</th>\n",
              "      <td>60.41</td>\n",
              "    </tr>\n",
              "    <tr>\n",
              "      <th>1993-02-01</th>\n",
              "      <td>61.02</td>\n",
              "    </tr>\n",
              "    <tr>\n",
              "      <th>1993-03-01</th>\n",
              "      <td>63.94</td>\n",
              "    </tr>\n",
              "    <tr>\n",
              "      <th>1993-04-01</th>\n",
              "      <td>61.87</td>\n",
              "    </tr>\n",
              "    <tr>\n",
              "      <th>1993-05-01</th>\n",
              "      <td>63.61</td>\n",
              "    </tr>\n",
              "  </tbody>\n",
              "</table>\n",
              "</div>"
            ],
            "text/plain": [
              "             IGAE\n",
              "Periodo          \n",
              "1993-01-01  60.41\n",
              "1993-02-01  61.02\n",
              "1993-03-01  63.94\n",
              "1993-04-01  61.87\n",
              "1993-05-01  63.61"
            ]
          },
          "execution_count": 7,
          "metadata": {},
          "output_type": "execute_result"
        }
      ],
      "source": [
        "serie.head()"
      ]
    },
    {
      "cell_type": "code",
      "execution_count": null,
      "id": "33c85338-a0cf-4291-8e95-6b28b73ab66b",
      "metadata": {
        "id": "33c85338-a0cf-4291-8e95-6b28b73ab66b",
        "outputId": "4f85cb47-fca3-43f8-cca0-edc4c99776be"
      },
      "outputs": [
        {
          "data": {
            "image/png": "[encoded data removed]",
            "text/plain": [
              "<Figure size 720x540 with 1 Axes>"
            ]
          },
          "metadata": {
            "needs_background": "light"
          },
          "output_type": "display_data"
        }
      ],
      "source": [
        "serie.IGAE.plot()\n",
        "plt.title('Serie de tiempo')\n",
        "plt.show()"
      ]
    },
    {
      "cell_type": "markdown",
      "id": "542d0d1c-4fe3-4ca0-a92c-860caea543c5",
      "metadata": {
        "id": "542d0d1c-4fe3-4ca0-a92c-860caea543c5"
      },
      "source": [
        "**d) Comenta que notas en el comportamiento de la serie la serie, ¿es \n",
        "estacionaria, notas algún patrón estacional?**\n",
        "\n",
        "R: Tiene un comportamiento alcista y no es estacionaria."
      ]
    },
    {
      "cell_type": "code",
      "execution_count": null,
      "id": "95e77f12-746a-4439-a043-e895cc76e3f1",
      "metadata": {
        "id": "95e77f12-746a-4439-a043-e895cc76e3f1",
        "outputId": "434ca578-fe59-4af7-8f47-672e576837fd"
      },
      "outputs": [
        {
          "name": "stdout",
          "output_type": "stream",
          "text": [
            "p-value: 0.760955\n"
          ]
        }
      ],
      "source": [
        "#hacemos la prueba de dickey fuller aumentada ADF\n",
        "adf = adfuller(serie['IGAE'])\n",
        "\n",
        "#presentamos el p-value\n",
        "print('p-value: %f' % adf[1])"
      ]
    },
    {
      "cell_type": "code",
      "execution_count": null,
      "id": "e19a23fd-e850-4eb0-8a4f-364f8db40c12",
      "metadata": {
        "id": "e19a23fd-e850-4eb0-8a4f-364f8db40c12",
        "outputId": "d6875e98-548f-43f1-a7ce-f38224088087"
      },
      "outputs": [
        {
          "name": "stdout",
          "output_type": "stream",
          "text": [
            "con un un p-value = 0.761\n",
            " NO se rechaza hipótesis nula, SERIE NO ESTACIONARIA \n"
          ]
        }
      ],
      "source": [
        "if adf[1] < 0.05:\n",
        "    \n",
        "    print(f'con un un p-value={adf[1].round(3)}\\n Se rechaza hipótesis nula, ERIE ESTACIONARIA') \n",
        "    \n",
        "else:\n",
        "    \n",
        "    print(f'con un un p-value = {adf[1].round(3)}\\n NO se rechaza hipótesis nula, SERIE NO ESTACIONARIA ') "
      ]
    },
    {
      "cell_type": "markdown",
      "id": "e298b0ba-718a-491f-a40b-e708ee9aa375",
      "metadata": {
        "id": "e298b0ba-718a-491f-a40b-e708ee9aa375"
      },
      "source": [
        "Nuestra serie no es estacionaria y para hacerla una serie estacionaria, usamos la función shift de pandas \n",
        "y guardamos la serie diferenciada en un objeto aparte."
      ]
    },
    {
      "cell_type": "markdown",
      "id": "36476618-ee23-40a6-85fb-5d0e5819f881",
      "metadata": {
        "id": "36476618-ee23-40a6-85fb-5d0e5819f881"
      },
      "source": [
        "**e) Del análisis ETS (parcial anterior) utilízalo para obtener la serie \n",
        "desestacionalizada del IGAE**"
      ]
    },
    {
      "cell_type": "code",
      "execution_count": null,
      "id": "23359271-8851-45b3-9606-437cb79b3ce9",
      "metadata": {
        "id": "23359271-8851-45b3-9606-437cb79b3ce9",
        "outputId": "94b75f81-6e1c-44c0-bed1-748ccb7a4247"
      },
      "outputs": [
        {
          "data": {
            "image/png": "[encoded data removed]",
            "text/plain": [
              "<Figure size 720x540 with 4 Axes>"
            ]
          },
          "metadata": {
            "needs_background": "light"
          },
          "output_type": "display_data"
        }
      ],
      "source": [
        "from statsmodels.tsa.seasonal import seasonal_decompose\n",
        "\n",
        "result = seasonal_decompose(serie['IGAE'], model='multiplicative')  #mul tambien funciona\n",
        "result.plot();"
      ]
    },
    {
      "cell_type": "code",
      "execution_count": null,
      "id": "7d1c3e1b-308b-41ab-bc9e-f4b01298ccae",
      "metadata": {
        "id": "7d1c3e1b-308b-41ab-bc9e-f4b01298ccae"
      },
      "outputs": [],
      "source": [
        "#vamos a obtner la serie desestacionalida\n",
        "#primero obtenemos el componente estacional al que accedemos con .seasonal del objeto result\n",
        "componente_estacional = result.seasonal\n",
        "serie['desestacionalizado'] = serie['IGAE'] / componente_estacional"
      ]
    },
    {
      "cell_type": "code",
      "execution_count": null,
      "id": "da920e2a-472d-442a-a298-7b92484e5741",
      "metadata": {
        "id": "da920e2a-472d-442a-a298-7b92484e5741",
        "outputId": "22adb9fb-874c-4e75-d309-b16c64deeff1"
      },
      "outputs": [
        {
          "data": {
            "image/png": "[encoded data removed]",
            "text/plain": [
              "<Figure size 720x540 with 1 Axes>"
            ]
          },
          "metadata": {
            "needs_background": "light"
          },
          "output_type": "display_data"
        }
      ],
      "source": [
        "#graficamos\n",
        "serie[['IGAE','desestacionalizado']].plot(figsize=(10,7.5));"
      ]
    },
    {
      "cell_type": "code",
      "execution_count": null,
      "id": "7416aa61-b3bc-4f6c-ad48-d84867ae2c9e",
      "metadata": {
        "id": "7416aa61-b3bc-4f6c-ad48-d84867ae2c9e"
      },
      "outputs": [],
      "source": [
        "serie_diff = serie['IGAE'] - serie['IGAE'].shift()"
      ]
    },
    {
      "cell_type": "code",
      "execution_count": null,
      "id": "5d61dc73-2fb1-49c6-868e-d13ca4ee3c70",
      "metadata": {
        "id": "5d61dc73-2fb1-49c6-868e-d13ca4ee3c70",
        "outputId": "1d98150a-c1f5-4bc2-ac3b-b4d7fc660289"
      },
      "outputs": [
        {
          "data": {
            "image/png": "[encoded data removed]",
            "text/plain": [
              "<Figure size 720x540 with 1 Axes>"
            ]
          },
          "metadata": {
            "needs_background": "light"
          },
          "output_type": "display_data"
        }
      ],
      "source": [
        "#graficamos el tipo de cambio diferenciado\n",
        "serie_diff.plot()\n",
        "plt.title('IGAE diferenciada ')\n",
        "plt.show()"
      ]
    },
    {
      "cell_type": "code",
      "execution_count": null,
      "id": "5b9d1bc1-e31e-4419-86af-662d13737f2a",
      "metadata": {
        "id": "5b9d1bc1-e31e-4419-86af-662d13737f2a"
      },
      "outputs": [],
      "source": [
        "serie_diff = serie_diff.dropna()"
      ]
    },
    {
      "cell_type": "code",
      "execution_count": null,
      "id": "31b6b1c8-bb42-496b-9ebe-e3bbe3560f7b",
      "metadata": {
        "id": "31b6b1c8-bb42-496b-9ebe-e3bbe3560f7b",
        "outputId": "30f5735b-b755-469c-d7f5-89735acccb76"
      },
      "outputs": [
        {
          "name": "stdout",
          "output_type": "stream",
          "text": [
            "con un un p-value=1.1218760082644084e-05\n",
            " Se rechaza hipótesis nula, SERIE ESTACIONARIA\n"
          ]
        }
      ],
      "source": [
        "adf1 = adfuller(serie_diff)\n",
        "if adf1[1] < 0.05:\n",
        "    \n",
        "    print(f'con un un p-value={adf1[1]}\\n Se rechaza hipótesis nula, SERIE ESTACIONARIA') \n",
        "    \n",
        "else:\n",
        "    \n",
        "    print(f'con un un p-value = {adf1[1]}\\n NO se rechaza hipótesis nula, SERIE NO ESTACIONARIA ') "
      ]
    },
    {
      "cell_type": "markdown",
      "id": "ec8d000b-70ed-416e-a7c2-d574ac1c1cb6",
      "metadata": {
        "id": "ec8d000b-70ed-416e-a7c2-d574ac1c1cb6"
      },
      "source": [
        "**f) A partir de este momento solo trabajaremos con la serie \n",
        "desestacionalizada del IGAE**"
      ]
    },
    {
      "cell_type": "markdown",
      "id": "c79cfaf4-a516-4918-8879-f683932020d1",
      "metadata": {
        "id": "c79cfaf4-a516-4918-8879-f683932020d1"
      },
      "source": [
        "**g) Obtén el grado de integración de la serie**"
      ]
    },
    {
      "cell_type": "markdown",
      "id": "29f29382-2b9d-455b-8507-bc37872490c2",
      "metadata": {
        "id": "29f29382-2b9d-455b-8507-bc37872490c2"
      },
      "source": [
        "R: El grado de integración de la serie es 1 ya que somanemte diferenciamos una vez la serie para volverla estacionaria.\n",
        "\n"
      ]
    },
    {
      "cell_type": "markdown",
      "id": "6b093c06-dd9c-4a46-9805-205b8a692872",
      "metadata": {
        "id": "6b093c06-dd9c-4a46-9805-205b8a692872"
      },
      "source": [
        "**h) Obtén cual es el posible orden (p,q) de la serie con base en ACF PACF**"
      ]
    },
    {
      "cell_type": "code",
      "execution_count": null,
      "id": "7c5f8382-1bf3-47a4-b2a5-e0e48704aa9a",
      "metadata": {
        "id": "7c5f8382-1bf3-47a4-b2a5-e0e48704aa9a",
        "outputId": "2b7ba49f-baec-48e2-b346-c42b9df550fb"
      },
      "outputs": [
        {
          "data": {
            "image/png": "[encoded data removed]",
            "text/plain": [
              "<Figure size 720x540 with 1 Axes>"
            ]
          },
          "metadata": {
            "needs_background": "light"
          },
          "output_type": "display_data"
        }
      ],
      "source": [
        "#Grafica de autocorrelación ACF\n",
        "plot_acf(serie_diff, zero=False, lags=30)\n",
        "plt.title('Función de autocorrelación diferenciada de la serie')\n",
        "plt.show()"
      ]
    },
    {
      "cell_type": "code",
      "execution_count": null,
      "id": "2b5e4184-42e0-4aa5-a5ae-26d1057ecb3b",
      "metadata": {
        "id": "2b5e4184-42e0-4aa5-a5ae-26d1057ecb3b",
        "outputId": "ae1b07f2-96ae-48aa-f3bc-3921723c097a"
      },
      "outputs": [
        {
          "data": {
            "image/png": "[encoded data removed]",
            "text/plain": [
              "<Figure size 720x540 with 1 Axes>"
            ]
          },
          "metadata": {
            "needs_background": "light"
          },
          "output_type": "display_data"
        }
      ],
      "source": [
        "#grafica de autocorrelación parcial PACF\n",
        "plot_pacf(serie_diff, zero=False, lags=30)\n",
        "plt.title('Función de autocorrelación parcial diferencia de la serie')\n",
        "plt.show()"
      ]
    },
    {
      "cell_type": "markdown",
      "id": "2175da35-439a-46c0-b07e-144b0c7950f1",
      "metadata": {
        "id": "2175da35-439a-46c0-b07e-144b0c7950f1"
      },
      "source": [
        "**i) Estima varios modelos ARIMA (los que consideres pertinentes) y elige el \n",
        "que tiene mejor AIC y mejor BIC.**\n"
      ]
    },
    {
      "cell_type": "code",
      "execution_count": null,
      "id": "9407c176-f94c-4493-86cf-4d37e5bbc8eb",
      "metadata": {
        "id": "9407c176-f94c-4493-86cf-4d37e5bbc8eb",
        "outputId": "ee1a81f3-6751-4b4b-b6af-7388aeb0ae25"
      },
      "outputs": [
        {
          "name": "stdout",
          "output_type": "stream",
          "text": [
            "AR: 0, MA: 0\n",
            "AR: 0, MA: 1\n",
            "AR: 0, MA: 2\n"
          ]
        },
        {
          "name": "stderr",
          "output_type": "stream",
          "text": [
            "D:\\Anaconda\\lib\\site-packages\\statsmodels\\tsa\\base\\tsa_model.py:524: ValueWarning: No frequency information was provided, so inferred frequency MS will be used.\n",
            "  warnings.warn('No frequency information was'\n",
            "D:\\Anaconda\\lib\\site-packages\\statsmodels\\tsa\\base\\tsa_model.py:524: ValueWarning: No frequency information was provided, so inferred frequency MS will be used.\n",
            "  warnings.warn('No frequency information was'\n",
            "D:\\Anaconda\\lib\\site-packages\\statsmodels\\tsa\\base\\tsa_model.py:524: ValueWarning: No frequency information was provided, so inferred frequency MS will be used.\n",
            "  warnings.warn('No frequency information was'\n",
            "D:\\Anaconda\\lib\\site-packages\\statsmodels\\tsa\\base\\tsa_model.py:524: ValueWarning: No frequency information was provided, so inferred frequency MS will be used.\n",
            "  warnings.warn('No frequency information was'\n",
            "D:\\Anaconda\\lib\\site-packages\\statsmodels\\tsa\\base\\tsa_model.py:524: ValueWarning: No frequency information was provided, so inferred frequency MS will be used.\n",
            "  warnings.warn('No frequency information was'\n",
            "D:\\Anaconda\\lib\\site-packages\\statsmodels\\tsa\\base\\tsa_model.py:524: ValueWarning: No frequency information was provided, so inferred frequency MS will be used.\n",
            "  warnings.warn('No frequency information was'\n",
            "D:\\Anaconda\\lib\\site-packages\\statsmodels\\tsa\\base\\tsa_model.py:524: ValueWarning: No frequency information was provided, so inferred frequency MS will be used.\n",
            "  warnings.warn('No frequency information was'\n",
            "D:\\Anaconda\\lib\\site-packages\\statsmodels\\tsa\\base\\tsa_model.py:524: ValueWarning: No frequency information was provided, so inferred frequency MS will be used.\n",
            "  warnings.warn('No frequency information was'\n",
            "D:\\Anaconda\\lib\\site-packages\\statsmodels\\tsa\\base\\tsa_model.py:524: ValueWarning: No frequency information was provided, so inferred frequency MS will be used.\n",
            "  warnings.warn('No frequency information was'\n",
            "D:\\Anaconda\\lib\\site-packages\\statsmodels\\tsa\\base\\tsa_model.py:524: ValueWarning: No frequency information was provided, so inferred frequency MS will be used.\n",
            "  warnings.warn('No frequency information was'\n",
            "D:\\Anaconda\\lib\\site-packages\\statsmodels\\tsa\\base\\tsa_model.py:524: ValueWarning: No frequency information was provided, so inferred frequency MS will be used.\n",
            "  warnings.warn('No frequency information was'\n",
            "D:\\Anaconda\\lib\\site-packages\\statsmodels\\tsa\\base\\tsa_model.py:524: ValueWarning: No frequency information was provided, so inferred frequency MS will be used.\n",
            "  warnings.warn('No frequency information was'\n"
          ]
        },
        {
          "name": "stdout",
          "output_type": "stream",
          "text": [
            "AR: 0, MA: 3\n",
            "AR: 0, MA: 4\n"
          ]
        },
        {
          "name": "stderr",
          "output_type": "stream",
          "text": [
            "D:\\Anaconda\\lib\\site-packages\\statsmodels\\tsa\\base\\tsa_model.py:524: ValueWarning: No frequency information was provided, so inferred frequency MS will be used.\n",
            "  warnings.warn('No frequency information was'\n",
            "D:\\Anaconda\\lib\\site-packages\\statsmodels\\tsa\\base\\tsa_model.py:524: ValueWarning: No frequency information was provided, so inferred frequency MS will be used.\n",
            "  warnings.warn('No frequency information was'\n",
            "D:\\Anaconda\\lib\\site-packages\\statsmodels\\tsa\\base\\tsa_model.py:524: ValueWarning: No frequency information was provided, so inferred frequency MS will be used.\n",
            "  warnings.warn('No frequency information was'\n",
            "D:\\Anaconda\\lib\\site-packages\\statsmodels\\tsa\\base\\tsa_model.py:524: ValueWarning: No frequency information was provided, so inferred frequency MS will be used.\n",
            "  warnings.warn('No frequency information was'\n",
            "D:\\Anaconda\\lib\\site-packages\\statsmodels\\tsa\\base\\tsa_model.py:524: ValueWarning: No frequency information was provided, so inferred frequency MS will be used.\n",
            "  warnings.warn('No frequency information was'\n"
          ]
        },
        {
          "name": "stdout",
          "output_type": "stream",
          "text": [
            "AR: 0, MA: 5\n"
          ]
        },
        {
          "name": "stderr",
          "output_type": "stream",
          "text": [
            "D:\\Anaconda\\lib\\site-packages\\statsmodels\\tsa\\base\\tsa_model.py:524: ValueWarning: No frequency information was provided, so inferred frequency MS will be used.\n",
            "  warnings.warn('No frequency information was'\n"
          ]
        },
        {
          "name": "stdout",
          "output_type": "stream",
          "text": [
            "AR: 0, MA: 6\n"
          ]
        },
        {
          "name": "stderr",
          "output_type": "stream",
          "text": [
            "D:\\Anaconda\\lib\\site-packages\\statsmodels\\tsa\\base\\tsa_model.py:524: ValueWarning: No frequency information was provided, so inferred frequency MS will be used.\n",
            "  warnings.warn('No frequency information was'\n",
            "D:\\Anaconda\\lib\\site-packages\\statsmodels\\tsa\\base\\tsa_model.py:524: ValueWarning: No frequency information was provided, so inferred frequency MS will be used.\n",
            "  warnings.warn('No frequency information was'\n",
            "D:\\Anaconda\\lib\\site-packages\\statsmodels\\tsa\\base\\tsa_model.py:524: ValueWarning: No frequency information was provided, so inferred frequency MS will be used.\n",
            "  warnings.warn('No frequency information was'\n"
          ]
        },
        {
          "name": "stdout",
          "output_type": "stream",
          "text": [
            "AR: 1, MA: 0\n",
            "AR: 1, MA: 1\n",
            "AR: 1, MA: 2\n"
          ]
        },
        {
          "name": "stderr",
          "output_type": "stream",
          "text": [
            "D:\\Anaconda\\lib\\site-packages\\statsmodels\\tsa\\base\\tsa_model.py:524: ValueWarning: No frequency information was provided, so inferred frequency MS will be used.\n",
            "  warnings.warn('No frequency information was'\n",
            "D:\\Anaconda\\lib\\site-packages\\statsmodels\\tsa\\base\\tsa_model.py:524: ValueWarning: No frequency information was provided, so inferred frequency MS will be used.\n",
            "  warnings.warn('No frequency information was'\n",
            "D:\\Anaconda\\lib\\site-packages\\statsmodels\\tsa\\base\\tsa_model.py:524: ValueWarning: No frequency information was provided, so inferred frequency MS will be used.\n",
            "  warnings.warn('No frequency information was'\n",
            "D:\\Anaconda\\lib\\site-packages\\statsmodels\\tsa\\base\\tsa_model.py:524: ValueWarning: No frequency information was provided, so inferred frequency MS will be used.\n",
            "  warnings.warn('No frequency information was'\n",
            "D:\\Anaconda\\lib\\site-packages\\statsmodels\\tsa\\base\\tsa_model.py:524: ValueWarning: No frequency information was provided, so inferred frequency MS will be used.\n",
            "  warnings.warn('No frequency information was'\n",
            "D:\\Anaconda\\lib\\site-packages\\statsmodels\\tsa\\base\\tsa_model.py:524: ValueWarning: No frequency information was provided, so inferred frequency MS will be used.\n",
            "  warnings.warn('No frequency information was'\n",
            "D:\\Anaconda\\lib\\site-packages\\statsmodels\\tsa\\base\\tsa_model.py:524: ValueWarning: No frequency information was provided, so inferred frequency MS will be used.\n",
            "  warnings.warn('No frequency information was'\n",
            "D:\\Anaconda\\lib\\site-packages\\statsmodels\\tsa\\base\\tsa_model.py:524: ValueWarning: No frequency information was provided, so inferred frequency MS will be used.\n",
            "  warnings.warn('No frequency information was'\n",
            "D:\\Anaconda\\lib\\site-packages\\statsmodels\\tsa\\base\\tsa_model.py:524: ValueWarning: No frequency information was provided, so inferred frequency MS will be used.\n",
            "  warnings.warn('No frequency information was'\n"
          ]
        },
        {
          "name": "stdout",
          "output_type": "stream",
          "text": [
            "AR: 1, MA: 3\n",
            "AR: 1, MA: 4\n"
          ]
        },
        {
          "name": "stderr",
          "output_type": "stream",
          "text": [
            "D:\\Anaconda\\lib\\site-packages\\statsmodels\\tsa\\base\\tsa_model.py:524: ValueWarning: No frequency information was provided, so inferred frequency MS will be used.\n",
            "  warnings.warn('No frequency information was'\n",
            "D:\\Anaconda\\lib\\site-packages\\statsmodels\\tsa\\base\\tsa_model.py:524: ValueWarning: No frequency information was provided, so inferred frequency MS will be used.\n",
            "  warnings.warn('No frequency information was'\n",
            "D:\\Anaconda\\lib\\site-packages\\statsmodels\\tsa\\base\\tsa_model.py:524: ValueWarning: No frequency information was provided, so inferred frequency MS will be used.\n",
            "  warnings.warn('No frequency information was'\n",
            "D:\\Anaconda\\lib\\site-packages\\statsmodels\\tsa\\base\\tsa_model.py:524: ValueWarning: No frequency information was provided, so inferred frequency MS will be used.\n",
            "  warnings.warn('No frequency information was'\n",
            "D:\\Anaconda\\lib\\site-packages\\statsmodels\\tsa\\base\\tsa_model.py:524: ValueWarning: No frequency information was provided, so inferred frequency MS will be used.\n",
            "  warnings.warn('No frequency information was'\n",
            "D:\\Anaconda\\lib\\site-packages\\statsmodels\\tsa\\base\\tsa_model.py:524: ValueWarning: No frequency information was provided, so inferred frequency MS will be used.\n",
            "  warnings.warn('No frequency information was'\n"
          ]
        },
        {
          "name": "stdout",
          "output_type": "stream",
          "text": [
            "AR: 1, MA: 5\n"
          ]
        },
        {
          "name": "stderr",
          "output_type": "stream",
          "text": [
            "D:\\Anaconda\\lib\\site-packages\\statsmodels\\tsa\\base\\tsa_model.py:524: ValueWarning: No frequency information was provided, so inferred frequency MS will be used.\n",
            "  warnings.warn('No frequency information was'\n",
            "D:\\Anaconda\\lib\\site-packages\\statsmodels\\tsa\\base\\tsa_model.py:524: ValueWarning: No frequency information was provided, so inferred frequency MS will be used.\n",
            "  warnings.warn('No frequency information was'\n",
            "D:\\Anaconda\\lib\\site-packages\\statsmodels\\tsa\\base\\tsa_model.py:524: ValueWarning: No frequency information was provided, so inferred frequency MS will be used.\n",
            "  warnings.warn('No frequency information was'\n"
          ]
        },
        {
          "name": "stdout",
          "output_type": "stream",
          "text": [
            "AR: 1, MA: 6\n"
          ]
        },
        {
          "name": "stderr",
          "output_type": "stream",
          "text": [
            "D:\\Anaconda\\lib\\site-packages\\statsmodels\\tsa\\base\\tsa_model.py:524: ValueWarning: No frequency information was provided, so inferred frequency MS will be used.\n",
            "  warnings.warn('No frequency information was'\n",
            "D:\\Anaconda\\lib\\site-packages\\statsmodels\\tsa\\base\\tsa_model.py:524: ValueWarning: No frequency information was provided, so inferred frequency MS will be used.\n",
            "  warnings.warn('No frequency information was'\n",
            "D:\\Anaconda\\lib\\site-packages\\statsmodels\\tsa\\base\\tsa_model.py:524: ValueWarning: No frequency information was provided, so inferred frequency MS will be used.\n",
            "  warnings.warn('No frequency information was'\n"
          ]
        },
        {
          "name": "stdout",
          "output_type": "stream",
          "text": [
            "AR: 2, MA: 0\n",
            "AR: 2, MA: 1\n"
          ]
        },
        {
          "name": "stderr",
          "output_type": "stream",
          "text": [
            "D:\\Anaconda\\lib\\site-packages\\statsmodels\\tsa\\base\\tsa_model.py:524: ValueWarning: No frequency information was provided, so inferred frequency MS will be used.\n",
            "  warnings.warn('No frequency information was'\n",
            "D:\\Anaconda\\lib\\site-packages\\statsmodels\\tsa\\base\\tsa_model.py:524: ValueWarning: No frequency information was provided, so inferred frequency MS will be used.\n",
            "  warnings.warn('No frequency information was'\n",
            "D:\\Anaconda\\lib\\site-packages\\statsmodels\\tsa\\base\\tsa_model.py:524: ValueWarning: No frequency information was provided, so inferred frequency MS will be used.\n",
            "  warnings.warn('No frequency information was'\n",
            "D:\\Anaconda\\lib\\site-packages\\statsmodels\\tsa\\base\\tsa_model.py:524: ValueWarning: No frequency information was provided, so inferred frequency MS will be used.\n",
            "  warnings.warn('No frequency information was'\n",
            "D:\\Anaconda\\lib\\site-packages\\statsmodels\\tsa\\base\\tsa_model.py:524: ValueWarning: No frequency information was provided, so inferred frequency MS will be used.\n",
            "  warnings.warn('No frequency information was'\n",
            "D:\\Anaconda\\lib\\site-packages\\statsmodels\\tsa\\base\\tsa_model.py:524: ValueWarning: No frequency information was provided, so inferred frequency MS will be used.\n",
            "  warnings.warn('No frequency information was'\n",
            "D:\\Anaconda\\lib\\site-packages\\statsmodels\\tsa\\statespace\\sarimax.py:966: UserWarning: Non-stationary starting autoregressive parameters found. Using zeros as starting parameters.\n",
            "  warn('Non-stationary starting autoregressive parameters'\n",
            "D:\\Anaconda\\lib\\site-packages\\statsmodels\\tsa\\statespace\\sarimax.py:978: UserWarning: Non-invertible starting MA parameters found. Using zeros as starting parameters.\n",
            "  warn('Non-invertible starting MA parameters found.'\n"
          ]
        },
        {
          "name": "stdout",
          "output_type": "stream",
          "text": [
            "AR: 2, MA: 2\n",
            "AR: 2, MA: 3\n"
          ]
        },
        {
          "name": "stderr",
          "output_type": "stream",
          "text": [
            "D:\\Anaconda\\lib\\site-packages\\statsmodels\\tsa\\base\\tsa_model.py:524: ValueWarning: No frequency information was provided, so inferred frequency MS will be used.\n",
            "  warnings.warn('No frequency information was'\n",
            "D:\\Anaconda\\lib\\site-packages\\statsmodels\\tsa\\base\\tsa_model.py:524: ValueWarning: No frequency information was provided, so inferred frequency MS will be used.\n",
            "  warnings.warn('No frequency information was'\n",
            "D:\\Anaconda\\lib\\site-packages\\statsmodels\\tsa\\base\\tsa_model.py:524: ValueWarning: No frequency information was provided, so inferred frequency MS will be used.\n",
            "  warnings.warn('No frequency information was'\n",
            "D:\\Anaconda\\lib\\site-packages\\statsmodels\\tsa\\base\\tsa_model.py:524: ValueWarning: No frequency information was provided, so inferred frequency MS will be used.\n",
            "  warnings.warn('No frequency information was'\n",
            "D:\\Anaconda\\lib\\site-packages\\statsmodels\\tsa\\base\\tsa_model.py:524: ValueWarning: No frequency information was provided, so inferred frequency MS will be used.\n",
            "  warnings.warn('No frequency information was'\n",
            "D:\\Anaconda\\lib\\site-packages\\statsmodels\\tsa\\base\\tsa_model.py:524: ValueWarning: No frequency information was provided, so inferred frequency MS will be used.\n",
            "  warnings.warn('No frequency information was'\n"
          ]
        },
        {
          "name": "stdout",
          "output_type": "stream",
          "text": [
            "AR: 2, MA: 4\n"
          ]
        },
        {
          "name": "stderr",
          "output_type": "stream",
          "text": [
            "D:\\Anaconda\\lib\\site-packages\\statsmodels\\tsa\\base\\tsa_model.py:524: ValueWarning: No frequency information was provided, so inferred frequency MS will be used.\n",
            "  warnings.warn('No frequency information was'\n",
            "D:\\Anaconda\\lib\\site-packages\\statsmodels\\tsa\\base\\tsa_model.py:524: ValueWarning: No frequency information was provided, so inferred frequency MS will be used.\n",
            "  warnings.warn('No frequency information was'\n",
            "D:\\Anaconda\\lib\\site-packages\\statsmodels\\tsa\\base\\tsa_model.py:524: ValueWarning: No frequency information was provided, so inferred frequency MS will be used.\n",
            "  warnings.warn('No frequency information was'\n"
          ]
        },
        {
          "name": "stdout",
          "output_type": "stream",
          "text": [
            "AR: 2, MA: 5\n"
          ]
        },
        {
          "name": "stderr",
          "output_type": "stream",
          "text": [
            "D:\\Anaconda\\lib\\site-packages\\statsmodels\\tsa\\base\\tsa_model.py:524: ValueWarning: No frequency information was provided, so inferred frequency MS will be used.\n",
            "  warnings.warn('No frequency information was'\n",
            "D:\\Anaconda\\lib\\site-packages\\statsmodels\\tsa\\base\\tsa_model.py:524: ValueWarning: No frequency information was provided, so inferred frequency MS will be used.\n",
            "  warnings.warn('No frequency information was'\n",
            "D:\\Anaconda\\lib\\site-packages\\statsmodels\\tsa\\base\\tsa_model.py:524: ValueWarning: No frequency information was provided, so inferred frequency MS will be used.\n",
            "  warnings.warn('No frequency information was'\n"
          ]
        },
        {
          "name": "stdout",
          "output_type": "stream",
          "text": [
            "AR: 2, MA: 6\n"
          ]
        },
        {
          "name": "stderr",
          "output_type": "stream",
          "text": [
            "D:\\Anaconda\\lib\\site-packages\\statsmodels\\tsa\\base\\tsa_model.py:524: ValueWarning: No frequency information was provided, so inferred frequency MS will be used.\n",
            "  warnings.warn('No frequency information was'\n",
            "D:\\Anaconda\\lib\\site-packages\\statsmodels\\tsa\\base\\tsa_model.py:524: ValueWarning: No frequency information was provided, so inferred frequency MS will be used.\n",
            "  warnings.warn('No frequency information was'\n",
            "D:\\Anaconda\\lib\\site-packages\\statsmodels\\tsa\\base\\tsa_model.py:524: ValueWarning: No frequency information was provided, so inferred frequency MS will be used.\n",
            "  warnings.warn('No frequency information was'\n"
          ]
        },
        {
          "name": "stdout",
          "output_type": "stream",
          "text": [
            "AR: 3, MA: 0\n",
            "AR: 3, MA: 1\n"
          ]
        },
        {
          "name": "stderr",
          "output_type": "stream",
          "text": [
            "D:\\Anaconda\\lib\\site-packages\\statsmodels\\tsa\\base\\tsa_model.py:524: ValueWarning: No frequency information was provided, so inferred frequency MS will be used.\n",
            "  warnings.warn('No frequency information was'\n",
            "D:\\Anaconda\\lib\\site-packages\\statsmodels\\tsa\\base\\tsa_model.py:524: ValueWarning: No frequency information was provided, so inferred frequency MS will be used.\n",
            "  warnings.warn('No frequency information was'\n",
            "D:\\Anaconda\\lib\\site-packages\\statsmodels\\tsa\\base\\tsa_model.py:524: ValueWarning: No frequency information was provided, so inferred frequency MS will be used.\n",
            "  warnings.warn('No frequency information was'\n",
            "D:\\Anaconda\\lib\\site-packages\\statsmodels\\tsa\\base\\tsa_model.py:524: ValueWarning: No frequency information was provided, so inferred frequency MS will be used.\n",
            "  warnings.warn('No frequency information was'\n",
            "D:\\Anaconda\\lib\\site-packages\\statsmodels\\tsa\\base\\tsa_model.py:524: ValueWarning: No frequency information was provided, so inferred frequency MS will be used.\n",
            "  warnings.warn('No frequency information was'\n",
            "D:\\Anaconda\\lib\\site-packages\\statsmodels\\tsa\\base\\tsa_model.py:524: ValueWarning: No frequency information was provided, so inferred frequency MS will be used.\n",
            "  warnings.warn('No frequency information was'\n"
          ]
        },
        {
          "name": "stdout",
          "output_type": "stream",
          "text": [
            "AR: 3, MA: 2\n",
            "AR: 3, MA: 3\n"
          ]
        },
        {
          "name": "stderr",
          "output_type": "stream",
          "text": [
            "D:\\Anaconda\\lib\\site-packages\\statsmodels\\tsa\\base\\tsa_model.py:524: ValueWarning: No frequency information was provided, so inferred frequency MS will be used.\n",
            "  warnings.warn('No frequency information was'\n",
            "D:\\Anaconda\\lib\\site-packages\\statsmodels\\tsa\\base\\tsa_model.py:524: ValueWarning: No frequency information was provided, so inferred frequency MS will be used.\n",
            "  warnings.warn('No frequency information was'\n",
            "D:\\Anaconda\\lib\\site-packages\\statsmodels\\tsa\\base\\tsa_model.py:524: ValueWarning: No frequency information was provided, so inferred frequency MS will be used.\n",
            "  warnings.warn('No frequency information was'\n",
            "D:\\Anaconda\\lib\\site-packages\\statsmodels\\tsa\\base\\tsa_model.py:524: ValueWarning: No frequency information was provided, so inferred frequency MS will be used.\n",
            "  warnings.warn('No frequency information was'\n",
            "D:\\Anaconda\\lib\\site-packages\\statsmodels\\tsa\\base\\tsa_model.py:524: ValueWarning: No frequency information was provided, so inferred frequency MS will be used.\n",
            "  warnings.warn('No frequency information was'\n",
            "D:\\Anaconda\\lib\\site-packages\\statsmodels\\tsa\\base\\tsa_model.py:524: ValueWarning: No frequency information was provided, so inferred frequency MS will be used.\n",
            "  warnings.warn('No frequency information was'\n"
          ]
        },
        {
          "name": "stdout",
          "output_type": "stream",
          "text": [
            "AR: 3, MA: 4\n"
          ]
        },
        {
          "name": "stderr",
          "output_type": "stream",
          "text": [
            "D:\\Anaconda\\lib\\site-packages\\statsmodels\\tsa\\base\\tsa_model.py:524: ValueWarning: No frequency information was provided, so inferred frequency MS will be used.\n",
            "  warnings.warn('No frequency information was'\n",
            "D:\\Anaconda\\lib\\site-packages\\statsmodels\\tsa\\base\\tsa_model.py:524: ValueWarning: No frequency information was provided, so inferred frequency MS will be used.\n",
            "  warnings.warn('No frequency information was'\n",
            "D:\\Anaconda\\lib\\site-packages\\statsmodels\\tsa\\base\\tsa_model.py:524: ValueWarning: No frequency information was provided, so inferred frequency MS will be used.\n",
            "  warnings.warn('No frequency information was'\n"
          ]
        },
        {
          "name": "stdout",
          "output_type": "stream",
          "text": [
            "AR: 3, MA: 5\n"
          ]
        },
        {
          "name": "stderr",
          "output_type": "stream",
          "text": [
            "D:\\Anaconda\\lib\\site-packages\\statsmodels\\tsa\\base\\tsa_model.py:524: ValueWarning: No frequency information was provided, so inferred frequency MS will be used.\n",
            "  warnings.warn('No frequency information was'\n",
            "D:\\Anaconda\\lib\\site-packages\\statsmodels\\tsa\\base\\tsa_model.py:524: ValueWarning: No frequency information was provided, so inferred frequency MS will be used.\n",
            "  warnings.warn('No frequency information was'\n",
            "D:\\Anaconda\\lib\\site-packages\\statsmodels\\tsa\\base\\tsa_model.py:524: ValueWarning: No frequency information was provided, so inferred frequency MS will be used.\n",
            "  warnings.warn('No frequency information was'\n",
            "D:\\Anaconda\\lib\\site-packages\\statsmodels\\base\\model.py:566: ConvergenceWarning: Maximum Likelihood optimization failed to converge. Check mle_retvals\n",
            "  warnings.warn(\"Maximum Likelihood optimization failed to \"\n",
            "D:\\Anaconda\\lib\\site-packages\\statsmodels\\tsa\\base\\tsa_model.py:524: ValueWarning: No frequency information was provided, so inferred frequency MS will be used.\n",
            "  warnings.warn('No frequency information was'\n",
            "D:\\Anaconda\\lib\\site-packages\\statsmodels\\tsa\\base\\tsa_model.py:524: ValueWarning: No frequency information was provided, so inferred frequency MS will be used.\n",
            "  warnings.warn('No frequency information was'\n",
            "D:\\Anaconda\\lib\\site-packages\\statsmodels\\tsa\\base\\tsa_model.py:524: ValueWarning: No frequency information was provided, so inferred frequency MS will be used.\n",
            "  warnings.warn('No frequency information was'\n"
          ]
        },
        {
          "name": "stdout",
          "output_type": "stream",
          "text": [
            "AR: 3, MA: 6\n"
          ]
        },
        {
          "name": "stderr",
          "output_type": "stream",
          "text": [
            "D:\\Anaconda\\lib\\site-packages\\statsmodels\\base\\model.py:566: ConvergenceWarning: Maximum Likelihood optimization failed to converge. Check mle_retvals\n",
            "  warnings.warn(\"Maximum Likelihood optimization failed to \"\n",
            "D:\\Anaconda\\lib\\site-packages\\statsmodels\\tsa\\base\\tsa_model.py:524: ValueWarning: No frequency information was provided, so inferred frequency MS will be used.\n",
            "  warnings.warn('No frequency information was'\n",
            "D:\\Anaconda\\lib\\site-packages\\statsmodels\\tsa\\base\\tsa_model.py:524: ValueWarning: No frequency information was provided, so inferred frequency MS will be used.\n",
            "  warnings.warn('No frequency information was'\n",
            "D:\\Anaconda\\lib\\site-packages\\statsmodels\\tsa\\base\\tsa_model.py:524: ValueWarning: No frequency information was provided, so inferred frequency MS will be used.\n",
            "  warnings.warn('No frequency information was'\n",
            "D:\\Anaconda\\lib\\site-packages\\statsmodels\\tsa\\base\\tsa_model.py:524: ValueWarning: No frequency information was provided, so inferred frequency MS will be used.\n",
            "  warnings.warn('No frequency information was'\n",
            "D:\\Anaconda\\lib\\site-packages\\statsmodels\\tsa\\base\\tsa_model.py:524: ValueWarning: No frequency information was provided, so inferred frequency MS will be used.\n",
            "  warnings.warn('No frequency information was'\n",
            "D:\\Anaconda\\lib\\site-packages\\statsmodels\\tsa\\base\\tsa_model.py:524: ValueWarning: No frequency information was provided, so inferred frequency MS will be used.\n",
            "  warnings.warn('No frequency information was'\n"
          ]
        },
        {
          "name": "stdout",
          "output_type": "stream",
          "text": [
            "AR: 4, MA: 0\n",
            "AR: 4, MA: 1\n",
            "AR: 4, MA: 2\n"
          ]
        },
        {
          "name": "stderr",
          "output_type": "stream",
          "text": [
            "D:\\Anaconda\\lib\\site-packages\\statsmodels\\tsa\\base\\tsa_model.py:524: ValueWarning: No frequency information was provided, so inferred frequency MS will be used.\n",
            "  warnings.warn('No frequency information was'\n",
            "D:\\Anaconda\\lib\\site-packages\\statsmodels\\tsa\\base\\tsa_model.py:524: ValueWarning: No frequency information was provided, so inferred frequency MS will be used.\n",
            "  warnings.warn('No frequency information was'\n",
            "D:\\Anaconda\\lib\\site-packages\\statsmodels\\tsa\\base\\tsa_model.py:524: ValueWarning: No frequency information was provided, so inferred frequency MS will be used.\n",
            "  warnings.warn('No frequency information was'\n"
          ]
        },
        {
          "name": "stdout",
          "output_type": "stream",
          "text": [
            "AR: 4, MA: 3\n"
          ]
        },
        {
          "name": "stderr",
          "output_type": "stream",
          "text": [
            "D:\\Anaconda\\lib\\site-packages\\statsmodels\\tsa\\base\\tsa_model.py:524: ValueWarning: No frequency information was provided, so inferred frequency MS will be used.\n",
            "  warnings.warn('No frequency information was'\n",
            "D:\\Anaconda\\lib\\site-packages\\statsmodels\\tsa\\base\\tsa_model.py:524: ValueWarning: No frequency information was provided, so inferred frequency MS will be used.\n",
            "  warnings.warn('No frequency information was'\n",
            "D:\\Anaconda\\lib\\site-packages\\statsmodels\\tsa\\base\\tsa_model.py:524: ValueWarning: No frequency information was provided, so inferred frequency MS will be used.\n",
            "  warnings.warn('No frequency information was'\n",
            "D:\\Anaconda\\lib\\site-packages\\statsmodels\\base\\model.py:566: ConvergenceWarning: Maximum Likelihood optimization failed to converge. Check mle_retvals\n",
            "  warnings.warn(\"Maximum Likelihood optimization failed to \"\n",
            "D:\\Anaconda\\lib\\site-packages\\statsmodels\\tsa\\base\\tsa_model.py:524: ValueWarning: No frequency information was provided, so inferred frequency MS will be used.\n",
            "  warnings.warn('No frequency information was'\n",
            "D:\\Anaconda\\lib\\site-packages\\statsmodels\\tsa\\base\\tsa_model.py:524: ValueWarning: No frequency information was provided, so inferred frequency MS will be used.\n",
            "  warnings.warn('No frequency information was'\n",
            "D:\\Anaconda\\lib\\site-packages\\statsmodels\\tsa\\base\\tsa_model.py:524: ValueWarning: No frequency information was provided, so inferred frequency MS will be used.\n",
            "  warnings.warn('No frequency information was'\n"
          ]
        },
        {
          "name": "stdout",
          "output_type": "stream",
          "text": [
            "AR: 4, MA: 4\n"
          ]
        },
        {
          "name": "stderr",
          "output_type": "stream",
          "text": [
            "D:\\Anaconda\\lib\\site-packages\\statsmodels\\base\\model.py:566: ConvergenceWarning: Maximum Likelihood optimization failed to converge. Check mle_retvals\n",
            "  warnings.warn(\"Maximum Likelihood optimization failed to \"\n",
            "D:\\Anaconda\\lib\\site-packages\\statsmodels\\tsa\\base\\tsa_model.py:524: ValueWarning: No frequency information was provided, so inferred frequency MS will be used.\n",
            "  warnings.warn('No frequency information was'\n",
            "D:\\Anaconda\\lib\\site-packages\\statsmodels\\tsa\\base\\tsa_model.py:524: ValueWarning: No frequency information was provided, so inferred frequency MS will be used.\n",
            "  warnings.warn('No frequency information was'\n",
            "D:\\Anaconda\\lib\\site-packages\\statsmodels\\tsa\\base\\tsa_model.py:524: ValueWarning: No frequency information was provided, so inferred frequency MS will be used.\n",
            "  warnings.warn('No frequency information was'\n"
          ]
        },
        {
          "name": "stdout",
          "output_type": "stream",
          "text": [
            "AR: 4, MA: 5\n"
          ]
        },
        {
          "name": "stderr",
          "output_type": "stream",
          "text": [
            "D:\\Anaconda\\lib\\site-packages\\statsmodels\\base\\model.py:566: ConvergenceWarning: Maximum Likelihood optimization failed to converge. Check mle_retvals\n",
            "  warnings.warn(\"Maximum Likelihood optimization failed to \"\n",
            "D:\\Anaconda\\lib\\site-packages\\statsmodels\\tsa\\base\\tsa_model.py:524: ValueWarning: No frequency information was provided, so inferred frequency MS will be used.\n",
            "  warnings.warn('No frequency information was'\n",
            "D:\\Anaconda\\lib\\site-packages\\statsmodels\\tsa\\base\\tsa_model.py:524: ValueWarning: No frequency information was provided, so inferred frequency MS will be used.\n",
            "  warnings.warn('No frequency information was'\n",
            "D:\\Anaconda\\lib\\site-packages\\statsmodels\\tsa\\base\\tsa_model.py:524: ValueWarning: No frequency information was provided, so inferred frequency MS will be used.\n",
            "  warnings.warn('No frequency information was'\n"
          ]
        },
        {
          "name": "stdout",
          "output_type": "stream",
          "text": [
            "AR: 4, MA: 6\n"
          ]
        },
        {
          "name": "stderr",
          "output_type": "stream",
          "text": [
            "D:\\Anaconda\\lib\\site-packages\\statsmodels\\base\\model.py:566: ConvergenceWarning: Maximum Likelihood optimization failed to converge. Check mle_retvals\n",
            "  warnings.warn(\"Maximum Likelihood optimization failed to \"\n",
            "D:\\Anaconda\\lib\\site-packages\\statsmodels\\tsa\\base\\tsa_model.py:524: ValueWarning: No frequency information was provided, so inferred frequency MS will be used.\n",
            "  warnings.warn('No frequency information was'\n",
            "D:\\Anaconda\\lib\\site-packages\\statsmodels\\tsa\\base\\tsa_model.py:524: ValueWarning: No frequency information was provided, so inferred frequency MS will be used.\n",
            "  warnings.warn('No frequency information was'\n",
            "D:\\Anaconda\\lib\\site-packages\\statsmodels\\tsa\\base\\tsa_model.py:524: ValueWarning: No frequency information was provided, so inferred frequency MS will be used.\n",
            "  warnings.warn('No frequency information was'\n"
          ]
        },
        {
          "name": "stdout",
          "output_type": "stream",
          "text": [
            "AR: 5, MA: 0\n",
            "AR: 5, MA: 1\n"
          ]
        },
        {
          "name": "stderr",
          "output_type": "stream",
          "text": [
            "D:\\Anaconda\\lib\\site-packages\\statsmodels\\tsa\\base\\tsa_model.py:524: ValueWarning: No frequency information was provided, so inferred frequency MS will be used.\n",
            "  warnings.warn('No frequency information was'\n",
            "D:\\Anaconda\\lib\\site-packages\\statsmodels\\tsa\\base\\tsa_model.py:524: ValueWarning: No frequency information was provided, so inferred frequency MS will be used.\n",
            "  warnings.warn('No frequency information was'\n",
            "D:\\Anaconda\\lib\\site-packages\\statsmodels\\tsa\\base\\tsa_model.py:524: ValueWarning: No frequency information was provided, so inferred frequency MS will be used.\n",
            "  warnings.warn('No frequency information was'\n"
          ]
        },
        {
          "name": "stdout",
          "output_type": "stream",
          "text": [
            "AR: 5, MA: 2\n"
          ]
        },
        {
          "name": "stderr",
          "output_type": "stream",
          "text": [
            "D:\\Anaconda\\lib\\site-packages\\statsmodels\\tsa\\base\\tsa_model.py:524: ValueWarning: No frequency information was provided, so inferred frequency MS will be used.\n",
            "  warnings.warn('No frequency information was'\n",
            "D:\\Anaconda\\lib\\site-packages\\statsmodels\\tsa\\base\\tsa_model.py:524: ValueWarning: No frequency information was provided, so inferred frequency MS will be used.\n",
            "  warnings.warn('No frequency information was'\n",
            "D:\\Anaconda\\lib\\site-packages\\statsmodels\\tsa\\base\\tsa_model.py:524: ValueWarning: No frequency information was provided, so inferred frequency MS will be used.\n",
            "  warnings.warn('No frequency information was'\n",
            "D:\\Anaconda\\lib\\site-packages\\statsmodels\\base\\model.py:566: ConvergenceWarning: Maximum Likelihood optimization failed to converge. Check mle_retvals\n",
            "  warnings.warn(\"Maximum Likelihood optimization failed to \"\n",
            "D:\\Anaconda\\lib\\site-packages\\statsmodels\\tsa\\base\\tsa_model.py:524: ValueWarning: No frequency information was provided, so inferred frequency MS will be used.\n",
            "  warnings.warn('No frequency information was'\n",
            "D:\\Anaconda\\lib\\site-packages\\statsmodels\\tsa\\base\\tsa_model.py:524: ValueWarning: No frequency information was provided, so inferred frequency MS will be used.\n",
            "  warnings.warn('No frequency information was'\n",
            "D:\\Anaconda\\lib\\site-packages\\statsmodels\\tsa\\base\\tsa_model.py:524: ValueWarning: No frequency information was provided, so inferred frequency MS will be used.\n",
            "  warnings.warn('No frequency information was'\n"
          ]
        },
        {
          "name": "stdout",
          "output_type": "stream",
          "text": [
            "AR: 5, MA: 3\n"
          ]
        },
        {
          "name": "stderr",
          "output_type": "stream",
          "text": [
            "D:\\Anaconda\\lib\\site-packages\\statsmodels\\base\\model.py:566: ConvergenceWarning: Maximum Likelihood optimization failed to converge. Check mle_retvals\n",
            "  warnings.warn(\"Maximum Likelihood optimization failed to \"\n",
            "D:\\Anaconda\\lib\\site-packages\\statsmodels\\tsa\\base\\tsa_model.py:524: ValueWarning: No frequency information was provided, so inferred frequency MS will be used.\n",
            "  warnings.warn('No frequency information was'\n",
            "D:\\Anaconda\\lib\\site-packages\\statsmodels\\tsa\\base\\tsa_model.py:524: ValueWarning: No frequency information was provided, so inferred frequency MS will be used.\n",
            "  warnings.warn('No frequency information was'\n",
            "D:\\Anaconda\\lib\\site-packages\\statsmodels\\tsa\\base\\tsa_model.py:524: ValueWarning: No frequency information was provided, so inferred frequency MS will be used.\n",
            "  warnings.warn('No frequency information was'\n"
          ]
        },
        {
          "name": "stdout",
          "output_type": "stream",
          "text": [
            "AR: 5, MA: 4\n"
          ]
        },
        {
          "name": "stderr",
          "output_type": "stream",
          "text": [
            "D:\\Anaconda\\lib\\site-packages\\statsmodels\\base\\model.py:566: ConvergenceWarning: Maximum Likelihood optimization failed to converge. Check mle_retvals\n",
            "  warnings.warn(\"Maximum Likelihood optimization failed to \"\n",
            "D:\\Anaconda\\lib\\site-packages\\statsmodels\\tsa\\base\\tsa_model.py:524: ValueWarning: No frequency information was provided, so inferred frequency MS will be used.\n",
            "  warnings.warn('No frequency information was'\n",
            "D:\\Anaconda\\lib\\site-packages\\statsmodels\\tsa\\base\\tsa_model.py:524: ValueWarning: No frequency information was provided, so inferred frequency MS will be used.\n",
            "  warnings.warn('No frequency information was'\n",
            "D:\\Anaconda\\lib\\site-packages\\statsmodels\\tsa\\base\\tsa_model.py:524: ValueWarning: No frequency information was provided, so inferred frequency MS will be used.\n",
            "  warnings.warn('No frequency information was'\n"
          ]
        },
        {
          "name": "stdout",
          "output_type": "stream",
          "text": [
            "AR: 5, MA: 5\n"
          ]
        },
        {
          "name": "stderr",
          "output_type": "stream",
          "text": [
            "D:\\Anaconda\\lib\\site-packages\\statsmodels\\base\\model.py:566: ConvergenceWarning: Maximum Likelihood optimization failed to converge. Check mle_retvals\n",
            "  warnings.warn(\"Maximum Likelihood optimization failed to \"\n",
            "D:\\Anaconda\\lib\\site-packages\\statsmodels\\tsa\\base\\tsa_model.py:524: ValueWarning: No frequency information was provided, so inferred frequency MS will be used.\n",
            "  warnings.warn('No frequency information was'\n",
            "D:\\Anaconda\\lib\\site-packages\\statsmodels\\tsa\\base\\tsa_model.py:524: ValueWarning: No frequency information was provided, so inferred frequency MS will be used.\n",
            "  warnings.warn('No frequency information was'\n",
            "D:\\Anaconda\\lib\\site-packages\\statsmodels\\tsa\\base\\tsa_model.py:524: ValueWarning: No frequency information was provided, so inferred frequency MS will be used.\n",
            "  warnings.warn('No frequency information was'\n"
          ]
        },
        {
          "name": "stdout",
          "output_type": "stream",
          "text": [
            "AR: 5, MA: 6\n"
          ]
        },
        {
          "name": "stderr",
          "output_type": "stream",
          "text": [
            "D:\\Anaconda\\lib\\site-packages\\statsmodels\\base\\model.py:566: ConvergenceWarning: Maximum Likelihood optimization failed to converge. Check mle_retvals\n",
            "  warnings.warn(\"Maximum Likelihood optimization failed to \"\n",
            "D:\\Anaconda\\lib\\site-packages\\statsmodels\\tsa\\base\\tsa_model.py:524: ValueWarning: No frequency information was provided, so inferred frequency MS will be used.\n",
            "  warnings.warn('No frequency information was'\n",
            "D:\\Anaconda\\lib\\site-packages\\statsmodels\\tsa\\base\\tsa_model.py:524: ValueWarning: No frequency information was provided, so inferred frequency MS will be used.\n",
            "  warnings.warn('No frequency information was'\n",
            "D:\\Anaconda\\lib\\site-packages\\statsmodels\\tsa\\base\\tsa_model.py:524: ValueWarning: No frequency information was provided, so inferred frequency MS will be used.\n",
            "  warnings.warn('No frequency information was'\n",
            "D:\\Anaconda\\lib\\site-packages\\statsmodels\\tsa\\base\\tsa_model.py:524: ValueWarning: No frequency information was provided, so inferred frequency MS will be used.\n",
            "  warnings.warn('No frequency information was'\n",
            "D:\\Anaconda\\lib\\site-packages\\statsmodels\\tsa\\base\\tsa_model.py:524: ValueWarning: No frequency information was provided, so inferred frequency MS will be used.\n",
            "  warnings.warn('No frequency information was'\n"
          ]
        },
        {
          "name": "stdout",
          "output_type": "stream",
          "text": [
            "AR: 6, MA: 0\n",
            "AR: 6, MA: 1\n"
          ]
        },
        {
          "name": "stderr",
          "output_type": "stream",
          "text": [
            "D:\\Anaconda\\lib\\site-packages\\statsmodels\\tsa\\base\\tsa_model.py:524: ValueWarning: No frequency information was provided, so inferred frequency MS will be used.\n",
            "  warnings.warn('No frequency information was'\n"
          ]
        },
        {
          "name": "stdout",
          "output_type": "stream",
          "text": [
            "AR: 6, MA: 2\n"
          ]
        },
        {
          "name": "stderr",
          "output_type": "stream",
          "text": [
            "D:\\Anaconda\\lib\\site-packages\\statsmodels\\tsa\\base\\tsa_model.py:524: ValueWarning: No frequency information was provided, so inferred frequency MS will be used.\n",
            "  warnings.warn('No frequency information was'\n",
            "D:\\Anaconda\\lib\\site-packages\\statsmodels\\tsa\\base\\tsa_model.py:524: ValueWarning: No frequency information was provided, so inferred frequency MS will be used.\n",
            "  warnings.warn('No frequency information was'\n",
            "D:\\Anaconda\\lib\\site-packages\\statsmodels\\tsa\\base\\tsa_model.py:524: ValueWarning: No frequency information was provided, so inferred frequency MS will be used.\n",
            "  warnings.warn('No frequency information was'\n",
            "D:\\Anaconda\\lib\\site-packages\\statsmodels\\base\\model.py:566: ConvergenceWarning: Maximum Likelihood optimization failed to converge. Check mle_retvals\n",
            "  warnings.warn(\"Maximum Likelihood optimization failed to \"\n",
            "D:\\Anaconda\\lib\\site-packages\\statsmodels\\tsa\\base\\tsa_model.py:524: ValueWarning: No frequency information was provided, so inferred frequency MS will be used.\n",
            "  warnings.warn('No frequency information was'\n",
            "D:\\Anaconda\\lib\\site-packages\\statsmodels\\tsa\\base\\tsa_model.py:524: ValueWarning: No frequency information was provided, so inferred frequency MS will be used.\n",
            "  warnings.warn('No frequency information was'\n",
            "D:\\Anaconda\\lib\\site-packages\\statsmodels\\tsa\\base\\tsa_model.py:524: ValueWarning: No frequency information was provided, so inferred frequency MS will be used.\n",
            "  warnings.warn('No frequency information was'\n"
          ]
        },
        {
          "name": "stdout",
          "output_type": "stream",
          "text": [
            "AR: 6, MA: 3\n"
          ]
        },
        {
          "name": "stderr",
          "output_type": "stream",
          "text": [
            "D:\\Anaconda\\lib\\site-packages\\statsmodels\\base\\model.py:566: ConvergenceWarning: Maximum Likelihood optimization failed to converge. Check mle_retvals\n",
            "  warnings.warn(\"Maximum Likelihood optimization failed to \"\n",
            "D:\\Anaconda\\lib\\site-packages\\statsmodels\\tsa\\base\\tsa_model.py:524: ValueWarning: No frequency information was provided, so inferred frequency MS will be used.\n",
            "  warnings.warn('No frequency information was'\n",
            "D:\\Anaconda\\lib\\site-packages\\statsmodels\\tsa\\base\\tsa_model.py:524: ValueWarning: No frequency information was provided, so inferred frequency MS will be used.\n",
            "  warnings.warn('No frequency information was'\n",
            "D:\\Anaconda\\lib\\site-packages\\statsmodels\\tsa\\base\\tsa_model.py:524: ValueWarning: No frequency information was provided, so inferred frequency MS will be used.\n",
            "  warnings.warn('No frequency information was'\n"
          ]
        },
        {
          "name": "stdout",
          "output_type": "stream",
          "text": [
            "AR: 6, MA: 4\n"
          ]
        },
        {
          "name": "stderr",
          "output_type": "stream",
          "text": [
            "D:\\Anaconda\\lib\\site-packages\\statsmodels\\base\\model.py:566: ConvergenceWarning: Maximum Likelihood optimization failed to converge. Check mle_retvals\n",
            "  warnings.warn(\"Maximum Likelihood optimization failed to \"\n",
            "D:\\Anaconda\\lib\\site-packages\\statsmodels\\tsa\\base\\tsa_model.py:524: ValueWarning: No frequency information was provided, so inferred frequency MS will be used.\n",
            "  warnings.warn('No frequency information was'\n",
            "D:\\Anaconda\\lib\\site-packages\\statsmodels\\tsa\\base\\tsa_model.py:524: ValueWarning: No frequency information was provided, so inferred frequency MS will be used.\n",
            "  warnings.warn('No frequency information was'\n",
            "D:\\Anaconda\\lib\\site-packages\\statsmodels\\tsa\\base\\tsa_model.py:524: ValueWarning: No frequency information was provided, so inferred frequency MS will be used.\n",
            "  warnings.warn('No frequency information was'\n"
          ]
        },
        {
          "name": "stdout",
          "output_type": "stream",
          "text": [
            "AR: 6, MA: 5\n"
          ]
        },
        {
          "name": "stderr",
          "output_type": "stream",
          "text": [
            "D:\\Anaconda\\lib\\site-packages\\statsmodels\\base\\model.py:566: ConvergenceWarning: Maximum Likelihood optimization failed to converge. Check mle_retvals\n",
            "  warnings.warn(\"Maximum Likelihood optimization failed to \"\n",
            "D:\\Anaconda\\lib\\site-packages\\statsmodels\\tsa\\base\\tsa_model.py:524: ValueWarning: No frequency information was provided, so inferred frequency MS will be used.\n",
            "  warnings.warn('No frequency information was'\n",
            "D:\\Anaconda\\lib\\site-packages\\statsmodels\\tsa\\base\\tsa_model.py:524: ValueWarning: No frequency information was provided, so inferred frequency MS will be used.\n",
            "  warnings.warn('No frequency information was'\n",
            "D:\\Anaconda\\lib\\site-packages\\statsmodels\\tsa\\base\\tsa_model.py:524: ValueWarning: No frequency information was provided, so inferred frequency MS will be used.\n",
            "  warnings.warn('No frequency information was'\n"
          ]
        },
        {
          "name": "stdout",
          "output_type": "stream",
          "text": [
            "AR: 6, MA: 6\n"
          ]
        },
        {
          "name": "stderr",
          "output_type": "stream",
          "text": [
            "D:\\Anaconda\\lib\\site-packages\\statsmodels\\base\\model.py:566: ConvergenceWarning: Maximum Likelihood optimization failed to converge. Check mle_retvals\n",
            "  warnings.warn(\"Maximum Likelihood optimization failed to \"\n"
          ]
        },
        {
          "data": {
            "text/html": [
              "<div>\n",
              "<style scoped>\n",
              "    .dataframe tbody tr th:only-of-type {\n",
              "        vertical-align: middle;\n",
              "    }\n",
              "\n",
              "    .dataframe tbody tr th {\n",
              "        vertical-align: top;\n",
              "    }\n",
              "\n",
              "    .dataframe thead th {\n",
              "        text-align: right;\n",
              "    }\n",
              "</style>\n",
              "<table border=\"1\" class=\"dataframe\">\n",
              "  <thead>\n",
              "    <tr style=\"text-align: right;\">\n",
              "      <th></th>\n",
              "      <th></th>\n",
              "      <th>AIC</th>\n",
              "      <th>BIC</th>\n",
              "    </tr>\n",
              "    <tr>\n",
              "      <th>AR</th>\n",
              "      <th>MA</th>\n",
              "      <th></th>\n",
              "      <th></th>\n",
              "    </tr>\n",
              "  </thead>\n",
              "  <tbody>\n",
              "    <tr>\n",
              "      <th rowspan=\"7\" valign=\"top\">0</th>\n",
              "      <th>0</th>\n",
              "      <td>1770.976868</td>\n",
              "      <td>1778.681273</td>\n",
              "    </tr>\n",
              "    <tr>\n",
              "      <th>1</th>\n",
              "      <td>1736.727177</td>\n",
              "      <td>1748.283785</td>\n",
              "    </tr>\n",
              "    <tr>\n",
              "      <th>2</th>\n",
              "      <td>1715.625756</td>\n",
              "      <td>1731.034565</td>\n",
              "    </tr>\n",
              "    <tr>\n",
              "      <th>3</th>\n",
              "      <td>1708.248616</td>\n",
              "      <td>1727.509628</td>\n",
              "    </tr>\n",
              "    <tr>\n",
              "      <th>4</th>\n",
              "      <td>1710.064489</td>\n",
              "      <td>1733.177704</td>\n",
              "    </tr>\n",
              "    <tr>\n",
              "      <th>5</th>\n",
              "      <td>1690.033394</td>\n",
              "      <td>1716.998811</td>\n",
              "    </tr>\n",
              "    <tr>\n",
              "      <th>6</th>\n",
              "      <td>1684.286135</td>\n",
              "      <td>1715.103755</td>\n",
              "    </tr>\n",
              "    <tr>\n",
              "      <th rowspan=\"7\" valign=\"top\">1</th>\n",
              "      <th>0</th>\n",
              "      <td>1752.263656</td>\n",
              "      <td>1763.820264</td>\n",
              "    </tr>\n",
              "    <tr>\n",
              "      <th>1</th>\n",
              "      <td>1710.838102</td>\n",
              "      <td>1726.246912</td>\n",
              "    </tr>\n",
              "    <tr>\n",
              "      <th>2</th>\n",
              "      <td>1712.632567</td>\n",
              "      <td>1731.893580</td>\n",
              "    </tr>\n",
              "    <tr>\n",
              "      <th>3</th>\n",
              "      <td>1715.111613</td>\n",
              "      <td>1738.224828</td>\n",
              "    </tr>\n",
              "    <tr>\n",
              "      <th>4</th>\n",
              "      <td>1696.389768</td>\n",
              "      <td>1723.355185</td>\n",
              "    </tr>\n",
              "    <tr>\n",
              "      <th>5</th>\n",
              "      <td>1686.808119</td>\n",
              "      <td>1717.625739</td>\n",
              "    </tr>\n",
              "    <tr>\n",
              "      <th>6</th>\n",
              "      <td>1683.785407</td>\n",
              "      <td>1718.455229</td>\n",
              "    </tr>\n",
              "    <tr>\n",
              "      <th rowspan=\"7\" valign=\"top\">2</th>\n",
              "      <th>0</th>\n",
              "      <td>1746.253006</td>\n",
              "      <td>1761.661816</td>\n",
              "    </tr>\n",
              "    <tr>\n",
              "      <th>1</th>\n",
              "      <td>1712.525603</td>\n",
              "      <td>1731.786616</td>\n",
              "    </tr>\n",
              "    <tr>\n",
              "      <th>2</th>\n",
              "      <td>1709.460500</td>\n",
              "      <td>1732.573715</td>\n",
              "    </tr>\n",
              "    <tr>\n",
              "      <th>3</th>\n",
              "      <td>1711.197764</td>\n",
              "      <td>1738.163181</td>\n",
              "    </tr>\n",
              "    <tr>\n",
              "      <th>4</th>\n",
              "      <td>1687.521158</td>\n",
              "      <td>1718.338778</td>\n",
              "    </tr>\n",
              "    <tr>\n",
              "      <th>5</th>\n",
              "      <td>1686.641805</td>\n",
              "      <td>1721.311627</td>\n",
              "    </tr>\n",
              "    <tr>\n",
              "      <th>6</th>\n",
              "      <td>1684.572791</td>\n",
              "      <td>1723.094816</td>\n",
              "    </tr>\n",
              "    <tr>\n",
              "      <th rowspan=\"7\" valign=\"top\">3</th>\n",
              "      <th>0</th>\n",
              "      <td>1732.894993</td>\n",
              "      <td>1752.156006</td>\n",
              "    </tr>\n",
              "    <tr>\n",
              "      <th>1</th>\n",
              "      <td>1710.208198</td>\n",
              "      <td>1733.321413</td>\n",
              "    </tr>\n",
              "    <tr>\n",
              "      <th>2</th>\n",
              "      <td>1710.754449</td>\n",
              "      <td>1737.719866</td>\n",
              "    </tr>\n",
              "    <tr>\n",
              "      <th>3</th>\n",
              "      <td>1652.895272</td>\n",
              "      <td>1683.712892</td>\n",
              "    </tr>\n",
              "    <tr>\n",
              "      <th>4</th>\n",
              "      <td>1682.412911</td>\n",
              "      <td>1717.082734</td>\n",
              "    </tr>\n",
              "    <tr>\n",
              "      <th>5</th>\n",
              "      <td>1660.980243</td>\n",
              "      <td>1699.502268</td>\n",
              "    </tr>\n",
              "    <tr>\n",
              "      <th>6</th>\n",
              "      <td>1661.931507</td>\n",
              "      <td>1704.305734</td>\n",
              "    </tr>\n",
              "    <tr>\n",
              "      <th rowspan=\"7\" valign=\"top\">4</th>\n",
              "      <th>0</th>\n",
              "      <td>1693.078873</td>\n",
              "      <td>1716.192088</td>\n",
              "    </tr>\n",
              "    <tr>\n",
              "      <th>1</th>\n",
              "      <td>1680.273107</td>\n",
              "      <td>1707.238524</td>\n",
              "    </tr>\n",
              "    <tr>\n",
              "      <th>2</th>\n",
              "      <td>1681.158207</td>\n",
              "      <td>1711.975827</td>\n",
              "    </tr>\n",
              "    <tr>\n",
              "      <th>3</th>\n",
              "      <td>1624.176003</td>\n",
              "      <td>1658.845825</td>\n",
              "    </tr>\n",
              "    <tr>\n",
              "      <th>4</th>\n",
              "      <td>1617.498033</td>\n",
              "      <td>1656.020057</td>\n",
              "    </tr>\n",
              "    <tr>\n",
              "      <th>5</th>\n",
              "      <td>1631.257736</td>\n",
              "      <td>1673.631964</td>\n",
              "    </tr>\n",
              "    <tr>\n",
              "      <th>6</th>\n",
              "      <td>1578.218814</td>\n",
              "      <td>1624.445244</td>\n",
              "    </tr>\n",
              "    <tr>\n",
              "      <th rowspan=\"7\" valign=\"top\">5</th>\n",
              "      <th>0</th>\n",
              "      <td>1692.046406</td>\n",
              "      <td>1719.011823</td>\n",
              "    </tr>\n",
              "    <tr>\n",
              "      <th>1</th>\n",
              "      <td>1681.917648</td>\n",
              "      <td>1712.735268</td>\n",
              "    </tr>\n",
              "    <tr>\n",
              "      <th>2</th>\n",
              "      <td>1674.201370</td>\n",
              "      <td>1708.871193</td>\n",
              "    </tr>\n",
              "    <tr>\n",
              "      <th>3</th>\n",
              "      <td>1647.473729</td>\n",
              "      <td>1685.995754</td>\n",
              "    </tr>\n",
              "    <tr>\n",
              "      <th>4</th>\n",
              "      <td>1628.246188</td>\n",
              "      <td>1670.620415</td>\n",
              "    </tr>\n",
              "    <tr>\n",
              "      <th>5</th>\n",
              "      <td>1603.168198</td>\n",
              "      <td>1649.394628</td>\n",
              "    </tr>\n",
              "    <tr>\n",
              "      <th>6</th>\n",
              "      <td>1590.886219</td>\n",
              "      <td>1640.964851</td>\n",
              "    </tr>\n",
              "    <tr>\n",
              "      <th rowspan=\"7\" valign=\"top\">6</th>\n",
              "      <th>0</th>\n",
              "      <td>1681.315853</td>\n",
              "      <td>1712.133473</td>\n",
              "    </tr>\n",
              "    <tr>\n",
              "      <th>1</th>\n",
              "      <td>1676.641041</td>\n",
              "      <td>1711.310864</td>\n",
              "    </tr>\n",
              "    <tr>\n",
              "      <th>2</th>\n",
              "      <td>1676.213871</td>\n",
              "      <td>1714.735896</td>\n",
              "    </tr>\n",
              "    <tr>\n",
              "      <th>3</th>\n",
              "      <td>1632.281032</td>\n",
              "      <td>1674.655259</td>\n",
              "    </tr>\n",
              "    <tr>\n",
              "      <th>4</th>\n",
              "      <td>1589.751555</td>\n",
              "      <td>1635.977985</td>\n",
              "    </tr>\n",
              "    <tr>\n",
              "      <th>5</th>\n",
              "      <td>1629.010582</td>\n",
              "      <td>1679.089214</td>\n",
              "    </tr>\n",
              "    <tr>\n",
              "      <th>6</th>\n",
              "      <td>1599.575045</td>\n",
              "      <td>1653.505880</td>\n",
              "    </tr>\n",
              "  </tbody>\n",
              "</table>\n",
              "</div>"
            ],
            "text/plain": [
              "               AIC          BIC\n",
              "AR MA                          \n",
              "0  0   1770.976868  1778.681273\n",
              "   1   1736.727177  1748.283785\n",
              "   2   1715.625756  1731.034565\n",
              "   3   1708.248616  1727.509628\n",
              "   4   1710.064489  1733.177704\n",
              "   5   1690.033394  1716.998811\n",
              "   6   1684.286135  1715.103755\n",
              "1  0   1752.263656  1763.820264\n",
              "   1   1710.838102  1726.246912\n",
              "   2   1712.632567  1731.893580\n",
              "   3   1715.111613  1738.224828\n",
              "   4   1696.389768  1723.355185\n",
              "   5   1686.808119  1717.625739\n",
              "   6   1683.785407  1718.455229\n",
              "2  0   1746.253006  1761.661816\n",
              "   1   1712.525603  1731.786616\n",
              "   2   1709.460500  1732.573715\n",
              "   3   1711.197764  1738.163181\n",
              "   4   1687.521158  1718.338778\n",
              "   5   1686.641805  1721.311627\n",
              "   6   1684.572791  1723.094816\n",
              "3  0   1732.894993  1752.156006\n",
              "   1   1710.208198  1733.321413\n",
              "   2   1710.754449  1737.719866\n",
              "   3   1652.895272  1683.712892\n",
              "   4   1682.412911  1717.082734\n",
              "   5   1660.980243  1699.502268\n",
              "   6   1661.931507  1704.305734\n",
              "4  0   1693.078873  1716.192088\n",
              "   1   1680.273107  1707.238524\n",
              "   2   1681.158207  1711.975827\n",
              "   3   1624.176003  1658.845825\n",
              "   4   1617.498033  1656.020057\n",
              "   5   1631.257736  1673.631964\n",
              "   6   1578.218814  1624.445244\n",
              "5  0   1692.046406  1719.011823\n",
              "   1   1681.917648  1712.735268\n",
              "   2   1674.201370  1708.871193\n",
              "   3   1647.473729  1685.995754\n",
              "   4   1628.246188  1670.620415\n",
              "   5   1603.168198  1649.394628\n",
              "   6   1590.886219  1640.964851\n",
              "6  0   1681.315853  1712.133473\n",
              "   1   1676.641041  1711.310864\n",
              "   2   1676.213871  1714.735896\n",
              "   3   1632.281032  1674.655259\n",
              "   4   1589.751555  1635.977985\n",
              "   5   1629.010582  1679.089214\n",
              "   6   1599.575045  1653.505880"
            ]
          },
          "execution_count": 20,
          "metadata": {},
          "output_type": "execute_result"
        }
      ],
      "source": [
        "ic = {}\n",
        "for ar in range(7):\n",
        "    for ma in range(7):\n",
        "        print(f\"AR: {ar}, MA: {ma}\")\n",
        "        modelo = ARIMA(serie_diff, order=(ar, 0, ma))\n",
        "        resultado = modelo.fit()\n",
        "        ic[(ar, ma)] = [resultado.aic, resultado.bic]\n",
        "\n",
        "ic = pd.DataFrame(ic, index=[\"AIC\", \"BIC\"]).T\n",
        "ic.index = ic.index.set_names([\"AR\", \"MA\"])\n",
        "ic"
      ]
    },
    {
      "cell_type": "markdown",
      "id": "82087de5-cd72-4e66-99c6-485145e57614",
      "metadata": {
        "id": "82087de5-cd72-4e66-99c6-485145e57614"
      },
      "source": [
        "**Criterio bayesiano de información (BIC)**"
      ]
    },
    {
      "cell_type": "code",
      "execution_count": null,
      "id": "0ec519d5-76f7-4e7a-96d6-e3bfa85e6064",
      "metadata": {
        "id": "0ec519d5-76f7-4e7a-96d6-e3bfa85e6064",
        "outputId": "93963e99-741c-43cd-d969-633b31b3d733"
      },
      "outputs": [
        {
          "data": {
            "text/html": [
              "<div>\n",
              "<style scoped>\n",
              "    .dataframe tbody tr th:only-of-type {\n",
              "        vertical-align: middle;\n",
              "    }\n",
              "\n",
              "    .dataframe tbody tr th {\n",
              "        vertical-align: top;\n",
              "    }\n",
              "\n",
              "    .dataframe thead th {\n",
              "        text-align: right;\n",
              "    }\n",
              "</style>\n",
              "<table border=\"1\" class=\"dataframe\">\n",
              "  <thead>\n",
              "    <tr style=\"text-align: right;\">\n",
              "      <th></th>\n",
              "      <th></th>\n",
              "      <th>AIC</th>\n",
              "      <th>BIC</th>\n",
              "    </tr>\n",
              "    <tr>\n",
              "      <th>AR</th>\n",
              "      <th>MA</th>\n",
              "      <th></th>\n",
              "      <th></th>\n",
              "    </tr>\n",
              "  </thead>\n",
              "  <tbody>\n",
              "    <tr>\n",
              "      <th>4</th>\n",
              "      <th>6</th>\n",
              "      <td>1578.218814</td>\n",
              "      <td>1624.445244</td>\n",
              "    </tr>\n",
              "    <tr>\n",
              "      <th>6</th>\n",
              "      <th>4</th>\n",
              "      <td>1589.751555</td>\n",
              "      <td>1635.977985</td>\n",
              "    </tr>\n",
              "    <tr>\n",
              "      <th rowspan=\"2\" valign=\"top\">5</th>\n",
              "      <th>6</th>\n",
              "      <td>1590.886219</td>\n",
              "      <td>1640.964851</td>\n",
              "    </tr>\n",
              "    <tr>\n",
              "      <th>5</th>\n",
              "      <td>1603.168198</td>\n",
              "      <td>1649.394628</td>\n",
              "    </tr>\n",
              "    <tr>\n",
              "      <th>6</th>\n",
              "      <th>6</th>\n",
              "      <td>1599.575045</td>\n",
              "      <td>1653.505880</td>\n",
              "    </tr>\n",
              "    <tr>\n",
              "      <th rowspan=\"2\" valign=\"top\">4</th>\n",
              "      <th>4</th>\n",
              "      <td>1617.498033</td>\n",
              "      <td>1656.020057</td>\n",
              "    </tr>\n",
              "    <tr>\n",
              "      <th>3</th>\n",
              "      <td>1624.176003</td>\n",
              "      <td>1658.845825</td>\n",
              "    </tr>\n",
              "    <tr>\n",
              "      <th>5</th>\n",
              "      <th>4</th>\n",
              "      <td>1628.246188</td>\n",
              "      <td>1670.620415</td>\n",
              "    </tr>\n",
              "    <tr>\n",
              "      <th>4</th>\n",
              "      <th>5</th>\n",
              "      <td>1631.257736</td>\n",
              "      <td>1673.631964</td>\n",
              "    </tr>\n",
              "    <tr>\n",
              "      <th rowspan=\"2\" valign=\"top\">6</th>\n",
              "      <th>3</th>\n",
              "      <td>1632.281032</td>\n",
              "      <td>1674.655259</td>\n",
              "    </tr>\n",
              "    <tr>\n",
              "      <th>5</th>\n",
              "      <td>1629.010582</td>\n",
              "      <td>1679.089214</td>\n",
              "    </tr>\n",
              "    <tr>\n",
              "      <th>3</th>\n",
              "      <th>3</th>\n",
              "      <td>1652.895272</td>\n",
              "      <td>1683.712892</td>\n",
              "    </tr>\n",
              "    <tr>\n",
              "      <th>5</th>\n",
              "      <th>3</th>\n",
              "      <td>1647.473729</td>\n",
              "      <td>1685.995754</td>\n",
              "    </tr>\n",
              "    <tr>\n",
              "      <th rowspan=\"2\" valign=\"top\">3</th>\n",
              "      <th>5</th>\n",
              "      <td>1660.980243</td>\n",
              "      <td>1699.502268</td>\n",
              "    </tr>\n",
              "    <tr>\n",
              "      <th>6</th>\n",
              "      <td>1661.931507</td>\n",
              "      <td>1704.305734</td>\n",
              "    </tr>\n",
              "    <tr>\n",
              "      <th>4</th>\n",
              "      <th>1</th>\n",
              "      <td>1680.273107</td>\n",
              "      <td>1707.238524</td>\n",
              "    </tr>\n",
              "    <tr>\n",
              "      <th>5</th>\n",
              "      <th>2</th>\n",
              "      <td>1674.201370</td>\n",
              "      <td>1708.871193</td>\n",
              "    </tr>\n",
              "    <tr>\n",
              "      <th>6</th>\n",
              "      <th>1</th>\n",
              "      <td>1676.641041</td>\n",
              "      <td>1711.310864</td>\n",
              "    </tr>\n",
              "    <tr>\n",
              "      <th>4</th>\n",
              "      <th>2</th>\n",
              "      <td>1681.158207</td>\n",
              "      <td>1711.975827</td>\n",
              "    </tr>\n",
              "    <tr>\n",
              "      <th>6</th>\n",
              "      <th>0</th>\n",
              "      <td>1681.315853</td>\n",
              "      <td>1712.133473</td>\n",
              "    </tr>\n",
              "    <tr>\n",
              "      <th>5</th>\n",
              "      <th>1</th>\n",
              "      <td>1681.917648</td>\n",
              "      <td>1712.735268</td>\n",
              "    </tr>\n",
              "    <tr>\n",
              "      <th>6</th>\n",
              "      <th>2</th>\n",
              "      <td>1676.213871</td>\n",
              "      <td>1714.735896</td>\n",
              "    </tr>\n",
              "    <tr>\n",
              "      <th>0</th>\n",
              "      <th>6</th>\n",
              "      <td>1684.286135</td>\n",
              "      <td>1715.103755</td>\n",
              "    </tr>\n",
              "    <tr>\n",
              "      <th>4</th>\n",
              "      <th>0</th>\n",
              "      <td>1693.078873</td>\n",
              "      <td>1716.192088</td>\n",
              "    </tr>\n",
              "    <tr>\n",
              "      <th>0</th>\n",
              "      <th>5</th>\n",
              "      <td>1690.033394</td>\n",
              "      <td>1716.998811</td>\n",
              "    </tr>\n",
              "    <tr>\n",
              "      <th>3</th>\n",
              "      <th>4</th>\n",
              "      <td>1682.412911</td>\n",
              "      <td>1717.082734</td>\n",
              "    </tr>\n",
              "    <tr>\n",
              "      <th>1</th>\n",
              "      <th>5</th>\n",
              "      <td>1686.808119</td>\n",
              "      <td>1717.625739</td>\n",
              "    </tr>\n",
              "    <tr>\n",
              "      <th>2</th>\n",
              "      <th>4</th>\n",
              "      <td>1687.521158</td>\n",
              "      <td>1718.338778</td>\n",
              "    </tr>\n",
              "    <tr>\n",
              "      <th>1</th>\n",
              "      <th>6</th>\n",
              "      <td>1683.785407</td>\n",
              "      <td>1718.455229</td>\n",
              "    </tr>\n",
              "    <tr>\n",
              "      <th>5</th>\n",
              "      <th>0</th>\n",
              "      <td>1692.046406</td>\n",
              "      <td>1719.011823</td>\n",
              "    </tr>\n",
              "    <tr>\n",
              "      <th rowspan=\"2\" valign=\"top\">2</th>\n",
              "      <th>5</th>\n",
              "      <td>1686.641805</td>\n",
              "      <td>1721.311627</td>\n",
              "    </tr>\n",
              "    <tr>\n",
              "      <th>6</th>\n",
              "      <td>1684.572791</td>\n",
              "      <td>1723.094816</td>\n",
              "    </tr>\n",
              "    <tr>\n",
              "      <th rowspan=\"2\" valign=\"top\">1</th>\n",
              "      <th>4</th>\n",
              "      <td>1696.389768</td>\n",
              "      <td>1723.355185</td>\n",
              "    </tr>\n",
              "    <tr>\n",
              "      <th>1</th>\n",
              "      <td>1710.838102</td>\n",
              "      <td>1726.246912</td>\n",
              "    </tr>\n",
              "    <tr>\n",
              "      <th rowspan=\"2\" valign=\"top\">0</th>\n",
              "      <th>3</th>\n",
              "      <td>1708.248616</td>\n",
              "      <td>1727.509628</td>\n",
              "    </tr>\n",
              "    <tr>\n",
              "      <th>2</th>\n",
              "      <td>1715.625756</td>\n",
              "      <td>1731.034565</td>\n",
              "    </tr>\n",
              "    <tr>\n",
              "      <th>2</th>\n",
              "      <th>1</th>\n",
              "      <td>1712.525603</td>\n",
              "      <td>1731.786616</td>\n",
              "    </tr>\n",
              "    <tr>\n",
              "      <th>1</th>\n",
              "      <th>2</th>\n",
              "      <td>1712.632567</td>\n",
              "      <td>1731.893580</td>\n",
              "    </tr>\n",
              "    <tr>\n",
              "      <th>2</th>\n",
              "      <th>2</th>\n",
              "      <td>1709.460500</td>\n",
              "      <td>1732.573715</td>\n",
              "    </tr>\n",
              "    <tr>\n",
              "      <th>0</th>\n",
              "      <th>4</th>\n",
              "      <td>1710.064489</td>\n",
              "      <td>1733.177704</td>\n",
              "    </tr>\n",
              "    <tr>\n",
              "      <th rowspan=\"2\" valign=\"top\">3</th>\n",
              "      <th>1</th>\n",
              "      <td>1710.208198</td>\n",
              "      <td>1733.321413</td>\n",
              "    </tr>\n",
              "    <tr>\n",
              "      <th>2</th>\n",
              "      <td>1710.754449</td>\n",
              "      <td>1737.719866</td>\n",
              "    </tr>\n",
              "    <tr>\n",
              "      <th>2</th>\n",
              "      <th>3</th>\n",
              "      <td>1711.197764</td>\n",
              "      <td>1738.163181</td>\n",
              "    </tr>\n",
              "    <tr>\n",
              "      <th>1</th>\n",
              "      <th>3</th>\n",
              "      <td>1715.111613</td>\n",
              "      <td>1738.224828</td>\n",
              "    </tr>\n",
              "    <tr>\n",
              "      <th>0</th>\n",
              "      <th>1</th>\n",
              "      <td>1736.727177</td>\n",
              "      <td>1748.283785</td>\n",
              "    </tr>\n",
              "    <tr>\n",
              "      <th>3</th>\n",
              "      <th>0</th>\n",
              "      <td>1732.894993</td>\n",
              "      <td>1752.156006</td>\n",
              "    </tr>\n",
              "    <tr>\n",
              "      <th>2</th>\n",
              "      <th>0</th>\n",
              "      <td>1746.253006</td>\n",
              "      <td>1761.661816</td>\n",
              "    </tr>\n",
              "    <tr>\n",
              "      <th>1</th>\n",
              "      <th>0</th>\n",
              "      <td>1752.263656</td>\n",
              "      <td>1763.820264</td>\n",
              "    </tr>\n",
              "    <tr>\n",
              "      <th>0</th>\n",
              "      <th>0</th>\n",
              "      <td>1770.976868</td>\n",
              "      <td>1778.681273</td>\n",
              "    </tr>\n",
              "  </tbody>\n",
              "</table>\n",
              "</div>"
            ],
            "text/plain": [
              "               AIC          BIC\n",
              "AR MA                          \n",
              "4  6   1578.218814  1624.445244\n",
              "6  4   1589.751555  1635.977985\n",
              "5  6   1590.886219  1640.964851\n",
              "   5   1603.168198  1649.394628\n",
              "6  6   1599.575045  1653.505880\n",
              "4  4   1617.498033  1656.020057\n",
              "   3   1624.176003  1658.845825\n",
              "5  4   1628.246188  1670.620415\n",
              "4  5   1631.257736  1673.631964\n",
              "6  3   1632.281032  1674.655259\n",
              "   5   1629.010582  1679.089214\n",
              "3  3   1652.895272  1683.712892\n",
              "5  3   1647.473729  1685.995754\n",
              "3  5   1660.980243  1699.502268\n",
              "   6   1661.931507  1704.305734\n",
              "4  1   1680.273107  1707.238524\n",
              "5  2   1674.201370  1708.871193\n",
              "6  1   1676.641041  1711.310864\n",
              "4  2   1681.158207  1711.975827\n",
              "6  0   1681.315853  1712.133473\n",
              "5  1   1681.917648  1712.735268\n",
              "6  2   1676.213871  1714.735896\n",
              "0  6   1684.286135  1715.103755\n",
              "4  0   1693.078873  1716.192088\n",
              "0  5   1690.033394  1716.998811\n",
              "3  4   1682.412911  1717.082734\n",
              "1  5   1686.808119  1717.625739\n",
              "2  4   1687.521158  1718.338778\n",
              "1  6   1683.785407  1718.455229\n",
              "5  0   1692.046406  1719.011823\n",
              "2  5   1686.641805  1721.311627\n",
              "   6   1684.572791  1723.094816\n",
              "1  4   1696.389768  1723.355185\n",
              "   1   1710.838102  1726.246912\n",
              "0  3   1708.248616  1727.509628\n",
              "   2   1715.625756  1731.034565\n",
              "2  1   1712.525603  1731.786616\n",
              "1  2   1712.632567  1731.893580\n",
              "2  2   1709.460500  1732.573715\n",
              "0  4   1710.064489  1733.177704\n",
              "3  1   1710.208198  1733.321413\n",
              "   2   1710.754449  1737.719866\n",
              "2  3   1711.197764  1738.163181\n",
              "1  3   1715.111613  1738.224828\n",
              "0  1   1736.727177  1748.283785\n",
              "3  0   1732.894993  1752.156006\n",
              "2  0   1746.253006  1761.661816\n",
              "1  0   1752.263656  1763.820264\n",
              "0  0   1770.976868  1778.681273"
            ]
          },
          "execution_count": 21,
          "metadata": {},
          "output_type": "execute_result"
        }
      ],
      "source": [
        "ic.sort_values('BIC', ascending = True)"
      ]
    },
    {
      "cell_type": "markdown",
      "id": "308d644b-2711-4506-9004-5ea3e76ebaba",
      "metadata": {
        "id": "308d644b-2711-4506-9004-5ea3e76ebaba"
      },
      "source": [
        "**Criterio de Akaike (AIC)**"
      ]
    },
    {
      "cell_type": "code",
      "execution_count": null,
      "id": "d4f2fcaf-4c30-4b7d-8bfc-1c951699d7c9",
      "metadata": {
        "id": "d4f2fcaf-4c30-4b7d-8bfc-1c951699d7c9",
        "outputId": "f0c9a903-b173-4fe9-aa97-09e172c57ddd"
      },
      "outputs": [
        {
          "data": {
            "text/html": [
              "<div>\n",
              "<style scoped>\n",
              "    .dataframe tbody tr th:only-of-type {\n",
              "        vertical-align: middle;\n",
              "    }\n",
              "\n",
              "    .dataframe tbody tr th {\n",
              "        vertical-align: top;\n",
              "    }\n",
              "\n",
              "    .dataframe thead th {\n",
              "        text-align: right;\n",
              "    }\n",
              "</style>\n",
              "<table border=\"1\" class=\"dataframe\">\n",
              "  <thead>\n",
              "    <tr style=\"text-align: right;\">\n",
              "      <th></th>\n",
              "      <th></th>\n",
              "      <th>AIC</th>\n",
              "      <th>BIC</th>\n",
              "    </tr>\n",
              "    <tr>\n",
              "      <th>AR</th>\n",
              "      <th>MA</th>\n",
              "      <th></th>\n",
              "      <th></th>\n",
              "    </tr>\n",
              "  </thead>\n",
              "  <tbody>\n",
              "    <tr>\n",
              "      <th>4</th>\n",
              "      <th>6</th>\n",
              "      <td>1578.218814</td>\n",
              "      <td>1624.445244</td>\n",
              "    </tr>\n",
              "    <tr>\n",
              "      <th>6</th>\n",
              "      <th>4</th>\n",
              "      <td>1589.751555</td>\n",
              "      <td>1635.977985</td>\n",
              "    </tr>\n",
              "    <tr>\n",
              "      <th>5</th>\n",
              "      <th>6</th>\n",
              "      <td>1590.886219</td>\n",
              "      <td>1640.964851</td>\n",
              "    </tr>\n",
              "    <tr>\n",
              "      <th>6</th>\n",
              "      <th>6</th>\n",
              "      <td>1599.575045</td>\n",
              "      <td>1653.505880</td>\n",
              "    </tr>\n",
              "    <tr>\n",
              "      <th>5</th>\n",
              "      <th>5</th>\n",
              "      <td>1603.168198</td>\n",
              "      <td>1649.394628</td>\n",
              "    </tr>\n",
              "    <tr>\n",
              "      <th rowspan=\"2\" valign=\"top\">4</th>\n",
              "      <th>4</th>\n",
              "      <td>1617.498033</td>\n",
              "      <td>1656.020057</td>\n",
              "    </tr>\n",
              "    <tr>\n",
              "      <th>3</th>\n",
              "      <td>1624.176003</td>\n",
              "      <td>1658.845825</td>\n",
              "    </tr>\n",
              "    <tr>\n",
              "      <th>5</th>\n",
              "      <th>4</th>\n",
              "      <td>1628.246188</td>\n",
              "      <td>1670.620415</td>\n",
              "    </tr>\n",
              "    <tr>\n",
              "      <th>6</th>\n",
              "      <th>5</th>\n",
              "      <td>1629.010582</td>\n",
              "      <td>1679.089214</td>\n",
              "    </tr>\n",
              "    <tr>\n",
              "      <th>4</th>\n",
              "      <th>5</th>\n",
              "      <td>1631.257736</td>\n",
              "      <td>1673.631964</td>\n",
              "    </tr>\n",
              "    <tr>\n",
              "      <th>6</th>\n",
              "      <th>3</th>\n",
              "      <td>1632.281032</td>\n",
              "      <td>1674.655259</td>\n",
              "    </tr>\n",
              "    <tr>\n",
              "      <th>5</th>\n",
              "      <th>3</th>\n",
              "      <td>1647.473729</td>\n",
              "      <td>1685.995754</td>\n",
              "    </tr>\n",
              "    <tr>\n",
              "      <th rowspan=\"3\" valign=\"top\">3</th>\n",
              "      <th>3</th>\n",
              "      <td>1652.895272</td>\n",
              "      <td>1683.712892</td>\n",
              "    </tr>\n",
              "    <tr>\n",
              "      <th>5</th>\n",
              "      <td>1660.980243</td>\n",
              "      <td>1699.502268</td>\n",
              "    </tr>\n",
              "    <tr>\n",
              "      <th>6</th>\n",
              "      <td>1661.931507</td>\n",
              "      <td>1704.305734</td>\n",
              "    </tr>\n",
              "    <tr>\n",
              "      <th>5</th>\n",
              "      <th>2</th>\n",
              "      <td>1674.201370</td>\n",
              "      <td>1708.871193</td>\n",
              "    </tr>\n",
              "    <tr>\n",
              "      <th rowspan=\"2\" valign=\"top\">6</th>\n",
              "      <th>2</th>\n",
              "      <td>1676.213871</td>\n",
              "      <td>1714.735896</td>\n",
              "    </tr>\n",
              "    <tr>\n",
              "      <th>1</th>\n",
              "      <td>1676.641041</td>\n",
              "      <td>1711.310864</td>\n",
              "    </tr>\n",
              "    <tr>\n",
              "      <th rowspan=\"2\" valign=\"top\">4</th>\n",
              "      <th>1</th>\n",
              "      <td>1680.273107</td>\n",
              "      <td>1707.238524</td>\n",
              "    </tr>\n",
              "    <tr>\n",
              "      <th>2</th>\n",
              "      <td>1681.158207</td>\n",
              "      <td>1711.975827</td>\n",
              "    </tr>\n",
              "    <tr>\n",
              "      <th>6</th>\n",
              "      <th>0</th>\n",
              "      <td>1681.315853</td>\n",
              "      <td>1712.133473</td>\n",
              "    </tr>\n",
              "    <tr>\n",
              "      <th>5</th>\n",
              "      <th>1</th>\n",
              "      <td>1681.917648</td>\n",
              "      <td>1712.735268</td>\n",
              "    </tr>\n",
              "    <tr>\n",
              "      <th>3</th>\n",
              "      <th>4</th>\n",
              "      <td>1682.412911</td>\n",
              "      <td>1717.082734</td>\n",
              "    </tr>\n",
              "    <tr>\n",
              "      <th>1</th>\n",
              "      <th>6</th>\n",
              "      <td>1683.785407</td>\n",
              "      <td>1718.455229</td>\n",
              "    </tr>\n",
              "    <tr>\n",
              "      <th>0</th>\n",
              "      <th>6</th>\n",
              "      <td>1684.286135</td>\n",
              "      <td>1715.103755</td>\n",
              "    </tr>\n",
              "    <tr>\n",
              "      <th rowspan=\"2\" valign=\"top\">2</th>\n",
              "      <th>6</th>\n",
              "      <td>1684.572791</td>\n",
              "      <td>1723.094816</td>\n",
              "    </tr>\n",
              "    <tr>\n",
              "      <th>5</th>\n",
              "      <td>1686.641805</td>\n",
              "      <td>1721.311627</td>\n",
              "    </tr>\n",
              "    <tr>\n",
              "      <th>1</th>\n",
              "      <th>5</th>\n",
              "      <td>1686.808119</td>\n",
              "      <td>1717.625739</td>\n",
              "    </tr>\n",
              "    <tr>\n",
              "      <th>2</th>\n",
              "      <th>4</th>\n",
              "      <td>1687.521158</td>\n",
              "      <td>1718.338778</td>\n",
              "    </tr>\n",
              "    <tr>\n",
              "      <th>0</th>\n",
              "      <th>5</th>\n",
              "      <td>1690.033394</td>\n",
              "      <td>1716.998811</td>\n",
              "    </tr>\n",
              "    <tr>\n",
              "      <th>5</th>\n",
              "      <th>0</th>\n",
              "      <td>1692.046406</td>\n",
              "      <td>1719.011823</td>\n",
              "    </tr>\n",
              "    <tr>\n",
              "      <th>4</th>\n",
              "      <th>0</th>\n",
              "      <td>1693.078873</td>\n",
              "      <td>1716.192088</td>\n",
              "    </tr>\n",
              "    <tr>\n",
              "      <th>1</th>\n",
              "      <th>4</th>\n",
              "      <td>1696.389768</td>\n",
              "      <td>1723.355185</td>\n",
              "    </tr>\n",
              "    <tr>\n",
              "      <th>0</th>\n",
              "      <th>3</th>\n",
              "      <td>1708.248616</td>\n",
              "      <td>1727.509628</td>\n",
              "    </tr>\n",
              "    <tr>\n",
              "      <th>2</th>\n",
              "      <th>2</th>\n",
              "      <td>1709.460500</td>\n",
              "      <td>1732.573715</td>\n",
              "    </tr>\n",
              "    <tr>\n",
              "      <th>0</th>\n",
              "      <th>4</th>\n",
              "      <td>1710.064489</td>\n",
              "      <td>1733.177704</td>\n",
              "    </tr>\n",
              "    <tr>\n",
              "      <th rowspan=\"2\" valign=\"top\">3</th>\n",
              "      <th>1</th>\n",
              "      <td>1710.208198</td>\n",
              "      <td>1733.321413</td>\n",
              "    </tr>\n",
              "    <tr>\n",
              "      <th>2</th>\n",
              "      <td>1710.754449</td>\n",
              "      <td>1737.719866</td>\n",
              "    </tr>\n",
              "    <tr>\n",
              "      <th>1</th>\n",
              "      <th>1</th>\n",
              "      <td>1710.838102</td>\n",
              "      <td>1726.246912</td>\n",
              "    </tr>\n",
              "    <tr>\n",
              "      <th rowspan=\"2\" valign=\"top\">2</th>\n",
              "      <th>3</th>\n",
              "      <td>1711.197764</td>\n",
              "      <td>1738.163181</td>\n",
              "    </tr>\n",
              "    <tr>\n",
              "      <th>1</th>\n",
              "      <td>1712.525603</td>\n",
              "      <td>1731.786616</td>\n",
              "    </tr>\n",
              "    <tr>\n",
              "      <th rowspan=\"2\" valign=\"top\">1</th>\n",
              "      <th>2</th>\n",
              "      <td>1712.632567</td>\n",
              "      <td>1731.893580</td>\n",
              "    </tr>\n",
              "    <tr>\n",
              "      <th>3</th>\n",
              "      <td>1715.111613</td>\n",
              "      <td>1738.224828</td>\n",
              "    </tr>\n",
              "    <tr>\n",
              "      <th>0</th>\n",
              "      <th>2</th>\n",
              "      <td>1715.625756</td>\n",
              "      <td>1731.034565</td>\n",
              "    </tr>\n",
              "    <tr>\n",
              "      <th>3</th>\n",
              "      <th>0</th>\n",
              "      <td>1732.894993</td>\n",
              "      <td>1752.156006</td>\n",
              "    </tr>\n",
              "    <tr>\n",
              "      <th>0</th>\n",
              "      <th>1</th>\n",
              "      <td>1736.727177</td>\n",
              "      <td>1748.283785</td>\n",
              "    </tr>\n",
              "    <tr>\n",
              "      <th>2</th>\n",
              "      <th>0</th>\n",
              "      <td>1746.253006</td>\n",
              "      <td>1761.661816</td>\n",
              "    </tr>\n",
              "    <tr>\n",
              "      <th>1</th>\n",
              "      <th>0</th>\n",
              "      <td>1752.263656</td>\n",
              "      <td>1763.820264</td>\n",
              "    </tr>\n",
              "    <tr>\n",
              "      <th>0</th>\n",
              "      <th>0</th>\n",
              "      <td>1770.976868</td>\n",
              "      <td>1778.681273</td>\n",
              "    </tr>\n",
              "  </tbody>\n",
              "</table>\n",
              "</div>"
            ],
            "text/plain": [
              "               AIC          BIC\n",
              "AR MA                          \n",
              "4  6   1578.218814  1624.445244\n",
              "6  4   1589.751555  1635.977985\n",
              "5  6   1590.886219  1640.964851\n",
              "6  6   1599.575045  1653.505880\n",
              "5  5   1603.168198  1649.394628\n",
              "4  4   1617.498033  1656.020057\n",
              "   3   1624.176003  1658.845825\n",
              "5  4   1628.246188  1670.620415\n",
              "6  5   1629.010582  1679.089214\n",
              "4  5   1631.257736  1673.631964\n",
              "6  3   1632.281032  1674.655259\n",
              "5  3   1647.473729  1685.995754\n",
              "3  3   1652.895272  1683.712892\n",
              "   5   1660.980243  1699.502268\n",
              "   6   1661.931507  1704.305734\n",
              "5  2   1674.201370  1708.871193\n",
              "6  2   1676.213871  1714.735896\n",
              "   1   1676.641041  1711.310864\n",
              "4  1   1680.273107  1707.238524\n",
              "   2   1681.158207  1711.975827\n",
              "6  0   1681.315853  1712.133473\n",
              "5  1   1681.917648  1712.735268\n",
              "3  4   1682.412911  1717.082734\n",
              "1  6   1683.785407  1718.455229\n",
              "0  6   1684.286135  1715.103755\n",
              "2  6   1684.572791  1723.094816\n",
              "   5   1686.641805  1721.311627\n",
              "1  5   1686.808119  1717.625739\n",
              "2  4   1687.521158  1718.338778\n",
              "0  5   1690.033394  1716.998811\n",
              "5  0   1692.046406  1719.011823\n",
              "4  0   1693.078873  1716.192088\n",
              "1  4   1696.389768  1723.355185\n",
              "0  3   1708.248616  1727.509628\n",
              "2  2   1709.460500  1732.573715\n",
              "0  4   1710.064489  1733.177704\n",
              "3  1   1710.208198  1733.321413\n",
              "   2   1710.754449  1737.719866\n",
              "1  1   1710.838102  1726.246912\n",
              "2  3   1711.197764  1738.163181\n",
              "   1   1712.525603  1731.786616\n",
              "1  2   1712.632567  1731.893580\n",
              "   3   1715.111613  1738.224828\n",
              "0  2   1715.625756  1731.034565\n",
              "3  0   1732.894993  1752.156006\n",
              "0  1   1736.727177  1748.283785\n",
              "2  0   1746.253006  1761.661816\n",
              "1  0   1752.263656  1763.820264\n",
              "0  0   1770.976868  1778.681273"
            ]
          },
          "execution_count": 22,
          "metadata": {},
          "output_type": "execute_result"
        }
      ],
      "source": [
        "ic.sort_values('AIC', ascending = True)"
      ]
    },
    {
      "cell_type": "code",
      "execution_count": null,
      "id": "f69dadc5-239d-4089-9599-ac8f2d8c2721",
      "metadata": {
        "id": "f69dadc5-239d-4089-9599-ac8f2d8c2721",
        "outputId": "95136724-45eb-4259-b40a-84a4fe378bf7"
      },
      "outputs": [
        {
          "name": "stderr",
          "output_type": "stream",
          "text": [
            "D:\\Anaconda\\lib\\site-packages\\statsmodels\\tsa\\base\\tsa_model.py:524: ValueWarning: No frequency information was provided, so inferred frequency MS will be used.\n",
            "  warnings.warn('No frequency information was'\n",
            "D:\\Anaconda\\lib\\site-packages\\statsmodels\\tsa\\base\\tsa_model.py:524: ValueWarning: No frequency information was provided, so inferred frequency MS will be used.\n",
            "  warnings.warn('No frequency information was'\n",
            "D:\\Anaconda\\lib\\site-packages\\statsmodels\\tsa\\base\\tsa_model.py:524: ValueWarning: No frequency information was provided, so inferred frequency MS will be used.\n",
            "  warnings.warn('No frequency information was'\n",
            "D:\\Anaconda\\lib\\site-packages\\statsmodels\\tsa\\statespace\\sarimax.py:978: UserWarning: Non-invertible starting MA parameters found. Using zeros as starting parameters.\n",
            "  warn('Non-invertible starting MA parameters found.'\n",
            "D:\\Anaconda\\lib\\site-packages\\statsmodels\\base\\model.py:566: ConvergenceWarning: Maximum Likelihood optimization failed to converge. Check mle_retvals\n",
            "  warnings.warn(\"Maximum Likelihood optimization failed to \"\n"
          ]
        },
        {
          "data": {
            "text/html": [
              "<table class=\"simpletable\">\n",
              "<caption>SARIMAX Results</caption>\n",
              "<tr>\n",
              "  <th>Dep. Variable:</th>         <td>IGAE</td>       <th>  No. Observations:  </th>    <td>348</td>  \n",
              "</tr>\n",
              "<tr>\n",
              "  <th>Model:</th>            <td>ARIMA(4, 1, 6)</td>  <th>  Log Likelihood     </th> <td>-808.116</td>\n",
              "</tr>\n",
              "<tr>\n",
              "  <th>Date:</th>            <td>Sun, 27 Mar 2022</td> <th>  AIC                </th> <td>1638.232</td>\n",
              "</tr>\n",
              "<tr>\n",
              "  <th>Time:</th>                <td>22:58:31</td>     <th>  BIC                </th> <td>1680.575</td>\n",
              "</tr>\n",
              "<tr>\n",
              "  <th>Sample:</th>             <td>02-01-1993</td>    <th>  HQIC               </th> <td>1655.091</td>\n",
              "</tr>\n",
              "<tr>\n",
              "  <th></th>                   <td>- 01-01-2022</td>   <th>                     </th>     <td> </td>   \n",
              "</tr>\n",
              "<tr>\n",
              "  <th>Covariance Type:</th>        <td>opg</td>       <th>                     </th>     <td> </td>   \n",
              "</tr>\n",
              "</table>\n",
              "<table class=\"simpletable\">\n",
              "<tr>\n",
              "     <td></td>       <th>coef</th>     <th>std err</th>      <th>z</th>      <th>P>|z|</th>  <th>[0.025</th>    <th>0.975]</th>  \n",
              "</tr>\n",
              "<tr>\n",
              "  <th>ar.L1</th>  <td>   -0.8038</td> <td>    0.029</td> <td>  -27.654</td> <td> 0.000</td> <td>   -0.861</td> <td>   -0.747</td>\n",
              "</tr>\n",
              "<tr>\n",
              "  <th>ar.L2</th>  <td>   -0.1269</td> <td>    0.016</td> <td>   -8.010</td> <td> 0.000</td> <td>   -0.158</td> <td>   -0.096</td>\n",
              "</tr>\n",
              "<tr>\n",
              "  <th>ar.L3</th>  <td>   -0.8606</td> <td>    0.014</td> <td>  -61.274</td> <td> 0.000</td> <td>   -0.888</td> <td>   -0.833</td>\n",
              "</tr>\n",
              "<tr>\n",
              "  <th>ar.L4</th>  <td>   -0.9210</td> <td>    0.029</td> <td>  -32.000</td> <td> 0.000</td> <td>   -0.977</td> <td>   -0.865</td>\n",
              "</tr>\n",
              "<tr>\n",
              "  <th>ma.L1</th>  <td>   -0.5288</td> <td>    3.216</td> <td>   -0.164</td> <td> 0.869</td> <td>   -6.831</td> <td>    5.774</td>\n",
              "</tr>\n",
              "<tr>\n",
              "  <th>ma.L2</th>  <td>   -0.7944</td> <td>    1.645</td> <td>   -0.483</td> <td> 0.629</td> <td>   -4.019</td> <td>    2.430</td>\n",
              "</tr>\n",
              "<tr>\n",
              "  <th>ma.L3</th>  <td>    1.1327</td> <td>    1.034</td> <td>    1.096</td> <td> 0.273</td> <td>   -0.893</td> <td>    3.158</td>\n",
              "</tr>\n",
              "<tr>\n",
              "  <th>ma.L4</th>  <td>   -0.2831</td> <td>    2.624</td> <td>   -0.108</td> <td> 0.914</td> <td>   -5.426</td> <td>    4.860</td>\n",
              "</tr>\n",
              "<tr>\n",
              "  <th>ma.L5</th>  <td>   -0.9952</td> <td>    1.827</td> <td>   -0.545</td> <td> 0.586</td> <td>   -4.577</td> <td>    2.587</td>\n",
              "</tr>\n",
              "<tr>\n",
              "  <th>ma.L6</th>  <td>    0.4689</td> <td>    1.499</td> <td>    0.313</td> <td> 0.754</td> <td>   -2.469</td> <td>    3.407</td>\n",
              "</tr>\n",
              "<tr>\n",
              "  <th>sigma2</th> <td>    5.7579</td> <td>   18.639</td> <td>    0.309</td> <td> 0.757</td> <td>  -30.774</td> <td>   42.290</td>\n",
              "</tr>\n",
              "</table>\n",
              "<table class=\"simpletable\">\n",
              "<tr>\n",
              "  <th>Ljung-Box (L1) (Q):</th>     <td>0.05</td> <th>  Jarque-Bera (JB):  </th> <td>5848.34</td>\n",
              "</tr>\n",
              "<tr>\n",
              "  <th>Prob(Q):</th>                <td>0.83</td> <th>  Prob(JB):          </th>  <td>0.00</td>  \n",
              "</tr>\n",
              "<tr>\n",
              "  <th>Heteroskedasticity (H):</th> <td>4.90</td> <th>  Skew:              </th>  <td>-2.29</td> \n",
              "</tr>\n",
              "<tr>\n",
              "  <th>Prob(H) (two-sided):</th>    <td>0.00</td> <th>  Kurtosis:          </th>  <td>22.59</td> \n",
              "</tr>\n",
              "</table><br/><br/>Warnings:<br/>[1] Covariance matrix calculated using the outer product of gradients (complex-step)."
            ],
            "text/plain": [
              "<class 'statsmodels.iolib.summary.Summary'>\n",
              "\"\"\"\n",
              "                               SARIMAX Results                                \n",
              "==============================================================================\n",
              "Dep. Variable:                   IGAE   No. Observations:                  348\n",
              "Model:                 ARIMA(4, 1, 6)   Log Likelihood                -808.116\n",
              "Date:                Sun, 27 Mar 2022   AIC                           1638.232\n",
              "Time:                        22:58:31   BIC                           1680.575\n",
              "Sample:                    02-01-1993   HQIC                          1655.091\n",
              "                         - 01-01-2022                                         \n",
              "Covariance Type:                  opg                                         \n",
              "==============================================================================\n",
              "                 coef    std err          z      P>|z|      [0.025      0.975]\n",
              "------------------------------------------------------------------------------\n",
              "ar.L1         -0.8038      0.029    -27.654      0.000      -0.861      -0.747\n",
              "ar.L2         -0.1269      0.016     -8.010      0.000      -0.158      -0.096\n",
              "ar.L3         -0.8606      0.014    -61.274      0.000      -0.888      -0.833\n",
              "ar.L4         -0.9210      0.029    -32.000      0.000      -0.977      -0.865\n",
              "ma.L1         -0.5288      3.216     -0.164      0.869      -6.831       5.774\n",
              "ma.L2         -0.7944      1.645     -0.483      0.629      -4.019       2.430\n",
              "ma.L3          1.1327      1.034      1.096      0.273      -0.893       3.158\n",
              "ma.L4         -0.2831      2.624     -0.108      0.914      -5.426       4.860\n",
              "ma.L5         -0.9952      1.827     -0.545      0.586      -4.577       2.587\n",
              "ma.L6          0.4689      1.499      0.313      0.754      -2.469       3.407\n",
              "sigma2         5.7579     18.639      0.309      0.757     -30.774      42.290\n",
              "===================================================================================\n",
              "Ljung-Box (L1) (Q):                   0.05   Jarque-Bera (JB):              5848.34\n",
              "Prob(Q):                              0.83   Prob(JB):                         0.00\n",
              "Heteroskedasticity (H):               4.90   Skew:                            -2.29\n",
              "Prob(H) (two-sided):                  0.00   Kurtosis:                        22.59\n",
              "===================================================================================\n",
              "\n",
              "Warnings:\n",
              "[1] Covariance matrix calculated using the outer product of gradients (complex-step).\n",
              "\"\"\""
            ]
          },
          "execution_count": 23,
          "metadata": {},
          "output_type": "execute_result"
        }
      ],
      "source": [
        "# Estimamos un ARIMA (4,6)\n",
        "modelo1 = ARIMA(serie_diff, order=(4, 1, 6))\n",
        "resultado1 = modelo1.fit()\n",
        "resultado1.summary()"
      ]
    },
    {
      "cell_type": "code",
      "execution_count": null,
      "id": "afc415b2-60a3-49e3-9e6c-705e661bc7de",
      "metadata": {
        "id": "afc415b2-60a3-49e3-9e6c-705e661bc7de",
        "outputId": "79b6772d-eb7a-46a8-aeb0-71c0435e615f"
      },
      "outputs": [
        {
          "name": "stderr",
          "output_type": "stream",
          "text": [
            "D:\\Anaconda\\lib\\site-packages\\statsmodels\\tsa\\base\\tsa_model.py:524: ValueWarning: No frequency information was provided, so inferred frequency MS will be used.\n",
            "  warnings.warn('No frequency information was'\n",
            "D:\\Anaconda\\lib\\site-packages\\statsmodels\\tsa\\base\\tsa_model.py:524: ValueWarning: No frequency information was provided, so inferred frequency MS will be used.\n",
            "  warnings.warn('No frequency information was'\n",
            "D:\\Anaconda\\lib\\site-packages\\statsmodels\\tsa\\base\\tsa_model.py:524: ValueWarning: No frequency information was provided, so inferred frequency MS will be used.\n",
            "  warnings.warn('No frequency information was'\n",
            "D:\\Anaconda\\lib\\site-packages\\statsmodels\\base\\model.py:566: ConvergenceWarning: Maximum Likelihood optimization failed to converge. Check mle_retvals\n",
            "  warnings.warn(\"Maximum Likelihood optimization failed to \"\n"
          ]
        },
        {
          "data": {
            "text/html": [
              "<table class=\"simpletable\">\n",
              "<caption>SARIMAX Results</caption>\n",
              "<tr>\n",
              "  <th>Dep. Variable:</th>         <td>IGAE</td>       <th>  No. Observations:  </th>    <td>348</td>  \n",
              "</tr>\n",
              "<tr>\n",
              "  <th>Model:</th>            <td>ARIMA(6, 1, 6)</td>  <th>  Log Likelihood     </th> <td>-793.735</td>\n",
              "</tr>\n",
              "<tr>\n",
              "  <th>Date:</th>            <td>Sun, 27 Mar 2022</td> <th>  AIC                </th> <td>1613.469</td>\n",
              "</tr>\n",
              "<tr>\n",
              "  <th>Time:</th>                <td>22:58:32</td>     <th>  BIC                </th> <td>1663.510</td>\n",
              "</tr>\n",
              "<tr>\n",
              "  <th>Sample:</th>             <td>02-01-1993</td>    <th>  HQIC               </th> <td>1633.394</td>\n",
              "</tr>\n",
              "<tr>\n",
              "  <th></th>                   <td>- 01-01-2022</td>   <th>                     </th>     <td> </td>   \n",
              "</tr>\n",
              "<tr>\n",
              "  <th>Covariance Type:</th>        <td>opg</td>       <th>                     </th>     <td> </td>   \n",
              "</tr>\n",
              "</table>\n",
              "<table class=\"simpletable\">\n",
              "<tr>\n",
              "     <td></td>       <th>coef</th>     <th>std err</th>      <th>z</th>      <th>P>|z|</th>  <th>[0.025</th>    <th>0.975]</th>  \n",
              "</tr>\n",
              "<tr>\n",
              "  <th>ar.L1</th>  <td>   -0.7295</td> <td>    0.104</td> <td>   -7.009</td> <td> 0.000</td> <td>   -0.934</td> <td>   -0.526</td>\n",
              "</tr>\n",
              "<tr>\n",
              "  <th>ar.L2</th>  <td>   -0.8016</td> <td>    0.131</td> <td>   -6.110</td> <td> 0.000</td> <td>   -1.059</td> <td>   -0.544</td>\n",
              "</tr>\n",
              "<tr>\n",
              "  <th>ar.L3</th>  <td>   -1.0672</td> <td>    0.113</td> <td>   -9.420</td> <td> 0.000</td> <td>   -1.289</td> <td>   -0.845</td>\n",
              "</tr>\n",
              "<tr>\n",
              "  <th>ar.L4</th>  <td>   -0.9081</td> <td>    0.124</td> <td>   -7.341</td> <td> 0.000</td> <td>   -1.151</td> <td>   -0.666</td>\n",
              "</tr>\n",
              "<tr>\n",
              "  <th>ar.L5</th>  <td>   -0.0906</td> <td>    0.124</td> <td>   -0.733</td> <td> 0.464</td> <td>   -0.333</td> <td>    0.152</td>\n",
              "</tr>\n",
              "<tr>\n",
              "  <th>ar.L6</th>  <td>   -0.3897</td> <td>    0.056</td> <td>   -6.905</td> <td> 0.000</td> <td>   -0.500</td> <td>   -0.279</td>\n",
              "</tr>\n",
              "<tr>\n",
              "  <th>ma.L1</th>  <td>   -0.4312</td> <td>    0.106</td> <td>   -4.061</td> <td> 0.000</td> <td>   -0.639</td> <td>   -0.223</td>\n",
              "</tr>\n",
              "<tr>\n",
              "  <th>ma.L2</th>  <td>   -0.1937</td> <td>    0.044</td> <td>   -4.386</td> <td> 0.000</td> <td>   -0.280</td> <td>   -0.107</td>\n",
              "</tr>\n",
              "<tr>\n",
              "  <th>ma.L3</th>  <td>    0.2130</td> <td>    0.054</td> <td>    3.927</td> <td> 0.000</td> <td>    0.107</td> <td>    0.319</td>\n",
              "</tr>\n",
              "<tr>\n",
              "  <th>ma.L4</th>  <td>   -0.2194</td> <td>    0.056</td> <td>   -3.945</td> <td> 0.000</td> <td>   -0.328</td> <td>   -0.110</td>\n",
              "</tr>\n",
              "<tr>\n",
              "  <th>ma.L5</th>  <td>   -0.8778</td> <td>    0.058</td> <td>  -15.170</td> <td> 0.000</td> <td>   -0.991</td> <td>   -0.764</td>\n",
              "</tr>\n",
              "<tr>\n",
              "  <th>ma.L6</th>  <td>    0.5133</td> <td>    0.095</td> <td>    5.429</td> <td> 0.000</td> <td>    0.328</td> <td>    0.699</td>\n",
              "</tr>\n",
              "<tr>\n",
              "  <th>sigma2</th> <td>    5.4072</td> <td>    0.356</td> <td>   15.190</td> <td> 0.000</td> <td>    4.710</td> <td>    6.105</td>\n",
              "</tr>\n",
              "</table>\n",
              "<table class=\"simpletable\">\n",
              "<tr>\n",
              "  <th>Ljung-Box (L1) (Q):</th>     <td>0.03</td> <th>  Jarque-Bera (JB):  </th> <td>3288.32</td>\n",
              "</tr>\n",
              "<tr>\n",
              "  <th>Prob(Q):</th>                <td>0.86</td> <th>  Prob(JB):          </th>  <td>0.00</td>  \n",
              "</tr>\n",
              "<tr>\n",
              "  <th>Heteroskedasticity (H):</th> <td>3.83</td> <th>  Skew:              </th>  <td>-1.65</td> \n",
              "</tr>\n",
              "<tr>\n",
              "  <th>Prob(H) (two-sided):</th>    <td>0.00</td> <th>  Kurtosis:          </th>  <td>17.71</td> \n",
              "</tr>\n",
              "</table><br/><br/>Warnings:<br/>[1] Covariance matrix calculated using the outer product of gradients (complex-step)."
            ],
            "text/plain": [
              "<class 'statsmodels.iolib.summary.Summary'>\n",
              "\"\"\"\n",
              "                               SARIMAX Results                                \n",
              "==============================================================================\n",
              "Dep. Variable:                   IGAE   No. Observations:                  348\n",
              "Model:                 ARIMA(6, 1, 6)   Log Likelihood                -793.735\n",
              "Date:                Sun, 27 Mar 2022   AIC                           1613.469\n",
              "Time:                        22:58:32   BIC                           1663.510\n",
              "Sample:                    02-01-1993   HQIC                          1633.394\n",
              "                         - 01-01-2022                                         \n",
              "Covariance Type:                  opg                                         \n",
              "==============================================================================\n",
              "                 coef    std err          z      P>|z|      [0.025      0.975]\n",
              "------------------------------------------------------------------------------\n",
              "ar.L1         -0.7295      0.104     -7.009      0.000      -0.934      -0.526\n",
              "ar.L2         -0.8016      0.131     -6.110      0.000      -1.059      -0.544\n",
              "ar.L3         -1.0672      0.113     -9.420      0.000      -1.289      -0.845\n",
              "ar.L4         -0.9081      0.124     -7.341      0.000      -1.151      -0.666\n",
              "ar.L5         -0.0906      0.124     -0.733      0.464      -0.333       0.152\n",
              "ar.L6         -0.3897      0.056     -6.905      0.000      -0.500      -0.279\n",
              "ma.L1         -0.4312      0.106     -4.061      0.000      -0.639      -0.223\n",
              "ma.L2         -0.1937      0.044     -4.386      0.000      -0.280      -0.107\n",
              "ma.L3          0.2130      0.054      3.927      0.000       0.107       0.319\n",
              "ma.L4         -0.2194      0.056     -3.945      0.000      -0.328      -0.110\n",
              "ma.L5         -0.8778      0.058    -15.170      0.000      -0.991      -0.764\n",
              "ma.L6          0.5133      0.095      5.429      0.000       0.328       0.699\n",
              "sigma2         5.4072      0.356     15.190      0.000       4.710       6.105\n",
              "===================================================================================\n",
              "Ljung-Box (L1) (Q):                   0.03   Jarque-Bera (JB):              3288.32\n",
              "Prob(Q):                              0.86   Prob(JB):                         0.00\n",
              "Heteroskedasticity (H):               3.83   Skew:                            -1.65\n",
              "Prob(H) (two-sided):                  0.00   Kurtosis:                        17.71\n",
              "===================================================================================\n",
              "\n",
              "Warnings:\n",
              "[1] Covariance matrix calculated using the outer product of gradients (complex-step).\n",
              "\"\"\""
            ]
          },
          "execution_count": 24,
          "metadata": {},
          "output_type": "execute_result"
        }
      ],
      "source": [
        "# Estimamos un ARIMA (6,6)\n",
        "modelo2 = ARIMA(serie_diff, order=(6, 1, 6))\n",
        "resultado2 = modelo2.fit()\n",
        "resultado2.summary()"
      ]
    },
    {
      "cell_type": "markdown",
      "id": "785f13d2-0200-42ff-932d-3949c0f42be5",
      "metadata": {
        "id": "785f13d2-0200-42ff-932d-3949c0f42be5"
      },
      "source": [
        "**El que tiene mejor Criterio bayesiano de información (BIC): ARMA (4,6)**\n",
        "\n",
        "**El que tiene mejor Criterio de Akaike (AIC): ARMA (4,6)**"
      ]
    },
    {
      "cell_type": "markdown",
      "id": "c21dbfb7-a5b9-4b06-86b2-0929d1c0d2e9",
      "metadata": {
        "id": "c21dbfb7-a5b9-4b06-86b2-0929d1c0d2e9"
      },
      "source": [
        "**j) Para los dos modelos elegidos: si el ultimo numero de tu matricula es par \n",
        "calcula MAPE Y MAD , y si el ultimo número de tu matricula es impar, \n",
        "calcula MAPE y MSD.**\n"
      ]
    },
    {
      "cell_type": "markdown",
      "id": "39cd5e3f-9351-4cd9-ab23-6dbc8d8ab32f",
      "metadata": {
        "id": "39cd5e3f-9351-4cd9-ab23-6dbc8d8ab32f"
      },
      "source": [
        "Como mi número de matricula es par calculo las medidas MAPE Y MAD."
      ]
    },
    {
      "cell_type": "code",
      "execution_count": null,
      "id": "ae899a10-626d-4884-9f02-678c5d256b1b",
      "metadata": {
        "id": "ae899a10-626d-4884-9f02-678c5d256b1b"
      },
      "outputs": [],
      "source": [
        "serie['pronostico2'] =resultado2.predict()"
      ]
    },
    {
      "cell_type": "markdown",
      "id": "110ff43b-5f8e-4e2f-9a44-0b180e4d64c1",
      "metadata": {
        "id": "110ff43b-5f8e-4e2f-9a44-0b180e4d64c1"
      },
      "source": [
        "**k) Elige el modelo con los mejores valores de MAPE, MAD y MSD, según \n",
        "corresponda**\n"
      ]
    },
    {
      "cell_type": "markdown",
      "id": "c3a553d0-45da-4534-9b2d-b44d82784925",
      "metadata": {
        "id": "c3a553d0-45da-4534-9b2d-b44d82784925"
      },
      "source": [
        "**l) Pronostica la serie con el modelo ARIMA y grafícala junto con la serie \n",
        "original**\n"
      ]
    },
    {
      "cell_type": "code",
      "execution_count": null,
      "id": "8e72c4e2-c9fb-4c75-9d31-02500574207a",
      "metadata": {
        "id": "8e72c4e2-c9fb-4c75-9d31-02500574207a"
      },
      "outputs": [],
      "source": [
        "# vamos a estimar la serie con el modelo ARIMA\n",
        "serie['pronostico2'] = resultado2.predict()\n",
        "serie['pronostico2'][0] = serie['IGAE'][0]"
      ]
    },
    {
      "cell_type": "code",
      "execution_count": null,
      "id": "d06c402c-dbb1-4bdf-8c79-1524d8c526a0",
      "metadata": {
        "id": "d06c402c-dbb1-4bdf-8c79-1524d8c526a0",
        "outputId": "07a31696-6c54-4df9-fbdb-bb5ece3544b4"
      },
      "outputs": [
        {
          "data": {
            "image/png": "[encoded data removed]",
            "text/plain": [
              "<Figure size 720x540 with 1 Axes>"
            ]
          },
          "metadata": {
            "needs_background": "light"
          },
          "output_type": "display_data"
        }
      ],
      "source": [
        "serie[['IGAE', 'pronostico1']].plot()\n",
        "plt.show()"
      ]
    },
    {
      "cell_type": "markdown",
      "id": "6766d311-5488-42eb-9140-c5c6cfb4639f",
      "metadata": {
        "id": "6766d311-5488-42eb-9140-c5c6cfb4639f"
      },
      "source": [
        "**m) Pronostica para 5 meses, y para cada mes obtén su intervalo de confianza \n",
        "al 95%, y grafica ¿ qué ocurre con los intervalos de confianza cuando se \n",
        "pronostica más en el futuro?**"
      ]
    },
    {
      "cell_type": "code",
      "execution_count": null,
      "id": "6d0dfbd5-df82-4fae-bb10-156f210bc166",
      "metadata": {
        "id": "6d0dfbd5-df82-4fae-bb10-156f210bc166",
        "outputId": "56ccecb9-c0f5-4642-9b04-9ab99800227b"
      },
      "outputs": [
        {
          "data": {
            "text/plain": [
              "349"
            ]
          },
          "execution_count": 282,
          "metadata": {},
          "output_type": "execute_result"
        }
      ],
      "source": [
        "len(serie)"
      ]
    },
    {
      "cell_type": "code",
      "execution_count": null,
      "id": "860bad97-87d5-469e-bb7b-cf0eb7895daa",
      "metadata": {
        "id": "860bad97-87d5-469e-bb7b-cf0eb7895daa",
        "outputId": "0b11054a-2f46-4cb7-da0e-d51bc54ac583"
      },
      "outputs": [
        {
          "data": {
            "text/plain": [
              "2022-03-01    4.797131\n",
              "2022-04-01    0.599098\n",
              "2022-05-01    4.223094\n",
              "2022-06-01   -2.740750\n",
              "2022-07-01   -3.433647\n",
              "Freq: MS, Name: predicted_mean, dtype: float64"
            ]
          },
          "execution_count": 284,
          "metadata": {},
          "output_type": "execute_result"
        }
      ],
      "source": [
        "#Pronostico de los siguientes 5 meses\n",
        "resultado2.predict(349, 353)"
      ]
    },
    {
      "cell_type": "markdown",
      "id": "04cb9dba-8999-4804-a5f2-723f931128d2",
      "metadata": {
        "id": "04cb9dba-8999-4804-a5f2-723f931128d2"
      },
      "source": [
        "**n) Pronostica 30 meses en el futuro ¿Qué pasa con el pronóstico a partir del \n",
        "mes 12?**"
      ]
    },
    {
      "cell_type": "code",
      "execution_count": null,
      "id": "a247cb33-ceba-48a7-84d4-300192884736",
      "metadata": {
        "id": "a247cb33-ceba-48a7-84d4-300192884736",
        "outputId": "1fd52173-02dc-4897-fff7-1e5b6f22409c"
      },
      "outputs": [
        {
          "data": {
            "text/plain": [
              "2022-03-01    4.797131\n",
              "2022-04-01    0.599098\n",
              "2022-05-01    4.223094\n",
              "2022-06-01   -2.740750\n",
              "2022-07-01   -3.433647\n",
              "2022-08-01    1.465160\n",
              "2022-09-01   -0.488305\n",
              "2022-10-01    5.380259\n",
              "2022-11-01   -2.715235\n",
              "2022-12-01   -1.100970\n",
              "2023-01-01   -0.452258\n",
              "2023-02-01   -0.640549\n",
              "2023-03-01    4.834550\n",
              "2023-04-01   -2.720147\n",
              "2023-05-01    1.022359\n",
              "2023-06-01   -2.011919\n",
              "2023-07-01    0.056866\n",
              "2023-08-01    3.423162\n",
              "2023-09-01   -2.300038\n",
              "2023-10-01    2.328748\n",
              "2023-11-01   -3.114797\n",
              "2023-12-01    1.192014\n",
              "2024-01-01    1.559554\n",
              "2024-02-01   -1.347782\n",
              "2024-03-01    2.635892\n",
              "2024-04-01   -3.553196\n",
              "2024-05-01    2.268484\n",
              "2024-06-01   -0.340286\n",
              "2024-07-01    0.004147\n",
              "2024-08-01    2.022933\n",
              "2024-09-01   -3.219633\n",
              "Freq: MS, Name: predicted_mean, dtype: float64"
            ]
          },
          "execution_count": 285,
          "metadata": {},
          "output_type": "execute_result"
        }
      ],
      "source": [
        "#Pronostico de los siguientes 30 meses \n",
        "resultado2.predict(349, 379)"
      ]
    },
    {
      "cell_type": "code",
      "execution_count": null,
      "id": "66fce3e8-acb5-48b6-8937-7679b475e8bf",
      "metadata": {
        "id": "66fce3e8-acb5-48b6-8937-7679b475e8bf"
      },
      "outputs": [],
      "source": [
        ""
      ]
    },
    {
      "cell_type": "code",
      "execution_count": null,
      "id": "7aa092e9-0ca6-491b-9137-12a47e808b00",
      "metadata": {
        "id": "7aa092e9-0ca6-491b-9137-12a47e808b00"
      },
      "outputs": [],
      "source": [
        ""
      ]
    }
  ],
  "metadata": {
    "kernelspec": {
      "display_name": "Python 3 (ipykernel)",
      "language": "python",
      "name": "python3"
    },
    "language_info": {
      "codemirror_mode": {
        "name": "ipython",
        "version": 3
      },
      "file_extension": ".py",
      "mimetype": "text/x-python",
      "name": "python",
      "nbconvert_exporter": "python",
      "pygments_lexer": "ipython3",
      "version": "3.9.7"
    },
    "colab": {
      "name": "VVAO_1855188_EstadisticaAplicadaG51_parcial2b.ipynb",
      "provenance": [],
      "include_colab_link": true
    }
  },
  "nbformat": 4,
  "nbformat_minor": 5
}